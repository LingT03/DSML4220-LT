{
 "cells": [
  {
   "cell_type": "markdown",
   "metadata": {},
   "source": [
    "# DSML4220 - Lab 1: Working with Text Data \n",
    "\n",
    "In this notebook we'll explore the Airline Tweet dataset and implement the simplest _model_ that we can come up with to predict whether a tweet will be a) positive, b) neutral, or c) negative. To run this notebook in Google Colab or on Kaggle, click one of the following links.  When you are done you will save your (completed) notebook in Kaggle, Colab, or a GitHub gist, and then submit the link to it in Canvas. \n",
    "\n",
    "[![Open In Colab](https://colab.research.google.com/assets/colab-badge.svg)](https://colab.research.google.com/github/sgeinitz/DSML4220/blob/main/lab1_text_data.ipynb)\n",
    "\n",
    "[![Kaggle](https://kaggle.com/static/images/open-in-kaggle.svg)](https://kaggle.com/kernels/welcome?src=https://github.com/sgeinitz/DSML4220/blob/main/lab1_text_data.ipynb)\n",
    "\n",
    "Table of Contents\n",
    "* [0: Python Review](#0-python-review)\n",
    "* [1: Loading Data](#1-loading-dataset)\n",
    "* [2: Develop Simple Model](#2-develop-simple-model)\n",
    "* [3: Evaluate Simple Model](#3-evaluate-simple-model)\n",
    "* [4: Tokenization via Stemming](#4-tokenization-via-stemming)\n",
    "* [5: Tokenization via Lemmatization](#5-tokenization-via-lemmatization)\n",
    "* [6: Vectorization (and a 'real' ML Model)](#6-vectorization)\n",
    "\n",
    "All of the labs will have a few questions that you will need to answer (perhaps after modifying/writing some code). Ideally you work through this notebook from start to finish and answer the questions as you go. But to help ensure that no questions are left unanswered, they are linked to here: \n",
    "* [Q1](#q1)\n",
    "* [Q2](#q1)\n",
    "* [Q3](#q3)\n",
    "* [Q4](#q4)\n",
    "* [Q5](#q5)\n",
    "***\n",
    "Note that this notebook does not look like most Jupyter notebooks you will see. That's because you will typically load all of the Python modules/libraries that you need at the beginning in the very first code cell. However, in order for us to see which library we're using where, we'll load them immediately before we need them. For a brief intro on what Jupyter notebooks are and how they work, check out [this short tutorial by Jeremy Howard](https://www.kaggle.com/code/jhoward/jupyter-notebook-101).\n",
    "***\n",
    "\n",
    "Author: Ling Thang\n",
    "\n",
    "Date Last Modified: 02/7/2025"
   ]
  },
  {
   "cell_type": "markdown",
   "metadata": {
    "tags": [
     "intro0"
    ]
   },
   "source": [
    "### 0: Python Review \n",
    "Before we even get started though, let's quickly review a few important classes/datatypes that will come up often when working with Deep Learning models. The first of these is the [`pandas`](https://pandas.pydata.org/docs/index.html) [`DataFrame`](https://pandas.pydata.org/docs/reference/api/pandas.DataFrame.html). \n",
    "\n",
    "To start, we'll import pandas and create a DataFrame object. But, first, let's create a simple Python [`dictionary`](https://docs.python.org/3/tutorial/datastructures.html#dictionaries):"
   ]
  },
  {
   "cell_type": "code",
   "execution_count": 235,
   "metadata": {},
   "outputs": [
    {
     "data": {
      "text/plain": [
       "{'col_a': [1, 2, 3, 4, 5], 'col_b': ['blue', 'red', 'red', 'purple', 'red']}"
      ]
     },
     "execution_count": 235,
     "metadata": {},
     "output_type": "execute_result"
    }
   ],
   "source": [
    "toy_dict = {'col_a':[1,2,3,4,5], 'col_b':['blue', 'red', 'red', 'purple', 'red']}\n",
    "toy_dict"
   ]
  },
  {
   "cell_type": "markdown",
   "metadata": {},
   "source": [
    "Above we created a toy example of a pandas DataFrame. Most often a data frame will be created by reading an input file, but it's also possible to create one manually using a dictionary. We can verify the datatype is `dict` by using the `type()` function:"
   ]
  },
  {
   "cell_type": "code",
   "execution_count": 236,
   "metadata": {},
   "outputs": [
    {
     "data": {
      "text/plain": [
       "dict"
      ]
     },
     "execution_count": 236,
     "metadata": {},
     "output_type": "execute_result"
    }
   ],
   "source": [
    "type(toy_dict)"
   ]
  },
  {
   "cell_type": "markdown",
   "metadata": {},
   "source": [
    "This dictionary can then be used to create a pandas data frame, where each `dict` key is a column name, and each corresponding `dict` value (which is a list) defines the data in that column."
   ]
  },
  {
   "cell_type": "code",
   "execution_count": 237,
   "metadata": {},
   "outputs": [
    {
     "data": {
      "text/html": [
       "<div>\n",
       "<style scoped>\n",
       "    .dataframe tbody tr th:only-of-type {\n",
       "        vertical-align: middle;\n",
       "    }\n",
       "\n",
       "    .dataframe tbody tr th {\n",
       "        vertical-align: top;\n",
       "    }\n",
       "\n",
       "    .dataframe thead th {\n",
       "        text-align: right;\n",
       "    }\n",
       "</style>\n",
       "<table border=\"1\" class=\"dataframe\">\n",
       "  <thead>\n",
       "    <tr style=\"text-align: right;\">\n",
       "      <th></th>\n",
       "      <th>col_a</th>\n",
       "      <th>col_b</th>\n",
       "    </tr>\n",
       "  </thead>\n",
       "  <tbody>\n",
       "    <tr>\n",
       "      <th>0</th>\n",
       "      <td>1</td>\n",
       "      <td>blue</td>\n",
       "    </tr>\n",
       "    <tr>\n",
       "      <th>1</th>\n",
       "      <td>2</td>\n",
       "      <td>red</td>\n",
       "    </tr>\n",
       "    <tr>\n",
       "      <th>2</th>\n",
       "      <td>3</td>\n",
       "      <td>red</td>\n",
       "    </tr>\n",
       "    <tr>\n",
       "      <th>3</th>\n",
       "      <td>4</td>\n",
       "      <td>purple</td>\n",
       "    </tr>\n",
       "    <tr>\n",
       "      <th>4</th>\n",
       "      <td>5</td>\n",
       "      <td>red</td>\n",
       "    </tr>\n",
       "  </tbody>\n",
       "</table>\n",
       "</div>"
      ],
      "text/plain": [
       "   col_a   col_b\n",
       "0      1    blue\n",
       "1      2     red\n",
       "2      3     red\n",
       "3      4  purple\n",
       "4      5     red"
      ]
     },
     "execution_count": 237,
     "metadata": {},
     "output_type": "execute_result"
    }
   ],
   "source": [
    "import pandas as pd\n",
    "\n",
    "toy_df = pd.DataFrame(toy_dict)\n",
    "toy_df"
   ]
  },
  {
   "cell_type": "markdown",
   "metadata": {},
   "source": [
    "### 1: Loading Dataset\n",
    "Now getting back to our problem... we want to use the Airline Tweets (text) dataset to create a simple model for predicting the tweet sentiment. To do so we'll need to load the dataset into a `pandas` `DataFrame`. If the data is stored locally then we would use `pd.read_csv(\"path/to/file/file.csv\")` to open it. In this case, the data is online at GitHub. Fortunately, the `pandas` module also knows how to open a file from a URL without any additional parameters. So, we can still use the same method but with the URL instead of the local path, as seen below. \n",
    "\n",
    "After loading the data file, we'll check what the dimensions of the data frame are (i.e. number of rows and number of columns - shown together in a single Python [`tuple`](https://docs.python.org/3/tutorial/datastructures.html#tuples-and-sequences))."
   ]
  },
  {
   "cell_type": "code",
   "execution_count": 238,
   "metadata": {},
   "outputs": [
    {
     "data": {
      "text/plain": [
       "(10000, 2)"
      ]
     },
     "execution_count": 238,
     "metadata": {},
     "output_type": "execute_result"
    }
   ],
   "source": [
    "data_URL = 'https://raw.githubusercontent.com/sgeinitz/DSML4220/main/data/airlinetweets.csv'\n",
    "df = pd.read_csv(data_URL)\n",
    "df.shape"
   ]
  },
  {
   "cell_type": "markdown",
   "metadata": {},
   "source": [
    "Now let's look at the first few observations (i.e. tweets) in the data frame using the DataFrame's `head` method. This is first and most basic step we can do in what is called, [Exploratory Data Analysis (EDA)](https://en.wikipedia.org/wiki/Exploratory_data_analysis). We will not dig much into actual EDA in this notebook, but it's important to note that this is a critical step in any data analysis or modeling project. If we were to complete a full EDA though, there are many tools that can help out, such as the [ydata-profiling project](https://github.com/ydataai/ydata-profiling) Python module. Perhaps not surprising, AI tools and LLMs (e.g. ChatGPT) can even perform a simple EDA on a dataset. \n",
    "\n",
    " For now we will simply peek at the first few rows. \n",
    " "
   ]
  },
  {
   "cell_type": "code",
   "execution_count": 239,
   "metadata": {},
   "outputs": [
    {
     "data": {
      "text/html": [
       "<div>\n",
       "<style scoped>\n",
       "    .dataframe tbody tr th:only-of-type {\n",
       "        vertical-align: middle;\n",
       "    }\n",
       "\n",
       "    .dataframe tbody tr th {\n",
       "        vertical-align: top;\n",
       "    }\n",
       "\n",
       "    .dataframe thead th {\n",
       "        text-align: right;\n",
       "    }\n",
       "</style>\n",
       "<table border=\"1\" class=\"dataframe\">\n",
       "  <thead>\n",
       "    <tr style=\"text-align: right;\">\n",
       "      <th></th>\n",
       "      <th>sentiment</th>\n",
       "      <th>text</th>\n",
       "    </tr>\n",
       "  </thead>\n",
       "  <tbody>\n",
       "    <tr>\n",
       "      <th>0</th>\n",
       "      <td>positive</td>\n",
       "      <td>@JetBlue @JayVig I like the inflight snacks! I'm flying with you guys on 2/28! #JVMChat</td>\n",
       "    </tr>\n",
       "    <tr>\n",
       "      <th>1</th>\n",
       "      <td>positive</td>\n",
       "      <td>@VirginAmerica thanks guys! Sweet route over the Rockies #airplanemodewason</td>\n",
       "    </tr>\n",
       "    <tr>\n",
       "      <th>2</th>\n",
       "      <td>negative</td>\n",
       "      <td>@USAirways Your exchange/credit policies are worthless and shadier than the White House. Dissatisfied to the nines right now.</td>\n",
       "    </tr>\n",
       "    <tr>\n",
       "      <th>3</th>\n",
       "      <td>negative</td>\n",
       "      <td>@USAirways but in the meantime I'll be sleeping on a park bench on dadeland st.  Thanks guys!</td>\n",
       "    </tr>\n",
       "    <tr>\n",
       "      <th>4</th>\n",
       "      <td>negative</td>\n",
       "      <td>@VirginAmerica hold times at call center are a bit much</td>\n",
       "    </tr>\n",
       "    <tr>\n",
       "      <th>5</th>\n",
       "      <td>negative</td>\n",
       "      <td>@USAirways not moving we are in the tarmac delayed for some unknown reason. I'll keep you posted</td>\n",
       "    </tr>\n",
       "    <tr>\n",
       "      <th>6</th>\n",
       "      <td>neutral</td>\n",
       "      <td>@JetBlue What about if I booked it through Orbitz? My email is correct, but there's a middle party.</td>\n",
       "    </tr>\n",
       "    <tr>\n",
       "      <th>7</th>\n",
       "      <td>negative</td>\n",
       "      <td>@united 2nd flight also delayed no pilots! But they boarded is so we can just sit here! #scheduling</td>\n",
       "    </tr>\n",
       "    <tr>\n",
       "      <th>8</th>\n",
       "      <td>negative</td>\n",
       "      <td>.@AmericanAir after 50 minutes on hold, and another 30 minutes on the call yes. Going to be pushing it to get to the airport on time now</td>\n",
       "    </tr>\n",
       "    <tr>\n",
       "      <th>9</th>\n",
       "      <td>positive</td>\n",
       "      <td>@JetBlue flight 117. proud to fly Jet Blue!</td>\n",
       "    </tr>\n",
       "  </tbody>\n",
       "</table>\n",
       "</div>"
      ],
      "text/plain": [
       "  sentiment  \\\n",
       "0  positive   \n",
       "1  positive   \n",
       "2  negative   \n",
       "3  negative   \n",
       "4  negative   \n",
       "5  negative   \n",
       "6   neutral   \n",
       "7  negative   \n",
       "8  negative   \n",
       "9  positive   \n",
       "\n",
       "                                                                                                                                       text  \n",
       "0                                                   @JetBlue @JayVig I like the inflight snacks! I'm flying with you guys on 2/28! #JVMChat  \n",
       "1                                                               @VirginAmerica thanks guys! Sweet route over the Rockies #airplanemodewason  \n",
       "2             @USAirways Your exchange/credit policies are worthless and shadier than the White House. Dissatisfied to the nines right now.  \n",
       "3                                             @USAirways but in the meantime I'll be sleeping on a park bench on dadeland st.  Thanks guys!  \n",
       "4                                                                                   @VirginAmerica hold times at call center are a bit much  \n",
       "5                                          @USAirways not moving we are in the tarmac delayed for some unknown reason. I'll keep you posted  \n",
       "6                                       @JetBlue What about if I booked it through Orbitz? My email is correct, but there's a middle party.  \n",
       "7                                       @united 2nd flight also delayed no pilots! But they boarded is so we can just sit here! #scheduling  \n",
       "8  .@AmericanAir after 50 minutes on hold, and another 30 minutes on the call yes. Going to be pushing it to get to the airport on time now  \n",
       "9                                                                                               @JetBlue flight 117. proud to fly Jet Blue!  "
      ]
     },
     "execution_count": 239,
     "metadata": {},
     "output_type": "execute_result"
    }
   ],
   "source": [
    "df.head(10)"
   ]
  },
  {
   "cell_type": "markdown",
   "metadata": {},
   "source": [
    "To be able to see the the full __text__ field/column we need to tell pandas to change its default column width to be displayed. "
   ]
  },
  {
   "cell_type": "code",
   "execution_count": 240,
   "metadata": {},
   "outputs": [
    {
     "data": {
      "text/html": [
       "<div>\n",
       "<style scoped>\n",
       "    .dataframe tbody tr th:only-of-type {\n",
       "        vertical-align: middle;\n",
       "    }\n",
       "\n",
       "    .dataframe tbody tr th {\n",
       "        vertical-align: top;\n",
       "    }\n",
       "\n",
       "    .dataframe thead th {\n",
       "        text-align: right;\n",
       "    }\n",
       "</style>\n",
       "<table border=\"1\" class=\"dataframe\">\n",
       "  <thead>\n",
       "    <tr style=\"text-align: right;\">\n",
       "      <th></th>\n",
       "      <th>sentiment</th>\n",
       "      <th>text</th>\n",
       "    </tr>\n",
       "  </thead>\n",
       "  <tbody>\n",
       "    <tr>\n",
       "      <th>0</th>\n",
       "      <td>positive</td>\n",
       "      <td>@JetBlue @JayVig I like the inflight snacks! I'm flying with you guys on 2/28! #JVMChat</td>\n",
       "    </tr>\n",
       "    <tr>\n",
       "      <th>1</th>\n",
       "      <td>positive</td>\n",
       "      <td>@VirginAmerica thanks guys! Sweet route over the Rockies #airplanemodewason</td>\n",
       "    </tr>\n",
       "    <tr>\n",
       "      <th>2</th>\n",
       "      <td>negative</td>\n",
       "      <td>@USAirways Your exchange/credit policies are worthless and shadier than the White House. Dissatisfied to the nines right now.</td>\n",
       "    </tr>\n",
       "    <tr>\n",
       "      <th>3</th>\n",
       "      <td>negative</td>\n",
       "      <td>@USAirways but in the meantime I'll be sleeping on a park bench on dadeland st.  Thanks guys!</td>\n",
       "    </tr>\n",
       "    <tr>\n",
       "      <th>4</th>\n",
       "      <td>negative</td>\n",
       "      <td>@VirginAmerica hold times at call center are a bit much</td>\n",
       "    </tr>\n",
       "  </tbody>\n",
       "</table>\n",
       "</div>"
      ],
      "text/plain": [
       "  sentiment  \\\n",
       "0  positive   \n",
       "1  positive   \n",
       "2  negative   \n",
       "3  negative   \n",
       "4  negative   \n",
       "\n",
       "                                                                                                                            text  \n",
       "0                                        @JetBlue @JayVig I like the inflight snacks! I'm flying with you guys on 2/28! #JVMChat  \n",
       "1                                                    @VirginAmerica thanks guys! Sweet route over the Rockies #airplanemodewason  \n",
       "2  @USAirways Your exchange/credit policies are worthless and shadier than the White House. Dissatisfied to the nines right now.  \n",
       "3                                  @USAirways but in the meantime I'll be sleeping on a park bench on dadeland st.  Thanks guys!  \n",
       "4                                                                        @VirginAmerica hold times at call center are a bit much  "
      ]
     },
     "execution_count": 240,
     "metadata": {},
     "output_type": "execute_result"
    }
   ],
   "source": [
    "pd.set_option(\"display.max_colwidth\", 240)\n",
    "df.head()"
   ]
  },
  {
   "cell_type": "markdown",
   "metadata": {},
   "source": [
    "\n",
    "We would typically also use the `describe` DataFrame method to see some descriptive statistics for each column, but as we'll see below. It does not provide as much for text data as for numerical data, but this is still useful information. Namely, how many non-empty cells are there in each column, how many unique values in each column, most frequently occuring value, and the frequency of the most frequenly occurring value in each column. "
   ]
  },
  {
   "cell_type": "code",
   "execution_count": 241,
   "metadata": {},
   "outputs": [
    {
     "data": {
      "text/html": [
       "<div>\n",
       "<style scoped>\n",
       "    .dataframe tbody tr th:only-of-type {\n",
       "        vertical-align: middle;\n",
       "    }\n",
       "\n",
       "    .dataframe tbody tr th {\n",
       "        vertical-align: top;\n",
       "    }\n",
       "\n",
       "    .dataframe thead th {\n",
       "        text-align: right;\n",
       "    }\n",
       "</style>\n",
       "<table border=\"1\" class=\"dataframe\">\n",
       "  <thead>\n",
       "    <tr style=\"text-align: right;\">\n",
       "      <th></th>\n",
       "      <th>sentiment</th>\n",
       "      <th>text</th>\n",
       "    </tr>\n",
       "  </thead>\n",
       "  <tbody>\n",
       "    <tr>\n",
       "      <th>count</th>\n",
       "      <td>10000</td>\n",
       "      <td>10000</td>\n",
       "    </tr>\n",
       "    <tr>\n",
       "      <th>unique</th>\n",
       "      <td>3</td>\n",
       "      <td>9901</td>\n",
       "    </tr>\n",
       "    <tr>\n",
       "      <th>top</th>\n",
       "      <td>negative</td>\n",
       "      <td>@AmericanAir thanks</td>\n",
       "    </tr>\n",
       "    <tr>\n",
       "      <th>freq</th>\n",
       "      <td>6525</td>\n",
       "      <td>5</td>\n",
       "    </tr>\n",
       "  </tbody>\n",
       "</table>\n",
       "</div>"
      ],
      "text/plain": [
       "       sentiment                 text\n",
       "count      10000                10000\n",
       "unique         3                 9901\n",
       "top     negative  @AmericanAir thanks\n",
       "freq        6525                    5"
      ]
     },
     "execution_count": 241,
     "metadata": {},
     "output_type": "execute_result"
    }
   ],
   "source": [
    "df.describe()"
   ]
  },
  {
   "cell_type": "markdown",
   "metadata": {},
   "source": [
    "Now let's summarize the observations (i.e. tweets) by their labels (i.e. sentiment). We know there should be three possible values for the labels: positive, neutral, and negative. From above, we already know that _negative_ is the most frequent sentiment, but we can now see how many times the other sentiments (i.e. classes) appear. "
   ]
  },
  {
   "cell_type": "code",
   "execution_count": 242,
   "metadata": {},
   "outputs": [
    {
     "data": {
      "text/plain": [
       "sentiment\n",
       "negative    0.6525\n",
       "neutral     0.1916\n",
       "positive    0.1559\n",
       "Name: proportion, dtype: float64"
      ]
     },
     "execution_count": 242,
     "metadata": {},
     "output_type": "execute_result"
    }
   ],
   "source": [
    "df.sentiment.value_counts(normalize=True)"
   ]
  },
  {
   "cell_type": "markdown",
   "metadata": {},
   "source": [
    "Let's now see what are the most common words used. Note that this means we need to separate the each tweet into the words. The most basic way to accomplish this is to use Python's string method, __split__. We can first confirm that the _text_ field is in a fact a string by looking at the data frame's data types with __dtypes__. "
   ]
  },
  {
   "cell_type": "code",
   "execution_count": 243,
   "metadata": {},
   "outputs": [
    {
     "data": {
      "text/plain": [
       "sentiment    object\n",
       "text         object\n",
       "dtype: object"
      ]
     },
     "execution_count": 243,
     "metadata": {},
     "output_type": "execute_result"
    }
   ],
   "source": [
    "df.dtypes"
   ]
  },
  {
   "cell_type": "markdown",
   "metadata": {},
   "source": [
    "Note that the _text_ column is not a string data type, but is instead the more general __object__ data type (note that everything in Python inherits from the __object__ data type). Because of Python's friendly dynamic behavior, we don't need to worry about this if we were to look at a single tweet. That is, Python will allow us to use the string.split() method when we are using a single tweet:\n"
   ]
  },
  {
   "cell_type": "code",
   "execution_count": 244,
   "metadata": {},
   "outputs": [
    {
     "data": {
      "text/plain": [
       "['@VirginAmerica',\n",
       " 'thanks',\n",
       " 'guys!',\n",
       " 'Sweet',\n",
       " 'route',\n",
       " 'over',\n",
       " 'the',\n",
       " 'Rockies',\n",
       " '#airplanemodewason']"
      ]
     },
     "execution_count": 244,
     "metadata": {},
     "output_type": "execute_result"
    }
   ],
   "source": [
    "df.iloc[1,1].split()"
   ]
  },
  {
   "cell_type": "markdown",
   "metadata": {},
   "source": [
    "However, if we try to use split on the entire column we'll run into an issue, as can be seen by the error we encountered here (if you uncomment the line in the following cell)."
   ]
  },
  {
   "cell_type": "code",
   "execution_count": 245,
   "metadata": {},
   "outputs": [],
   "source": [
    "# df['text'].split()"
   ]
  },
  {
   "cell_type": "markdown",
   "metadata": {},
   "source": [
    "To avoid this we need to use the [`str`](https://pandas.pydata.org/docs/reference/api/pandas.Series.str.html) attribute for the pandas [`DataSeries`](https://pandas.pydata.org/docs/reference/api/pandas.Series.html) object. This will to allow for string methods to be used. We'll now do this for the first 5 rows of data. "
   ]
  },
  {
   "cell_type": "code",
   "execution_count": 246,
   "metadata": {},
   "outputs": [
    {
     "data": {
      "text/plain": [
       "0                                             [@JetBlue, @JayVig, I, like, the, inflight, snacks!, I'm, flying, with, you, guys, on, 2/28!, #JVMChat]\n",
       "1                                                               [@VirginAmerica, thanks, guys!, Sweet, route, over, the, Rockies, #airplanemodewason]\n",
       "2    [@USAirways, Your, exchange/credit, policies, are, worthless, and, shadier, than, the, White, House., Dissatisfied, to, the, nines, right, now.]\n",
       "3                                      [@USAirways, but, in, the, meantime, I'll, be, sleeping, on, a, park, bench, on, dadeland, st., Thanks, guys!]\n",
       "4                                                                                  [@VirginAmerica, hold, times, at, call, center, are, a, bit, much]\n",
       "Name: text, dtype: object"
      ]
     },
     "execution_count": 246,
     "metadata": {},
     "output_type": "execute_result"
    }
   ],
   "source": [
    "df['text'][:5].str.split()"
   ]
  },
  {
   "cell_type": "markdown",
   "metadata": {},
   "source": [
    "Let's now add a new column that contains the list of tokens (i.e. words) for each tweet. Note that the [`split()`](https://pandas.pydata.org/docs/reference/api/pandas.Series.str.split.html#pandas-series-str-split) method splits a string by the SPACE character by default. This looks alright for now, but we'll see how to improve this later on. Now, however, that we will also convert everything to lowercase before splitting. "
   ]
  },
  {
   "cell_type": "code",
   "execution_count": 247,
   "metadata": {},
   "outputs": [
    {
     "data": {
      "text/html": [
       "<div>\n",
       "<style scoped>\n",
       "    .dataframe tbody tr th:only-of-type {\n",
       "        vertical-align: middle;\n",
       "    }\n",
       "\n",
       "    .dataframe tbody tr th {\n",
       "        vertical-align: top;\n",
       "    }\n",
       "\n",
       "    .dataframe thead th {\n",
       "        text-align: right;\n",
       "    }\n",
       "</style>\n",
       "<table border=\"1\" class=\"dataframe\">\n",
       "  <thead>\n",
       "    <tr style=\"text-align: right;\">\n",
       "      <th></th>\n",
       "      <th>sentiment</th>\n",
       "      <th>text</th>\n",
       "      <th>tokens</th>\n",
       "    </tr>\n",
       "  </thead>\n",
       "  <tbody>\n",
       "    <tr>\n",
       "      <th>0</th>\n",
       "      <td>positive</td>\n",
       "      <td>@JetBlue @JayVig I like the inflight snacks! I'm flying with you guys on 2/28! #JVMChat</td>\n",
       "      <td>[@jetblue, @jayvig, i, like, the, inflight, snacks!, i'm, flying, with, you, guys, on, 2/28!, #jvmchat]</td>\n",
       "    </tr>\n",
       "    <tr>\n",
       "      <th>1</th>\n",
       "      <td>positive</td>\n",
       "      <td>@VirginAmerica thanks guys! Sweet route over the Rockies #airplanemodewason</td>\n",
       "      <td>[@virginamerica, thanks, guys!, sweet, route, over, the, rockies, #airplanemodewason]</td>\n",
       "    </tr>\n",
       "    <tr>\n",
       "      <th>2</th>\n",
       "      <td>negative</td>\n",
       "      <td>@USAirways Your exchange/credit policies are worthless and shadier than the White House. Dissatisfied to the nines right now.</td>\n",
       "      <td>[@usairways, your, exchange/credit, policies, are, worthless, and, shadier, than, the, white, house., dissatisfied, to, the, nines, right, now.]</td>\n",
       "    </tr>\n",
       "    <tr>\n",
       "      <th>3</th>\n",
       "      <td>negative</td>\n",
       "      <td>@USAirways but in the meantime I'll be sleeping on a park bench on dadeland st.  Thanks guys!</td>\n",
       "      <td>[@usairways, but, in, the, meantime, i'll, be, sleeping, on, a, park, bench, on, dadeland, st., thanks, guys!]</td>\n",
       "    </tr>\n",
       "    <tr>\n",
       "      <th>4</th>\n",
       "      <td>negative</td>\n",
       "      <td>@VirginAmerica hold times at call center are a bit much</td>\n",
       "      <td>[@virginamerica, hold, times, at, call, center, are, a, bit, much]</td>\n",
       "    </tr>\n",
       "  </tbody>\n",
       "</table>\n",
       "</div>"
      ],
      "text/plain": [
       "  sentiment  \\\n",
       "0  positive   \n",
       "1  positive   \n",
       "2  negative   \n",
       "3  negative   \n",
       "4  negative   \n",
       "\n",
       "                                                                                                                            text  \\\n",
       "0                                        @JetBlue @JayVig I like the inflight snacks! I'm flying with you guys on 2/28! #JVMChat   \n",
       "1                                                    @VirginAmerica thanks guys! Sweet route over the Rockies #airplanemodewason   \n",
       "2  @USAirways Your exchange/credit policies are worthless and shadier than the White House. Dissatisfied to the nines right now.   \n",
       "3                                  @USAirways but in the meantime I'll be sleeping on a park bench on dadeland st.  Thanks guys!   \n",
       "4                                                                        @VirginAmerica hold times at call center are a bit much   \n",
       "\n",
       "                                                                                                                                             tokens  \n",
       "0                                           [@jetblue, @jayvig, i, like, the, inflight, snacks!, i'm, flying, with, you, guys, on, 2/28!, #jvmchat]  \n",
       "1                                                             [@virginamerica, thanks, guys!, sweet, route, over, the, rockies, #airplanemodewason]  \n",
       "2  [@usairways, your, exchange/credit, policies, are, worthless, and, shadier, than, the, white, house., dissatisfied, to, the, nines, right, now.]  \n",
       "3                                    [@usairways, but, in, the, meantime, i'll, be, sleeping, on, a, park, bench, on, dadeland, st., thanks, guys!]  \n",
       "4                                                                                [@virginamerica, hold, times, at, call, center, are, a, bit, much]  "
      ]
     },
     "execution_count": 247,
     "metadata": {},
     "output_type": "execute_result"
    }
   ],
   "source": [
    "df['tokens'] = df['text'].str.lower().str.split()\n",
    "df.head()"
   ]
  },
  {
   "cell_type": "markdown",
   "metadata": {},
   "source": [
    "### 2: Develop Simple Model\n",
    "\n",
    "Let's now get into our naive model approach we discussed earlier. The idea was to count how often each word (i.e. token) appears in all of the positive tweets, in all of the negative tweets, and in all of the neutral tweets. Before that though, let's simply count how often each word occurs across all of the tweets. We'll use a `dict` datatype for this,  each __key__ is a word and the key's __value__ will be the number of times that word appears."
   ]
  },
  {
   "cell_type": "code",
   "execution_count": 248,
   "metadata": {},
   "outputs": [
    {
     "data": {
      "text/plain": [
       "20975"
      ]
     },
     "execution_count": 248,
     "metadata": {},
     "output_type": "execute_result"
    }
   ],
   "source": [
    "vocab = dict()\n",
    "for tweet_tokens in df['tokens']:\n",
    "    for token in tweet_tokens:\n",
    "        if token not in vocab:\n",
    "            vocab[token] = 1\n",
    "        else:\n",
    "            vocab[token] += 1\n",
    "\n",
    "len(vocab)"
   ]
  },
  {
   "cell_type": "markdown",
   "metadata": {},
   "source": [
    "Let's sort these by the frequency with which each word (i.e. token) appears and then look at the top 20 or so."
   ]
  },
  {
   "cell_type": "code",
   "execution_count": 249,
   "metadata": {},
   "outputs": [
    {
     "data": {
      "text/plain": [
       "[('to', 5881),\n",
       " ('the', 4117),\n",
       " ('i', 3625),\n",
       " ('a', 3149),\n",
       " ('for', 2770),\n",
       " ('on', 2596),\n",
       " ('and', 2587),\n",
       " ('@united', 2569),\n",
       " ('you', 2510),\n",
       " ('my', 2282),\n",
       " ('flight', 2243),\n",
       " ('@usairways', 2061),\n",
       " ('@americanair', 1989),\n",
       " ('is', 1921),\n",
       " ('in', 1707),\n",
       " ('@southwestair', 1619),\n",
       " ('of', 1490),\n",
       " ('@jetblue', 1352),\n",
       " ('your', 1208),\n",
       " ('have', 1138),\n",
       " ('was', 1100),\n",
       " ('with', 1055),\n",
       " ('me', 1053),\n",
       " ('it', 1051),\n",
       " ('not', 1047)]"
      ]
     },
     "execution_count": 249,
     "metadata": {},
     "output_type": "execute_result"
    }
   ],
   "source": [
    "vocab_sorted = dict(sorted(vocab.items(), key=lambda item: item[1], reverse=True))\n",
    "list(vocab_sorted.items())[:25]"
   ]
  },
  {
   "cell_type": "markdown",
   "metadata": {},
   "source": [
    "Not surprising that words such as, \"_to_\", \"_the_\", \"_i_\", etc. are the most frequently appearing. It seems that most of these will also not convey much information in terms of sentiment. To prevent such uninformative words from influencing the task at hand, most NLP libraries/tasks provide an easy way to remove stop words. \n",
    "\n",
    "Before utilizing to a Python module designed to work with text data, let's first try continuing with our simple manual approach. Let's see if we can see some difference between in the word (i.e. token) frequencies when we separate the data frame into positive, neutral, and negative. "
   ]
  },
  {
   "cell_type": "code",
   "execution_count": 250,
   "metadata": {},
   "outputs": [],
   "source": [
    "df_pos = df[df['sentiment'] == 'positive']\n",
    "df_neg = df[df['sentiment'] == 'negative']\n",
    "df_neu = df[df['sentiment'] == 'neutral']\n",
    "\n",
    "def create_vocab_list(tokens_column):\n",
    "    vocab = dict()\n",
    "    for tweet_tokens in tokens_column:\n",
    "        for token in tweet_tokens:\n",
    "            if token not in vocab:\n",
    "                vocab[token] = 1\n",
    "            else:\n",
    "                vocab[token] += 1\n",
    "    return vocab\n",
    "\n",
    "vocab_pos = dict(sorted(create_vocab_list(df_pos['tokens']).items(), key=lambda item: item[1], reverse=True))\n",
    "vocab_neg = dict(sorted(create_vocab_list(df_neg['tokens']).items(), key=lambda item: item[1], reverse=True))\n",
    "vocab_neu = dict(sorted(create_vocab_list(df_neu['tokens']).items(), key=lambda item: item[1], reverse=True))"
   ]
  },
  {
   "cell_type": "markdown",
   "metadata": {},
   "source": [
    "Let's now output the most frequently occuring words for each sentiment class. "
   ]
  },
  {
   "cell_type": "code",
   "execution_count": 251,
   "metadata": {},
   "outputs": [
    {
     "data": {
      "text/plain": [
       "[('the', 646),\n",
       " ('to', 601),\n",
       " ('for', 460),\n",
       " ('you', 421),\n",
       " ('i', 383),\n",
       " ('@southwestair', 381),\n",
       " ('a', 350),\n",
       " ('@jetblue', 340),\n",
       " ('@united', 330),\n",
       " ('thank', 320),\n",
       " ('and', 284),\n",
       " ('thanks', 263),\n",
       " ('my', 245),\n",
       " ('@americanair', 229),\n",
       " ('in', 216)]"
      ]
     },
     "execution_count": 251,
     "metadata": {},
     "output_type": "execute_result"
    }
   ],
   "source": [
    "list(vocab_pos.items())[:15]"
   ]
  },
  {
   "cell_type": "code",
   "execution_count": 252,
   "metadata": {},
   "outputs": [
    {
     "data": {
      "text/plain": [
       "[('to', 4237),\n",
       " ('the', 2898),\n",
       " ('i', 2519),\n",
       " ('a', 2296),\n",
       " ('and', 2049),\n",
       " ('on', 1966),\n",
       " ('for', 1930),\n",
       " ('@united', 1828),\n",
       " ('my', 1699),\n",
       " ('flight', 1697),\n",
       " ('you', 1694),\n",
       " ('@usairways', 1671),\n",
       " ('is', 1483),\n",
       " ('@americanair', 1467),\n",
       " ('in', 1219)]"
      ]
     },
     "execution_count": 252,
     "metadata": {},
     "output_type": "execute_result"
    }
   ],
   "source": [
    "list(vocab_neg.items())[:15]"
   ]
  },
  {
   "cell_type": "code",
   "execution_count": 253,
   "metadata": {},
   "outputs": [
    {
     "data": {
      "text/plain": [
       "[('to', 1043),\n",
       " ('i', 723),\n",
       " ('the', 573),\n",
       " ('a', 503),\n",
       " ('on', 415),\n",
       " ('@southwestair', 414),\n",
       " ('@united', 411),\n",
       " ('you', 395),\n",
       " ('for', 380),\n",
       " ('@jetblue', 365),\n",
       " ('my', 338),\n",
       " ('flight', 337),\n",
       " ('@americanair', 293),\n",
       " ('is', 291),\n",
       " ('can', 278)]"
      ]
     },
     "execution_count": 253,
     "metadata": {},
     "output_type": "execute_result"
    }
   ],
   "source": [
    "list(vocab_neu.items())[:15]"
   ]
  },
  {
   "cell_type": "markdown",
   "metadata": {},
   "source": [
    "The output above confirms that many of the overall most frequently occuring words are not correlated in anyway with the sentiment of the tweet since, for example, \"_to_\", is the first or second frequently occurring for each separate group. In other words, there still a lot of stop words in the vocabularies for positive, negative and neutral tweets. Let's try removing the tokens from each of these vocabularies, if the token is also in the top, say, $100$, tokens overall. \n",
    "<a id=\"topn2remove\"></a>"
   ]
  },
  {
   "cell_type": "code",
   "execution_count": 254,
   "metadata": {},
   "outputs": [],
   "source": [
    "top_n_to_remove = 10000\n",
    "for item in list(vocab_sorted.items())[:top_n_to_remove]:\n",
    "    #print(f\" removing token: {item[0]:15} (w/ freq = {item[1]:5}) from vocabs\")\n",
    "    if item[0] in vocab_pos:\n",
    "        del vocab_pos[item[0]]\n",
    "    if item[0] in vocab_neg:\n",
    "        del vocab_neg[item[0]]\n",
    "    if item[0] in vocab_neu:\n",
    "        del vocab_neu[item[0]]\n"
   ]
  },
  {
   "cell_type": "code",
   "execution_count": 255,
   "metadata": {},
   "outputs": [
    {
     "data": {
      "text/plain": [
       "[('munich.', 1),\n",
       " ('handy', 1),\n",
       " ('dandy.', 1),\n",
       " ('http://t.co/fvlxirh1f1', 1),\n",
       " ('#lookforwardtoflywithaa', 1),\n",
       " ('3867', 1),\n",
       " ('#best!', 1),\n",
       " ('cockpit!', 1),\n",
       " ('luxuries/aesthetics', 1),\n",
       " ('welcomed.', 1),\n",
       " ('http://t.co/xggcntco8m', 1),\n",
       " ('action!', 1),\n",
       " ('runs', 1),\n",
       " ('headphones!', 1),\n",
       " ('omg😍😍', 1)]"
      ]
     },
     "execution_count": 255,
     "metadata": {},
     "output_type": "execute_result"
    }
   ],
   "source": [
    "list(vocab_pos.items())[:15]"
   ]
  },
  {
   "cell_type": "code",
   "execution_count": 256,
   "metadata": {},
   "outputs": [
    {
     "data": {
      "text/plain": [
       "[('&gt;1', 1),\n",
       " ('http://t.co/qkkjdfobos', 1),\n",
       " ('standbye', 1),\n",
       " ('standbye!', 1),\n",
       " ('into.', 1),\n",
       " ('6491', 1),\n",
       " ('#toyingwithouremotions', 1),\n",
       " ('grandmothers', 1),\n",
       " ('9+hours????', 1),\n",
       " ('sine', 1),\n",
       " ('9:50pm?', 1),\n",
       " ('know...hockey', 1),\n",
       " ('sticks', 1),\n",
       " ('expensive.', 1),\n",
       " ('cart.', 1)]"
      ]
     },
     "execution_count": 256,
     "metadata": {},
     "output_type": "execute_result"
    }
   ],
   "source": [
    "list(vocab_neg.items())[:15]"
   ]
  },
  {
   "cell_type": "code",
   "execution_count": 257,
   "metadata": {},
   "outputs": [
    {
     "data": {
      "text/plain": [
       "[('aim', 1),\n",
       " ('present,', 1),\n",
       " ('@swagglikebean', 1),\n",
       " ('originating', 1),\n",
       " ('loc.', 1),\n",
       " ('kybilc.', 1),\n",
       " ('y.o.', 1),\n",
       " ('adjacent', 1),\n",
       " ('isle.', 1),\n",
       " ('@giannilee', 1),\n",
       " ('what.', 1),\n",
       " ('#vxsafetydance”', 1),\n",
       " ('ideas', 1),\n",
       " ('geeks', 1),\n",
       " ('servers', 1)]"
      ]
     },
     "execution_count": 257,
     "metadata": {},
     "output_type": "execute_result"
    }
   ],
   "source": [
    "list(vocab_neu.items())[:15]"
   ]
  },
  {
   "cell_type": "markdown",
   "metadata": {},
   "source": [
    "That looks a little better! Now, let's try classifying the tweets by looking at one and counting how many tokens it has from the top k tokens in the vocab_pos, vocab_neg, and vocab_neutral sets. Whichever vocab it has the greatest number of tokens from, let's classify it as that. \n",
    "\n",
    "To accomplish this let's first create a vocabulary for each of the possible label values. Note that below we are including all the tokens for each label but we could easily include just the top k positive tokens, top k negative, etc."
   ]
  },
  {
   "cell_type": "code",
   "execution_count": 258,
   "metadata": {},
   "outputs": [],
   "source": [
    "classifier_tokens = {\"positive\": list(vocab_pos.keys())[:], \"negative\": list(vocab_neg.keys())[:], \"neutral\": list(vocab_neu.keys())[:]}"
   ]
  },
  {
   "cell_type": "markdown",
   "metadata": {},
   "source": [
    "Let's count exactly how many tokens will be considered for each class. It's not surprising that there are the most negative tokens. That's because most of the tweets are negative, so there are more unique tokens among the negative tweets. "
   ]
  },
  {
   "cell_type": "code",
   "execution_count": 259,
   "metadata": {},
   "outputs": [
    {
     "name": "stdout",
     "output_type": "stream",
     "text": [
      "positive tokens: 1672       \n",
      "negative tokens: 7067       \n",
      "neutral tokens: 2236\n"
     ]
    }
   ],
   "source": [
    "print(f\"positive tokens: {len(classifier_tokens['positive'])} \\\n",
    "      \\nnegative tokens: {len(classifier_tokens['negative'])} \\\n",
    "      \\nneutral tokens: {len(classifier_tokens['neutral'])}\")"
   ]
  },
  {
   "cell_type": "markdown",
   "metadata": {},
   "source": [
    "Let's see what the classifier_tokens dictionary looks like\n"
   ]
  },
  {
   "cell_type": "code",
   "execution_count": 260,
   "metadata": {},
   "outputs": [
    {
     "name": "stdout",
     "output_type": "stream",
     "text": [
      "top 10 tokens for positive tweets: \n",
      "    ['munich.', 'handy', 'dandy.', 'http://t.co/fvlxirh1f1', '#lookforwardtoflywithaa', '3867', '#best!', 'cockpit!', 'luxuries/aesthetics', 'welcomed.', 'http://t.co/xggcntco8m', 'action!', 'runs', 'headphones!', 'omg😍😍', 'virgin✨😱✈️', 'classics!', 'jb..i', 'squished', 'hawaii!']\n",
      "top 10 tokens for negative tweets: \n",
      "    ['&gt;1', 'http://t.co/qkkjdfobos', 'standbye', 'standbye!', 'into.', '6491', '#toyingwithouremotions', 'grandmothers', '9+hours????', 'sine', '9:50pm?', 'know...hockey', 'sticks', 'expensive.', 'cart.', 'bool', 'niggaz', 'disrespect.', '919', '#919']\n",
      "top 10 tokens for neutral tweets: \n",
      "    ['aim', 'present,', '@swagglikebean', 'originating', 'loc.', 'kybilc.', 'y.o.', 'adjacent', 'isle.', '@giannilee', 'what.', '#vxsafetydance”', 'ideas', 'geeks', 'servers', '2/24,', 'locator:', 'karaax,', 'name:', 'mitchell']\n"
     ]
    }
   ],
   "source": [
    "# let's see the top 20 tokens for each sentiment\n",
    "for sentiment in classifier_tokens:\n",
    "    print(f\"top 10 tokens for {sentiment} tweets: \\n    {classifier_tokens[sentiment][:20]}\")"
   ]
  },
  {
   "cell_type": "markdown",
   "metadata": {},
   "source": [
    "Okay, we're almost done. Let's now define the so-called model by implementing a `predict` function. There are many variations of this that could be done, but this is what we have."
   ]
  },
  {
   "cell_type": "code",
   "execution_count": 261,
   "metadata": {},
   "outputs": [],
   "source": [
    "def predict_tweet_sentiment(tweet_tokens, verbose=False):\n",
    "    if verbose:\n",
    "        print(f\"tweet: {' '.join(tweet_tokens)}\")\n",
    "    pos = 0\n",
    "    neg = 0\n",
    "    neu = 0\n",
    "    for tok in tweet_tokens:\n",
    "        if tok in classifier_tokens['positive']:\n",
    "            pos += 1\n",
    "        elif tok in classifier_tokens['negative']:\n",
    "            neg += 1\n",
    "        elif tok in classifier_tokens['neutral']:\n",
    "            neu += 1\n",
    "    if verbose:\n",
    "        print(f\"counts: \\n  postive tokens: {pos}\\n  negative tokens: {neg}\\n  neutral tokens: {neu}\")\n",
    "    if pos > neg and pos > neu:\n",
    "        prediction = \"positive\"\n",
    "    elif neu > pos and neu > neg:\n",
    "        prediction = \"neutral\"\n",
    "    else:\n",
    "        prediction = \"negative\"\n",
    "    if verbose:\n",
    "        print(f\"prediction: {prediction}\")\n",
    "    return prediction"
   ]
  },
  {
   "cell_type": "markdown",
   "metadata": {},
   "source": [
    "Let's see what happens when we try to classify one single tweet using our `predict` function."
   ]
  },
  {
   "cell_type": "code",
   "execution_count": 262,
   "metadata": {},
   "outputs": [
    {
     "name": "stdout",
     "output_type": "stream",
     "text": [
      "sentiment                                                                                                                                                                negative\n",
      "text                                   @AmericanAir thx for responding. I cant watch 2 mins of this film w/out it cutting in and out 4 prolonged prds of time. beyond frustrating\n",
      "tokens       [@americanair, thx, for, responding., i, cant, watch, 2, mins, of, this, film, w/out, it, cutting, in, and, out, 4, prolonged, prds, of, time., beyond, frustrating]\n",
      "Name: 100, dtype: object\n"
     ]
    }
   ],
   "source": [
    "i = 100 \n",
    "print(df.iloc[i,:])\n",
    "tweet2classify = df.iloc[i,:]['tokens']"
   ]
  },
  {
   "cell_type": "code",
   "execution_count": 263,
   "metadata": {},
   "outputs": [
    {
     "name": "stdout",
     "output_type": "stream",
     "text": [
      "tweet: @americanair thx for responding. i cant watch 2 mins of this film w/out it cutting in and out 4 prolonged prds of time. beyond frustrating\n",
      "counts: \n",
      "  postive tokens: 0\n",
      "  negative tokens: 0\n",
      "  neutral tokens: 0\n",
      "prediction: negative\n"
     ]
    },
    {
     "data": {
      "text/plain": [
       "'negative'"
      ]
     },
     "execution_count": 263,
     "metadata": {},
     "output_type": "execute_result"
    }
   ],
   "source": [
    "predict_tweet_sentiment(tweet2classify, verbose=True)"
   ]
  },
  {
   "cell_type": "markdown",
   "metadata": {},
   "source": [
    "### 3: Evaluate Simple Model\n",
    "\n",
    "Let's now make predictions for all of the tweets in the dataset."
   ]
  },
  {
   "cell_type": "code",
   "execution_count": 264,
   "metadata": {},
   "outputs": [],
   "source": [
    "df['predicted_sentiment'] = df['tokens'].apply(lambda x: predict_tweet_sentiment(x))"
   ]
  },
  {
   "cell_type": "markdown",
   "metadata": {},
   "source": [
    "Let's look at a few of the predictions as compared to the actual (i.e. true) labels. "
   ]
  },
  {
   "cell_type": "code",
   "execution_count": 265,
   "metadata": {},
   "outputs": [
    {
     "data": {
      "text/html": [
       "<div>\n",
       "<style scoped>\n",
       "    .dataframe tbody tr th:only-of-type {\n",
       "        vertical-align: middle;\n",
       "    }\n",
       "\n",
       "    .dataframe tbody tr th {\n",
       "        vertical-align: top;\n",
       "    }\n",
       "\n",
       "    .dataframe thead th {\n",
       "        text-align: right;\n",
       "    }\n",
       "</style>\n",
       "<table border=\"1\" class=\"dataframe\">\n",
       "  <thead>\n",
       "    <tr style=\"text-align: right;\">\n",
       "      <th></th>\n",
       "      <th>sentiment</th>\n",
       "      <th>predicted_sentiment</th>\n",
       "      <th>text</th>\n",
       "    </tr>\n",
       "  </thead>\n",
       "  <tbody>\n",
       "    <tr>\n",
       "      <th>0</th>\n",
       "      <td>positive</td>\n",
       "      <td>negative</td>\n",
       "      <td>@JetBlue @JayVig I like the inflight snacks! I'm flying with you guys on 2/28! #JVMChat</td>\n",
       "    </tr>\n",
       "    <tr>\n",
       "      <th>1</th>\n",
       "      <td>positive</td>\n",
       "      <td>negative</td>\n",
       "      <td>@VirginAmerica thanks guys! Sweet route over the Rockies #airplanemodewason</td>\n",
       "    </tr>\n",
       "    <tr>\n",
       "      <th>2</th>\n",
       "      <td>negative</td>\n",
       "      <td>negative</td>\n",
       "      <td>@USAirways Your exchange/credit policies are worthless and shadier than the White House. Dissatisfied to the nines right now.</td>\n",
       "    </tr>\n",
       "    <tr>\n",
       "      <th>3</th>\n",
       "      <td>negative</td>\n",
       "      <td>negative</td>\n",
       "      <td>@USAirways but in the meantime I'll be sleeping on a park bench on dadeland st.  Thanks guys!</td>\n",
       "    </tr>\n",
       "    <tr>\n",
       "      <th>4</th>\n",
       "      <td>negative</td>\n",
       "      <td>negative</td>\n",
       "      <td>@VirginAmerica hold times at call center are a bit much</td>\n",
       "    </tr>\n",
       "    <tr>\n",
       "      <th>5</th>\n",
       "      <td>negative</td>\n",
       "      <td>negative</td>\n",
       "      <td>@USAirways not moving we are in the tarmac delayed for some unknown reason. I'll keep you posted</td>\n",
       "    </tr>\n",
       "    <tr>\n",
       "      <th>6</th>\n",
       "      <td>neutral</td>\n",
       "      <td>negative</td>\n",
       "      <td>@JetBlue What about if I booked it through Orbitz? My email is correct, but there's a middle party.</td>\n",
       "    </tr>\n",
       "    <tr>\n",
       "      <th>7</th>\n",
       "      <td>negative</td>\n",
       "      <td>negative</td>\n",
       "      <td>@united 2nd flight also delayed no pilots! But they boarded is so we can just sit here! #scheduling</td>\n",
       "    </tr>\n",
       "    <tr>\n",
       "      <th>8</th>\n",
       "      <td>negative</td>\n",
       "      <td>negative</td>\n",
       "      <td>.@AmericanAir after 50 minutes on hold, and another 30 minutes on the call yes. Going to be pushing it to get to the airport on time now</td>\n",
       "    </tr>\n",
       "    <tr>\n",
       "      <th>9</th>\n",
       "      <td>positive</td>\n",
       "      <td>negative</td>\n",
       "      <td>@JetBlue flight 117. proud to fly Jet Blue!</td>\n",
       "    </tr>\n",
       "  </tbody>\n",
       "</table>\n",
       "</div>"
      ],
      "text/plain": [
       "  sentiment predicted_sentiment  \\\n",
       "0  positive            negative   \n",
       "1  positive            negative   \n",
       "2  negative            negative   \n",
       "3  negative            negative   \n",
       "4  negative            negative   \n",
       "5  negative            negative   \n",
       "6   neutral            negative   \n",
       "7  negative            negative   \n",
       "8  negative            negative   \n",
       "9  positive            negative   \n",
       "\n",
       "                                                                                                                                       text  \n",
       "0                                                   @JetBlue @JayVig I like the inflight snacks! I'm flying with you guys on 2/28! #JVMChat  \n",
       "1                                                               @VirginAmerica thanks guys! Sweet route over the Rockies #airplanemodewason  \n",
       "2             @USAirways Your exchange/credit policies are worthless and shadier than the White House. Dissatisfied to the nines right now.  \n",
       "3                                             @USAirways but in the meantime I'll be sleeping on a park bench on dadeland st.  Thanks guys!  \n",
       "4                                                                                   @VirginAmerica hold times at call center are a bit much  \n",
       "5                                          @USAirways not moving we are in the tarmac delayed for some unknown reason. I'll keep you posted  \n",
       "6                                       @JetBlue What about if I booked it through Orbitz? My email is correct, but there's a middle party.  \n",
       "7                                       @united 2nd flight also delayed no pilots! But they boarded is so we can just sit here! #scheduling  \n",
       "8  .@AmericanAir after 50 minutes on hold, and another 30 minutes on the call yes. Going to be pushing it to get to the airport on time now  \n",
       "9                                                                                               @JetBlue flight 117. proud to fly Jet Blue!  "
      ]
     },
     "execution_count": 265,
     "metadata": {},
     "output_type": "execute_result"
    }
   ],
   "source": [
    "df[['sentiment','predicted_sentiment','text']].head(10)"
   ]
  },
  {
   "cell_type": "code",
   "execution_count": 266,
   "metadata": {},
   "outputs": [
    {
     "name": "stdout",
     "output_type": "stream",
     "text": [
      "model accuracy: 83.69%\n"
     ]
    },
    {
     "data": {
      "image/png": "[encoded data removed]",
      "text/plain": [
       "<Figure size 640x480 with 2 Axes>"
      ]
     },
     "metadata": {},
     "output_type": "display_data"
    }
   ],
   "source": [
    "from sklearn.metrics import confusion_matrix, ConfusionMatrixDisplay, accuracy_score\n",
    "confusion_matrix(df['sentiment'], df['predicted_sentiment'])\n",
    "disp = ConfusionMatrixDisplay(confusion_matrix(df['sentiment'], df['predicted_sentiment']), display_labels=['negative', 'neutral', 'positive'])\n",
    "disp.plot()\n",
    "\n",
    "mod_accuracy = accuracy_score(df['sentiment'], df['predicted_sentiment'])\n",
    "print(f\"model accuracy: {mod_accuracy*100:.2f}%\")"
   ]
  },
  {
   "cell_type": "markdown",
   "metadata": {},
   "source": [
    "***\n",
    "#### Q1\n",
    "Go back to where we declared `top_n_to_remove` ([here](#topn2remove)). Try changing the value to see if you can improve the accuracy of our model. No need to justify or explain the value you use, just try experimenting with considerably smaller or larger values and see if you can improve the accuracy. \n",
    "\n",
    "What is the model accuracy that you get? Were you able to beat ~66% (the accuracy if every tweet were predicted to be negative)? \n",
    "\n",
    "```\n",
    "decreasing top_n_to_remove to 10 improved the accuracy to ~0.50\n",
    "decreasing top_n_to_remove to 50 improved the accuracy to ~0.53\n",
    "increasing top_n_to_remove to 400 improved the accuracy to ~0.67\n",
    "increasing top_n_to_remove to 500 improved the accuracy to ~0.72\n",
    "increasing top_n_to_remove to 600 improved the accuracy to ~0.73\n",
    "increasing top_n_to_remove to 1000 improved the accuracy to ~0.81\n",
    "increasing top_n_to_remove to 2000 improved the accuracy to ~0.85\n",
    "increasing top_n_to_remove to 3000 improved the accuracy to ~0.87\n",
    "increasing top_n_to_remove to 10000 improved the accuracy to ~0.83\n",
    "```\n",
    "***\n",
    "\n",
    "#### Q2\n",
    "Does the model accuracy we found above give you a good idea of how this model will perform on future tweets? If not, then what could you do to get a better idea of how it will perform on future tweets? \n",
    "\n",
    "```\n",
    "I would argue that for a classification problem an accuracy of 0.87 is not good enough to be confident in the model's performance on future tweets. To get a better idea of how the model will perform on future tweets, we could split the data into a training and testing set. We could then train the model on the training set and evaluate it on the testing set. \n",
    "```\n",
    "***"
   ]
  },
  {
   "cell_type": "markdown",
   "metadata": {},
   "source": [
    "### 4: Tokenization via Stemming\n",
    "\n",
    "Our tokenization approach above was very basic. All we did was split the text on spaces. This resulted in there being separate tokens for strings like \"_delay_\" and \"_delayed_\". Let's now try using a better approach to tokenization known as [__stemming__](https://en.wikipedia.org/wiki/Stemming). \n",
    "\n",
    "Recall that stemming is an approach in which words are truncated to attempt to find the same root or base word. We'll use the natural language toolkit ([__nltk__](https://www.nltk.org/index.html)) for this and try it on an example below. "
   ]
  },
  {
   "cell_type": "code",
   "execution_count": 267,
   "metadata": {},
   "outputs": [
    {
     "name": "stdout",
     "output_type": "stream",
     "text": [
      "delay -> delay\n",
      "delayed -> delay\n",
      "delays -> delay\n",
      "run -> run\n",
      "running -> run\n",
      "runs -> run\n",
      "ran -> ran\n",
      "fly -> fly\n",
      "flying -> fly\n",
      "flies -> fli\n",
      "flew -> flew\n"
     ]
    }
   ],
   "source": [
    "from nltk.stem import LancasterStemmer\n",
    "words = [\"delay\", \"delayed\", \"delays\", \"run\", \"running\", \"runs\", \"ran\", \"fly\", \"flying\", \"flies\", \"flew\"]\n",
    "stemmer = LancasterStemmer()\n",
    "for word in words:\n",
    "    print(f\"{word} -> {stemmer.stem(word)}\")"
   ]
  },
  {
   "cell_type": "markdown",
   "metadata": {},
   "source": [
    "Even though stemming is very simple, it is quick and often gives the desired results (although try it with the other set of words above and see what you get). \n",
    "\n",
    "Before applying the stemming step, we also want to take care of the extra characters or symbols, such as periods, exclamation marks, while keeping the \"@\" and \"#\" symbols in place (since these are often used in tweets). Fortunately, nltk also has a Twitter-specific method to remove these symbols, called the __TweetTokenizer__.  We'll also load the data again to ensure we are starting from the beginning, and remove stopwords. "
   ]
  },
  {
   "cell_type": "code",
   "execution_count": 268,
   "metadata": {},
   "outputs": [
    {
     "name": "stdout",
     "output_type": "stream",
     "text": [
      "df.shape: (10000, 2)\n"
     ]
    },
    {
     "data": {
      "text/html": [
       "<div>\n",
       "<style scoped>\n",
       "    .dataframe tbody tr th:only-of-type {\n",
       "        vertical-align: middle;\n",
       "    }\n",
       "\n",
       "    .dataframe tbody tr th {\n",
       "        vertical-align: top;\n",
       "    }\n",
       "\n",
       "    .dataframe thead th {\n",
       "        text-align: right;\n",
       "    }\n",
       "</style>\n",
       "<table border=\"1\" class=\"dataframe\">\n",
       "  <thead>\n",
       "    <tr style=\"text-align: right;\">\n",
       "      <th></th>\n",
       "      <th>sentiment</th>\n",
       "      <th>text</th>\n",
       "    </tr>\n",
       "  </thead>\n",
       "  <tbody>\n",
       "    <tr>\n",
       "      <th>0</th>\n",
       "      <td>positive</td>\n",
       "      <td>@JetBlue @JayVig I like the inflight snacks! I'm flying with you guys on 2/28! #JVMChat</td>\n",
       "    </tr>\n",
       "    <tr>\n",
       "      <th>1</th>\n",
       "      <td>positive</td>\n",
       "      <td>@VirginAmerica thanks guys! Sweet route over the Rockies #airplanemodewason</td>\n",
       "    </tr>\n",
       "    <tr>\n",
       "      <th>2</th>\n",
       "      <td>negative</td>\n",
       "      <td>@USAirways Your exchange/credit policies are worthless and shadier than the White House. Dissatisfied to the nines right now.</td>\n",
       "    </tr>\n",
       "    <tr>\n",
       "      <th>3</th>\n",
       "      <td>negative</td>\n",
       "      <td>@USAirways but in the meantime I'll be sleeping on a park bench on dadeland st.  Thanks guys!</td>\n",
       "    </tr>\n",
       "    <tr>\n",
       "      <th>4</th>\n",
       "      <td>negative</td>\n",
       "      <td>@VirginAmerica hold times at call center are a bit much</td>\n",
       "    </tr>\n",
       "  </tbody>\n",
       "</table>\n",
       "</div>"
      ],
      "text/plain": [
       "  sentiment  \\\n",
       "0  positive   \n",
       "1  positive   \n",
       "2  negative   \n",
       "3  negative   \n",
       "4  negative   \n",
       "\n",
       "                                                                                                                            text  \n",
       "0                                        @JetBlue @JayVig I like the inflight snacks! I'm flying with you guys on 2/28! #JVMChat  \n",
       "1                                                    @VirginAmerica thanks guys! Sweet route over the Rockies #airplanemodewason  \n",
       "2  @USAirways Your exchange/credit policies are worthless and shadier than the White House. Dissatisfied to the nines right now.  \n",
       "3                                  @USAirways but in the meantime I'll be sleeping on a park bench on dadeland st.  Thanks guys!  \n",
       "4                                                                        @VirginAmerica hold times at call center are a bit much  "
      ]
     },
     "execution_count": 268,
     "metadata": {},
     "output_type": "execute_result"
    }
   ],
   "source": [
    "df = pd.read_csv(data_URL)\n",
    "print(f\"df.shape: {df.shape}\")\n",
    "df.head(5)"
   ]
  },
  {
   "cell_type": "code",
   "execution_count": 269,
   "metadata": {},
   "outputs": [],
   "source": [
    "from nltk.tokenize import TweetTokenizer\n",
    "tk = TweetTokenizer()\n",
    "df['tokens_raw'] = df['text'].apply(lambda x: tk.tokenize(x.lower()))"
   ]
  },
  {
   "cell_type": "code",
   "execution_count": 270,
   "metadata": {},
   "outputs": [
    {
     "data": {
      "text/html": [
       "<div>\n",
       "<style scoped>\n",
       "    .dataframe tbody tr th:only-of-type {\n",
       "        vertical-align: middle;\n",
       "    }\n",
       "\n",
       "    .dataframe tbody tr th {\n",
       "        vertical-align: top;\n",
       "    }\n",
       "\n",
       "    .dataframe thead th {\n",
       "        text-align: right;\n",
       "    }\n",
       "</style>\n",
       "<table border=\"1\" class=\"dataframe\">\n",
       "  <thead>\n",
       "    <tr style=\"text-align: right;\">\n",
       "      <th></th>\n",
       "      <th>sentiment</th>\n",
       "      <th>text</th>\n",
       "      <th>tokens_raw</th>\n",
       "    </tr>\n",
       "  </thead>\n",
       "  <tbody>\n",
       "    <tr>\n",
       "      <th>0</th>\n",
       "      <td>positive</td>\n",
       "      <td>@JetBlue @JayVig I like the inflight snacks! I'm flying with you guys on 2/28! #JVMChat</td>\n",
       "      <td>[like, inflight, snacks, i'm, flying, guys, 2/28]</td>\n",
       "    </tr>\n",
       "    <tr>\n",
       "      <th>1</th>\n",
       "      <td>positive</td>\n",
       "      <td>@VirginAmerica thanks guys! Sweet route over the Rockies #airplanemodewason</td>\n",
       "      <td>[thanks, guys, sweet, route, rockies]</td>\n",
       "    </tr>\n",
       "    <tr>\n",
       "      <th>2</th>\n",
       "      <td>negative</td>\n",
       "      <td>@USAirways Your exchange/credit policies are worthless and shadier than the White House. Dissatisfied to the nines right now.</td>\n",
       "      <td>[exchange, credit, policies, worthless, shadier, white, house, dissatisfied, nines, right]</td>\n",
       "    </tr>\n",
       "    <tr>\n",
       "      <th>3</th>\n",
       "      <td>negative</td>\n",
       "      <td>@USAirways but in the meantime I'll be sleeping on a park bench on dadeland st.  Thanks guys!</td>\n",
       "      <td>[meantime, i'll, sleeping, park, bench, dadeland, st, thanks, guys]</td>\n",
       "    </tr>\n",
       "    <tr>\n",
       "      <th>4</th>\n",
       "      <td>negative</td>\n",
       "      <td>@VirginAmerica hold times at call center are a bit much</td>\n",
       "      <td>[hold, times, call, center, bit, much]</td>\n",
       "    </tr>\n",
       "  </tbody>\n",
       "</table>\n",
       "</div>"
      ],
      "text/plain": [
       "  sentiment  \\\n",
       "0  positive   \n",
       "1  positive   \n",
       "2  negative   \n",
       "3  negative   \n",
       "4  negative   \n",
       "\n",
       "                                                                                                                            text  \\\n",
       "0                                        @JetBlue @JayVig I like the inflight snacks! I'm flying with you guys on 2/28! #JVMChat   \n",
       "1                                                    @VirginAmerica thanks guys! Sweet route over the Rockies #airplanemodewason   \n",
       "2  @USAirways Your exchange/credit policies are worthless and shadier than the White House. Dissatisfied to the nines right now.   \n",
       "3                                  @USAirways but in the meantime I'll be sleeping on a park bench on dadeland st.  Thanks guys!   \n",
       "4                                                                        @VirginAmerica hold times at call center are a bit much   \n",
       "\n",
       "                                                                                   tokens_raw  \n",
       "0                                           [like, inflight, snacks, i'm, flying, guys, 2/28]  \n",
       "1                                                       [thanks, guys, sweet, route, rockies]  \n",
       "2  [exchange, credit, policies, worthless, shadier, white, house, dissatisfied, nines, right]  \n",
       "3                         [meantime, i'll, sleeping, park, bench, dadeland, st, thanks, guys]  \n",
       "4                                                      [hold, times, call, center, bit, much]  "
      ]
     },
     "execution_count": 270,
     "metadata": {},
     "output_type": "execute_result"
    }
   ],
   "source": [
    "import re\n",
    "from nltk.corpus import stopwords\n",
    "stops = set(stopwords.words('english'))\n",
    "chars2remove = set(['.','!','/', '?', ','])\n",
    "df['tokens_raw'] = df['tokens_raw'].apply(lambda x: [w for w in x if w not in stops])\n",
    "df['tokens_raw'] = df['tokens_raw'].apply(lambda x: [w for w in x if w not in chars2remove])\n",
    "df['tokens_raw'] = df['tokens_raw'].apply(lambda x: [w for w in x if not re.match('^#', w)]) # remove hashtags\n",
    "df['tokens_raw'] = df['tokens_raw'].apply(lambda x: [w for w in x if not re.match('^http', w)]) # remove web links\n",
    "df['tokens_raw'] = df['tokens_raw'].apply(lambda x: [w for w in x if not re.match('^@', w)]) # remove web links\n",
    "\n",
    "df.head()"
   ]
  },
  {
   "cell_type": "markdown",
   "metadata": {},
   "source": [
    "As you can see above, that first step of tokenization is helpful, but did not include stemmming (as you can tell from words such as \"_fly_ ___ing___\", \"_thank_ ___s___\", and \"_sleep_ ___ing___\".  So let's apply the stemming now and see what the results look like. "
   ]
  },
  {
   "cell_type": "code",
   "execution_count": 271,
   "metadata": {},
   "outputs": [
    {
     "data": {
      "text/html": [
       "<div>\n",
       "<style scoped>\n",
       "    .dataframe tbody tr th:only-of-type {\n",
       "        vertical-align: middle;\n",
       "    }\n",
       "\n",
       "    .dataframe tbody tr th {\n",
       "        vertical-align: top;\n",
       "    }\n",
       "\n",
       "    .dataframe thead th {\n",
       "        text-align: right;\n",
       "    }\n",
       "</style>\n",
       "<table border=\"1\" class=\"dataframe\">\n",
       "  <thead>\n",
       "    <tr style=\"text-align: right;\">\n",
       "      <th></th>\n",
       "      <th>sentiment</th>\n",
       "      <th>text</th>\n",
       "      <th>tokens_raw</th>\n",
       "      <th>tokens</th>\n",
       "    </tr>\n",
       "  </thead>\n",
       "  <tbody>\n",
       "    <tr>\n",
       "      <th>0</th>\n",
       "      <td>positive</td>\n",
       "      <td>@JetBlue @JayVig I like the inflight snacks! I'm flying with you guys on 2/28! #JVMChat</td>\n",
       "      <td>[like, inflight, snacks, i'm, flying, guys, 2/28]</td>\n",
       "      <td>[lik, inflight, snack, i'm, fly, guy, 2/28]</td>\n",
       "    </tr>\n",
       "    <tr>\n",
       "      <th>1</th>\n",
       "      <td>positive</td>\n",
       "      <td>@VirginAmerica thanks guys! Sweet route over the Rockies #airplanemodewason</td>\n",
       "      <td>[thanks, guys, sweet, route, rockies]</td>\n",
       "      <td>[thank, guy, sweet, rout, rocky]</td>\n",
       "    </tr>\n",
       "    <tr>\n",
       "      <th>2</th>\n",
       "      <td>negative</td>\n",
       "      <td>@USAirways Your exchange/credit policies are worthless and shadier than the White House. Dissatisfied to the nines right now.</td>\n",
       "      <td>[exchange, credit, policies, worthless, shadier, white, house, dissatisfied, nines, right]</td>\n",
       "      <td>[exchang, credit, policy, worthless, shady, whit, hous, dissatisfy, nin, right]</td>\n",
       "    </tr>\n",
       "    <tr>\n",
       "      <th>3</th>\n",
       "      <td>negative</td>\n",
       "      <td>@USAirways but in the meantime I'll be sleeping on a park bench on dadeland st.  Thanks guys!</td>\n",
       "      <td>[meantime, i'll, sleeping, park, bench, dadeland, st, thanks, guys]</td>\n",
       "      <td>[meantim, i'll, sleep, park, bench, dadeland, st, thank, guy]</td>\n",
       "    </tr>\n",
       "    <tr>\n",
       "      <th>4</th>\n",
       "      <td>negative</td>\n",
       "      <td>@VirginAmerica hold times at call center are a bit much</td>\n",
       "      <td>[hold, times, call, center, bit, much]</td>\n",
       "      <td>[hold, tim, cal, cent, bit, much]</td>\n",
       "    </tr>\n",
       "  </tbody>\n",
       "</table>\n",
       "</div>"
      ],
      "text/plain": [
       "  sentiment  \\\n",
       "0  positive   \n",
       "1  positive   \n",
       "2  negative   \n",
       "3  negative   \n",
       "4  negative   \n",
       "\n",
       "                                                                                                                            text  \\\n",
       "0                                        @JetBlue @JayVig I like the inflight snacks! I'm flying with you guys on 2/28! #JVMChat   \n",
       "1                                                    @VirginAmerica thanks guys! Sweet route over the Rockies #airplanemodewason   \n",
       "2  @USAirways Your exchange/credit policies are worthless and shadier than the White House. Dissatisfied to the nines right now.   \n",
       "3                                  @USAirways but in the meantime I'll be sleeping on a park bench on dadeland st.  Thanks guys!   \n",
       "4                                                                        @VirginAmerica hold times at call center are a bit much   \n",
       "\n",
       "                                                                                   tokens_raw  \\\n",
       "0                                           [like, inflight, snacks, i'm, flying, guys, 2/28]   \n",
       "1                                                       [thanks, guys, sweet, route, rockies]   \n",
       "2  [exchange, credit, policies, worthless, shadier, white, house, dissatisfied, nines, right]   \n",
       "3                         [meantime, i'll, sleeping, park, bench, dadeland, st, thanks, guys]   \n",
       "4                                                      [hold, times, call, center, bit, much]   \n",
       "\n",
       "                                                                            tokens  \n",
       "0                                      [lik, inflight, snack, i'm, fly, guy, 2/28]  \n",
       "1                                                 [thank, guy, sweet, rout, rocky]  \n",
       "2  [exchang, credit, policy, worthless, shady, whit, hous, dissatisfy, nin, right]  \n",
       "3                    [meantim, i'll, sleep, park, bench, dadeland, st, thank, guy]  \n",
       "4                                                [hold, tim, cal, cent, bit, much]  "
      ]
     },
     "execution_count": 271,
     "metadata": {},
     "output_type": "execute_result"
    }
   ],
   "source": [
    "df['tokens'] = df['tokens_raw'].apply(lambda x: [stemmer.stem(w) for w in x])\n",
    "df.head()"
   ]
  },
  {
   "cell_type": "markdown",
   "metadata": {},
   "source": [
    "Next, let's remove common stop words (e.g. \"_the_\", \"_in_\", etc.). In this next cell we will also remove some characters/punctuation, as well as hashtag tokens. "
   ]
  },
  {
   "cell_type": "markdown",
   "metadata": {},
   "source": [
    "Let's now recreate the same simple model that we used earlier, but now with the cleaned up tokens. "
   ]
  },
  {
   "cell_type": "code",
   "execution_count": 272,
   "metadata": {},
   "outputs": [],
   "source": [
    "df_pos = df[df['sentiment'] == 'positive']\n",
    "df_neg = df[df['sentiment'] == 'negative']\n",
    "df_neu = df[df['sentiment'] == 'neutral']\n",
    "\n",
    "def create_vocab_list(tokens_column):\n",
    "    vocab = dict()\n",
    "    for tweet_tokens in tokens_column:\n",
    "        for token in tweet_tokens:\n",
    "            if token not in vocab:\n",
    "                vocab[token] = 1\n",
    "            else:\n",
    "                vocab[token] += 1\n",
    "    return vocab\n",
    "\n",
    "vocab_pos = dict(sorted(create_vocab_list(df_pos['tokens']).items(), key=lambda item: item[1], reverse=True))\n",
    "vocab_neg = dict(sorted(create_vocab_list(df_neg['tokens']).items(), key=lambda item: item[1], reverse=True))\n",
    "vocab_neu = dict(sorted(create_vocab_list(df_neu['tokens']).items(), key=lambda item: item[1], reverse=True))"
   ]
  },
  {
   "cell_type": "code",
   "execution_count": 273,
   "metadata": {},
   "outputs": [
    {
     "data": {
      "text/plain": [
       "[('thank', 717),\n",
       " ('flight', 303),\n",
       " ('gre', 174),\n",
       " ('serv', 120),\n",
       " ('lov', 114),\n",
       " ('help', 104),\n",
       " ('fly', 95),\n",
       " ('get', 92),\n",
       " ('guy', 91),\n",
       " ('custom', 86)]"
      ]
     },
     "execution_count": 273,
     "metadata": {},
     "output_type": "execute_result"
    }
   ],
   "source": [
    "list(vocab_pos.items())[:10]\n"
   ]
  },
  {
   "cell_type": "code",
   "execution_count": 274,
   "metadata": {},
   "outputs": [
    {
     "data": {
      "text/plain": [
       "[('flight', 2665),\n",
       " ('get', 856),\n",
       " ('hour', 839),\n",
       " ('delay', 665),\n",
       " ('cancel', 661),\n",
       " ('bag', 629),\n",
       " ('serv', 601),\n",
       " ('custom', 557),\n",
       " ('tim', 549),\n",
       " ('cal', 529)]"
      ]
     },
     "execution_count": 274,
     "metadata": {},
     "output_type": "execute_result"
    }
   ],
   "source": [
    "list(vocab_neg.items())[:10]"
   ]
  },
  {
   "cell_type": "code",
   "execution_count": 275,
   "metadata": {},
   "outputs": [
    {
     "data": {
      "text/plain": [
       "[('flight', 516),\n",
       " ('get', 169),\n",
       " ('-', 162),\n",
       " ('us', 143),\n",
       " (':', 134),\n",
       " ('pleas', 115),\n",
       " ('nee', 111),\n",
       " ('thank', 111),\n",
       " ('help', 109),\n",
       " ('...', 97)]"
      ]
     },
     "execution_count": 275,
     "metadata": {},
     "output_type": "execute_result"
    }
   ],
   "source": [
    "list(vocab_neu.items())[:10]"
   ]
  },
  {
   "cell_type": "code",
   "execution_count": 276,
   "metadata": {},
   "outputs": [
    {
     "name": "stdout",
     "output_type": "stream",
     "text": [
      "positive tokens: 2350       \n",
      "negative tokens: 5921       \n",
      "neutral tokens: 3102\n"
     ]
    }
   ],
   "source": [
    "classifier_tokens = {\"positive\": list(vocab_pos.keys())[:], \"negative\": list(vocab_neg.keys())[:], \"neutral\": list(vocab_neu.keys())[:]}\n",
    "print(f\"positive tokens: {len(classifier_tokens['positive'])} \\\n",
    "      \\nnegative tokens: {len(classifier_tokens['negative'])} \\\n",
    "      \\nneutral tokens: {len(classifier_tokens['neutral'])}\")"
   ]
  },
  {
   "cell_type": "markdown",
   "metadata": {},
   "source": [
    "*** \n",
    "#### Q3\n",
    "In [Q2](#q2) you were asked about the model accuracy we found earlier, and whether we could expect it to be representative of the accuracy we'd see on future, unseen, tweets. Hopefully you realized that without a proper train-test split, we won't have a good idea. Would right now (after we've created the classifier_tokens), be a good time to create a train-test split? Why or why not? \n",
    "\n",
    "`Yes! I would say that now is a good time for a train-test split. We've cleaned up the tokens and are now read to train the model. Our data has been cleaned and processed all thats left is to split the data into training and testing sets.`\n",
    "***"
   ]
  },
  {
   "cell_type": "code",
   "execution_count": 277,
   "metadata": {},
   "outputs": [
    {
     "name": "stdout",
     "output_type": "stream",
     "text": [
      "sentiment                                                                                                                                       negative\n",
      "text          @AmericanAir thx for responding. I cant watch 2 mins of this film w/out it cutting in and out 4 prolonged prds of time. beyond frustrating\n",
      "tokens_raw                                      [thx, responding, cant, watch, 2, mins, film, w, cutting, 4, prolonged, prds, time, beyond, frustrating]\n",
      "tokens                                                           [thx, respond, cant, watch, 2, min, film, w, cut, 4, prolong, prds, tim, beyond, frust]\n",
      "Name: 100, dtype: object\n",
      "tweet: thx respond cant watch 2 min film w cut 4 prolong prds tim beyond frust\n",
      "counts: \n",
      "  postive tokens: 13\n",
      "  negative tokens: 2\n",
      "  neutral tokens: 0\n",
      "prediction: positive\n"
     ]
    },
    {
     "data": {
      "text/plain": [
       "'positive'"
      ]
     },
     "execution_count": 277,
     "metadata": {},
     "output_type": "execute_result"
    }
   ],
   "source": [
    "i = 100 \n",
    "print(df.iloc[i,:])\n",
    "tweet2classify = df.iloc[i,:]['tokens']\n",
    "predict_tweet_sentiment(tweet2classify, verbose=True)"
   ]
  },
  {
   "cell_type": "markdown",
   "metadata": {},
   "source": [
    "Suprisingly, the tweet above was misclassified this time, but it was correctly classified back before we even used stemming. Let's see now how it performs on all $10k$ tweets though. "
   ]
  },
  {
   "cell_type": "code",
   "execution_count": 278,
   "metadata": {},
   "outputs": [
    {
     "data": {
      "text/html": [
       "<div>\n",
       "<style scoped>\n",
       "    .dataframe tbody tr th:only-of-type {\n",
       "        vertical-align: middle;\n",
       "    }\n",
       "\n",
       "    .dataframe tbody tr th {\n",
       "        vertical-align: top;\n",
       "    }\n",
       "\n",
       "    .dataframe thead th {\n",
       "        text-align: right;\n",
       "    }\n",
       "</style>\n",
       "<table border=\"1\" class=\"dataframe\">\n",
       "  <thead>\n",
       "    <tr style=\"text-align: right;\">\n",
       "      <th></th>\n",
       "      <th>sentiment</th>\n",
       "      <th>predicted_sentiment</th>\n",
       "      <th>text</th>\n",
       "      <th>tokens</th>\n",
       "    </tr>\n",
       "  </thead>\n",
       "  <tbody>\n",
       "    <tr>\n",
       "      <th>0</th>\n",
       "      <td>positive</td>\n",
       "      <td>positive</td>\n",
       "      <td>@JetBlue @JayVig I like the inflight snacks! I'm flying with you guys on 2/28! #JVMChat</td>\n",
       "      <td>[lik, inflight, snack, i'm, fly, guy, 2/28]</td>\n",
       "    </tr>\n",
       "    <tr>\n",
       "      <th>1</th>\n",
       "      <td>positive</td>\n",
       "      <td>positive</td>\n",
       "      <td>@VirginAmerica thanks guys! Sweet route over the Rockies #airplanemodewason</td>\n",
       "      <td>[thank, guy, sweet, rout, rocky]</td>\n",
       "    </tr>\n",
       "    <tr>\n",
       "      <th>2</th>\n",
       "      <td>negative</td>\n",
       "      <td>negative</td>\n",
       "      <td>@USAirways Your exchange/credit policies are worthless and shadier than the White House. Dissatisfied to the nines right now.</td>\n",
       "      <td>[exchang, credit, policy, worthless, shady, whit, hous, dissatisfy, nin, right]</td>\n",
       "    </tr>\n",
       "    <tr>\n",
       "      <th>3</th>\n",
       "      <td>negative</td>\n",
       "      <td>positive</td>\n",
       "      <td>@USAirways but in the meantime I'll be sleeping on a park bench on dadeland st.  Thanks guys!</td>\n",
       "      <td>[meantim, i'll, sleep, park, bench, dadeland, st, thank, guy]</td>\n",
       "    </tr>\n",
       "    <tr>\n",
       "      <th>4</th>\n",
       "      <td>negative</td>\n",
       "      <td>positive</td>\n",
       "      <td>@VirginAmerica hold times at call center are a bit much</td>\n",
       "      <td>[hold, tim, cal, cent, bit, much]</td>\n",
       "    </tr>\n",
       "    <tr>\n",
       "      <th>5</th>\n",
       "      <td>negative</td>\n",
       "      <td>positive</td>\n",
       "      <td>@USAirways not moving we are in the tarmac delayed for some unknown reason. I'll keep you posted</td>\n",
       "      <td>[mov, tarmac, delay, unknown, reason, i'll, keep, post]</td>\n",
       "    </tr>\n",
       "    <tr>\n",
       "      <th>6</th>\n",
       "      <td>neutral</td>\n",
       "      <td>positive</td>\n",
       "      <td>@JetBlue What about if I booked it through Orbitz? My email is correct, but there's a middle party.</td>\n",
       "      <td>[book, orbitz, email, correct, there's, middl, party]</td>\n",
       "    </tr>\n",
       "    <tr>\n",
       "      <th>7</th>\n",
       "      <td>negative</td>\n",
       "      <td>positive</td>\n",
       "      <td>@united 2nd flight also delayed no pilots! But they boarded is so we can just sit here! #scheduling</td>\n",
       "      <td>[2nd, flight, also, delay, pilot, board, sit]</td>\n",
       "    </tr>\n",
       "    <tr>\n",
       "      <th>8</th>\n",
       "      <td>negative</td>\n",
       "      <td>positive</td>\n",
       "      <td>.@AmericanAir after 50 minutes on hold, and another 30 minutes on the call yes. Going to be pushing it to get to the airport on time now</td>\n",
       "      <td>[50, minut, hold, anoth, 30, minut, cal, ye, going, push, get, airport, tim]</td>\n",
       "    </tr>\n",
       "    <tr>\n",
       "      <th>9</th>\n",
       "      <td>positive</td>\n",
       "      <td>positive</td>\n",
       "      <td>@JetBlue flight 117. proud to fly Jet Blue!</td>\n",
       "      <td>[flight, 117, proud, fly, jet, blu]</td>\n",
       "    </tr>\n",
       "  </tbody>\n",
       "</table>\n",
       "</div>"
      ],
      "text/plain": [
       "  sentiment predicted_sentiment  \\\n",
       "0  positive            positive   \n",
       "1  positive            positive   \n",
       "2  negative            negative   \n",
       "3  negative            positive   \n",
       "4  negative            positive   \n",
       "5  negative            positive   \n",
       "6   neutral            positive   \n",
       "7  negative            positive   \n",
       "8  negative            positive   \n",
       "9  positive            positive   \n",
       "\n",
       "                                                                                                                                       text  \\\n",
       "0                                                   @JetBlue @JayVig I like the inflight snacks! I'm flying with you guys on 2/28! #JVMChat   \n",
       "1                                                               @VirginAmerica thanks guys! Sweet route over the Rockies #airplanemodewason   \n",
       "2             @USAirways Your exchange/credit policies are worthless and shadier than the White House. Dissatisfied to the nines right now.   \n",
       "3                                             @USAirways but in the meantime I'll be sleeping on a park bench on dadeland st.  Thanks guys!   \n",
       "4                                                                                   @VirginAmerica hold times at call center are a bit much   \n",
       "5                                          @USAirways not moving we are in the tarmac delayed for some unknown reason. I'll keep you posted   \n",
       "6                                       @JetBlue What about if I booked it through Orbitz? My email is correct, but there's a middle party.   \n",
       "7                                       @united 2nd flight also delayed no pilots! But they boarded is so we can just sit here! #scheduling   \n",
       "8  .@AmericanAir after 50 minutes on hold, and another 30 minutes on the call yes. Going to be pushing it to get to the airport on time now   \n",
       "9                                                                                               @JetBlue flight 117. proud to fly Jet Blue!   \n",
       "\n",
       "                                                                            tokens  \n",
       "0                                      [lik, inflight, snack, i'm, fly, guy, 2/28]  \n",
       "1                                                 [thank, guy, sweet, rout, rocky]  \n",
       "2  [exchang, credit, policy, worthless, shady, whit, hous, dissatisfy, nin, right]  \n",
       "3                    [meantim, i'll, sleep, park, bench, dadeland, st, thank, guy]  \n",
       "4                                                [hold, tim, cal, cent, bit, much]  \n",
       "5                          [mov, tarmac, delay, unknown, reason, i'll, keep, post]  \n",
       "6                            [book, orbitz, email, correct, there's, middl, party]  \n",
       "7                                    [2nd, flight, also, delay, pilot, board, sit]  \n",
       "8     [50, minut, hold, anoth, 30, minut, cal, ye, going, push, get, airport, tim]  \n",
       "9                                              [flight, 117, proud, fly, jet, blu]  "
      ]
     },
     "execution_count": 278,
     "metadata": {},
     "output_type": "execute_result"
    }
   ],
   "source": [
    "df['predicted_sentiment'] = df['tokens'].apply(lambda x: predict_tweet_sentiment(x))\n",
    "df[['sentiment','predicted_sentiment','text', 'tokens']].head(10)"
   ]
  },
  {
   "cell_type": "markdown",
   "metadata": {},
   "source": [
    "Let's see if that misclassification was just a fluke, and whether this model with stemming has higher accuracy than the earlier model. "
   ]
  },
  {
   "cell_type": "code",
   "execution_count": 279,
   "metadata": {},
   "outputs": [
    {
     "name": "stdout",
     "output_type": "stream",
     "text": [
      "model accuracy: 17.82%\n"
     ]
    },
    {
     "data": {
      "image/png": "[encoded data removed]",
      "text/plain": [
       "<Figure size 640x480 with 2 Axes>"
      ]
     },
     "metadata": {},
     "output_type": "display_data"
    }
   ],
   "source": [
    "confusion_matrix(df['sentiment'], df['predicted_sentiment'])\n",
    "disp = ConfusionMatrixDisplay(confusion_matrix(df['sentiment'], df['predicted_sentiment']), display_labels=['negative', 'neutral', 'positive'])\n",
    "disp.plot()\n",
    "mod_accuracy = accuracy_score(df['sentiment'], df['predicted_sentiment'])\n",
    "print(f\"model accuracy: {mod_accuracy*100:.2f}%\")"
   ]
  },
  {
   "cell_type": "markdown",
   "metadata": {},
   "source": [
    "These results are actually considerably worse than what we saw before. It's not because of the stemming though, it's because even after removing stop words, there are still many words that frequently appear regardless of the sentiment. In the first, simple approach, we removed frequently occurring words like these, but this time we didn't. If we did, then tokens such as \"__flight__\", or \"__hav__\", would also be removed, and we'd see much higher accuracy. "
   ]
  },
  {
   "cell_type": "markdown",
   "metadata": {},
   "source": [
    "### 5: Tokenization via Lemmatization\n",
    "\n",
    "Let's now try using Lemmatization. We'll again start with a clean version of the data and use the TweetTokenizer. "
   ]
  },
  {
   "cell_type": "code",
   "execution_count": 280,
   "metadata": {},
   "outputs": [
    {
     "name": "stdout",
     "output_type": "stream",
     "text": [
      "df.shape: (10000, 3)\n"
     ]
    },
    {
     "data": {
      "text/html": [
       "<div>\n",
       "<style scoped>\n",
       "    .dataframe tbody tr th:only-of-type {\n",
       "        vertical-align: middle;\n",
       "    }\n",
       "\n",
       "    .dataframe tbody tr th {\n",
       "        vertical-align: top;\n",
       "    }\n",
       "\n",
       "    .dataframe thead th {\n",
       "        text-align: right;\n",
       "    }\n",
       "</style>\n",
       "<table border=\"1\" class=\"dataframe\">\n",
       "  <thead>\n",
       "    <tr style=\"text-align: right;\">\n",
       "      <th></th>\n",
       "      <th>sentiment</th>\n",
       "      <th>text</th>\n",
       "      <th>tokens_raw</th>\n",
       "    </tr>\n",
       "  </thead>\n",
       "  <tbody>\n",
       "    <tr>\n",
       "      <th>0</th>\n",
       "      <td>positive</td>\n",
       "      <td>@JetBlue @JayVig I like the inflight snacks! I'm flying with you guys on 2/28! #JVMChat</td>\n",
       "      <td>[like, inflight, snacks, i'm, flying, guys, 2/28]</td>\n",
       "    </tr>\n",
       "    <tr>\n",
       "      <th>1</th>\n",
       "      <td>positive</td>\n",
       "      <td>@VirginAmerica thanks guys! Sweet route over the Rockies #airplanemodewason</td>\n",
       "      <td>[thanks, guys, sweet, route, rockies]</td>\n",
       "    </tr>\n",
       "    <tr>\n",
       "      <th>2</th>\n",
       "      <td>negative</td>\n",
       "      <td>@USAirways Your exchange/credit policies are worthless and shadier than the White House. Dissatisfied to the nines right now.</td>\n",
       "      <td>[exchange, credit, policies, worthless, shadier, white, house, dissatisfied, nines, right]</td>\n",
       "    </tr>\n",
       "    <tr>\n",
       "      <th>3</th>\n",
       "      <td>negative</td>\n",
       "      <td>@USAirways but in the meantime I'll be sleeping on a park bench on dadeland st.  Thanks guys!</td>\n",
       "      <td>[meantime, i'll, sleeping, park, bench, dadeland, st, thanks, guys]</td>\n",
       "    </tr>\n",
       "    <tr>\n",
       "      <th>4</th>\n",
       "      <td>negative</td>\n",
       "      <td>@VirginAmerica hold times at call center are a bit much</td>\n",
       "      <td>[hold, times, call, center, bit, much]</td>\n",
       "    </tr>\n",
       "  </tbody>\n",
       "</table>\n",
       "</div>"
      ],
      "text/plain": [
       "  sentiment  \\\n",
       "0  positive   \n",
       "1  positive   \n",
       "2  negative   \n",
       "3  negative   \n",
       "4  negative   \n",
       "\n",
       "                                                                                                                            text  \\\n",
       "0                                        @JetBlue @JayVig I like the inflight snacks! I'm flying with you guys on 2/28! #JVMChat   \n",
       "1                                                    @VirginAmerica thanks guys! Sweet route over the Rockies #airplanemodewason   \n",
       "2  @USAirways Your exchange/credit policies are worthless and shadier than the White House. Dissatisfied to the nines right now.   \n",
       "3                                  @USAirways but in the meantime I'll be sleeping on a park bench on dadeland st.  Thanks guys!   \n",
       "4                                                                        @VirginAmerica hold times at call center are a bit much   \n",
       "\n",
       "                                                                                   tokens_raw  \n",
       "0                                           [like, inflight, snacks, i'm, flying, guys, 2/28]  \n",
       "1                                                       [thanks, guys, sweet, route, rockies]  \n",
       "2  [exchange, credit, policies, worthless, shadier, white, house, dissatisfied, nines, right]  \n",
       "3                         [meantime, i'll, sleeping, park, bench, dadeland, st, thanks, guys]  \n",
       "4                                                      [hold, times, call, center, bit, much]  "
      ]
     },
     "execution_count": 280,
     "metadata": {},
     "output_type": "execute_result"
    }
   ],
   "source": [
    "df = pd.read_csv(data_URL)\n",
    "df['tokens_raw'] = df['text'].apply(lambda x: tk.tokenize(x.lower()))\n",
    "print(f\"df.shape: {df.shape}\")\n",
    "df['tokens_raw'] = df['tokens_raw'].apply(lambda x: [w for w in x if w not in stops])\n",
    "df['tokens_raw'] = df['tokens_raw'].apply(lambda x: [w for w in x if w not in chars2remove])\n",
    "df['tokens_raw'] = df['tokens_raw'].apply(lambda x: [w for w in x if not re.match('^#', w)]) # remove hashtags\n",
    "df['tokens_raw'] = df['tokens_raw'].apply(lambda x: [w for w in x if not re.match('^http', w)]) # remove web links\n",
    "df['tokens_raw'] = df['tokens_raw'].apply(lambda x: [w for w in x if not re.match('^@', w)]) # remove web links\n",
    "df.head()"
   ]
  },
  {
   "cell_type": "markdown",
   "metadata": {},
   "source": [
    "\n",
    "Since Lemmatization can convert words such as \"_ran_\" into \"_run_\", it requires knowledge of the English language. Because of that, you may or may not need to first download a dictionary of sorts. To do this, uncomment the following code cell and run it. "
   ]
  },
  {
   "cell_type": "code",
   "execution_count": 281,
   "metadata": {},
   "outputs": [],
   "source": [
    " #import nltk\n",
    " #nltk.download('wordnet')\n",
    " #nltk.download('omw-1.4')"
   ]
  },
  {
   "cell_type": "markdown",
   "metadata": {},
   "source": [
    "If the dictionary is available, then the following code will run correctly. If the following cell encounters an error, then uncomment the above cell and run it. \n",
    "\n",
    "Assuming the dictionary is available, then let's go ahead and carry out the Lemmatization. Note that there are much better ways to do this but that we want to use a simple lemmatizer. For example, some lemmatizers also utilize a model internally to predict the part-of-speech for each word, since whether the word is a noun, adjective, verb, etc. will affect how lemmatization is done. Since we want to keep things simple here, and focus only on the lemmatization step, we'll assume every word is the same part of speech. Note that this is not by any means ideal (try to identify the incorrectly lemmatized token in the five tweets printed out below). In practice we would utilize a 'smarter' lemmatizer ."
   ]
  },
  {
   "cell_type": "code",
   "execution_count": 282,
   "metadata": {},
   "outputs": [
    {
     "data": {
      "text/html": [
       "<div>\n",
       "<style scoped>\n",
       "    .dataframe tbody tr th:only-of-type {\n",
       "        vertical-align: middle;\n",
       "    }\n",
       "\n",
       "    .dataframe tbody tr th {\n",
       "        vertical-align: top;\n",
       "    }\n",
       "\n",
       "    .dataframe thead th {\n",
       "        text-align: right;\n",
       "    }\n",
       "</style>\n",
       "<table border=\"1\" class=\"dataframe\">\n",
       "  <thead>\n",
       "    <tr style=\"text-align: right;\">\n",
       "      <th></th>\n",
       "      <th>sentiment</th>\n",
       "      <th>text</th>\n",
       "      <th>tokens_raw</th>\n",
       "      <th>tokens</th>\n",
       "    </tr>\n",
       "  </thead>\n",
       "  <tbody>\n",
       "    <tr>\n",
       "      <th>0</th>\n",
       "      <td>positive</td>\n",
       "      <td>@JetBlue @JayVig I like the inflight snacks! I'm flying with you guys on 2/28! #JVMChat</td>\n",
       "      <td>[like, inflight, snacks, i'm, flying, guys, 2/28]</td>\n",
       "      <td>[like, inflight, snack, i'm, fly, guy, 2/28]</td>\n",
       "    </tr>\n",
       "    <tr>\n",
       "      <th>1</th>\n",
       "      <td>positive</td>\n",
       "      <td>@VirginAmerica thanks guys! Sweet route over the Rockies #airplanemodewason</td>\n",
       "      <td>[thanks, guys, sweet, route, rockies]</td>\n",
       "      <td>[thank, guy, sweet, route, rockies]</td>\n",
       "    </tr>\n",
       "    <tr>\n",
       "      <th>2</th>\n",
       "      <td>negative</td>\n",
       "      <td>@USAirways Your exchange/credit policies are worthless and shadier than the White House. Dissatisfied to the nines right now.</td>\n",
       "      <td>[exchange, credit, policies, worthless, shadier, white, house, dissatisfied, nines, right]</td>\n",
       "      <td>[exchange, credit, policies, worthless, shadier, white, house, dissatisfy, nines, right]</td>\n",
       "    </tr>\n",
       "    <tr>\n",
       "      <th>3</th>\n",
       "      <td>negative</td>\n",
       "      <td>@USAirways but in the meantime I'll be sleeping on a park bench on dadeland st.  Thanks guys!</td>\n",
       "      <td>[meantime, i'll, sleeping, park, bench, dadeland, st, thanks, guys]</td>\n",
       "      <td>[meantime, i'll, sleep, park, bench, dadeland, st, thank, guy]</td>\n",
       "    </tr>\n",
       "    <tr>\n",
       "      <th>4</th>\n",
       "      <td>negative</td>\n",
       "      <td>@VirginAmerica hold times at call center are a bit much</td>\n",
       "      <td>[hold, times, call, center, bit, much]</td>\n",
       "      <td>[hold, time, call, center, bite, much]</td>\n",
       "    </tr>\n",
       "  </tbody>\n",
       "</table>\n",
       "</div>"
      ],
      "text/plain": [
       "  sentiment  \\\n",
       "0  positive   \n",
       "1  positive   \n",
       "2  negative   \n",
       "3  negative   \n",
       "4  negative   \n",
       "\n",
       "                                                                                                                            text  \\\n",
       "0                                        @JetBlue @JayVig I like the inflight snacks! I'm flying with you guys on 2/28! #JVMChat   \n",
       "1                                                    @VirginAmerica thanks guys! Sweet route over the Rockies #airplanemodewason   \n",
       "2  @USAirways Your exchange/credit policies are worthless and shadier than the White House. Dissatisfied to the nines right now.   \n",
       "3                                  @USAirways but in the meantime I'll be sleeping on a park bench on dadeland st.  Thanks guys!   \n",
       "4                                                                        @VirginAmerica hold times at call center are a bit much   \n",
       "\n",
       "                                                                                   tokens_raw  \\\n",
       "0                                           [like, inflight, snacks, i'm, flying, guys, 2/28]   \n",
       "1                                                       [thanks, guys, sweet, route, rockies]   \n",
       "2  [exchange, credit, policies, worthless, shadier, white, house, dissatisfied, nines, right]   \n",
       "3                         [meantime, i'll, sleeping, park, bench, dadeland, st, thanks, guys]   \n",
       "4                                                      [hold, times, call, center, bit, much]   \n",
       "\n",
       "                                                                                     tokens  \n",
       "0                                              [like, inflight, snack, i'm, fly, guy, 2/28]  \n",
       "1                                                       [thank, guy, sweet, route, rockies]  \n",
       "2  [exchange, credit, policies, worthless, shadier, white, house, dissatisfy, nines, right]  \n",
       "3                            [meantime, i'll, sleep, park, bench, dadeland, st, thank, guy]  \n",
       "4                                                    [hold, time, call, center, bite, much]  "
      ]
     },
     "execution_count": 282,
     "metadata": {},
     "output_type": "execute_result"
    }
   ],
   "source": [
    "from nltk.stem import WordNetLemmatizer\n",
    "lemmatizer = WordNetLemmatizer()\n",
    "df['tokens'] = df['tokens_raw'].apply(lambda x: [lemmatizer.lemmatize(w, pos=\"v\") for w in x])\n",
    "df.head()"
   ]
  },
  {
   "cell_type": "markdown",
   "metadata": {},
   "source": [
    "Let's now recreate the same simple model that we used earlier, but now with the cleaned up tokens. "
   ]
  },
  {
   "cell_type": "code",
   "execution_count": 283,
   "metadata": {},
   "outputs": [
    {
     "name": "stdout",
     "output_type": "stream",
     "text": [
      "positive tokens: 2640       \n",
      "negative tokens: 6938       \n",
      "neutral tokens: 3471\n"
     ]
    }
   ],
   "source": [
    "df_pos = df[df['sentiment'] == 'positive']\n",
    "df_neg = df[df['sentiment'] == 'negative']\n",
    "df_neu = df[df['sentiment'] == 'neutral']\n",
    "\n",
    "def create_vocab_list(tokens_column):\n",
    "    vocab = dict()\n",
    "    for tweet_tokens in tokens_column:\n",
    "        for token in tweet_tokens:\n",
    "            if token not in vocab:\n",
    "                vocab[token] = 1\n",
    "            else:\n",
    "                vocab[token] += 1\n",
    "    return vocab\n",
    "\n",
    "vocab_pos = dict(sorted(create_vocab_list(df_pos['tokens']).items(), key=lambda item: item[1], reverse=True))\n",
    "vocab_neg = dict(sorted(create_vocab_list(df_neg['tokens']).items(), key=lambda item: item[1], reverse=True))\n",
    "vocab_neu = dict(sorted(create_vocab_list(df_neu['tokens']).items(), key=lambda item: item[1], reverse=True))\n",
    "\n",
    "classifier_tokens = {\"positive\": list(vocab_pos.keys())[:], \"negative\": list(vocab_neg.keys())[:], \"neutral\": list(vocab_neu.keys())[:]}\n",
    "print(f\"positive tokens: {len(classifier_tokens['positive'])} \\\n",
    "      \\nnegative tokens: {len(classifier_tokens['negative'])} \\\n",
    "      \\nneutral tokens: {len(classifier_tokens['neutral'])}\")"
   ]
  },
  {
   "cell_type": "markdown",
   "metadata": {},
   "source": [
    "And let's try making a prediction for a specific tweet. "
   ]
  },
  {
   "cell_type": "code",
   "execution_count": 284,
   "metadata": {},
   "outputs": [
    {
     "name": "stdout",
     "output_type": "stream",
     "text": [
      "sentiment                                                                                                                                       negative\n",
      "text          @AmericanAir thx for responding. I cant watch 2 mins of this film w/out it cutting in and out 4 prolonged prds of time. beyond frustrating\n",
      "tokens_raw                                      [thx, responding, cant, watch, 2, mins, film, w, cutting, 4, prolonged, prds, time, beyond, frustrating]\n",
      "tokens                                                     [thx, respond, cant, watch, 2, mins, film, w, cut, 4, prolong, prds, time, beyond, frustrate]\n",
      "Name: 100, dtype: object\n",
      "tweet: thx respond cant watch 2 mins film w cut 4 prolong prds time beyond frustrate\n",
      "counts: \n",
      "  postive tokens: 12\n",
      "  negative tokens: 3\n",
      "  neutral tokens: 0\n",
      "prediction: positive\n"
     ]
    },
    {
     "data": {
      "text/plain": [
       "'positive'"
      ]
     },
     "execution_count": 284,
     "metadata": {},
     "output_type": "execute_result"
    }
   ],
   "source": [
    "i = 100 \n",
    "print(df.iloc[i,:])\n",
    "tweet2classify = df.iloc[i,:]['tokens']\n",
    "predict_tweet_sentiment(tweet2classify, verbose=True)"
   ]
  },
  {
   "cell_type": "markdown",
   "metadata": {},
   "source": [
    "Again, it is misclassified, but let's see whether the Lemmatization at performs better than the Stemming. "
   ]
  },
  {
   "cell_type": "code",
   "execution_count": 285,
   "metadata": {},
   "outputs": [
    {
     "data": {
      "text/html": [
       "<div>\n",
       "<style scoped>\n",
       "    .dataframe tbody tr th:only-of-type {\n",
       "        vertical-align: middle;\n",
       "    }\n",
       "\n",
       "    .dataframe tbody tr th {\n",
       "        vertical-align: top;\n",
       "    }\n",
       "\n",
       "    .dataframe thead th {\n",
       "        text-align: right;\n",
       "    }\n",
       "</style>\n",
       "<table border=\"1\" class=\"dataframe\">\n",
       "  <thead>\n",
       "    <tr style=\"text-align: right;\">\n",
       "      <th></th>\n",
       "      <th>sentiment</th>\n",
       "      <th>predicted_sentiment</th>\n",
       "      <th>text</th>\n",
       "      <th>tokens</th>\n",
       "    </tr>\n",
       "  </thead>\n",
       "  <tbody>\n",
       "    <tr>\n",
       "      <th>0</th>\n",
       "      <td>positive</td>\n",
       "      <td>positive</td>\n",
       "      <td>@JetBlue @JayVig I like the inflight snacks! I'm flying with you guys on 2/28! #JVMChat</td>\n",
       "      <td>[like, inflight, snack, i'm, fly, guy, 2/28]</td>\n",
       "    </tr>\n",
       "    <tr>\n",
       "      <th>1</th>\n",
       "      <td>positive</td>\n",
       "      <td>positive</td>\n",
       "      <td>@VirginAmerica thanks guys! Sweet route over the Rockies #airplanemodewason</td>\n",
       "      <td>[thank, guy, sweet, route, rockies]</td>\n",
       "    </tr>\n",
       "    <tr>\n",
       "      <th>2</th>\n",
       "      <td>negative</td>\n",
       "      <td>negative</td>\n",
       "      <td>@USAirways Your exchange/credit policies are worthless and shadier than the White House. Dissatisfied to the nines right now.</td>\n",
       "      <td>[exchange, credit, policies, worthless, shadier, white, house, dissatisfy, nines, right]</td>\n",
       "    </tr>\n",
       "    <tr>\n",
       "      <th>3</th>\n",
       "      <td>negative</td>\n",
       "      <td>positive</td>\n",
       "      <td>@USAirways but in the meantime I'll be sleeping on a park bench on dadeland st.  Thanks guys!</td>\n",
       "      <td>[meantime, i'll, sleep, park, bench, dadeland, st, thank, guy]</td>\n",
       "    </tr>\n",
       "    <tr>\n",
       "      <th>4</th>\n",
       "      <td>negative</td>\n",
       "      <td>positive</td>\n",
       "      <td>@VirginAmerica hold times at call center are a bit much</td>\n",
       "      <td>[hold, time, call, center, bite, much]</td>\n",
       "    </tr>\n",
       "    <tr>\n",
       "      <th>5</th>\n",
       "      <td>negative</td>\n",
       "      <td>positive</td>\n",
       "      <td>@USAirways not moving we are in the tarmac delayed for some unknown reason. I'll keep you posted</td>\n",
       "      <td>[move, tarmac, delay, unknown, reason, i'll, keep, post]</td>\n",
       "    </tr>\n",
       "    <tr>\n",
       "      <th>6</th>\n",
       "      <td>neutral</td>\n",
       "      <td>positive</td>\n",
       "      <td>@JetBlue What about if I booked it through Orbitz? My email is correct, but there's a middle party.</td>\n",
       "      <td>[book, orbitz, email, correct, there's, middle, party]</td>\n",
       "    </tr>\n",
       "    <tr>\n",
       "      <th>7</th>\n",
       "      <td>negative</td>\n",
       "      <td>positive</td>\n",
       "      <td>@united 2nd flight also delayed no pilots! But they boarded is so we can just sit here! #scheduling</td>\n",
       "      <td>[2nd, flight, also, delay, pilot, board, sit]</td>\n",
       "    </tr>\n",
       "    <tr>\n",
       "      <th>8</th>\n",
       "      <td>negative</td>\n",
       "      <td>positive</td>\n",
       "      <td>.@AmericanAir after 50 minutes on hold, and another 30 minutes on the call yes. Going to be pushing it to get to the airport on time now</td>\n",
       "      <td>[50, minutes, hold, another, 30, minutes, call, yes, go, push, get, airport, time]</td>\n",
       "    </tr>\n",
       "    <tr>\n",
       "      <th>9</th>\n",
       "      <td>positive</td>\n",
       "      <td>positive</td>\n",
       "      <td>@JetBlue flight 117. proud to fly Jet Blue!</td>\n",
       "      <td>[flight, 117, proud, fly, jet, blue]</td>\n",
       "    </tr>\n",
       "  </tbody>\n",
       "</table>\n",
       "</div>"
      ],
      "text/plain": [
       "  sentiment predicted_sentiment  \\\n",
       "0  positive            positive   \n",
       "1  positive            positive   \n",
       "2  negative            negative   \n",
       "3  negative            positive   \n",
       "4  negative            positive   \n",
       "5  negative            positive   \n",
       "6   neutral            positive   \n",
       "7  negative            positive   \n",
       "8  negative            positive   \n",
       "9  positive            positive   \n",
       "\n",
       "                                                                                                                                       text  \\\n",
       "0                                                   @JetBlue @JayVig I like the inflight snacks! I'm flying with you guys on 2/28! #JVMChat   \n",
       "1                                                               @VirginAmerica thanks guys! Sweet route over the Rockies #airplanemodewason   \n",
       "2             @USAirways Your exchange/credit policies are worthless and shadier than the White House. Dissatisfied to the nines right now.   \n",
       "3                                             @USAirways but in the meantime I'll be sleeping on a park bench on dadeland st.  Thanks guys!   \n",
       "4                                                                                   @VirginAmerica hold times at call center are a bit much   \n",
       "5                                          @USAirways not moving we are in the tarmac delayed for some unknown reason. I'll keep you posted   \n",
       "6                                       @JetBlue What about if I booked it through Orbitz? My email is correct, but there's a middle party.   \n",
       "7                                       @united 2nd flight also delayed no pilots! But they boarded is so we can just sit here! #scheduling   \n",
       "8  .@AmericanAir after 50 minutes on hold, and another 30 minutes on the call yes. Going to be pushing it to get to the airport on time now   \n",
       "9                                                                                               @JetBlue flight 117. proud to fly Jet Blue!   \n",
       "\n",
       "                                                                                     tokens  \n",
       "0                                              [like, inflight, snack, i'm, fly, guy, 2/28]  \n",
       "1                                                       [thank, guy, sweet, route, rockies]  \n",
       "2  [exchange, credit, policies, worthless, shadier, white, house, dissatisfy, nines, right]  \n",
       "3                            [meantime, i'll, sleep, park, bench, dadeland, st, thank, guy]  \n",
       "4                                                    [hold, time, call, center, bite, much]  \n",
       "5                                  [move, tarmac, delay, unknown, reason, i'll, keep, post]  \n",
       "6                                    [book, orbitz, email, correct, there's, middle, party]  \n",
       "7                                             [2nd, flight, also, delay, pilot, board, sit]  \n",
       "8        [50, minutes, hold, another, 30, minutes, call, yes, go, push, get, airport, time]  \n",
       "9                                                      [flight, 117, proud, fly, jet, blue]  "
      ]
     },
     "execution_count": 285,
     "metadata": {},
     "output_type": "execute_result"
    }
   ],
   "source": [
    "df['predicted_sentiment'] = df['tokens'].apply(lambda x: predict_tweet_sentiment(x))\n",
    "df[['sentiment','predicted_sentiment','text', 'tokens']].head(10)"
   ]
  },
  {
   "cell_type": "code",
   "execution_count": 286,
   "metadata": {},
   "outputs": [
    {
     "name": "stdout",
     "output_type": "stream",
     "text": [
      "model accuracy: 18.79%\n"
     ]
    },
    {
     "data": {
      "image/png": "[encoded data removed]",
      "text/plain": [
       "<Figure size 640x480 with 2 Axes>"
      ]
     },
     "metadata": {},
     "output_type": "display_data"
    }
   ],
   "source": [
    "confusion_matrix(df['sentiment'], df['predicted_sentiment'])\n",
    "disp = ConfusionMatrixDisplay(confusion_matrix(df['sentiment'], df['predicted_sentiment']), display_labels=['negative', 'neutral', 'positive'])\n",
    "disp.plot()\n",
    "mod_accuracy = accuracy_score(df['sentiment'], df['predicted_sentiment'])\n",
    "print(f\"model accuracy: {mod_accuracy*100:.2f}%\")"
   ]
  },
  {
   "cell_type": "markdown",
   "metadata": {},
   "source": [
    "*** \n",
    "#### Q4\n",
    "Even with the Stemming/Lemmatization, is it possible to use a proper machine learning model? For example, could we use linear regression, or even random forest? Why or why not? Explain by stating what the input to the model would be (or would need to be).\n",
    "\n",
    "`even after stemming/;emmatization we are still left with strings as our features. Regular machine learnign models intake numberical data as features. I order to use a proper ML model we would have to convert the strings into numerical data. This can be done using a technique called vectorization. So yes we can! We would just need to convert the strings to numerical data first.`\n",
    "***"
   ]
  },
  {
   "cell_type": "markdown",
   "metadata": {},
   "source": [
    "### 6: Vectorization\n",
    "\n",
    "To convert the tokens to numerical data we'll now use a form of vectorization. Let's first remove the previous predictions and then create a new column with the tokens joined together. We need to do this because the vectorization method works on the full text of each observation (not the list of tokens that we have been using up until now). "
   ]
  },
  {
   "cell_type": "code",
   "execution_count": 287,
   "metadata": {},
   "outputs": [
    {
     "name": "stdout",
     "output_type": "stream",
     "text": [
      "removing column, predicted_sentiment, from df\n"
     ]
    },
    {
     "data": {
      "text/html": [
       "<div>\n",
       "<style scoped>\n",
       "    .dataframe tbody tr th:only-of-type {\n",
       "        vertical-align: middle;\n",
       "    }\n",
       "\n",
       "    .dataframe tbody tr th {\n",
       "        vertical-align: top;\n",
       "    }\n",
       "\n",
       "    .dataframe thead th {\n",
       "        text-align: right;\n",
       "    }\n",
       "</style>\n",
       "<table border=\"1\" class=\"dataframe\">\n",
       "  <thead>\n",
       "    <tr style=\"text-align: right;\">\n",
       "      <th></th>\n",
       "      <th>sentiment</th>\n",
       "      <th>text</th>\n",
       "      <th>tokens_raw</th>\n",
       "      <th>tokens</th>\n",
       "      <th>textclean</th>\n",
       "    </tr>\n",
       "  </thead>\n",
       "  <tbody>\n",
       "    <tr>\n",
       "      <th>0</th>\n",
       "      <td>positive</td>\n",
       "      <td>@JetBlue @JayVig I like the inflight snacks! I'm flying with you guys on 2/28! #JVMChat</td>\n",
       "      <td>[like, inflight, snacks, i'm, flying, guys, 2/28]</td>\n",
       "      <td>[like, inflight, snack, i'm, fly, guy, 2/28]</td>\n",
       "      <td>like inflight snack i'm fly guy 2/28</td>\n",
       "    </tr>\n",
       "    <tr>\n",
       "      <th>1</th>\n",
       "      <td>positive</td>\n",
       "      <td>@VirginAmerica thanks guys! Sweet route over the Rockies #airplanemodewason</td>\n",
       "      <td>[thanks, guys, sweet, route, rockies]</td>\n",
       "      <td>[thank, guy, sweet, route, rockies]</td>\n",
       "      <td>thank guy sweet route rockies</td>\n",
       "    </tr>\n",
       "    <tr>\n",
       "      <th>2</th>\n",
       "      <td>negative</td>\n",
       "      <td>@USAirways Your exchange/credit policies are worthless and shadier than the White House. Dissatisfied to the nines right now.</td>\n",
       "      <td>[exchange, credit, policies, worthless, shadier, white, house, dissatisfied, nines, right]</td>\n",
       "      <td>[exchange, credit, policies, worthless, shadier, white, house, dissatisfy, nines, right]</td>\n",
       "      <td>exchange credit policies worthless shadier white house dissatisfy nines right</td>\n",
       "    </tr>\n",
       "    <tr>\n",
       "      <th>3</th>\n",
       "      <td>negative</td>\n",
       "      <td>@USAirways but in the meantime I'll be sleeping on a park bench on dadeland st.  Thanks guys!</td>\n",
       "      <td>[meantime, i'll, sleeping, park, bench, dadeland, st, thanks, guys]</td>\n",
       "      <td>[meantime, i'll, sleep, park, bench, dadeland, st, thank, guy]</td>\n",
       "      <td>meantime i'll sleep park bench dadeland st thank guy</td>\n",
       "    </tr>\n",
       "    <tr>\n",
       "      <th>4</th>\n",
       "      <td>negative</td>\n",
       "      <td>@VirginAmerica hold times at call center are a bit much</td>\n",
       "      <td>[hold, times, call, center, bit, much]</td>\n",
       "      <td>[hold, time, call, center, bite, much]</td>\n",
       "      <td>hold time call center bite much</td>\n",
       "    </tr>\n",
       "  </tbody>\n",
       "</table>\n",
       "</div>"
      ],
      "text/plain": [
       "  sentiment  \\\n",
       "0  positive   \n",
       "1  positive   \n",
       "2  negative   \n",
       "3  negative   \n",
       "4  negative   \n",
       "\n",
       "                                                                                                                            text  \\\n",
       "0                                        @JetBlue @JayVig I like the inflight snacks! I'm flying with you guys on 2/28! #JVMChat   \n",
       "1                                                    @VirginAmerica thanks guys! Sweet route over the Rockies #airplanemodewason   \n",
       "2  @USAirways Your exchange/credit policies are worthless and shadier than the White House. Dissatisfied to the nines right now.   \n",
       "3                                  @USAirways but in the meantime I'll be sleeping on a park bench on dadeland st.  Thanks guys!   \n",
       "4                                                                        @VirginAmerica hold times at call center are a bit much   \n",
       "\n",
       "                                                                                   tokens_raw  \\\n",
       "0                                           [like, inflight, snacks, i'm, flying, guys, 2/28]   \n",
       "1                                                       [thanks, guys, sweet, route, rockies]   \n",
       "2  [exchange, credit, policies, worthless, shadier, white, house, dissatisfied, nines, right]   \n",
       "3                         [meantime, i'll, sleeping, park, bench, dadeland, st, thanks, guys]   \n",
       "4                                                      [hold, times, call, center, bit, much]   \n",
       "\n",
       "                                                                                     tokens  \\\n",
       "0                                              [like, inflight, snack, i'm, fly, guy, 2/28]   \n",
       "1                                                       [thank, guy, sweet, route, rockies]   \n",
       "2  [exchange, credit, policies, worthless, shadier, white, house, dissatisfy, nines, right]   \n",
       "3                            [meantime, i'll, sleep, park, bench, dadeland, st, thank, guy]   \n",
       "4                                                    [hold, time, call, center, bite, much]   \n",
       "\n",
       "                                                                       textclean  \n",
       "0                                           like inflight snack i'm fly guy 2/28  \n",
       "1                                                  thank guy sweet route rockies  \n",
       "2  exchange credit policies worthless shadier white house dissatisfy nines right  \n",
       "3                           meantime i'll sleep park bench dadeland st thank guy  \n",
       "4                                                hold time call center bite much  "
      ]
     },
     "execution_count": 287,
     "metadata": {},
     "output_type": "execute_result"
    }
   ],
   "source": [
    "if 'predicted_sentiment' in df.columns:\n",
    "    print(\"removing column, predicted_sentiment, from df\")\n",
    "    df.drop('predicted_sentiment', axis=1, inplace=True)\n",
    "\n",
    "df['textclean'] = df['tokens'].apply(lambda x: ' '.join(x))\n",
    "df.head()"
   ]
  },
  {
   "cell_type": "markdown",
   "metadata": {},
   "source": [
    "Let's also use a proper train-test split in order to get a better idea of how the model will perform on unseen data (we can still compare the training split to the results above to see how this approach works). We could use sklearn's train_test_split() function for this, but we'll do it manually here as a quick review."
   ]
  },
  {
   "cell_type": "code",
   "execution_count": 288,
   "metadata": {},
   "outputs": [
    {
     "name": "stdout",
     "output_type": "stream",
     "text": [
      "df.shape: (8500, 5)\n",
      "df_test.shape: (1500, 5)\n"
     ]
    },
    {
     "data": {
      "text/html": [
       "<div>\n",
       "<style scoped>\n",
       "    .dataframe tbody tr th:only-of-type {\n",
       "        vertical-align: middle;\n",
       "    }\n",
       "\n",
       "    .dataframe tbody tr th {\n",
       "        vertical-align: top;\n",
       "    }\n",
       "\n",
       "    .dataframe thead th {\n",
       "        text-align: right;\n",
       "    }\n",
       "</style>\n",
       "<table border=\"1\" class=\"dataframe\">\n",
       "  <thead>\n",
       "    <tr style=\"text-align: right;\">\n",
       "      <th></th>\n",
       "      <th>sentiment</th>\n",
       "      <th>text</th>\n",
       "      <th>tokens_raw</th>\n",
       "      <th>tokens</th>\n",
       "      <th>textclean</th>\n",
       "    </tr>\n",
       "  </thead>\n",
       "  <tbody>\n",
       "    <tr>\n",
       "      <th>4668</th>\n",
       "      <td>neutral</td>\n",
       "      <td>@AmericanAir 767 seconds from touchdown at Madrid airport in April 2013 #AvGeek http://t.co/1yWXRfn0Gr</td>\n",
       "      <td>[767, seconds, touchdown, madrid, airport, april, 2013]</td>\n",
       "      <td>[767, second, touchdown, madrid, airport, april, 2013]</td>\n",
       "      <td>767 second touchdown madrid airport april 2013</td>\n",
       "    </tr>\n",
       "    <tr>\n",
       "      <th>7277</th>\n",
       "      <td>positive</td>\n",
       "      <td>@SouthwestAir luv my companion pass!</td>\n",
       "      <td>[luv, companion, pass]</td>\n",
       "      <td>[luv, companion, pass]</td>\n",
       "      <td>luv companion pass</td>\n",
       "    </tr>\n",
       "    <tr>\n",
       "      <th>3891</th>\n",
       "      <td>negative</td>\n",
       "      <td>@AmericanAir @lpalumbo what weather sun is out</td>\n",
       "      <td>[weather, sun]</td>\n",
       "      <td>[weather, sun]</td>\n",
       "      <td>weather sun</td>\n",
       "    </tr>\n",
       "    <tr>\n",
       "      <th>5968</th>\n",
       "      <td>negative</td>\n",
       "      <td>@AmericanAir now a delay to the rebooked flight?!</td>\n",
       "      <td>[delay, rebooked, flight]</td>\n",
       "      <td>[delay, rebooked, flight]</td>\n",
       "      <td>delay rebooked flight</td>\n",
       "    </tr>\n",
       "    <tr>\n",
       "      <th>6731</th>\n",
       "      <td>neutral</td>\n",
       "      <td>@USAirways Ok Thanks</td>\n",
       "      <td>[ok, thanks]</td>\n",
       "      <td>[ok, thank]</td>\n",
       "      <td>ok thank</td>\n",
       "    </tr>\n",
       "  </tbody>\n",
       "</table>\n",
       "</div>"
      ],
      "text/plain": [
       "     sentiment  \\\n",
       "4668   neutral   \n",
       "7277  positive   \n",
       "3891  negative   \n",
       "5968  negative   \n",
       "6731   neutral   \n",
       "\n",
       "                                                                                                        text  \\\n",
       "4668  @AmericanAir 767 seconds from touchdown at Madrid airport in April 2013 #AvGeek http://t.co/1yWXRfn0Gr   \n",
       "7277                                                                    @SouthwestAir luv my companion pass!   \n",
       "3891                                                          @AmericanAir @lpalumbo what weather sun is out   \n",
       "5968                                                       @AmericanAir now a delay to the rebooked flight?!   \n",
       "6731                                                                                    @USAirways Ok Thanks   \n",
       "\n",
       "                                                   tokens_raw  \\\n",
       "4668  [767, seconds, touchdown, madrid, airport, april, 2013]   \n",
       "7277                                   [luv, companion, pass]   \n",
       "3891                                           [weather, sun]   \n",
       "5968                                [delay, rebooked, flight]   \n",
       "6731                                             [ok, thanks]   \n",
       "\n",
       "                                                      tokens  \\\n",
       "4668  [767, second, touchdown, madrid, airport, april, 2013]   \n",
       "7277                                  [luv, companion, pass]   \n",
       "3891                                          [weather, sun]   \n",
       "5968                               [delay, rebooked, flight]   \n",
       "6731                                             [ok, thank]   \n",
       "\n",
       "                                           textclean  \n",
       "4668  767 second touchdown madrid airport april 2013  \n",
       "7277                              luv companion pass  \n",
       "3891                                     weather sun  \n",
       "5968                           delay rebooked flight  \n",
       "6731                                        ok thank  "
      ]
     },
     "execution_count": 288,
     "metadata": {},
     "output_type": "execute_result"
    }
   ],
   "source": [
    "import random\n",
    "random.seed(42)\n",
    "\n",
    "df_full = df.copy()\n",
    "assert df_full.shape[0] == 10000\n",
    "\n",
    "indices = list(range(df_full.shape[0]))\n",
    "\n",
    "random.shuffle(indices)\n",
    "\n",
    "train_indices = indices[:8500]\n",
    "test_indices = indices[8500:]\n",
    "\n",
    "# df will be the in-sample training dataset\n",
    "df = df_full.iloc[train_indices,:].copy()\n",
    "print(f\"df.shape: {df.shape}\")\n",
    "\n",
    "# df_test will be the out-of-sample validation dataset\n",
    "df_test = df_full.iloc[test_indices,:].copy()\n",
    "print(f\"df_test.shape: {df_test.shape}\")\n",
    "df_test.head()"
   ]
  },
  {
   "cell_type": "markdown",
   "metadata": {},
   "source": [
    "Now we will load the term-frequency inverse-document-frequency vectorizer from sklearn, `TfidfVectorizer`, to convert each tweet into a vector. We'll go ahead and call the resulting vectorized data, `X`, or `X_train` since it is only the training dataset. As with conventional statistical models, \"_X_\" represents the set of predictors, or independent variables. \n",
    "\n",
    "Also, note that `TfidfVectorizer` is a powerful text processing object. It has the ability to remove stop words, strip symbols, and do much of the work that our manual tokenization did. As such, we could easily use the original tweet text here, but we'll go ahead and continue with our manually tokenized data in the column, `textclean`. \n",
    "<a id=\"changetraining\"></a>"
   ]
  },
  {
   "cell_type": "code",
   "execution_count": 336,
   "metadata": {},
   "outputs": [
    {
     "name": "stdout",
     "output_type": "stream",
     "text": [
      "X_train.shape = (8500, 7492)\n"
     ]
    },
    {
     "data": {
      "text/plain": [
       "numpy.ndarray"
      ]
     },
     "execution_count": 336,
     "metadata": {},
     "output_type": "execute_result"
    }
   ],
   "source": [
    "from sklearn.feature_extraction.text import TfidfVectorizer\n",
    "tfidf_vectorizer = TfidfVectorizer()\n",
    "X_train = tfidf_vectorizer.fit_transform(df['textclean']).toarray()\n",
    "#X_train = tfidf_vectorizer.fit_transform(df['text']).toarray() # original tweet text (without our manual tokenization)\n",
    "\n",
    "print(f\"X_train.shape = {X_train.shape}\")\n",
    "type(X_train)"
   ]
  },
  {
   "cell_type": "markdown",
   "metadata": {},
   "source": [
    "Note that the data type for `X_train` is no longer a pandas data frame. Instead, it is a numpy ndarray. We will talk much more about the python module, numpy, and its data types in the coming week. For now, let's just think of it a more efficently implemented object than a pandas data frame (e.g. smaller memory footprint), and one that we can think of a more of a matrix than a table of data. This can be seen by how we can easily index into `X_train` without the need for methods such as `iloc` or `loc`. Here we will look at the first 5 rows and 10 columns.\n",
    "\n",
    "```\n",
    "text shape (8500, 10986)\n",
    "textclean shape (8500, 7492)\n",
    "```"
   ]
  },
  {
   "cell_type": "code",
   "execution_count": 337,
   "metadata": {},
   "outputs": [
    {
     "data": {
      "text/plain": [
       "array([[0., 0., 0., 0., 0., 0., 0., 0., 0., 0.],\n",
       "       [0., 0., 0., 0., 0., 0., 0., 0., 0., 0.],\n",
       "       [0., 0., 0., 0., 0., 0., 0., 0., 0., 0.],\n",
       "       [0., 0., 0., 0., 0., 0., 0., 0., 0., 0.],\n",
       "       [0., 0., 0., 0., 0., 0., 0., 0., 0., 0.]])"
      ]
     },
     "execution_count": 337,
     "metadata": {},
     "output_type": "execute_result"
    }
   ],
   "source": [
    "X_train[:5, :10]"
   ]
  },
  {
   "cell_type": "markdown",
   "metadata": {},
   "source": [
    "Looking at the output above, and back at the dimensions of `X_train` two cells back, what does this tell you about the data (aside from the size of the training data)? Specifically, what do the number of columns represent?\n",
    "\n",
    "If you're not sure, then look at the output of the following cell. We are looking at the first row of the training dataset, `X_train` again, but looking only at the non-zero values. These are the term-frequency inverse-document-frequency values for this tweet. "
   ]
  },
  {
   "cell_type": "code",
   "execution_count": 338,
   "metadata": {},
   "outputs": [
    {
     "name": "stdout",
     "output_type": "stream",
     "text": [
      "obs1 token at column i=1170, has a non-zero TF-IDF value: 0.23462870502322206\n",
      "obs1 token at column i=1562, has a non-zero TF-IDF value: 0.4043898479991361\n",
      "obs1 token at column i=2122, has a non-zero TF-IDF value: 0.25780320561275927\n",
      "obs1 token at column i=2563, has a non-zero TF-IDF value: 0.46691796664238316\n",
      "obs1 token at column i=3272, has a non-zero TF-IDF value: 0.3918461994530892\n",
      "obs1 token at column i=5449, has a non-zero TF-IDF value: 0.304299297345955\n",
      "obs1 token at column i=6027, has a non-zero TF-IDF value: 0.1810785665178506\n",
      "obs1 token at column i=7224, has a non-zero TF-IDF value: 0.46691796664238316\n"
     ]
    }
   ],
   "source": [
    "obs1 = list(X_train[0,:])\n",
    "for i, tfidf_val in enumerate(obs1):\n",
    "    if tfidf_val > 0:\n",
    "        print(f\"obs1 token at column i={i}, has a non-zero TF-IDF value: {tfidf_val}\")"
   ]
  },
  {
   "cell_type": "markdown",
   "metadata": {},
   "source": [
    "If we wanted to, we could retrieve the token associated with each column of `X_train` by using the `tfidf_vectorizer`. Let's do that now just to see if we can try to recover the tweet. You'll notice that we can't recover the ordering of the words, but rather just the set of words that were in the tweet. "
   ]
  },
  {
   "cell_type": "code",
   "execution_count": 339,
   "metadata": {},
   "outputs": [
    {
     "name": "stdout",
     "output_type": "stream",
     "text": [
      "obs1 has a non-zero TF-IDF value: 0.23462870502322206 at col i=1170 (associated with token: airport)\n",
      "obs1 has a non-zero TF-IDF value: 0.4043898479991361 at col i=1562 (associated with token: beach)\n",
      "obs1 has a non-zero TF-IDF value: 0.25780320561275927 at col i=2122 (associated with token: come)\n",
      "obs1 has a non-zero TF-IDF value: 0.46691796664238316 at col i=2563 (associated with token: destin)\n",
      "obs1 has a non-zero TF-IDF value: 0.3918461994530892 at col i=3272 (associated with token: fort)\n",
      "obs1 has a non-zero TF-IDF value: 0.304299297345955 at col i=5449 (associated with token: provide)\n",
      "obs1 has a non-zero TF-IDF value: 0.1810785665178506 at col i=6027 (associated with token: service)\n",
      "obs1 has a non-zero TF-IDF value: 0.46691796664238316 at col i=7224 (associated with token: walton)\n"
     ]
    }
   ],
   "source": [
    "obs1 = list(X_train[0,:])\n",
    "for i, tfidf_val in enumerate(obs1):\n",
    "    if tfidf_val > 0:\n",
    "        print(f\"obs1 has a non-zero TF-IDF value: {tfidf_val} at col i={i} (associated with token: {tfidf_vectorizer.get_feature_names_out()[i]})\")"
   ]
  },
  {
   "cell_type": "markdown",
   "metadata": {},
   "source": [
    "We can verify this by going back to our training dataset, `df`, and checking what the first observation was. Looking at the output below. As stated above, we see that the same words are present in the data but not necessarily in the same order. Disregarding word order when vectorizing text data is sometimes (informally) referred to as a \"[__bag-of-words__](https://en.wikipedia.org/wiki/Bag-of-words_model)\" approach. Often times, \"__bag-of-words__\" suggests that just the counts (i.e. __term frequency__) is used, rather than what we are using here, __term-frequency inverse-document-frequency__. Nonetheless, the underlying idea that words frequency is accounted for, but word order is neglected, is an important observation to make here."
   ]
  },
  {
   "cell_type": "code",
   "execution_count": 340,
   "metadata": {},
   "outputs": [
    {
     "data": {
      "text/plain": [
       "sentiment                                                                         neutral\n",
       "text          @JetBlue Come on and provide service from Destin- Fort Walton Beach Airport\n",
       "tokens_raw              [come, provide, service, destin, -, fort, walton, beach, airport]\n",
       "tokens                  [come, provide, service, destin, -, fort, walton, beach, airport]\n",
       "textclean                         come provide service destin - fort walton beach airport\n",
       "Name: 3771, dtype: object"
      ]
     },
     "execution_count": 340,
     "metadata": {},
     "output_type": "execute_result"
    }
   ],
   "source": [
    "df.iloc[0,:]"
   ]
  },
  {
   "cell_type": "markdown",
   "metadata": {},
   "source": [
    "A good default model to start with that does not require too much fine tuning, and generally performs well is a [__Random Forest__](https://en.wikipedia.org/wiki/Random_forest) model. We won't dig into the details of how an RF model works exactly, but so long as we know that it creates many decision trees on random subsets of the data, then you've got a decent idea. Before doing so, we also need to convert the labels (i.e. `df.sentiment`) to a numpy data type. We'll quickly do that now and look at the first few observations. "
   ]
  },
  {
   "cell_type": "code",
   "execution_count": 341,
   "metadata": {},
   "outputs": [
    {
     "data": {
      "text/plain": [
       "array(['neutral', 'positive', 'negative', 'neutral', 'neutral',\n",
       "       'negative', 'negative', 'negative', 'neutral', 'positive'],\n",
       "      dtype=object)"
      ]
     },
     "execution_count": 341,
     "metadata": {},
     "output_type": "execute_result"
    }
   ],
   "source": [
    "y_train = df.sentiment.to_numpy()\n",
    "y_train[:10]"
   ]
  },
  {
   "cell_type": "markdown",
   "metadata": {},
   "source": [
    "We'll not fit the random forest model on the training data and check the performance. "
   ]
  },
  {
   "cell_type": "code",
   "execution_count": 342,
   "metadata": {},
   "outputs": [
    {
     "name": "stdout",
     "output_type": "stream",
     "text": [
      "accuracy (on X_train): 0.9961\n"
     ]
    },
    {
     "data": {
      "image/png": "[encoded data removed]",
      "text/plain": [
       "<Figure size 640x480 with 2 Axes>"
      ]
     },
     "metadata": {},
     "output_type": "display_data"
    }
   ],
   "source": [
    "from sklearn.ensemble import RandomForestClassifier\n",
    "model = RandomForestClassifier(n_estimators=200)\n",
    "model = model.fit(X_train, y_train)\n",
    "\n",
    "predictions_train = model.predict(X_train)\n",
    "predictions_train\n",
    "\n",
    "disp = ConfusionMatrixDisplay(confusion_matrix(df['sentiment'], predictions_train), display_labels=['negative', 'neutral', 'positive'])\n",
    "disp.plot()\n",
    "print(f\"accuracy (on X_train): {accuracy_score(df['sentiment'], predictions_train):.4f}\")"
   ]
  },
  {
   "cell_type": "markdown",
   "metadata": {},
   "source": [
    "Wow! Accuracy of ~99% is much better than what we saw with our ad hoc model. Let's check and see how well the model does on the test dataset now.\n",
    "\n",
    "Notice that we are using `tfidf_vectorizer.transform()` now, and not the same method we used before on the training dataset, which was `tfidf_vectorizer.fit_transform()`. The `fit_transform` method creates the vocabulary from the training data. The `transform` method will use the vocabulary that was previously made, but if it encounters a token in the test data that was never seen in the training data, then it will simply ignore it. This is one reason why making sure that training data for models is regularly updated.\n",
    "<a id=\"changetest\"></a>"
   ]
  },
  {
   "cell_type": "code",
   "execution_count": 343,
   "metadata": {},
   "outputs": [
    {
     "data": {
      "text/plain": [
       "(1500, 7492)"
      ]
     },
     "execution_count": 343,
     "metadata": {},
     "output_type": "execute_result"
    }
   ],
   "source": [
    "df_test['textclean'] = df_test['tokens'].apply(lambda x: ' '.join(x))\n",
    "X_test = tfidf_vectorizer.transform(df_test['textclean']).toarray()\n",
    "#X_test = tfidf_vectorizer.transform(df_test['text']).toarray() # use original tweet text (without our tokenization)\n",
    "X_test.shape"
   ]
  },
  {
   "cell_type": "code",
   "execution_count": 344,
   "metadata": {},
   "outputs": [
    {
     "name": "stdout",
     "output_type": "stream",
     "text": [
      "accuracy (on X_test): 0.7700\n"
     ]
    },
    {
     "data": {
      "image/png": "[encoded data removed]",
      "text/plain": [
       "<Figure size 640x480 with 2 Axes>"
      ]
     },
     "metadata": {},
     "output_type": "display_data"
    }
   ],
   "source": [
    "predictions_test = model.predict(X_test)\n",
    "disp = ConfusionMatrixDisplay(confusion_matrix(df_test['sentiment'], predictions_test), display_labels=['negative', 'neutral', 'positive'])\n",
    "disp.plot()\n",
    "print(f\"accuracy (on X_test): {accuracy_score(df_test['sentiment'], predictions_test):.4f}\")"
   ]
  },
  {
   "cell_type": "markdown",
   "metadata": {},
   "source": [
    "Okay, the model performance on the test data is not nearly as good as the performance on the training dataset. That's expected to some degree. \n",
    "\n",
    "We may be able to improve it slightly by finding the optimal value of one of the random forest hyperparameters, e.g. `n_estimators`. However, one of the strengths of random forest is not it does a good job of overfitting. Knowing that, how do you think smaller values of `n_estimators` will affect accuracy on the test data? How do you think larger values will affect it? Try a few different values of `n_estimators`, both larger and smaller than the default of `n_estimators=100`, to see what happens.\n",
    "\n",
    "Below we go ahead and try many different hyperparameter values (for n_estimators) to see what the best value is. As can be seen, there is not an immediately obvious choice for the best value of the n_estimators hyperparameter, which is exactly why random forest is such a nice to model to use at the beginning. Admittedly, an RF model might not perform as well as some other machine learning models, but it is reliable and does a decent job at balancing the Bias-Variance Tradeoff right away without a lot of tuning. "
   ]
  },
  {
   "cell_type": "code",
   "execution_count": 333,
   "metadata": {},
   "outputs": [],
   "source": [
    "from sklearn.metrics import log_loss\n",
    "\n",
    "# A function to create and fit a RF with a specific number of trees\n",
    "def fitRFModel(hyperparam_value):\n",
    "    rf_model = RandomForestClassifier(n_estimators=hyperparam_value, random_state=5)\n",
    "    rf_model.fit(X_train, y_train)\n",
    "    y_train_pred_prob = rf_model.predict_proba(X_train)\n",
    "    y_train_pred = rf_model.predict(X_train)\n",
    "    y_val_pred_prob = rf_model.predict_proba(X_test)\n",
    "    y_val_pred = rf_model.predict(X_test)\n",
    "    train_loss = log_loss(df['sentiment'], y_train_pred_prob, labels=['negative', 'neutral', 'positive'])\n",
    "    train_acc = accuracy_score(df['sentiment'], y_train_pred)\n",
    "    val_loss = log_loss(df_test['sentiment'], y_val_pred_prob, labels=['negative', 'neutral', 'positive'])\n",
    "    val_acc = accuracy_score(df_test['sentiment'], y_val_pred)\n",
    "    return (train_loss, val_loss, train_acc, val_acc)\n",
    "\n",
    "hyp_param_vals = list(range(5, 206, 50)) # possible values for n_estimators\n",
    "metrics = []\n",
    "for hp in hyp_param_vals:\n",
    "    metrics.append(fitRFModel(hp))"
   ]
  },
  {
   "cell_type": "code",
   "execution_count": 334,
   "metadata": {},
   "outputs": [
    {
     "data": {
      "image/png": "[encoded data removed]",
      "text/plain": [
       "<Figure size 600x300 with 1 Axes>"
      ]
     },
     "metadata": {},
     "output_type": "display_data"
    }
   ],
   "source": [
    "import matplotlib.pyplot as plt\n",
    "fig = plt.figure(figsize=(6, 3))\n",
    "ax = fig.add_axes([0, 0, 1, 1]) #.1, 0.1, 0.8, 0.8]) # main axes\n",
    "ax.plot(hyp_param_vals, [metric[1] for metric in metrics], '--ro') # test loss\n",
    "ax.plot(hyp_param_vals, [metric[0] for metric in metrics], '--bo') # training loss\n",
    "ax.legend([\"Test Loss\", \"Train Loss\"], loc=1)\n",
    "ax.set_xticks(hyp_param_vals)\n",
    "ax.set(xlabel=\"n_estimators\", ylabel=\"loss (lower is better)\")\n",
    "plt.show()"
   ]
  },
  {
   "cell_type": "code",
   "execution_count": 335,
   "metadata": {},
   "outputs": [
    {
     "data": {
      "image/png": "[encoded data removed]",
      "text/plain": [
       "<Figure size 600x300 with 1 Axes>"
      ]
     },
     "metadata": {},
     "output_type": "display_data"
    }
   ],
   "source": [
    "fig = plt.figure(figsize=(6, 3))\n",
    "ax = fig.add_axes([0, 0, 1, 1]) #.1, 0.1, 0.8, 0.8]) # main axes\n",
    "ax.plot(hyp_param_vals, [metric[3] for metric in metrics], '--ro') # test accuracy\n",
    "ax.plot(hyp_param_vals, [metric[2] for metric in metrics], '--bo') # training accuracy\n",
    "ax.legend([\"Test Accuracy\", \"Train Accuracy\"], loc=4)\n",
    "ax.set_xticks(hyp_param_vals)\n",
    "ax.set(xlabel=\"n_estimators\", ylabel=\"accuracy (higher is better)\")\n",
    "plt.show()"
   ]
  },
  {
   "cell_type": "markdown",
   "metadata": {},
   "source": [
    "*** \n",
    "#### Q5\n",
    "What happens if we don't use the `textclean` column (which was based on the lemmatized tokens and stopword removal), but instead use the original `text` column? Remember that you need to change this not just for the [training data](#changetraining), but also for the [test data](#changetest). Then, we want to know specifically...\n",
    "\n",
    "Q5a: How many more (or fewer) input features are there when using TFIDF on the original (un-lemmatized) `text` column? \n",
    "\n",
    "```\n",
    "textclean shape (8500, 7492)\n",
    "text shape (8500, 10986)\n",
    "```\n",
    "\n",
    "**textclean has roughly 3000 less features than the original text column**\n",
    "\n",
    "Q5b: Is the accuracy better or worse when using the original `text` column? \n",
    "\n",
    "```\n",
    "textclean : accuracy (on X_train): 0.9961\n",
    "text : accuracy (on X_test): 0.7740\n",
    "```\n",
    "\n",
    "**The Accuracy from using the textclean column was better than using the original text column**\n",
    "***"
   ]
  },
  {
   "cell_type": "markdown",
   "metadata": {},
   "source": []
  }
 ],
 "metadata": {
  "kernelspec": {
   "display_name": "Python 3",
   "language": "python",
   "name": "python3"
  },
  "language_info": {
   "codemirror_mode": {
    "name": "ipython",
    "version": 3
   },
   "file_extension": ".py",
   "mimetype": "text/x-python",
   "name": "python",
   "nbconvert_exporter": "python",
   "pygments_lexer": "ipython3",
   "version": "3.11.11"
  },
  "orig_nbformat": 4
 },
 "nbformat": 4,
 "nbformat_minor": 2
}
