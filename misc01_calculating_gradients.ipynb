{
 "cells": [
  {
   "cell_type": "markdown",
   "metadata": {},
   "source": [
    "[![Open In Colab](https://colab.research.google.com/assets/colab-badge.svg)](https://colab.research.google.com/github/sgeinitz/DSML4220/blob/main/misc01_calculating_gradients.ipynb)\n",
    "\n",
    "[![Kaggle](https://kaggle.com/static/images/open-in-kaggle.svg)](https://kaggle.com/kernels/welcome?src=https://github.com/sgeinitz/DSML4220/blob/main/misc01_calculating_gradients.ipynb)"
   ]
  },
  {
   "cell_type": "code",
   "execution_count": 28,
   "metadata": {},
   "outputs": [],
   "source": [
    "import torch"
   ]
  },
  {
   "cell_type": "code",
   "execution_count": 29,
   "metadata": {},
   "outputs": [],
   "source": [
    "# model parameters and their intial values\n",
    "w = torch.tensor(-0.4, requires_grad=True)\n",
    "b = torch.tensor(-0.1, requires_grad=True)\n",
    "\n",
    "# training data (only one observation in this case)\n",
    "x = torch.tensor(2.0)\n",
    "y = torch.tensor(1.0)"
   ]
  },
  {
   "cell_type": "code",
   "execution_count": 30,
   "metadata": {},
   "outputs": [],
   "source": [
    "u = b + w * x                                       # linear func.: u = f(w, b, x) = b + w * x\n",
    "v = 1 / (1 + torch.exp(-u))                         # activation:   v = sigmoid(u) = 1 / (1 + exp(-u))\n",
    "z = -y * torch.log(v) - (1 - y) * torch.log(1 - v)  # log-loss:     z = log-loss = -y * log(v) - (1 - y) * log(1 - v)"
   ]
  },
  {
   "cell_type": "code",
   "execution_count": 31,
   "metadata": {},
   "outputs": [
    {
     "name": "stdout",
     "output_type": "stream",
     "text": [
      "b.grad=-0.7109\n",
      "w.grad=-1.4219\n"
     ]
    }
   ],
   "source": [
    "# compute gradients using pytorch autodifferentiation\n",
    "z.backward()\n",
    "print(f\"b.grad={round(b.grad.item(), 4)}\")\n",
    "print(f\"w.grad={round(w.grad.item(), 4)}\")"
   ]
  },
  {
   "cell_type": "code",
   "execution_count": 32,
   "metadata": {},
   "outputs": [],
   "source": [
    "# Partial derivatives to manually compute the gradients\n",
    "du_dw = x\n",
    "du_db = 1\n",
    "dv_du = math.exp(-u) / (1 + math.exp(-u))**2 \n",
    "dz_dv = -y / v + (1 - y) / (1 - v)"
   ]
  },
  {
   "cell_type": "code",
   "execution_count": 35,
   "metadata": {},
   "outputs": [
    {
     "name": "stdout",
     "output_type": "stream",
     "text": [
      "gradient of b is dz/db = -0.7109 (by manual calucation)\n"
     ]
    }
   ],
   "source": [
    "# Gradient for b\n",
    "dz_db = dz_dv * dv_du * du_db\n",
    "print(f\"gradient of b is dz/db = {round(dz_db.item(), 4)} (by manual calucation)\")"
   ]
  },
  {
   "cell_type": "code",
   "execution_count": 36,
   "metadata": {},
   "outputs": [
    {
     "name": "stdout",
     "output_type": "stream",
     "text": [
      "gradient of w is dz/dw = -1.4219 (by manual calucation)\n"
     ]
    }
   ],
   "source": [
    "# Gradient for w\n",
    "dz_dw = dz_dv * dv_du * du_dw\n",
    "print(f\"gradient of w is dz/dw = {round(dz_dw.item(), 4)} (by manual calucation)\")"
   ]
  }
 ],
 "metadata": {
  "kernelspec": {
   "display_name": "py311",
   "language": "python",
   "name": "python3"
  },
  "language_info": {
   "codemirror_mode": {
    "name": "ipython",
    "version": 3
   },
   "file_extension": ".py",
   "mimetype": "text/x-python",
   "name": "python",
   "nbconvert_exporter": "python",
   "pygments_lexer": "ipython3",
   "version": "3.11.6"
  }
 },
 "nbformat": 4,
 "nbformat_minor": 2
}
