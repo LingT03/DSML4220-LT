{
  "cells": [
    {
      "cell_type": "markdown",
      "metadata": {
        "id": "syum2GeKuyBv"
      },
      "source": [
        "# Lab 2: Creating a Multi-layer Perceptron for Classifying Yelp Reviews\n",
        "\n",
        "[![Open In Colab](https://colab.research.google.com/assets/colab-badge.svg)](https://colab.research.google.com/github/sgeinitz/DSML4220/blob/main/lab2_mlp_for_yelp_reviews.ipynb)\n",
        "\n",
        "[![Kaggle](https://kaggle.com/static/images/open-in-kaggle.svg)](https://kaggle.com/kernels/welcome?src=https://github.com/sgeinitz/DSML4220/blob/main/lab2_mlp_for_yelp_reviews.ipynb)\n",
        "\n",
        "In this notebook we'll build off of a simple perceptron model we have seen and to create a PyTorch multilayer perceptron model. The dataset is similar to our airline tweets but larger in two ways. One, each observataion may have much more than 140 words. Two, there are now more than 50,000 observations. \n",
        "\n",
        "Note that the code and data in this notebook is derived from [this notebook](https://github.com/delip/PyTorchNLPBook/blob/master/chapters/chapter_3/3_5_Classifying_Yelp_Review_Sentiment.ipynb) in the [repository for the book, NLP with PyTorch](https://github.com/delip/PyTorchNLPBook).\n",
        "\n",
        "\n",
        "### Lab 2 Assignment/Task\n",
        "Your task for this lab is to add another layer to the model and to try to improve the performance. You will save your completed notebook (on Kaggle) and submit the link in Canvas. Note that although the only thing you need to do is add another layer, you can/should also try experimenting with some hyperparameters such as the learning rate and batch size. \n",
        "\n",
        "It is recommended that you run the entire notebook and get a sense of it all before making any modifications. "
      ]
    },
    {
      "cell_type": "markdown",
      "metadata": {
        "id": "FNf033jzuyBx"
      },
      "source": [
        "## Imports"
      ]
    },
    {
      "cell_type": "code",
      "execution_count": 1,
      "metadata": {
        "execution": {
          "iopub.execute_input": "2025-02-06T02:32:58.530736Z",
          "iopub.status.busy": "2025-02-06T02:32:58.530462Z",
          "iopub.status.idle": "2025-02-06T02:33:04.189406Z",
          "shell.execute_reply": "2025-02-06T02:33:04.188571Z",
          "shell.execute_reply.started": "2025-02-06T02:32:58.530678Z"
        },
        "executionInfo": {
          "elapsed": 4097,
          "status": "ok",
          "timestamp": 1632258440567,
          "user": {
            "displayName": "Steve Geinitz",
            "photoUrl": "https://lh3.googleusercontent.com/a-/AOh14GjM_I7kh6h0lJDODuL8c-Z408Wa9BqEjLHLA5ekmA=s64",
            "userId": "14938465990641036306"
          },
          "user_tz": 360
        },
        "id": "QLdP8PiOuyBx",
        "trusted": true
      },
      "outputs": [],
      "source": [
        "from argparse import Namespace\n",
        "from collections import Counter\n",
        "from nltk.corpus import stopwords\n",
        "import json\n",
        "import os\n",
        "import re\n",
        "import string\n",
        "\n",
        "import numpy as np\n",
        "import pandas as pd\n",
        "import torch\n",
        "import torch.nn as nn\n",
        "import torch.nn.functional as F\n",
        "import torch.optim as optim\n",
        "from torch.utils.data import Dataset, DataLoader\n",
        "import matplotlib\n",
        "import matplotlib.pyplot as plt"
      ]
    },
    {
      "cell_type": "markdown",
      "metadata": {
        "id": "kyF9uRIpuyBz"
      },
      "source": [
        "## Data Vectorization classes\n",
        "\n",
        "### The Vocabulary"
      ]
    },
    {
      "cell_type": "code",
      "execution_count": 2,
      "metadata": {
        "code_folding": [],
        "execution": {
          "iopub.execute_input": "2025-02-06T02:33:08.869450Z",
          "iopub.status.busy": "2025-02-06T02:33:08.869130Z",
          "iopub.status.idle": "2025-02-06T02:33:08.877815Z",
          "shell.execute_reply": "2025-02-06T02:33:08.876814Z",
          "shell.execute_reply.started": "2025-02-06T02:33:08.869421Z"
        },
        "executionInfo": {
          "elapsed": 228,
          "status": "ok",
          "timestamp": 1632258440792,
          "user": {
            "displayName": "Steve Geinitz",
            "photoUrl": "https://lh3.googleusercontent.com/a-/AOh14GjM_I7kh6h0lJDODuL8c-Z408Wa9BqEjLHLA5ekmA=s64",
            "userId": "14938465990641036306"
          },
          "user_tz": 360
        },
        "id": "bpyc_yw4uyBz",
        "trusted": true
      },
      "outputs": [],
      "source": [
        "class Vocabulary(object):\n",
        "    \"\"\"Class to process text and extract vocabulary for mapping\"\"\"\n",
        "\n",
        "    def __init__(self, token_to_idx=None, add_unk=True, unk_token=\"<UNK>\"):\n",
        "        \"\"\"\n",
        "        Args:\n",
        "            token_to_idx (dict): a pre-existing map of tokens to indices\n",
        "            add_unk (bool): a flag that indicates whether to add the UNK token\n",
        "            unk_token (str): the UNK token to add into the Vocabulary\n",
        "        \"\"\"\n",
        "\n",
        "        if token_to_idx is None:\n",
        "            token_to_idx = {}\n",
        "        self._token_to_idx = token_to_idx\n",
        "\n",
        "        self._idx_to_token = {idx: token \n",
        "                              for token, idx in self._token_to_idx.items()}\n",
        "        \n",
        "        self._add_unk = add_unk\n",
        "        self._unk_token = unk_token\n",
        "        \n",
        "        self.unk_index = -1\n",
        "        if add_unk:\n",
        "            self.unk_index = self.add_token(unk_token) \n",
        "        \n",
        "        \n",
        "    def to_serializable(self):\n",
        "        \"\"\" returns a dictionary that can be serialized \"\"\"\n",
        "        return {'token_to_idx': self._token_to_idx, \n",
        "                'add_unk': self._add_unk, \n",
        "                'unk_token': self._unk_token}\n",
        "\n",
        "    @classmethod\n",
        "    def from_serializable(cls, contents):\n",
        "        \"\"\" instantiates the Vocabulary from a serialized dictionary \"\"\"\n",
        "        return cls(**contents)\n",
        "\n",
        "    def add_token(self, token):\n",
        "        \"\"\"Update mapping dicts based on the token.\n",
        "\n",
        "        Args:\n",
        "            token (str): the item to add into the Vocabulary\n",
        "        Returns:\n",
        "            index (int): the integer corresponding to the token\n",
        "        \"\"\"\n",
        "        if token in self._token_to_idx:\n",
        "            index = self._token_to_idx[token]\n",
        "        else:\n",
        "            index = len(self._token_to_idx)\n",
        "            self._token_to_idx[token] = index\n",
        "            self._idx_to_token[index] = token\n",
        "        return index\n",
        "    \n",
        "    def add_many(self, tokens):\n",
        "        \"\"\"Add a list of tokens into the Vocabulary\n",
        "        \n",
        "        Args:\n",
        "            tokens (list): a list of string tokens\n",
        "        Returns:\n",
        "            indices (list): a list of indices corresponding to the tokens\n",
        "        \"\"\"\n",
        "        return [self.add_token(token) for token in tokens]\n",
        "\n",
        "    def lookup_token(self, token):\n",
        "        \"\"\"Retrieve the index associated with the token \n",
        "          or the UNK index if token isn't present.\n",
        "        \n",
        "        Args:\n",
        "            token (str): the token to look up \n",
        "        Returns:\n",
        "            index (int): the index corresponding to the token\n",
        "        Notes:\n",
        "            `unk_index` needs to be >=0 (having been added into the Vocabulary) \n",
        "              for the UNK functionality \n",
        "        \"\"\"\n",
        "        if self.unk_index >= 0:\n",
        "            return self._token_to_idx.get(token, self.unk_index)\n",
        "        else:\n",
        "            return self._token_to_idx[token]\n",
        "\n",
        "    def lookup_index(self, index):\n",
        "        \"\"\"Return the token associated with the index\n",
        "        \n",
        "        Args: \n",
        "            index (int): the index to look up\n",
        "        Returns:\n",
        "            token (str): the token corresponding to the index\n",
        "        Raises:\n",
        "            KeyError: if the index is not in the Vocabulary\n",
        "        \"\"\"\n",
        "        if index not in self._idx_to_token:\n",
        "            raise KeyError(\"the index (%d) is not in the Vocabulary\" % index)\n",
        "        return self._idx_to_token[index]\n",
        "\n",
        "    def __str__(self):\n",
        "        return \"<Vocabulary(size=%d)>\" % len(self)\n",
        "\n",
        "    def __len__(self):\n",
        "        return len(self._token_to_idx)"
      ]
    },
    {
      "cell_type": "markdown",
      "metadata": {
        "id": "EihRBWjbuyB0"
      },
      "source": [
        "### The Vectorizer"
      ]
    },
    {
      "cell_type": "code",
      "execution_count": 3,
      "metadata": {
        "code_folding": [],
        "execution": {
          "iopub.execute_input": "2025-02-06T02:33:15.605031Z",
          "iopub.status.busy": "2025-02-06T02:33:15.604693Z",
          "iopub.status.idle": "2025-02-06T02:33:15.612986Z",
          "shell.execute_reply": "2025-02-06T02:33:15.611967Z",
          "shell.execute_reply.started": "2025-02-06T02:33:15.605006Z"
        },
        "executionInfo": {
          "elapsed": 4,
          "status": "ok",
          "timestamp": 1632258440793,
          "user": {
            "displayName": "Steve Geinitz",
            "photoUrl": "https://lh3.googleusercontent.com/a-/AOh14GjM_I7kh6h0lJDODuL8c-Z408Wa9BqEjLHLA5ekmA=s64",
            "userId": "14938465990641036306"
          },
          "user_tz": 360
        },
        "id": "xw6VEdJQuyB1",
        "trusted": true
      },
      "outputs": [],
      "source": [
        "class ReviewVectorizer(object):\n",
        "    \"\"\" The Vectorizer which coordinates the Vocabularies and puts them to use\"\"\"\n",
        "    def __init__(self, review_vocab, rating_vocab):\n",
        "        \"\"\"\n",
        "        Args:\n",
        "            review_vocab (Vocabulary): maps words to integers\n",
        "            rating_vocab (Vocabulary): maps class labels to integers\n",
        "        \"\"\"\n",
        "        self.review_vocab = review_vocab\n",
        "        self.rating_vocab = rating_vocab\n",
        "\n",
        "    def vectorize(self, review):\n",
        "        \"\"\"Create a collapsed one-hit vector for the review\n",
        "        \n",
        "        Args:\n",
        "            review (str): the review \n",
        "        Returns:\n",
        "            one_hot (np.ndarray): the collapsed one-hot encoding \n",
        "        \"\"\"\n",
        "        one_hot = np.zeros(len(self.review_vocab), dtype=np.float32)\n",
        "        \n",
        "        for token in review.split(\" \"):\n",
        "            if token not in string.punctuation:\n",
        "                one_hot[self.review_vocab.lookup_token(token)] = 1\n",
        "\n",
        "        return one_hot\n",
        "\n",
        "    @classmethod\n",
        "    def from_dataframe(cls, review_df, cutoff=20):\n",
        "        \"\"\"Instantiate the vectorizer from the dataset dataframe\n",
        "        \n",
        "        Args:\n",
        "            review_df (pandas.DataFrame): the review dataset\n",
        "            cutoff (int): the parameter for frequency-based filtering\n",
        "        Returns:\n",
        "            an instance of the ReviewVectorizer\n",
        "        \"\"\"\n",
        "        review_vocab = Vocabulary(add_unk=True)\n",
        "        rating_vocab = Vocabulary(add_unk=False)\n",
        "        stop_words = set(stopwords.words('english'))\n",
        "        \n",
        "        # Add ratings\n",
        "        for rating in sorted(set(review_df.rating)):\n",
        "            rating_vocab.add_token(rating)\n",
        "\n",
        "        # Add top words if count > provided count\n",
        "        word_counts = Counter()\n",
        "        for review in review_df.review:\n",
        "            for word in review.split(\" \"):\n",
        "                if word not in string.punctuation:\n",
        "                    word_counts[word] += 1\n",
        "               \n",
        "        for word, count in word_counts.items():\n",
        "            if count > cutoff and word not in stop_words:\n",
        "                review_vocab.add_token(word)\n",
        "\n",
        "        return cls(review_vocab, rating_vocab)\n",
        "\n",
        "    @classmethod\n",
        "    def from_serializable(cls, contents):\n",
        "        \"\"\"Instantiate a ReviewVectorizer from a serializable dictionary\n",
        "        \n",
        "        Args:\n",
        "            contents (dict): the serializable dictionary\n",
        "        Returns:\n",
        "            an instance of the ReviewVectorizer class\n",
        "        \"\"\"\n",
        "        review_vocab = Vocabulary.from_serializable(contents['review_vocab'])\n",
        "        rating_vocab =  Vocabulary.from_serializable(contents['rating_vocab'])\n",
        "\n",
        "        return cls(review_vocab=review_vocab, rating_vocab=rating_vocab)\n",
        "\n",
        "    def to_serializable(self):\n",
        "        \"\"\"Create the serializable dictionary for caching\n",
        "        \n",
        "        Returns:\n",
        "            contents (dict): the serializable dictionary\n",
        "        \"\"\"\n",
        "        return {'review_vocab': self.review_vocab.to_serializable(),\n",
        "                'rating_vocab': self.rating_vocab.to_serializable()}"
      ]
    },
    {
      "cell_type": "markdown",
      "metadata": {
        "id": "F4Rb7EGzuyB1"
      },
      "source": [
        "### The Dataset"
      ]
    },
    {
      "cell_type": "code",
      "execution_count": 4,
      "metadata": {
        "code_folding": [
          65
        ],
        "execution": {
          "iopub.execute_input": "2025-02-06T02:33:19.835692Z",
          "iopub.status.busy": "2025-02-06T02:33:19.835362Z",
          "iopub.status.idle": "2025-02-06T02:33:19.847500Z",
          "shell.execute_reply": "2025-02-06T02:33:19.846419Z",
          "shell.execute_reply.started": "2025-02-06T02:33:19.835666Z"
        },
        "executionInfo": {
          "elapsed": 112,
          "status": "ok",
          "timestamp": 1632258440902,
          "user": {
            "displayName": "Steve Geinitz",
            "photoUrl": "https://lh3.googleusercontent.com/a-/AOh14GjM_I7kh6h0lJDODuL8c-Z408Wa9BqEjLHLA5ekmA=s64",
            "userId": "14938465990641036306"
          },
          "user_tz": 360
        },
        "id": "o6G3UTf2uyB2",
        "trusted": true
      },
      "outputs": [],
      "source": [
        "class ReviewDataset(Dataset):\n",
        "    def __init__(self, review_df, vectorizer):\n",
        "        \"\"\"\n",
        "        Args:\n",
        "            review_df (pandas.DataFrame): the dataset\n",
        "            vectorizer (ReviewVectorizer): vectorizer instantiated from dataset\n",
        "        \"\"\"\n",
        "        self.review_df = review_df\n",
        "        self._vectorizer = vectorizer\n",
        "\n",
        "        self.train_df = self.review_df[self.review_df.split=='train']\n",
        "        self.train_size = len(self.train_df)\n",
        "\n",
        "        self.val_df = self.review_df[self.review_df.split=='val']\n",
        "        self.validation_size = len(self.val_df)\n",
        "\n",
        "        self.test_df = self.review_df[self.review_df.split=='test']\n",
        "        self.test_size = len(self.test_df)\n",
        "\n",
        "        self._lookup_dict = {'train': (self.train_df, self.train_size),\n",
        "                             'val': (self.val_df, self.validation_size),\n",
        "                             'test': (self.test_df, self.test_size)}\n",
        "\n",
        "        self.set_split('train')\n",
        "\n",
        "    @classmethod\n",
        "    def load_dataset_and_make_vectorizer(cls, review_csv):\n",
        "        \"\"\"Load dataset and make a new vectorizer from scratch\n",
        "        \n",
        "        Args:\n",
        "            review_csv (str): location of the dataset\n",
        "        Returns:\n",
        "            an instance of ReviewDataset\n",
        "        \"\"\"\n",
        "        review_df = pd.read_csv(review_csv)\n",
        "        train_review_df = review_df[review_df.split=='train']\n",
        "        return cls(review_df, ReviewVectorizer.from_dataframe(train_review_df))\n",
        "    \n",
        "    @classmethod\n",
        "    def load_dataset_and_load_vectorizer(cls, review_csv, vectorizer_filepath):\n",
        "        \"\"\"Load dataset and the corresponding vectorizer. \n",
        "        Used in the case in the vectorizer has been cached for re-use\n",
        "        \n",
        "        Args:\n",
        "            review_csv (str): location of the dataset\n",
        "            vectorizer_filepath (str): location of the saved vectorizer\n",
        "        Returns:\n",
        "            an instance of ReviewDataset\n",
        "        \"\"\"\n",
        "        review_df = pd.read_csv(review_csv)\n",
        "        vectorizer = cls.load_vectorizer_only(vectorizer_filepath)\n",
        "        return cls(review_df, vectorizer)\n",
        "\n",
        "    @staticmethod\n",
        "    def load_vectorizer_only(vectorizer_filepath):\n",
        "        \"\"\"a static method for loading the vectorizer from file\n",
        "        \n",
        "        Args:\n",
        "            vectorizer_filepath (str): the location of the serialized vectorizer\n",
        "        Returns:\n",
        "            an instance of ReviewVectorizer\n",
        "        \"\"\"\n",
        "        with open(vectorizer_filepath) as fp:\n",
        "            return ReviewVectorizer.from_serializable(json.load(fp))\n",
        "\n",
        "    def save_vectorizer(self, vectorizer_filepath):\n",
        "        \"\"\"saves the vectorizer to disk using json\n",
        "        \n",
        "        Args:\n",
        "            vectorizer_filepath (str): the location to save the vectorizer\n",
        "        \"\"\"\n",
        "        with open(vectorizer_filepath, \"w\") as fp:\n",
        "            json.dump(self._vectorizer.to_serializable(), fp)\n",
        "\n",
        "    def get_vectorizer(self):\n",
        "        \"\"\" returns the vectorizer \"\"\"\n",
        "        return self._vectorizer\n",
        "\n",
        "    def set_split(self, split=\"train\"):\n",
        "        \"\"\" selects the splits in the dataset using a column in the dataframe \n",
        "        \n",
        "        Args:\n",
        "            split (str): one of \"train\", \"val\", or \"test\"\n",
        "        \"\"\"\n",
        "        self._target_split = split\n",
        "        self._target_df, self._target_size = self._lookup_dict[split]\n",
        "\n",
        "    def __len__(self):\n",
        "        return self._target_size\n",
        "\n",
        "    def __getitem__(self, index):\n",
        "        \"\"\"the primary entry point method for PyTorch datasets\n",
        "        \n",
        "        Args:\n",
        "            index (int): the index to the data point \n",
        "        Returns:\n",
        "            a dictionary holding the data point's features (x_data) and label (y_target)\n",
        "        \"\"\"\n",
        "        row = self._target_df.iloc[index]\n",
        "\n",
        "        review_vector = \\\n",
        "            self._vectorizer.vectorize(row.review)\n",
        "\n",
        "        rating_index = \\\n",
        "            self._vectorizer.rating_vocab.lookup_token(row.rating)\n",
        "\n",
        "        return {'x_data': review_vector,\n",
        "                'y_target': rating_index}\n",
        "\n",
        "    def get_num_batches(self, batch_size):\n",
        "        \"\"\"Given a batch size, return the number of batches in the dataset\n",
        "        \n",
        "        Args:\n",
        "            batch_size (int)\n",
        "        Returns:\n",
        "            number of batches in the dataset\n",
        "        \"\"\"\n",
        "        return len(self) // batch_size  \n",
        "    \n",
        "def generate_batches(dataset, batch_size, shuffle=True,\n",
        "                     drop_last=True, device=\"cpu\"):\n",
        "    \"\"\"\n",
        "    A generator function which wraps the PyTorch DataLoader. It will \n",
        "    ensure each tensor is at the correct device location.\n",
        "    \"\"\"\n",
        "    dataloader = DataLoader(dataset=dataset, batch_size=batch_size,\n",
        "                            shuffle=shuffle, drop_last=drop_last)\n",
        "\n",
        "    for data_dict in dataloader:\n",
        "        out_data_dict = {}\n",
        "        for name, tensor in data_dict.items():\n",
        "            out_data_dict[name] = data_dict[name].to(device)\n",
        "        yield out_data_dict"
      ]
    },
    {
      "cell_type": "markdown",
      "metadata": {
        "id": "tqEhBKAkuyB3"
      },
      "source": [
        "## Defining the Model Class\n",
        "\n",
        "As with other examples we saw, the typical approach with PyTorch is to inherit from the `nn.Module` baseclass. This is then extended and customized per your model's architecture (e.g. how many layers, units per layer, etc.) and task (e.g. output layer and activation function). "
      ]
    },
    {
      "cell_type": "code",
      "execution_count": 5,
      "metadata": {
        "code_folding": [],
        "execution": {
          "iopub.execute_input": "2025-02-06T02:33:25.904054Z",
          "iopub.status.busy": "2025-02-06T02:33:25.903670Z",
          "iopub.status.idle": "2025-02-06T02:33:25.909957Z",
          "shell.execute_reply": "2025-02-06T02:33:25.908961Z",
          "shell.execute_reply.started": "2025-02-06T02:33:25.904027Z"
        },
        "executionInfo": {
          "elapsed": 96,
          "status": "ok",
          "timestamp": 1632260003297,
          "user": {
            "displayName": "Steve Geinitz",
            "photoUrl": "https://lh3.googleusercontent.com/a-/AOh14GjM_I7kh6h0lJDODuL8c-Z408Wa9BqEjLHLA5ekmA=s64",
            "userId": "14938465990641036306"
          },
          "user_tz": 360
        },
        "id": "C7jQxJ-quyB4",
        "trusted": true
      },
      "outputs": [],
      "source": [
        "# Data modified: 2/16/2025\n",
        "# Modifications made by Ling Thang\n",
        "\n",
        "class ReviewClassifier(nn.Module):\n",
        "    \"\"\" a simple perceptron based classifier \"\"\"\n",
        "    def __init__(self, num_features, hidden_features, dropout_rate = 0.5): # added dropout_rate\n",
        "        \"\"\"\n",
        "        Args:\n",
        "            num_features (int): the size of the input feature vector.\n",
        "            hidden_features (int): number of units in the hidden layer.\n",
        "            dropout_rate (float): probability for dropout.\n",
        "        \"\"\"\n",
        "        super(ReviewClassifier, self).__init__()\n",
        "        self.dropout = nn.Dropout(p=dropout_rate)\n",
        "        self.fc1 = nn.Linear(in_features=num_features, out_features=hidden_features)\n",
        "        self.fc2 = nn.Linear(in_features=hidden_features, out_features=16)\n",
        "        self.fc3 = nn.Linear(in_features=16, out_features=1)\n",
        "        \n",
        "    def forward(self, x_in, apply_sigmoid=False, apply_dropout=False):\n",
        "        \"\"\"\n",
        "        The forward pass of the classifier\n",
        "        \n",
        "        Args:\n",
        "            x_in (torch.Tensor): Input data tensor of shape (batch, num_features).\n",
        "            apply_sigmoid (bool): Whether to apply a sigmoid at the end.\n",
        "                                  Set to True for binary classification when not using\n",
        "                                  BCEWithLogitsLoss directly.\n",
        "            apply_dropout (bool): Whether to apply dropout explicitly in the forward pass.\n",
        "            \n",
        "        Returns:\n",
        "            torch.Tensor: Output tensor with shape (batch,).\n",
        "        \"\"\"\n",
        "        # First layer + ReLU\n",
        "        out = self.fc1(x_in)\n",
        "        out = F.relu(out)\n",
        "        if apply_dropout:\n",
        "            out = self.dropout(out)\n",
        "        \n",
        "        # Second layer + ReLU\n",
        "        out = self.fc2(out)\n",
        "        out = F.relu(out)\n",
        "        if apply_dropout:\n",
        "            out = self.dropout(out)\n",
        "        \n",
        "        # Final layer\n",
        "        y_out = self.fc3(out).squeeze()\n",
        "        \n",
        "        # Optional Sigmoid\n",
        "        if apply_sigmoid:\n",
        "            y_out = torch.sigmoid(y_out)\n",
        "            \n",
        "        return y_out"
      ]
    },
    {
      "cell_type": "markdown",
      "metadata": {
        "id": "jP_VhtLBuyB4"
      },
      "source": [
        "## Training Routine\n",
        "\n",
        "\n",
        "### Helper functions"
      ]
    },
    {
      "cell_type": "code",
      "execution_count": 6,
      "metadata": {
        "code_folding": [],
        "execution": {
          "iopub.execute_input": "2025-02-06T02:33:29.245690Z",
          "iopub.status.busy": "2025-02-06T02:33:29.245356Z",
          "iopub.status.idle": "2025-02-06T02:33:29.252886Z",
          "shell.execute_reply": "2025-02-06T02:33:29.251720Z",
          "shell.execute_reply.started": "2025-02-06T02:33:29.245664Z"
        },
        "executionInfo": {
          "elapsed": 3,
          "status": "ok",
          "timestamp": 1632258440903,
          "user": {
            "displayName": "Steve Geinitz",
            "photoUrl": "https://lh3.googleusercontent.com/a-/AOh14GjM_I7kh6h0lJDODuL8c-Z408Wa9BqEjLHLA5ekmA=s64",
            "userId": "14938465990641036306"
          },
          "user_tz": 360
        },
        "id": "b4Mhlph_uyB5",
        "trusted": true
      },
      "outputs": [],
      "source": [
        "def make_train_state(args):\n",
        "    return {'stop_early': True,\n",
        "            'early_stopping_step': 0,\n",
        "            'early_stopping_best_val': 1e6,\n",
        "            'learning_rate': args.learning_rate,\n",
        "            'epoch_index': 0,\n",
        "            'train_loss': [],\n",
        "            'train_acc': [],\n",
        "            'val_loss': [],\n",
        "            'val_acc': [],\n",
        "            'test_loss': -1,\n",
        "            'test_acc': -1,\n",
        "            'model_filename': args.model_state_file}\n",
        "\n",
        "def update_train_state(args, model, train_state):\n",
        "    \"\"\"Handle the training state updates.\n",
        "\n",
        "    Components:\n",
        "     - Early Stopping: Prevent overfitting.\n",
        "     - Model Checkpoint: Model is saved if the model is better\n",
        "\n",
        "    :param args: main arguments\n",
        "    :param model: model to train\n",
        "    :param train_state: a dictionary representing the training state values\n",
        "    :returns:\n",
        "        a new train_state\n",
        "    \"\"\"\n",
        "\n",
        "    # Save one model at least\n",
        "    if train_state['epoch_index'] == 0:\n",
        "        torch.save(model.state_dict(), train_state['model_filename'])\n",
        "        train_state['stop_early'] = False\n",
        "\n",
        "    # Save model if performance improved\n",
        "    elif train_state['epoch_index'] >= 1:\n",
        "        loss_tm1, loss_t = train_state['val_loss'][-2:]\n",
        "\n",
        "        # If loss worsened\n",
        "        if loss_t >= train_state['early_stopping_best_val']:\n",
        "            # Update step\n",
        "            train_state['early_stopping_step'] += 1\n",
        "        # Loss decreased\n",
        "        else:\n",
        "            # Save the best model\n",
        "            if loss_t < train_state['early_stopping_best_val']:\n",
        "                torch.save(model.state_dict(), train_state['model_filename'])\n",
        "\n",
        "            # Reset early stopping step\n",
        "            train_state['early_stopping_step'] = 0\n",
        "\n",
        "        # Stop early ?\n",
        "        train_state['stop_early'] = \\\n",
        "            train_state['early_stopping_step'] >= args.early_stopping_criteria\n",
        "\n",
        "    return train_state\n",
        "\n",
        "def compute_accuracy(y_pred, y_target):\n",
        "    y_target = y_target.cpu()\n",
        "    y_pred_indices = (torch.sigmoid(y_pred)>0.5).cpu().long()#.max(dim=1)[1]\n",
        "    n_correct = torch.eq(y_pred_indices, y_target).sum().item()\n",
        "    return n_correct / len(y_pred_indices) * 100"
      ]
    },
    {
      "cell_type": "markdown",
      "metadata": {
        "id": "UEK1munnuyB5"
      },
      "source": [
        "#### General utilities\n",
        "\n",
        "A couple of general helper functions. The first, which sets the random seed is important since you will generally want to be able recreate a model training run exactly. Because there are so many places where random number generation is needed though (e.g. initial weight values, sampling of batches, etc.) it is important the the random seed is set so that the exact same random numbers are generated. Note that both `numpy` and `PyTorch` each have their own random number generation, so both need to be set. "
      ]
    },
    {
      "cell_type": "code",
      "execution_count": 7,
      "metadata": {
        "execution": {
          "iopub.execute_input": "2025-02-06T02:33:33.175657Z",
          "iopub.status.busy": "2025-02-06T02:33:33.175340Z",
          "iopub.status.idle": "2025-02-06T02:33:33.180331Z",
          "shell.execute_reply": "2025-02-06T02:33:33.179354Z",
          "shell.execute_reply.started": "2025-02-06T02:33:33.175631Z"
        },
        "executionInfo": {
          "elapsed": 106,
          "status": "ok",
          "timestamp": 1632258441007,
          "user": {
            "displayName": "Steve Geinitz",
            "photoUrl": "https://lh3.googleusercontent.com/a-/AOh14GjM_I7kh6h0lJDODuL8c-Z408Wa9BqEjLHLA5ekmA=s64",
            "userId": "14938465990641036306"
          },
          "user_tz": 360
        },
        "id": "kGBkYFU6uyB6",
        "trusted": true
      },
      "outputs": [],
      "source": [
        "def set_seed_everywhere(seed, cuda):\n",
        "    np.random.seed(seed)\n",
        "    torch.manual_seed(seed)\n",
        "    if cuda:\n",
        "        torch.cuda.manual_seed_all(seed)\n",
        "\n",
        "def handle_dirs(dirpath):\n",
        "    if not os.path.exists(dirpath):\n",
        "        os.makedirs(dirpath)"
      ]
    },
    {
      "cell_type": "markdown",
      "metadata": {
        "id": "vkKHBPdfuyB6"
      },
      "source": [
        "### Settings and prep work"
      ]
    },
    {
      "cell_type": "code",
      "execution_count": 8,
      "metadata": {
        "colab": {
          "base_uri": "https://localhost:8080/"
        },
        "execution": {
          "iopub.execute_input": "2025-02-06T02:42:14.941183Z",
          "iopub.status.busy": "2025-02-06T02:42:14.940866Z",
          "iopub.status.idle": "2025-02-06T02:42:14.950594Z",
          "shell.execute_reply": "2025-02-06T02:42:14.949760Z",
          "shell.execute_reply.started": "2025-02-06T02:42:14.941154Z"
        },
        "executionInfo": {
          "elapsed": 100,
          "status": "ok",
          "timestamp": 1632260080326,
          "user": {
            "displayName": "Steve Geinitz",
            "photoUrl": "https://lh3.googleusercontent.com/a-/AOh14GjM_I7kh6h0lJDODuL8c-Z408Wa9BqEjLHLA5ekmA=s64",
            "userId": "14938465990641036306"
          },
          "user_tz": 360
        },
        "id": "Ia3YLiyvuyB6",
        "outputId": "1aeac61a-b921-4833-ae21-0f54a2743ce5",
        "trusted": true
      },
      "outputs": [
        {
          "name": "stdout",
          "output_type": "stream",
          "text": [
            "Expanded filepaths: \n",
            "\thttps://raw.githubusercontent.com/sgeinitz/DSML4220/main/data/yelp_reviews.csv\n",
            "\t~/data/dsml4220/vectorizer.json\n",
            "\t~/data/dsml4220/model.pth\n",
            "Using CUDA: False\n"
          ]
        }
      ],
      "source": [
        "# Setup information about how to name and locate data, hyperparams, etc.\n",
        "args = Namespace(\n",
        "    # Input data file (from preprocessing step)\n",
        "    #input_data_path='gdrive/MyDrive/Colab Data/',\n",
        "    input_data_path='~/data/',\n",
        "    review_csv='https://raw.githubusercontent.com/sgeinitz/DSML4220/main/data/yelp_reviews.csv',\n",
        "    # Output data and path information\n",
        "    #frequency_cutoff=25,\n",
        "    model_state_file='model.pth',\n",
        "    #save_dir='gdrive/MyDrive/Colab Data/yelp_models/',\n",
        "    save_dir='~/data/dsml4220/',\n",
        "    vectorizer_file='vectorizer.json',\n",
        "    # Training hyper parameters\n",
        "    batch_size=1000,\n",
        "    early_stopping_criteria=3,\n",
        "    learning_rate=0.0001,\n",
        "    num_epochs=10,\n",
        "    seed=42,\n",
        "    # Runtime options\n",
        "    catch_keyboard_interrupt=True,\n",
        "    cuda=True,\n",
        "    expand_filepaths_to_save_dir=True,\n",
        "    reload_from_files=False,\n",
        ")\n",
        "\n",
        "# Expand out the paths and confirm they are correct\n",
        "if args.expand_filepaths_to_save_dir:\n",
        "    if 'https' not in args.review_csv:\n",
        "        args.review_csv = os.path.join(args.input_data_path, args.review_csv)\n",
        "    args.vectorizer_file = os.path.join(args.save_dir, args.vectorizer_file)\n",
        "    args.model_state_file = os.path.join(args.save_dir, args.model_state_file)    \n",
        "    print(\"Expanded filepaths: \")\n",
        "    print(\"\\t{}\".format(args.review_csv))\n",
        "    print(\"\\t{}\".format(args.vectorizer_file))\n",
        "    print(\"\\t{}\".format(args.model_state_file))\n",
        "\n",
        "# Check CUDA\n",
        "if not torch.cuda.is_available():\n",
        "    args.cuda = False\n",
        "\n",
        "print(\"Using CUDA: {}\".format(args.cuda))\n",
        "\n",
        "args.device = torch.device(\"cuda\" if args.cuda else \"cpu\")\n",
        "\n",
        "# Set seed for reproducibility\n",
        "set_seed_everywhere(args.seed, args.cuda)\n",
        "\n",
        "# handle dirs\n",
        "handle_dirs(args.save_dir)"
      ]
    },
    {
      "cell_type": "markdown",
      "metadata": {
        "id": "UMIuUKIAuyB7"
      },
      "source": [
        "### Initializations"
      ]
    },
    {
      "cell_type": "code",
      "execution_count": 9,
      "metadata": {},
      "outputs": [],
      "source": [
        "# if the cell below has an error due to nltk stopwords, then uncomment the followign lines and run them, then re-run the cell below\n",
        "\n",
        "#import nltk\n",
        "#nltk.download('stopwords')"
      ]
    },
    {
      "cell_type": "code",
      "execution_count": 10,
      "metadata": {
        "colab": {
          "base_uri": "https://localhost:8080/"
        },
        "execution": {
          "iopub.execute_input": "2025-02-06T02:42:16.389527Z",
          "iopub.status.busy": "2025-02-06T02:42:16.389191Z",
          "iopub.status.idle": "2025-02-06T02:42:20.523023Z",
          "shell.execute_reply": "2025-02-06T02:42:20.521990Z",
          "shell.execute_reply.started": "2025-02-06T02:42:16.389497Z"
        },
        "executionInfo": {
          "elapsed": 6003,
          "status": "ok",
          "timestamp": 1632258499409,
          "user": {
            "displayName": "Steve Geinitz",
            "photoUrl": "https://lh3.googleusercontent.com/a-/AOh14GjM_I7kh6h0lJDODuL8c-Z408Wa9BqEjLHLA5ekmA=s64",
            "userId": "14938465990641036306"
          },
          "user_tz": 360
        },
        "id": "vseHjsbhuyB7",
        "outputId": "7d3ef1b7-2bfa-490e-e810-1211d9bad944",
        "trusted": true
      },
      "outputs": [
        {
          "name": "stdout",
          "output_type": "stream",
          "text": [
            "Loading dataset and creating vectorizer\n"
          ]
        }
      ],
      "source": [
        "if args.reload_from_files:\n",
        "    # training from a checkpoint\n",
        "    print(\"Loading dataset and vectorizer\")\n",
        "    dataset = ReviewDataset.load_dataset_and_load_vectorizer(args.review_csv,\n",
        "                                                            args.vectorizer_file)\n",
        "else:\n",
        "    print(\"Loading dataset and creating vectorizer\")\n",
        "    # create dataset and vectorizer\n",
        "    dataset = ReviewDataset.load_dataset_and_make_vectorizer(args.review_csv)\n",
        "    dataset.save_vectorizer(args.vectorizer_file)    \n",
        "vectorizer = dataset.get_vectorizer()\n"
      ]
    },
    {
      "cell_type": "markdown",
      "metadata": {},
      "source": [
        "### Quick Data Exploration"
      ]
    },
    {
      "cell_type": "code",
      "execution_count": 11,
      "metadata": {
        "colab": {
          "base_uri": "https://localhost:8080/",
          "height": 110
        },
        "execution": {
          "iopub.execute_input": "2025-02-06T02:42:33.841724Z",
          "iopub.status.busy": "2025-02-06T02:42:33.841380Z",
          "iopub.status.idle": "2025-02-06T02:42:33.847229Z",
          "shell.execute_reply": "2025-02-06T02:42:33.846266Z",
          "shell.execute_reply.started": "2025-02-06T02:42:33.841670Z"
        },
        "executionInfo": {
          "elapsed": 111,
          "status": "ok",
          "timestamp": 1632259068517,
          "user": {
            "displayName": "Steve Geinitz",
            "photoUrl": "https://lh3.googleusercontent.com/a-/AOh14GjM_I7kh6h0lJDODuL8c-Z408Wa9BqEjLHLA5ekmA=s64",
            "userId": "14938465990641036306"
          },
          "user_tz": 360
        },
        "id": "SMeLU8-8Hsuh",
        "outputId": "27007408-60da-424b-f46a-cc781b902ca7",
        "trusted": true
      },
      "outputs": [
        {
          "data": {
            "text/plain": [
              "'if i could give a of a star i would . the service is terrible ! we were first sat where it was freezing and the waiter was very unprofessional made it uncomfortable with stupid little remarks . we then moved to the bar area because that the only place you can get the happy hour appetizers , which isn t unheard of but would have been nice if the waiter promoted what they have . after ordering our main course i got shrimp and as the food came out they told me they were out of cocktail sauce . i then waited minutes for extra lemon which i never got because no one checked on us after the first time again . this was by far the worst experience i ve ever had anywhere . never again . save your money . '"
            ]
          },
          "execution_count": 11,
          "metadata": {},
          "output_type": "execute_result"
        }
      ],
      "source": [
        "dataset.review_df['review'][4]"
      ]
    },
    {
      "cell_type": "code",
      "execution_count": 12,
      "metadata": {
        "execution": {
          "iopub.execute_input": "2025-02-06T02:42:43.743229Z",
          "iopub.status.busy": "2025-02-06T02:42:43.742880Z",
          "iopub.status.idle": "2025-02-06T02:42:43.748818Z",
          "shell.execute_reply": "2025-02-06T02:42:43.747818Z",
          "shell.execute_reply.started": "2025-02-06T02:42:43.743195Z"
        },
        "trusted": true
      },
      "outputs": [
        {
          "data": {
            "text/plain": [
              "'negative'"
            ]
          },
          "execution_count": 12,
          "metadata": {},
          "output_type": "execute_result"
        }
      ],
      "source": [
        "dataset.review_df['rating'][4]"
      ]
    },
    {
      "cell_type": "code",
      "execution_count": 13,
      "metadata": {
        "colab": {
          "base_uri": "https://localhost:8080/",
          "height": 56
        },
        "execution": {
          "iopub.execute_input": "2025-02-06T02:42:44.471625Z",
          "iopub.status.busy": "2025-02-06T02:42:44.471246Z",
          "iopub.status.idle": "2025-02-06T02:42:44.477422Z",
          "shell.execute_reply": "2025-02-06T02:42:44.476281Z",
          "shell.execute_reply.started": "2025-02-06T02:42:44.471583Z"
        },
        "executionInfo": {
          "elapsed": 103,
          "status": "ok",
          "timestamp": 1632259072958,
          "user": {
            "displayName": "Steve Geinitz",
            "photoUrl": "https://lh3.googleusercontent.com/a-/AOh14GjM_I7kh6h0lJDODuL8c-Z408Wa9BqEjLHLA5ekmA=s64",
            "userId": "14938465990641036306"
          },
          "user_tz": 360
        },
        "id": "m1eTt9LvH8W-",
        "outputId": "0165a8b2-15cd-4bd9-e0dc-9e0cfc0de593",
        "trusted": true
      },
      "outputs": [
        {
          "data": {
            "text/plain": [
              "'dr . tom is wonderful , at least the couple times i have been able to see her . nthey have so many patients that you can never get a appointment with your doctor , they are booked at least months out . it s about volume here . '"
            ]
          },
          "execution_count": 13,
          "metadata": {},
          "output_type": "execute_result"
        }
      ],
      "source": [
        "dataset.test_df['review'].iloc[4]"
      ]
    },
    {
      "cell_type": "code",
      "execution_count": 14,
      "metadata": {
        "colab": {
          "base_uri": "https://localhost:8080/",
          "height": 56
        },
        "execution": {
          "iopub.execute_input": "2025-02-06T02:42:48.336909Z",
          "iopub.status.busy": "2025-02-06T02:42:48.336548Z",
          "iopub.status.idle": "2025-02-06T02:42:48.342276Z",
          "shell.execute_reply": "2025-02-06T02:42:48.341564Z",
          "shell.execute_reply.started": "2025-02-06T02:42:48.336878Z"
        },
        "executionInfo": {
          "elapsed": 111,
          "status": "ok",
          "timestamp": 1632259074120,
          "user": {
            "displayName": "Steve Geinitz",
            "photoUrl": "https://lh3.googleusercontent.com/a-/AOh14GjM_I7kh6h0lJDODuL8c-Z408Wa9BqEjLHLA5ekmA=s64",
            "userId": "14938465990641036306"
          },
          "user_tz": 360
        },
        "id": "5kt7Z599Ig6T",
        "outputId": "bae22290-1db1-4d58-c93d-5ee3e1b6e3a1",
        "trusted": true
      },
      "outputs": [
        {
          "data": {
            "text/plain": [
              "'dr . tom is wonderful , at least the couple times i have been able to see her . nthey have so many patients that you can never get a appointment with your doctor , they are booked at least months out . it s about volume here . '"
            ]
          },
          "execution_count": 14,
          "metadata": {},
          "output_type": "execute_result"
        }
      ],
      "source": [
        "dataset.set_split('test')\n",
        "dataset._target_df['review'].iloc[4]"
      ]
    },
    {
      "cell_type": "code",
      "execution_count": 15,
      "metadata": {
        "colab": {
          "base_uri": "https://localhost:8080/"
        },
        "execution": {
          "iopub.execute_input": "2025-02-06T02:42:57.182820Z",
          "iopub.status.busy": "2025-02-06T02:42:57.182458Z",
          "iopub.status.idle": "2025-02-06T02:42:57.188157Z",
          "shell.execute_reply": "2025-02-06T02:42:57.187472Z",
          "shell.execute_reply.started": "2025-02-06T02:42:57.182791Z"
        },
        "executionInfo": {
          "elapsed": 115,
          "status": "ok",
          "timestamp": 1632259100720,
          "user": {
            "displayName": "Steve Geinitz",
            "photoUrl": "https://lh3.googleusercontent.com/a-/AOh14GjM_I7kh6h0lJDODuL8c-Z408Wa9BqEjLHLA5ekmA=s64",
            "userId": "14938465990641036306"
          },
          "user_tz": 360
        },
        "id": "0_UERIeTJAVd",
        "outputId": "ae140121-701a-4326-ecd4-9b78033ec493",
        "trusted": true
      },
      "outputs": [
        {
          "data": {
            "text/plain": [
              "(8137,)"
            ]
          },
          "execution_count": 15,
          "metadata": {},
          "output_type": "execute_result"
        }
      ],
      "source": [
        "dataset[4]['x_data'].shape"
      ]
    },
    {
      "cell_type": "code",
      "execution_count": 16,
      "metadata": {
        "execution": {
          "iopub.execute_input": "2025-02-06T02:43:00.728244Z",
          "iopub.status.busy": "2025-02-06T02:43:00.727936Z",
          "iopub.status.idle": "2025-02-06T02:43:00.755107Z",
          "shell.execute_reply": "2025-02-06T02:43:00.754291Z",
          "shell.execute_reply.started": "2025-02-06T02:43:00.728221Z"
        },
        "trusted": true
      },
      "outputs": [
        {
          "name": "stdout",
          "output_type": "stream",
          "text": [
            " pos i=   0 has token value of: 1.0 (token was: <UNK>)\n",
            " pos i=  56 has token value of: 1.0 (token was: get)\n",
            " pos i= 251 has token value of: 1.0 (token was: couple)\n",
            " pos i= 286 has token value of: 1.0 (token was: never)\n",
            " pos i= 442 has token value of: 1.0 (token was: wonderful)\n",
            " pos i= 502 has token value of: 1.0 (token was: appointment)\n",
            " pos i= 514 has token value of: 1.0 (token was: doctor)\n",
            " pos i= 551 has token value of: 1.0 (token was: months)\n",
            " pos i= 576 has token value of: 1.0 (token was: least)\n",
            " pos i= 600 has token value of: 1.0 (token was: many)\n",
            " pos i= 646 has token value of: 1.0 (token was: see)\n",
            " pos i= 659 has token value of: 1.0 (token was: nthey)\n",
            " pos i= 812 has token value of: 1.0 (token was: times)\n",
            " pos i=1032 has token value of: 1.0 (token was: able)\n",
            " pos i=1047 has token value of: 1.0 (token was: volume)\n",
            " pos i=1305 has token value of: 1.0 (token was: dr)\n",
            " pos i=1320 has token value of: 1.0 (token was: patients)\n",
            " pos i=1351 has token value of: 1.0 (token was: tom)\n",
            " pos i=1614 has token value of: 1.0 (token was: booked)\n"
          ]
        }
      ],
      "source": [
        "for i, tokflag in enumerate(dataset[4]['x_data']):\n",
        "    if tokflag > 0:\n",
        "#        print(f\" pos i={i:4.0f} has a non-zero token value of: {tokflag} (original tok was: {vectorizer.review_vocab._idx_to_token[i]})\")\n",
        "        print(f\" pos i={i:4.0f} has token value of: {tokflag} (token was: {vectorizer.review_vocab.lookup_index(i)})\")"
      ]
    },
    {
      "cell_type": "code",
      "execution_count": 17,
      "metadata": {
        "execution": {
          "iopub.execute_input": "2025-02-06T03:28:17.188608Z",
          "iopub.status.busy": "2025-02-06T03:28:17.188296Z",
          "iopub.status.idle": "2025-02-06T03:28:17.200523Z",
          "shell.execute_reply": "2025-02-06T03:28:17.199663Z",
          "shell.execute_reply.started": "2025-02-06T03:28:17.188584Z"
        },
        "executionInfo": {
          "elapsed": 9,
          "status": "aborted",
          "timestamp": 1632258318580,
          "user": {
            "displayName": "Steve Geinitz",
            "photoUrl": "https://lh3.googleusercontent.com/a-/AOh14GjM_I7kh6h0lJDODuL8c-Z408Wa9BqEjLHLA5ekmA=s64",
            "userId": "14938465990641036306"
          },
          "user_tz": 360
        },
        "id": "QBoq1XdOZ_GN",
        "trusted": true
      },
      "outputs": [
        {
          "name": "stdout",
          "output_type": "stream",
          "text": [
            " 0 -> <UNK>\n",
            " 1 -> think\n",
            " 2 -> filiberto\n",
            " 3 -> good\n",
            " 4 -> food\n",
            " 5 -> like\n",
            " 6 -> place\n",
            " 7 -> tacos\n",
            " 8 -> dry\n",
            " 9 -> tasteless\n",
            "10 -> lukewarm\n",
            "11 -> beans\n",
            "12 -> fluffy\n",
            "13 -> rice\n",
            "14 -> thing\n",
            "15 -> love\n",
            "16 -> gilbert\n",
            "17 -> want\n",
            "18 -> support\n",
            "19 -> mom\n",
            "20 -> pop\n",
            "21 -> nhow\n",
            "22 -> around\n",
            "23 -> long\n",
            "24 -> beyond\n",
            "25 -> driven\n",
            "26 -> years\n",
            "27 -> figured\n",
            "28 -> must\n",
            "29 -> great\n"
          ]
        }
      ],
      "source": [
        "#vectorizer.review_vocab._token_to_idx\n",
        "for key, val in vectorizer.review_vocab._idx_to_token.items():\n",
        "  if key < 30:\n",
        "    print(f\"{key:2.0f} -> {val}\")"
      ]
    },
    {
      "cell_type": "markdown",
      "metadata": {},
      "source": [
        "The `vectorizer` even stores the labels themselves (i.e. the Yelp review classification)  in Python dictionaries."
      ]
    },
    {
      "cell_type": "code",
      "execution_count": 18,
      "metadata": {
        "execution": {
          "iopub.execute_input": "2025-02-06T03:29:26.621526Z",
          "iopub.status.busy": "2025-02-06T03:29:26.621177Z",
          "iopub.status.idle": "2025-02-06T03:29:26.626378Z",
          "shell.execute_reply": "2025-02-06T03:29:26.625555Z",
          "shell.execute_reply.started": "2025-02-06T03:29:26.621497Z"
        },
        "executionInfo": {
          "elapsed": 60,
          "status": "aborted",
          "timestamp": 1632258318632,
          "user": {
            "displayName": "Steve Geinitz",
            "photoUrl": "https://lh3.googleusercontent.com/a-/AOh14GjM_I7kh6h0lJDODuL8c-Z408Wa9BqEjLHLA5ekmA=s64",
            "userId": "14938465990641036306"
          },
          "user_tz": 360
        },
        "id": "akMEBK7HfQY7",
        "trusted": true
      },
      "outputs": [
        {
          "name": "stdout",
          "output_type": "stream",
          "text": [
            "{0: 'negative', 1: 'positive'}\n",
            "{'negative': 0, 'positive': 1}\n"
          ]
        }
      ],
      "source": [
        "print(vectorizer.rating_vocab._idx_to_token)\n",
        "print(vectorizer.rating_vocab._token_to_idx)"
      ]
    },
    {
      "cell_type": "markdown",
      "metadata": {
        "id": "veZ8S_qvuyB8"
      },
      "source": [
        "### Training loop"
      ]
    },
    {
      "cell_type": "markdown",
      "metadata": {},
      "source": [
        "Let's declare/instantiate our model in a cell separate from the training run itself so that we can re-run it indepedently of other set up steps. This way if we change model architecture we can simply re-run this cell. "
      ]
    },
    {
      "cell_type": "code",
      "execution_count": 19,
      "metadata": {
        "execution": {
          "iopub.execute_input": "2025-02-06T02:52:00.721731Z",
          "iopub.status.busy": "2025-02-06T02:52:00.721355Z",
          "iopub.status.idle": "2025-02-06T02:52:00.757669Z",
          "shell.execute_reply": "2025-02-06T02:52:00.757007Z",
          "shell.execute_reply.started": "2025-02-06T02:52:00.721673Z"
        },
        "executionInfo": {
          "elapsed": 87,
          "status": "ok",
          "timestamp": 1632260092491,
          "user": {
            "displayName": "Steve Geinitz",
            "photoUrl": "https://lh3.googleusercontent.com/a-/AOh14GjM_I7kh6h0lJDODuL8c-Z408Wa9BqEjLHLA5ekmA=s64",
            "userId": "14938465990641036306"
          },
          "user_tz": 360
        },
        "id": "rKXPHjqa5JGK",
        "trusted": true
      },
      "outputs": [],
      "source": [
        "classifier = ReviewClassifier(num_features=len(vectorizer.review_vocab), hidden_features=128)"
      ]
    },
    {
      "cell_type": "code",
      "execution_count": 20,
      "metadata": {
        "code_folding": [
          30
        ],
        "colab": {
          "base_uri": "https://localhost:8080/",
          "height": 113,
          "referenced_widgets": [
            "8ff6cc5cad9b405690b63c7bd9bf4fa1",
            "9bcfd8c6c38c4797bf56af3b5f64c4db",
            "b62409020f55441bb1f4b8682c35c475",
            "6b855b3ca197469289c512e76bd612da",
            "bbd0f5718e0f4fa4a1e8d63f8297c22c",
            "25650f077ade463f8baf28145e0d0545",
            "7b404c47a43f44f69818bea7217e8a47",
            "df7acea950b44cf99df4b163ac6c88f6",
            "4b6a88050b61488cb4526d7f44cd7fe3",
            "be45f9b4aa184ae2936b6beff671482f",
            "00ce2f4aac0f42658f7682d2845e2132",
            "3a74d08d0659404dba329fef704bb763",
            "a83e6ff6737b4deba41f3297185eb0c9",
            "bfe50105b88644a29e27e5d3fba57ef0",
            "2df41e6055274443b48a0d797706e023",
            "2eb29c6032a54d39b7d5d09f617cd64d",
            "72215cb7d8e94557b56c678f6c1a418c",
            "d5f52c2739a14774847d48addcafdb30",
            "fe245a8fdf82492a86faa341df1c9124",
            "89f1042e9da74a96b78db498aaeaff58",
            "c63632e4529343758047a3ebe0f61981",
            "2b46d42d636642618552475d6c84bbe0",
            "66e419c4da54462fa40a0f70571fc8a6",
            "884fba459bf9430490744df08ddc5717",
            "d0f9900f473042e6bc4994196f3be04c",
            "3a1337692f7444069f06877a8532885d",
            "63fa4bb5620d442c8b453d377d1d9e24",
            "2c2c81b24f59419f9d7850d8bacece84",
            "6597100e93784b098e470589ba717a1b",
            "715070f2775a411496f657b677e86efe",
            "1451e490fa104afb9c4e7a6399402e78",
            "5a93d7f226d54e7db7d9ab7bdf8645b0",
            "7599a71fc6a1475da7cd246e301f0e91"
          ]
        },
        "execution": {
          "iopub.execute_input": "2025-02-06T02:52:01.825782Z",
          "iopub.status.busy": "2025-02-06T02:52:01.825445Z",
          "iopub.status.idle": "2025-02-06T02:52:55.415312Z",
          "shell.execute_reply": "2025-02-06T02:52:55.414163Z",
          "shell.execute_reply.started": "2025-02-06T02:52:01.825749Z"
        },
        "executionInfo": {
          "elapsed": 22955,
          "status": "ok",
          "timestamp": 1632260253405,
          "user": {
            "displayName": "Steve Geinitz",
            "photoUrl": "https://lh3.googleusercontent.com/a-/AOh14GjM_I7kh6h0lJDODuL8c-Z408Wa9BqEjLHLA5ekmA=s64",
            "userId": "14938465990641036306"
          },
          "user_tz": 360
        },
        "id": "PR545mDNuyB8",
        "outputId": "f6ef992b-ee82-4611-ae9a-ad0f00df6b16",
        "scrolled": true,
        "trusted": true
      },
      "outputs": [
        {
          "data": {
            "application/vnd.jupyter.widget-view+json": {
              "model_id": "1f8680a1eade4c669d5e6c3159cf8ddd",
              "version_major": 2,
              "version_minor": 0
            },
            "text/plain": [
              "training routine:   0%|          | 0/10 [00:00<?, ?it/s]"
            ]
          },
          "metadata": {},
          "output_type": "display_data"
        },
        {
          "data": {
            "application/vnd.jupyter.widget-view+json": {
              "model_id": "bec94697e36e4c6a924b646c39190b87",
              "version_major": 2,
              "version_minor": 0
            },
            "text/plain": [
              "split=train:   0%|          | 0/39 [00:00<?, ?it/s]"
            ]
          },
          "metadata": {},
          "output_type": "display_data"
        },
        {
          "data": {
            "application/vnd.jupyter.widget-view+json": {
              "model_id": "0cef26bf5e7349e78889e7f54734aabc",
              "version_major": 2,
              "version_minor": 0
            },
            "text/plain": [
              "split=val:   0%|          | 0/8 [00:00<?, ?it/s]"
            ]
          },
          "metadata": {},
          "output_type": "display_data"
        }
      ],
      "source": [
        "import tqdm.auto\n",
        "\n",
        "classifier = classifier.to(args.device)\n",
        "\n",
        "loss_func = nn.BCEWithLogitsLoss()\n",
        "optimizer = optim.Adam(classifier.parameters(), lr=args.learning_rate)\n",
        "scheduler = optim.lr_scheduler.ReduceLROnPlateau(optimizer=optimizer,\n",
        "                                                 mode='min', factor=0.5,\n",
        "                                                 patience=1)\n",
        "\n",
        "train_state = make_train_state(args)\n",
        "\n",
        "epoch_bar = tqdm.notebook.tqdm(desc='training routine', \n",
        "                          total=args.num_epochs,\n",
        "                          position=0)\n",
        "\n",
        "dataset.set_split('train')\n",
        "train_bar = tqdm.notebook.tqdm(desc='split=train',\n",
        "                          total=dataset.get_num_batches(args.batch_size), \n",
        "                          position=1, \n",
        "                          leave=True)\n",
        "dataset.set_split('val')\n",
        "val_bar = tqdm.notebook.tqdm(desc='split=val',\n",
        "                        total=dataset.get_num_batches(args.batch_size), \n",
        "                        position=1, \n",
        "                        leave=True)\n",
        "\n",
        "losses = {'train':[], 'val':[]}\n",
        "\n",
        "try:\n",
        "    for epoch_index in range(args.num_epochs):\n",
        "        train_state['epoch_index'] = epoch_index\n",
        "\n",
        "        # Iterate over training dataset\n",
        "\n",
        "        # setup: batch generator, set loss and acc to 0, set train mode on\n",
        "        dataset.set_split('train')\n",
        "        batch_generator = generate_batches(dataset, \n",
        "                                           batch_size=args.batch_size, \n",
        "                                           device=args.device)\n",
        "        running_loss = 0.0\n",
        "        running_acc = 0.0\n",
        "        classifier.train()\n",
        "\n",
        "        for batch_index, batch_dict in enumerate(batch_generator):\n",
        "            # the training routine is these 5 steps:\n",
        "\n",
        "            # --------------------------------------\n",
        "            # step 1. zero the gradients\n",
        "            optimizer.zero_grad()\n",
        "\n",
        "            # step 2. compute the output\n",
        "            y_pred = classifier(x_in=batch_dict['x_data'].float())\n",
        "\n",
        "            # step 3. compute the loss\n",
        "            loss = loss_func(y_pred, batch_dict['y_target'].float())\n",
        "            loss_t = loss.item()\n",
        "            losses['train'].append(loss_t)\n",
        "            running_loss += (loss_t - running_loss) / (batch_index + 1)\n",
        "\n",
        "            # step 4. use loss to produce gradients\n",
        "            loss.backward()\n",
        "\n",
        "            # step 5. use optimizer to take gradient step\n",
        "            optimizer.step()\n",
        "            # -----------------------------------------\n",
        "            # compute the accuracy\n",
        "            acc_t = compute_accuracy(y_pred, batch_dict['y_target'])\n",
        "            running_acc += (acc_t - running_acc) / (batch_index + 1)\n",
        "\n",
        "            # update bar\n",
        "            train_bar.set_postfix(loss=running_loss, \n",
        "                                  acc=running_acc, \n",
        "                                  epoch=epoch_index)\n",
        "            train_bar.update()\n",
        "\n",
        "        train_state['train_loss'].append(running_loss)\n",
        "        train_state['train_acc'].append(running_acc)\n",
        "\n",
        "        # Iterate over val dataset\n",
        "\n",
        "        # setup: batch generator, set loss and acc to 0; set eval mode on\n",
        "        dataset.set_split('val')\n",
        "        batch_generator = generate_batches(dataset, \n",
        "                                           batch_size=args.batch_size, \n",
        "                                           device=args.device)\n",
        "        running_loss = 0.\n",
        "        running_acc = 0.\n",
        "        classifier.eval()\n",
        "\n",
        "        for batch_index, batch_dict in enumerate(batch_generator):\n",
        "\n",
        "            # compute the output\n",
        "            y_pred = classifier(x_in=batch_dict['x_data'].float())\n",
        "\n",
        "            # step 3. compute the loss\n",
        "            loss = loss_func(y_pred, batch_dict['y_target'].float())\n",
        "            loss_t = loss.item()\n",
        "            losses['val'].append(loss_t)\n",
        "            running_loss += (loss_t - running_loss) / (batch_index + 1)\n",
        "\n",
        "            # compute the accuracy\n",
        "            acc_t = compute_accuracy(y_pred, batch_dict['y_target'])\n",
        "            running_acc += (acc_t - running_acc) / (batch_index + 1)\n",
        "            \n",
        "            val_bar.set_postfix(loss=running_loss, \n",
        "                                acc=running_acc, \n",
        "                                epoch=epoch_index)\n",
        "            val_bar.update()\n",
        "\n",
        "        train_state['val_loss'].append(running_loss)\n",
        "        train_state['val_acc'].append(running_acc)\n",
        "\n",
        "        train_state = update_train_state(args=args, model=classifier,\n",
        "                                         train_state=train_state)\n",
        "        \n",
        "        scheduler.step(train_state['val_loss'][-1])\n",
        "        #optimizer.step()\n",
        "\n",
        "        train_bar.n = 0\n",
        "        val_bar.n = 0\n",
        "\n",
        "        if train_state['stop_early']:\n",
        "            print(\"Stopping early - validation is no longer significantly improving\")\n",
        "            break\n",
        "\n",
        "        train_bar.n = 0\n",
        "        val_bar.n = 0\n",
        "        epoch_bar.update()\n",
        "except KeyboardInterrupt:\n",
        "    print(\"Exiting loop\")"
      ]
    },
    {
      "cell_type": "code",
      "execution_count": 21,
      "metadata": {
        "execution": {
          "iopub.execute_input": "2025-02-06T02:52:59.997537Z",
          "iopub.status.busy": "2025-02-06T02:52:59.997057Z",
          "iopub.status.idle": "2025-02-06T02:53:00.284186Z",
          "shell.execute_reply": "2025-02-06T02:53:00.283372Z",
          "shell.execute_reply.started": "2025-02-06T02:52:59.997511Z"
        },
        "trusted": true
      },
      "outputs": [
        {
          "data": {
            "text/plain": [
              "<matplotlib.legend.Legend at 0x169b40d50>"
            ]
          },
          "execution_count": 21,
          "metadata": {},
          "output_type": "execute_result"
        },
        {
          "data": {
            "image/png": "[encoded data removed]",
            "text/plain": [
              "<Figure size 1500x400 with 1 Axes>"
            ]
          },
          "metadata": {},
          "output_type": "display_data"
        }
      ],
      "source": [
        "matplotlib.rc('figure', figsize=(15,4))\n",
        "val_ticks = [(i+1)*len(losses['train'])/len(losses['val']) for i in range(len(losses['val']))]\n",
        "plt.plot(range(len(losses['train'])), losses['train'], c='blue')\n",
        "plt.plot(val_ticks, losses['val'], c='orange')\n",
        "for i in range(args.num_epochs):\n",
        "    plt.axvline(x=i*len(losses['train'])/args.num_epochs, c='black', lw=0.25)\n",
        "plt.ylabel('Loss')\n",
        "plt.xlabel('Epoch and Batch')\n",
        "plt.legend(('Train','Validation'))"
      ]
    },
    {
      "cell_type": "code",
      "execution_count": 22,
      "metadata": {
        "execution": {
          "iopub.execute_input": "2025-02-06T03:08:32.363889Z",
          "iopub.status.busy": "2025-02-06T03:08:32.363531Z",
          "iopub.status.idle": "2025-02-06T03:08:33.569288Z",
          "shell.execute_reply": "2025-02-06T03:08:33.568521Z",
          "shell.execute_reply.started": "2025-02-06T03:08:32.363861Z"
        },
        "executionInfo": {
          "elapsed": 2475,
          "status": "ok",
          "timestamp": 1632260278355,
          "user": {
            "displayName": "Steve Geinitz",
            "photoUrl": "https://lh3.googleusercontent.com/a-/AOh14GjM_I7kh6h0lJDODuL8c-Z408Wa9BqEjLHLA5ekmA=s64",
            "userId": "14938465990641036306"
          },
          "user_tz": 360
        },
        "id": "ebyowdaEuyB9",
        "trusted": true
      },
      "outputs": [],
      "source": [
        "# compute the loss & accuracy on the test set using the best available model\n",
        "\n",
        "classifier.load_state_dict(torch.load(train_state['model_filename'], weights_only=True))\n",
        "classifier = classifier.to(args.device)\n",
        "\n",
        "dataset.set_split('test')\n",
        "batch_generator = generate_batches(dataset, \n",
        "                                   batch_size=args.batch_size, \n",
        "                                   device=args.device)\n",
        "running_loss = 0.\n",
        "running_acc = 0.\n",
        "classifier.eval()\n",
        "\n",
        "for batch_index, batch_dict in enumerate(batch_generator):\n",
        "    # compute the output\n",
        "    y_pred = classifier(x_in=batch_dict['x_data'].float())\n",
        "\n",
        "    # compute the loss\n",
        "    loss = loss_func(y_pred, batch_dict['y_target'].float())\n",
        "    loss_t = loss.item()\n",
        "    running_loss += (loss_t - running_loss) / (batch_index + 1)\n",
        "\n",
        "    # compute the accuracy\n",
        "    acc_t = compute_accuracy(y_pred, batch_dict['y_target'])\n",
        "    running_acc += (acc_t - running_acc) / (batch_index + 1)\n",
        "\n",
        "train_state['test_loss'] = running_loss\n",
        "train_state['test_acc'] = running_acc"
      ]
    },
    {
      "cell_type": "code",
      "execution_count": 23,
      "metadata": {
        "colab": {
          "base_uri": "https://localhost:8080/"
        },
        "execution": {
          "iopub.execute_input": "2025-02-06T03:08:35.773646Z",
          "iopub.status.busy": "2025-02-06T03:08:35.773326Z",
          "iopub.status.idle": "2025-02-06T03:08:35.778296Z",
          "shell.execute_reply": "2025-02-06T03:08:35.777041Z",
          "shell.execute_reply.started": "2025-02-06T03:08:35.773623Z"
        },
        "executionInfo": {
          "elapsed": 91,
          "status": "ok",
          "timestamp": 1632260284978,
          "user": {
            "displayName": "Steve Geinitz",
            "photoUrl": "https://lh3.googleusercontent.com/a-/AOh14GjM_I7kh6h0lJDODuL8c-Z408Wa9BqEjLHLA5ekmA=s64",
            "userId": "14938465990641036306"
          },
          "user_tz": 360
        },
        "id": "8Hx7WA3RuyB-",
        "outputId": "b4d7addc-8f66-4b73-8237-70b61e745699",
        "trusted": true
      },
      "outputs": [
        {
          "name": "stdout",
          "output_type": "stream",
          "text": [
            "Test loss: 0.263\n",
            "Test Accuracy: 90.91\n"
          ]
        }
      ],
      "source": [
        "print(\"Test loss: {:.3f}\".format(train_state['test_loss']))\n",
        "print(\"Test Accuracy: {:.2f}\".format(train_state['test_acc']))"
      ]
    },
    {
      "cell_type": "markdown",
      "metadata": {
        "id": "rXPsjUYbuyB-"
      },
      "source": [
        "### Inference"
      ]
    },
    {
      "cell_type": "code",
      "execution_count": 24,
      "metadata": {
        "execution": {
          "iopub.execute_input": "2025-02-06T02:53:44.174236Z",
          "iopub.status.busy": "2025-02-06T02:53:44.173932Z",
          "iopub.status.idle": "2025-02-06T02:53:44.178530Z",
          "shell.execute_reply": "2025-02-06T02:53:44.177485Z",
          "shell.execute_reply.started": "2025-02-06T02:53:44.174213Z"
        },
        "executionInfo": {
          "elapsed": 87,
          "status": "ok",
          "timestamp": 1632260294219,
          "user": {
            "displayName": "Steve Geinitz",
            "photoUrl": "https://lh3.googleusercontent.com/a-/AOh14GjM_I7kh6h0lJDODuL8c-Z408Wa9BqEjLHLA5ekmA=s64",
            "userId": "14938465990641036306"
          },
          "user_tz": 360
        },
        "id": "nrqWhrFSuyB-",
        "trusted": true
      },
      "outputs": [],
      "source": [
        "def preprocess_text(text):\n",
        "    text = text.lower()\n",
        "    text = re.sub(r\"([.,!?])\", r\" \\1 \", text)\n",
        "    text = re.sub(r\"[^a-zA-Z.,!?]+\", r\" \", text)\n",
        "    return text"
      ]
    },
    {
      "cell_type": "code",
      "execution_count": 25,
      "metadata": {
        "execution": {
          "iopub.execute_input": "2025-02-06T03:09:02.359034Z",
          "iopub.status.busy": "2025-02-06T03:09:02.358625Z",
          "iopub.status.idle": "2025-02-06T03:09:02.363963Z",
          "shell.execute_reply": "2025-02-06T03:09:02.362943Z",
          "shell.execute_reply.started": "2025-02-06T03:09:02.359006Z"
        },
        "executionInfo": {
          "elapsed": 91,
          "status": "ok",
          "timestamp": 1632260295287,
          "user": {
            "displayName": "Steve Geinitz",
            "photoUrl": "https://lh3.googleusercontent.com/a-/AOh14GjM_I7kh6h0lJDODuL8c-Z408Wa9BqEjLHLA5ekmA=s64",
            "userId": "14938465990641036306"
          },
          "user_tz": 360
        },
        "id": "uk1hkp7quyB_",
        "trusted": true
      },
      "outputs": [],
      "source": [
        "def predict_rating(review, classifier, vectorizer, decision_threshold=0.5):\n",
        "    \"\"\"Predict the rating of a review\n",
        "    \n",
        "    Args:\n",
        "        review (str): the text of the review\n",
        "        classifier (ReviewClassifier): the trained model\n",
        "        vectorizer (ReviewVectorizer): the corresponding vectorizer\n",
        "        decision_threshold (float): The numerical boundary which separates the rating classes\n",
        "    \"\"\"\n",
        "    review = preprocess_text(review)\n",
        "    \n",
        "    vectorized_review = torch.tensor(vectorizer.vectorize(review))\n",
        "    result = classifier(vectorized_review.view(1, -1))\n",
        "    \n",
        "    probability_value = torch.sigmoid(result).item()\n",
        "    index = 1\n",
        "    if probability_value < decision_threshold:\n",
        "        index = 0\n",
        "\n",
        "    return vectorizer.rating_vocab.lookup_index(index)"
      ]
    },
    {
      "cell_type": "code",
      "execution_count": 26,
      "metadata": {
        "colab": {
          "base_uri": "https://localhost:8080/"
        },
        "execution": {
          "iopub.execute_input": "2025-02-06T03:20:47.319327Z",
          "iopub.status.busy": "2025-02-06T03:20:47.319000Z",
          "iopub.status.idle": "2025-02-06T03:20:47.330495Z",
          "shell.execute_reply": "2025-02-06T03:20:47.329678Z",
          "shell.execute_reply.started": "2025-02-06T03:20:47.319298Z"
        },
        "executionInfo": {
          "elapsed": 105,
          "status": "ok",
          "timestamp": 1632260297004,
          "user": {
            "displayName": "Steve Geinitz",
            "photoUrl": "https://lh3.googleusercontent.com/a-/AOh14GjM_I7kh6h0lJDODuL8c-Z408Wa9BqEjLHLA5ekmA=s64",
            "userId": "14938465990641036306"
          },
          "user_tz": 360
        },
        "id": "SRKd2SjBuyB_",
        "outputId": "a5d491f9-c9e9-438d-fdbd-a2dc0f0e4c39",
        "trusted": true
      },
      "outputs": [
        {
          "name": "stdout",
          "output_type": "stream",
          "text": [
            "the food was far above average -> negative\n"
          ]
        }
      ],
      "source": [
        "#test_review = \"this is not a pretty awesome restaurant\"\n",
        "#test_review = \"the floors were a little bit dirty, but the food was far above average\"\n",
        "test_review = \"the food was far above average\"\n",
        "#test_review = \"pizza century yum\"\n",
        "\n",
        "classifier = classifier.cpu()\n",
        "prediction = predict_rating(test_review, classifier, vectorizer, decision_threshold=0.5)\n",
        "print(\"{} -> {}\".format(test_review, prediction))"
      ]
    },
    {
      "cell_type": "markdown",
      "metadata": {
        "id": "EUI4yXQBuyB_"
      },
      "source": [
        "### Interpretability\n",
        "\n",
        "Let's look at the weigh values themselves to see if we can gain some kind of interpretability about the network. It's far from a legitimate form of model explainability, but just looking at the magnitudes of the weight values can tell us something. Namely, values farther away from zero will have greater impact in the subsequent layer, and (presumably) eventually the output. \n",
        "\n",
        "We'll first look at large (positive) values, but since it's only the magnitude that has an effect we don't know for certain if these will correspond to positive sounding words or negative sounding words (i.e. words that will be associated with a positive/negative yelp review). "
      ]
    },
    {
      "cell_type": "code",
      "execution_count": 27,
      "metadata": {
        "colab": {
          "base_uri": "https://localhost:8080/"
        },
        "execution": {
          "iopub.execute_input": "2025-02-06T03:24:33.246068Z",
          "iopub.status.busy": "2025-02-06T03:24:33.245745Z",
          "iopub.status.idle": "2025-02-06T03:24:33.263597Z",
          "shell.execute_reply": "2025-02-06T03:24:33.262734Z",
          "shell.execute_reply.started": "2025-02-06T03:24:33.246042Z"
        },
        "executionInfo": {
          "elapsed": 90,
          "status": "ok",
          "timestamp": 1632260351375,
          "user": {
            "displayName": "Steve Geinitz",
            "photoUrl": "https://lh3.googleusercontent.com/a-/AOh14GjM_I7kh6h0lJDODuL8c-Z408Wa9BqEjLHLA5ekmA=s64",
            "userId": "14938465990641036306"
          },
          "user_tz": 360
        },
        "id": "uyBKYVokuyCA",
        "outputId": "4c9fd43f-63d4-4d51-9632-d41e0c3333fe",
        "trusted": true
      },
      "outputs": [
        {
          "name": "stdout",
          "output_type": "stream",
          "text": [
            "Tokens with lowest corresponding parameter values (in first hidden unit of first layer):\n",
            "-------------------------------------------------------------\n",
            "w_0: -0.0528, token: great\n",
            "w_1: -0.0507, token: fantastic\n",
            "w_2: -0.0469, token: best\n",
            "w_3: -0.0458, token: definitely\n",
            "w_4: -0.0457, token: favorite\n",
            "w_5: -0.0404, token: knowledgeable\n",
            "w_6: -0.0403, token: outstanding\n",
            "w_7: -0.0402, token: hooked\n",
            "w_8: -0.0399, token: love\n",
            "w_9: -0.0398, token: tasty\n",
            "w_10: -0.0387, token: notch\n",
            "w_11: -0.0386, token: pho\n",
            "w_12: -0.0385, token: amazing\n",
            "w_13: -0.0382, token: pleased\n",
            "w_14: -0.0378, token: loved\n",
            "w_15: -0.0370, token: heavenly\n",
            "w_16: -0.0368, token: superb\n",
            "w_17: -0.0366, token: highly\n",
            "w_18: -0.0365, token: perfection\n",
            "w_19: -0.0360, token: perfect\n",
            "\n",
            "\n",
            "Tokens with highest corresponding parameter values (in first hidden unit of first layer):\n",
            "-------------------------------------------------------------\n",
            "w_0: 0.0473, token: poor\n",
            "w_1: 0.0450, token: elsewhere\n",
            "w_2: 0.0446, token: slow\n",
            "w_3: 0.0446, token: <UNK>\n",
            "w_4: 0.0439, token: bland\n",
            "w_5: 0.0438, token: sucks\n",
            "w_6: 0.0435, token: ok\n",
            "w_7: 0.0435, token: okay\n",
            "w_8: 0.0430, token: worst\n",
            "w_9: 0.0425, token: boring\n",
            "w_10: 0.0424, token: awful\n",
            "w_11: 0.0415, token: eh\n",
            "w_12: 0.0414, token: dry\n",
            "w_13: 0.0412, token: tasted\n",
            "w_14: 0.0411, token: cold\n",
            "w_15: 0.0407, token: disappointed\n",
            "w_16: 0.0407, token: disgusting\n",
            "w_17: 0.0407, token: crappy\n",
            "w_18: 0.0405, token: rude\n",
            "w_19: 0.0402, token: poorly\n"
          ]
        }
      ],
      "source": [
        "# Look at weights for first hidden unit in first hidden layer\n",
        "fc1_weights = classifier.fc1.weight.detach()[0]\n",
        "_, indices = torch.sort(fc1_weights, dim=0, descending=False)\n",
        "indices = indices.numpy().tolist()\n",
        "\n",
        "# Top 20 words\n",
        "print(\"Tokens with lowest corresponding parameter values (in first hidden unit of first layer):\")\n",
        "print(\"-------------------------------------------------------------\")\n",
        "for i in range(20):\n",
        "    print(f\"w_{i}: {fc1_weights[indices[i]]:.4f}, token: {vectorizer.review_vocab.lookup_index(indices[i])}\")\n",
        "\n",
        "indices.reverse()\n",
        "\n",
        "# Top 20 negative words\n",
        "print(\"\\n\\nTokens with highest corresponding parameter values (in first hidden unit of first layer):\")\n",
        "print(\"-------------------------------------------------------------\")\n",
        "\n",
        "for i in range(20):\n",
        "    print(f\"w_{i}: {fc1_weights[indices[i]]:.4f}, token: {vectorizer.review_vocab.lookup_index(indices[i])}\")    \n",
        "    #print(vectorizer.review_vocab.lookup_index(indices[i]))"
      ]
    },
    {
      "cell_type": "code",
      "execution_count": 28,
      "metadata": {
        "colab": {
          "base_uri": "https://localhost:8080/"
        },
        "execution": {
          "iopub.execute_input": "2025-02-06T03:10:06.508231Z",
          "iopub.status.busy": "2025-02-06T03:10:06.507888Z",
          "iopub.status.idle": "2025-02-06T03:10:06.518481Z",
          "shell.execute_reply": "2025-02-06T03:10:06.517722Z",
          "shell.execute_reply.started": "2025-02-06T03:10:06.508201Z"
        },
        "executionInfo": {
          "elapsed": 96,
          "status": "ok",
          "timestamp": 1632260307882,
          "user": {
            "displayName": "Steve Geinitz",
            "photoUrl": "https://lh3.googleusercontent.com/a-/AOh14GjM_I7kh6h0lJDODuL8c-Z408Wa9BqEjLHLA5ekmA=s64",
            "userId": "14938465990641036306"
          },
          "user_tz": 360
        },
        "id": "p51xqW1PSuoa",
        "outputId": "e842e8ea-d480-4f2d-a325-77dfe4738998",
        "trusted": true
      },
      "outputs": [
        {
          "data": {
            "text/plain": [
              "==========================================================================================\n",
              "Layer (type:depth-idx)                   Output Shape              Param #\n",
              "==========================================================================================\n",
              "ReviewClassifier                         --                        --\n",
              "├─Linear: 1-1                            [1, 128]                  1,041,664\n",
              "├─Linear: 1-2                            [1, 16]                   2,064\n",
              "├─Linear: 1-3                            [1, 1]                    17\n",
              "==========================================================================================\n",
              "Total params: 1,043,745\n",
              "Trainable params: 1,043,745\n",
              "Non-trainable params: 0\n",
              "Total mult-adds (Units.MEGABYTES): 1.04\n",
              "==========================================================================================\n",
              "Input size (MB): 0.03\n",
              "Forward/backward pass size (MB): 0.00\n",
              "Params size (MB): 4.17\n",
              "Estimated Total Size (MB): 4.21\n",
              "=========================================================================================="
            ]
          },
          "execution_count": 28,
          "metadata": {},
          "output_type": "execute_result"
        }
      ],
      "source": [
        "# if this cell does not run the first time, then uncomment the following line and re-run it\n",
        "#!pip install torchinfo\n",
        "import torchinfo\n",
        "summ = torchinfo.summary(classifier, (1, dataset[0]['x_data'].shape[0]))\n",
        "summ"
      ]
    },
    {
      "cell_type": "code",
      "execution_count": 29,
      "metadata": {
        "execution": {
          "iopub.execute_input": "2025-02-06T03:10:08.071299Z",
          "iopub.status.busy": "2025-02-06T03:10:08.070997Z",
          "iopub.status.idle": "2025-02-06T03:10:08.076937Z",
          "shell.execute_reply": "2025-02-06T03:10:08.075950Z",
          "shell.execute_reply.started": "2025-02-06T03:10:08.071276Z"
        },
        "trusted": true
      },
      "outputs": [
        {
          "data": {
            "text/plain": [
              "1041664"
            ]
          },
          "execution_count": 29,
          "metadata": {},
          "output_type": "execute_result"
        }
      ],
      "source": [
        "n_params_in_layer1_weighmatrix = 8137 * 128\n",
        "n_params_in_layer1_bias_vector = 128\n",
        "n_params_in_layer1_weighmatrix + n_params_in_layer1_bias_vector"
      ]
    },
    {
      "cell_type": "code",
      "execution_count": 30,
      "metadata": {
        "execution": {
          "iopub.execute_input": "2025-02-06T02:55:20.264694Z",
          "iopub.status.busy": "2025-02-06T02:55:20.264389Z",
          "iopub.status.idle": "2025-02-06T02:55:20.269894Z",
          "shell.execute_reply": "2025-02-06T02:55:20.269068Z",
          "shell.execute_reply.started": "2025-02-06T02:55:20.264671Z"
        },
        "trusted": true
      },
      "outputs": [
        {
          "data": {
            "text/plain": [
              "2048"
            ]
          },
          "execution_count": 30,
          "metadata": {},
          "output_type": "execute_result"
        }
      ],
      "source": [
        "128 * 16 # without a bias terms i.e. without + 16"
      ]
    },
    {
      "cell_type": "code",
      "execution_count": 31,
      "metadata": {
        "execution": {
          "iopub.execute_input": "2025-02-06T02:55:40.587629Z",
          "iopub.status.busy": "2025-02-06T02:55:40.587287Z",
          "iopub.status.idle": "2025-02-06T02:55:40.593249Z",
          "shell.execute_reply": "2025-02-06T02:55:40.592501Z",
          "shell.execute_reply.started": "2025-02-06T02:55:40.587603Z"
        },
        "trusted": true
      },
      "outputs": [
        {
          "data": {
            "text/plain": [
              "8137"
            ]
          },
          "execution_count": 31,
          "metadata": {},
          "output_type": "execute_result"
        }
      ],
      "source": [
        "dataset[0]['x_data'].shape[0]"
      ]
    },
    {
      "cell_type": "markdown",
      "metadata": {
        "id": "Fc-6bP4QuyCB"
      },
      "source": [
        "### End\n",
        "\n",
        "Before finishing let's quickly look at the weight matrix in the first layer."
      ]
    },
    {
      "cell_type": "code",
      "execution_count": 32,
      "metadata": {
        "execution": {
          "iopub.execute_input": "2025-02-06T03:10:52.256631Z",
          "iopub.status.busy": "2025-02-06T03:10:52.256280Z",
          "iopub.status.idle": "2025-02-06T03:10:52.262489Z",
          "shell.execute_reply": "2025-02-06T03:10:52.261662Z",
          "shell.execute_reply.started": "2025-02-06T03:10:52.256601Z"
        },
        "trusted": true
      },
      "outputs": [
        {
          "data": {
            "text/plain": [
              "torch.Size([128, 8137])"
            ]
          },
          "execution_count": 32,
          "metadata": {},
          "output_type": "execute_result"
        }
      ],
      "source": [
        "fc1_weights = classifier.fc1.weight.detach()\n",
        "fc1_weights.shape\n",
        "#fc1_weights[indices].tolist()"
      ]
    },
    {
      "cell_type": "markdown",
      "metadata": {},
      "source": [
        "# Lab Analysis and changes"
      ]
    },
    {
      "cell_type": "markdown",
      "metadata": {},
      "source": [
        "**Change1 and Change2 use apply_sigmod = True in FF**\n",
        "\n",
        "#### Change 1\n",
        "\n",
        "increase out_features from 16 to 32 in the second hidden layer\n",
        "```python\n",
        "        self.fc2 = nn.Linear(in_features=hidden_features, out_features=32)\n",
        "        self.fc3 = nn.Linear(in_features=32, out_features=1)\n",
        "```\n",
        "\n",
        "```json\n",
        "    batch_size=5000,\n",
        "    early_stopping_criteria=3,\n",
        "    learning_rate=0.0001,\n",
        "    num_epochs=12,\n",
        "    seed=42,\n",
        "```\n",
        "\n",
        "\n",
        "![Training and Validation Loss](images/iteration1.png)\n",
        "\n",
        "Accuracy: 80.5%\n",
        "\n",
        "____________________________________________________________________________________\n",
        "\n",
        "#### Change 2 \n",
        "\n",
        "add second layer \n",
        "```python\n",
        "self.fc1 = nn.Linear(in_features=num_features, out_features=hidden_features)\n",
        "        self.fc2 = nn.Linear(in_features=hidden_features, out_features=16)\n",
        "        self.fc3 = nn.Linear(in_features=16, out_features=8)\n",
        "        self.fc4 = nn.Linear(in_features=8, out_features=1)\n",
        "        self.relu = nn.ReLU()\n",
        "```\n",
        "\n",
        "**restore orginal values**\n",
        "```json\n",
        "    batch_size=1000,\n",
        "    early_stopping_criteria=3,\n",
        "    learning_rate=0.001,\n",
        "    num_epochs=10,\n",
        "    seed=42,\n",
        "```\n",
        "\n",
        "![Training and Validation Loss](images/iteration2.png)\n",
        "Accuracy: 71.14%\n",
        "\n",
        "____________________________________________________________________________________\n",
        "\n",
        "**Applying Dropout**\n",
        "\n",
        "**removed**\n",
        "```python\n",
        "        self.relu = nn.ReLU()\n",
        "```\n",
        "\n",
        "comments provided in the cell \n",
        "dropout at 0.5\n",
        "\n",
        "```json\n",
        "    batch_size=1000,\n",
        "    early_stopping_criteria=3,\n",
        "    learning_rate=0.001,\n",
        "    num_epochs=10,\n",
        "    seed=42,\n",
        "```\n",
        "\n",
        "![Training and Validation Loss](images/Iteration3.png)\n",
        "Accuracy: 90.91%"
      ]
    },
    {
      "cell_type": "markdown",
      "metadata": {},
      "source": [
        "### Conclusion\n",
        "\n",
        "specifying the dropout rate in the model and the accuracy increased to 90.91%\n",
        "\n",
        "I ran into this issue when I was running the original version of the lab and added the dropout to the model and saw that the accuracy drastically improved."
      ]
    }
  ],
  "metadata": {
    "colab": {
      "collapsed_sections": [],
      "name": "cs39aa_yelp_reviews_w_mlp.ipynb",
      "provenance": []
    },
    "kaggle": {
      "accelerator": "gpu",
      "dataSources": [],
      "dockerImageVersionId": 30840,
      "isGpuEnabled": true,
      "isInternetEnabled": true,
      "language": "python",
      "sourceType": "notebook"
    },
    "kernelspec": {
      "display_name": "Python 3",
      "language": "python",
      "name": "python3"
    },
    "language_info": {
      "codemirror_mode": {
        "name": "ipython",
        "version": 3
      },
      "file_extension": ".py",
      "mimetype": "text/x-python",
      "name": "python",
      "nbconvert_exporter": "python",
      "pygments_lexer": "ipython3",
      "version": "3.11.11"
    },
    "toc": {
      "colors": {
        "hover_highlight": "#DAA520",
        "running_highlight": "#FF0000",
        "selected_highlight": "#FFD700"
      },
      "moveMenuLeft": true,
      "nav_menu": {
        "height": "156px",
        "width": "252px"
      },
      "navigate_menu": true,
      "number_sections": true,
      "sideBar": true,
      "threshold": "5",
      "toc_cell": false,
      "toc_section_display": "block",
      "toc_window_display": false
    },
    "widgets": {
      "application/vnd.jupyter.widget-state+json": {
        "00ce2f4aac0f42658f7682d2845e2132": {
          "model_module": "@jupyter-widgets/base",
          "model_module_version": "1.2.0",
          "model_name": "LayoutModel",
          "state": {
            "_model_module": "@jupyter-widgets/base",
            "_model_module_version": "1.2.0",
            "_model_name": "LayoutModel",
            "_view_count": null,
            "_view_module": "@jupyter-widgets/base",
            "_view_module_version": "1.2.0",
            "_view_name": "LayoutView",
            "align_content": null,
            "align_items": null,
            "align_self": null,
            "border": null,
            "bottom": null,
            "display": null,
            "flex": null,
            "flex_flow": null,
            "grid_area": null,
            "grid_auto_columns": null,
            "grid_auto_flow": null,
            "grid_auto_rows": null,
            "grid_column": null,
            "grid_gap": null,
            "grid_row": null,
            "grid_template_areas": null,
            "grid_template_columns": null,
            "grid_template_rows": null,
            "height": null,
            "justify_content": null,
            "justify_items": null,
            "left": null,
            "margin": null,
            "max_height": null,
            "max_width": null,
            "min_height": null,
            "min_width": null,
            "object_fit": null,
            "object_position": null,
            "order": null,
            "overflow": null,
            "overflow_x": null,
            "overflow_y": null,
            "padding": null,
            "right": null,
            "top": null,
            "visibility": null,
            "width": null
          }
        },
        "1451e490fa104afb9c4e7a6399402e78": {
          "model_module": "@jupyter-widgets/base",
          "model_module_version": "1.2.0",
          "model_name": "LayoutModel",
          "state": {
            "_model_module": "@jupyter-widgets/base",
            "_model_module_version": "1.2.0",
            "_model_name": "LayoutModel",
            "_view_count": null,
            "_view_module": "@jupyter-widgets/base",
            "_view_module_version": "1.2.0",
            "_view_name": "LayoutView",
            "align_content": null,
            "align_items": null,
            "align_self": null,
            "border": null,
            "bottom": null,
            "display": null,
            "flex": null,
            "flex_flow": null,
            "grid_area": null,
            "grid_auto_columns": null,
            "grid_auto_flow": null,
            "grid_auto_rows": null,
            "grid_column": null,
            "grid_gap": null,
            "grid_row": null,
            "grid_template_areas": null,
            "grid_template_columns": null,
            "grid_template_rows": null,
            "height": null,
            "justify_content": null,
            "justify_items": null,
            "left": null,
            "margin": null,
            "max_height": null,
            "max_width": null,
            "min_height": null,
            "min_width": null,
            "object_fit": null,
            "object_position": null,
            "order": null,
            "overflow": null,
            "overflow_x": null,
            "overflow_y": null,
            "padding": null,
            "right": null,
            "top": null,
            "visibility": null,
            "width": null
          }
        },
        "25650f077ade463f8baf28145e0d0545": {
          "model_module": "@jupyter-widgets/controls",
          "model_module_version": "1.5.0",
          "model_name": "DescriptionStyleModel",
          "state": {
            "_model_module": "@jupyter-widgets/controls",
            "_model_module_version": "1.5.0",
            "_model_name": "DescriptionStyleModel",
            "_view_count": null,
            "_view_module": "@jupyter-widgets/base",
            "_view_module_version": "1.2.0",
            "_view_name": "StyleView",
            "description_width": ""
          }
        },
        "2b46d42d636642618552475d6c84bbe0": {
          "model_module": "@jupyter-widgets/base",
          "model_module_version": "1.2.0",
          "model_name": "LayoutModel",
          "state": {
            "_model_module": "@jupyter-widgets/base",
            "_model_module_version": "1.2.0",
            "_model_name": "LayoutModel",
            "_view_count": null,
            "_view_module": "@jupyter-widgets/base",
            "_view_module_version": "1.2.0",
            "_view_name": "LayoutView",
            "align_content": null,
            "align_items": null,
            "align_self": null,
            "border": null,
            "bottom": null,
            "display": null,
            "flex": null,
            "flex_flow": null,
            "grid_area": null,
            "grid_auto_columns": null,
            "grid_auto_flow": null,
            "grid_auto_rows": null,
            "grid_column": null,
            "grid_gap": null,
            "grid_row": null,
            "grid_template_areas": null,
            "grid_template_columns": null,
            "grid_template_rows": null,
            "height": null,
            "justify_content": null,
            "justify_items": null,
            "left": null,
            "margin": null,
            "max_height": null,
            "max_width": null,
            "min_height": null,
            "min_width": null,
            "object_fit": null,
            "object_position": null,
            "order": null,
            "overflow": null,
            "overflow_x": null,
            "overflow_y": null,
            "padding": null,
            "right": null,
            "top": null,
            "visibility": null,
            "width": null
          }
        },
        "2c2c81b24f59419f9d7850d8bacece84": {
          "model_module": "@jupyter-widgets/controls",
          "model_module_version": "1.5.0",
          "model_name": "DescriptionStyleModel",
          "state": {
            "_model_module": "@jupyter-widgets/controls",
            "_model_module_version": "1.5.0",
            "_model_name": "DescriptionStyleModel",
            "_view_count": null,
            "_view_module": "@jupyter-widgets/base",
            "_view_module_version": "1.2.0",
            "_view_name": "StyleView",
            "description_width": ""
          }
        },
        "2df41e6055274443b48a0d797706e023": {
          "model_module": "@jupyter-widgets/controls",
          "model_module_version": "1.5.0",
          "model_name": "FloatProgressModel",
          "state": {
            "_dom_classes": [],
            "_model_module": "@jupyter-widgets/controls",
            "_model_module_version": "1.5.0",
            "_model_name": "FloatProgressModel",
            "_view_count": null,
            "_view_module": "@jupyter-widgets/controls",
            "_view_module_version": "1.5.0",
            "_view_name": "ProgressView",
            "bar_style": "",
            "description": "",
            "description_tooltip": null,
            "layout": "IPY_MODEL_89f1042e9da74a96b78db498aaeaff58",
            "max": 38,
            "min": 0,
            "orientation": "horizontal",
            "style": "IPY_MODEL_fe245a8fdf82492a86faa341df1c9124",
            "value": 37
          }
        },
        "2eb29c6032a54d39b7d5d09f617cd64d": {
          "model_module": "@jupyter-widgets/controls",
          "model_module_version": "1.5.0",
          "model_name": "HTMLModel",
          "state": {
            "_dom_classes": [],
            "_model_module": "@jupyter-widgets/controls",
            "_model_module_version": "1.5.0",
            "_model_name": "HTMLModel",
            "_view_count": null,
            "_view_module": "@jupyter-widgets/controls",
            "_view_module_version": "1.5.0",
            "_view_name": "HTMLView",
            "description": "",
            "description_tooltip": null,
            "layout": "IPY_MODEL_2b46d42d636642618552475d6c84bbe0",
            "placeholder": "​",
            "style": "IPY_MODEL_c63632e4529343758047a3ebe0f61981",
            "value": " 37/38 [02:36&lt;00:00,  2.84it/s, acc=96.8, epoch=9, loss=0.0972]"
          }
        },
        "3a1337692f7444069f06877a8532885d": {
          "model_module": "@jupyter-widgets/controls",
          "model_module_version": "1.5.0",
          "model_name": "FloatProgressModel",
          "state": {
            "_dom_classes": [],
            "_model_module": "@jupyter-widgets/controls",
            "_model_module_version": "1.5.0",
            "_model_name": "FloatProgressModel",
            "_view_count": null,
            "_view_module": "@jupyter-widgets/controls",
            "_view_module_version": "1.5.0",
            "_view_name": "ProgressView",
            "bar_style": "",
            "description": "",
            "description_tooltip": null,
            "layout": "IPY_MODEL_1451e490fa104afb9c4e7a6399402e78",
            "max": 8,
            "min": 0,
            "orientation": "horizontal",
            "style": "IPY_MODEL_715070f2775a411496f657b677e86efe",
            "value": 7
          }
        },
        "3a74d08d0659404dba329fef704bb763": {
          "model_module": "@jupyter-widgets/controls",
          "model_module_version": "1.5.0",
          "model_name": "HBoxModel",
          "state": {
            "_dom_classes": [],
            "_model_module": "@jupyter-widgets/controls",
            "_model_module_version": "1.5.0",
            "_model_name": "HBoxModel",
            "_view_count": null,
            "_view_module": "@jupyter-widgets/controls",
            "_view_module_version": "1.5.0",
            "_view_name": "HBoxView",
            "box_style": "",
            "children": [
              "IPY_MODEL_bfe50105b88644a29e27e5d3fba57ef0",
              "IPY_MODEL_2df41e6055274443b48a0d797706e023",
              "IPY_MODEL_2eb29c6032a54d39b7d5d09f617cd64d"
            ],
            "layout": "IPY_MODEL_a83e6ff6737b4deba41f3297185eb0c9"
          }
        },
        "4b6a88050b61488cb4526d7f44cd7fe3": {
          "model_module": "@jupyter-widgets/base",
          "model_module_version": "1.2.0",
          "model_name": "LayoutModel",
          "state": {
            "_model_module": "@jupyter-widgets/base",
            "_model_module_version": "1.2.0",
            "_model_name": "LayoutModel",
            "_view_count": null,
            "_view_module": "@jupyter-widgets/base",
            "_view_module_version": "1.2.0",
            "_view_name": "LayoutView",
            "align_content": null,
            "align_items": null,
            "align_self": null,
            "border": null,
            "bottom": null,
            "display": null,
            "flex": null,
            "flex_flow": null,
            "grid_area": null,
            "grid_auto_columns": null,
            "grid_auto_flow": null,
            "grid_auto_rows": null,
            "grid_column": null,
            "grid_gap": null,
            "grid_row": null,
            "grid_template_areas": null,
            "grid_template_columns": null,
            "grid_template_rows": null,
            "height": null,
            "justify_content": null,
            "justify_items": null,
            "left": null,
            "margin": null,
            "max_height": null,
            "max_width": null,
            "min_height": null,
            "min_width": null,
            "object_fit": null,
            "object_position": null,
            "order": null,
            "overflow": null,
            "overflow_x": null,
            "overflow_y": null,
            "padding": null,
            "right": null,
            "top": null,
            "visibility": null,
            "width": null
          }
        },
        "5a93d7f226d54e7db7d9ab7bdf8645b0": {
          "model_module": "@jupyter-widgets/controls",
          "model_module_version": "1.5.0",
          "model_name": "DescriptionStyleModel",
          "state": {
            "_model_module": "@jupyter-widgets/controls",
            "_model_module_version": "1.5.0",
            "_model_name": "DescriptionStyleModel",
            "_view_count": null,
            "_view_module": "@jupyter-widgets/base",
            "_view_module_version": "1.2.0",
            "_view_name": "StyleView",
            "description_width": ""
          }
        },
        "63fa4bb5620d442c8b453d377d1d9e24": {
          "model_module": "@jupyter-widgets/controls",
          "model_module_version": "1.5.0",
          "model_name": "HTMLModel",
          "state": {
            "_dom_classes": [],
            "_model_module": "@jupyter-widgets/controls",
            "_model_module_version": "1.5.0",
            "_model_name": "HTMLModel",
            "_view_count": null,
            "_view_module": "@jupyter-widgets/controls",
            "_view_module_version": "1.5.0",
            "_view_name": "HTMLView",
            "description": "",
            "description_tooltip": null,
            "layout": "IPY_MODEL_7599a71fc6a1475da7cd246e301f0e91",
            "placeholder": "​",
            "style": "IPY_MODEL_5a93d7f226d54e7db7d9ab7bdf8645b0",
            "value": " 7/8 [02:39&lt;00:00,  1.49it/s, acc=91.1, epoch=9, loss=0.253]"
          }
        },
        "6597100e93784b098e470589ba717a1b": {
          "model_module": "@jupyter-widgets/base",
          "model_module_version": "1.2.0",
          "model_name": "LayoutModel",
          "state": {
            "_model_module": "@jupyter-widgets/base",
            "_model_module_version": "1.2.0",
            "_model_name": "LayoutModel",
            "_view_count": null,
            "_view_module": "@jupyter-widgets/base",
            "_view_module_version": "1.2.0",
            "_view_name": "LayoutView",
            "align_content": null,
            "align_items": null,
            "align_self": null,
            "border": null,
            "bottom": null,
            "display": null,
            "flex": null,
            "flex_flow": null,
            "grid_area": null,
            "grid_auto_columns": null,
            "grid_auto_flow": null,
            "grid_auto_rows": null,
            "grid_column": null,
            "grid_gap": null,
            "grid_row": null,
            "grid_template_areas": null,
            "grid_template_columns": null,
            "grid_template_rows": null,
            "height": null,
            "justify_content": null,
            "justify_items": null,
            "left": null,
            "margin": null,
            "max_height": null,
            "max_width": null,
            "min_height": null,
            "min_width": null,
            "object_fit": null,
            "object_position": null,
            "order": null,
            "overflow": null,
            "overflow_x": null,
            "overflow_y": null,
            "padding": null,
            "right": null,
            "top": null,
            "visibility": null,
            "width": null
          }
        },
        "66e419c4da54462fa40a0f70571fc8a6": {
          "model_module": "@jupyter-widgets/controls",
          "model_module_version": "1.5.0",
          "model_name": "HBoxModel",
          "state": {
            "_dom_classes": [],
            "_model_module": "@jupyter-widgets/controls",
            "_model_module_version": "1.5.0",
            "_model_name": "HBoxModel",
            "_view_count": null,
            "_view_module": "@jupyter-widgets/controls",
            "_view_module_version": "1.5.0",
            "_view_name": "HBoxView",
            "box_style": "",
            "children": [
              "IPY_MODEL_d0f9900f473042e6bc4994196f3be04c",
              "IPY_MODEL_3a1337692f7444069f06877a8532885d",
              "IPY_MODEL_63fa4bb5620d442c8b453d377d1d9e24"
            ],
            "layout": "IPY_MODEL_884fba459bf9430490744df08ddc5717"
          }
        },
        "6b855b3ca197469289c512e76bd612da": {
          "model_module": "@jupyter-widgets/controls",
          "model_module_version": "1.5.0",
          "model_name": "FloatProgressModel",
          "state": {
            "_dom_classes": [],
            "_model_module": "@jupyter-widgets/controls",
            "_model_module_version": "1.5.0",
            "_model_name": "FloatProgressModel",
            "_view_count": null,
            "_view_module": "@jupyter-widgets/controls",
            "_view_module_version": "1.5.0",
            "_view_name": "ProgressView",
            "bar_style": "",
            "description": "",
            "description_tooltip": null,
            "layout": "IPY_MODEL_4b6a88050b61488cb4526d7f44cd7fe3",
            "max": 10,
            "min": 0,
            "orientation": "horizontal",
            "style": "IPY_MODEL_df7acea950b44cf99df4b163ac6c88f6",
            "value": 10
          }
        },
        "715070f2775a411496f657b677e86efe": {
          "model_module": "@jupyter-widgets/controls",
          "model_module_version": "1.5.0",
          "model_name": "ProgressStyleModel",
          "state": {
            "_model_module": "@jupyter-widgets/controls",
            "_model_module_version": "1.5.0",
            "_model_name": "ProgressStyleModel",
            "_view_count": null,
            "_view_module": "@jupyter-widgets/base",
            "_view_module_version": "1.2.0",
            "_view_name": "StyleView",
            "bar_color": null,
            "description_width": ""
          }
        },
        "72215cb7d8e94557b56c678f6c1a418c": {
          "model_module": "@jupyter-widgets/controls",
          "model_module_version": "1.5.0",
          "model_name": "DescriptionStyleModel",
          "state": {
            "_model_module": "@jupyter-widgets/controls",
            "_model_module_version": "1.5.0",
            "_model_name": "DescriptionStyleModel",
            "_view_count": null,
            "_view_module": "@jupyter-widgets/base",
            "_view_module_version": "1.2.0",
            "_view_name": "StyleView",
            "description_width": ""
          }
        },
        "7599a71fc6a1475da7cd246e301f0e91": {
          "model_module": "@jupyter-widgets/base",
          "model_module_version": "1.2.0",
          "model_name": "LayoutModel",
          "state": {
            "_model_module": "@jupyter-widgets/base",
            "_model_module_version": "1.2.0",
            "_model_name": "LayoutModel",
            "_view_count": null,
            "_view_module": "@jupyter-widgets/base",
            "_view_module_version": "1.2.0",
            "_view_name": "LayoutView",
            "align_content": null,
            "align_items": null,
            "align_self": null,
            "border": null,
            "bottom": null,
            "display": null,
            "flex": null,
            "flex_flow": null,
            "grid_area": null,
            "grid_auto_columns": null,
            "grid_auto_flow": null,
            "grid_auto_rows": null,
            "grid_column": null,
            "grid_gap": null,
            "grid_row": null,
            "grid_template_areas": null,
            "grid_template_columns": null,
            "grid_template_rows": null,
            "height": null,
            "justify_content": null,
            "justify_items": null,
            "left": null,
            "margin": null,
            "max_height": null,
            "max_width": null,
            "min_height": null,
            "min_width": null,
            "object_fit": null,
            "object_position": null,
            "order": null,
            "overflow": null,
            "overflow_x": null,
            "overflow_y": null,
            "padding": null,
            "right": null,
            "top": null,
            "visibility": null,
            "width": null
          }
        },
        "7b404c47a43f44f69818bea7217e8a47": {
          "model_module": "@jupyter-widgets/base",
          "model_module_version": "1.2.0",
          "model_name": "LayoutModel",
          "state": {
            "_model_module": "@jupyter-widgets/base",
            "_model_module_version": "1.2.0",
            "_model_name": "LayoutModel",
            "_view_count": null,
            "_view_module": "@jupyter-widgets/base",
            "_view_module_version": "1.2.0",
            "_view_name": "LayoutView",
            "align_content": null,
            "align_items": null,
            "align_self": null,
            "border": null,
            "bottom": null,
            "display": null,
            "flex": null,
            "flex_flow": null,
            "grid_area": null,
            "grid_auto_columns": null,
            "grid_auto_flow": null,
            "grid_auto_rows": null,
            "grid_column": null,
            "grid_gap": null,
            "grid_row": null,
            "grid_template_areas": null,
            "grid_template_columns": null,
            "grid_template_rows": null,
            "height": null,
            "justify_content": null,
            "justify_items": null,
            "left": null,
            "margin": null,
            "max_height": null,
            "max_width": null,
            "min_height": null,
            "min_width": null,
            "object_fit": null,
            "object_position": null,
            "order": null,
            "overflow": null,
            "overflow_x": null,
            "overflow_y": null,
            "padding": null,
            "right": null,
            "top": null,
            "visibility": null,
            "width": null
          }
        },
        "884fba459bf9430490744df08ddc5717": {
          "model_module": "@jupyter-widgets/base",
          "model_module_version": "1.2.0",
          "model_name": "LayoutModel",
          "state": {
            "_model_module": "@jupyter-widgets/base",
            "_model_module_version": "1.2.0",
            "_model_name": "LayoutModel",
            "_view_count": null,
            "_view_module": "@jupyter-widgets/base",
            "_view_module_version": "1.2.0",
            "_view_name": "LayoutView",
            "align_content": null,
            "align_items": null,
            "align_self": null,
            "border": null,
            "bottom": null,
            "display": null,
            "flex": null,
            "flex_flow": null,
            "grid_area": null,
            "grid_auto_columns": null,
            "grid_auto_flow": null,
            "grid_auto_rows": null,
            "grid_column": null,
            "grid_gap": null,
            "grid_row": null,
            "grid_template_areas": null,
            "grid_template_columns": null,
            "grid_template_rows": null,
            "height": null,
            "justify_content": null,
            "justify_items": null,
            "left": null,
            "margin": null,
            "max_height": null,
            "max_width": null,
            "min_height": null,
            "min_width": null,
            "object_fit": null,
            "object_position": null,
            "order": null,
            "overflow": null,
            "overflow_x": null,
            "overflow_y": null,
            "padding": null,
            "right": null,
            "top": null,
            "visibility": null,
            "width": null
          }
        },
        "89f1042e9da74a96b78db498aaeaff58": {
          "model_module": "@jupyter-widgets/base",
          "model_module_version": "1.2.0",
          "model_name": "LayoutModel",
          "state": {
            "_model_module": "@jupyter-widgets/base",
            "_model_module_version": "1.2.0",
            "_model_name": "LayoutModel",
            "_view_count": null,
            "_view_module": "@jupyter-widgets/base",
            "_view_module_version": "1.2.0",
            "_view_name": "LayoutView",
            "align_content": null,
            "align_items": null,
            "align_self": null,
            "border": null,
            "bottom": null,
            "display": null,
            "flex": null,
            "flex_flow": null,
            "grid_area": null,
            "grid_auto_columns": null,
            "grid_auto_flow": null,
            "grid_auto_rows": null,
            "grid_column": null,
            "grid_gap": null,
            "grid_row": null,
            "grid_template_areas": null,
            "grid_template_columns": null,
            "grid_template_rows": null,
            "height": null,
            "justify_content": null,
            "justify_items": null,
            "left": null,
            "margin": null,
            "max_height": null,
            "max_width": null,
            "min_height": null,
            "min_width": null,
            "object_fit": null,
            "object_position": null,
            "order": null,
            "overflow": null,
            "overflow_x": null,
            "overflow_y": null,
            "padding": null,
            "right": null,
            "top": null,
            "visibility": null,
            "width": null
          }
        },
        "8ff6cc5cad9b405690b63c7bd9bf4fa1": {
          "model_module": "@jupyter-widgets/controls",
          "model_module_version": "1.5.0",
          "model_name": "HBoxModel",
          "state": {
            "_dom_classes": [],
            "_model_module": "@jupyter-widgets/controls",
            "_model_module_version": "1.5.0",
            "_model_name": "HBoxModel",
            "_view_count": null,
            "_view_module": "@jupyter-widgets/controls",
            "_view_module_version": "1.5.0",
            "_view_name": "HBoxView",
            "box_style": "",
            "children": [
              "IPY_MODEL_b62409020f55441bb1f4b8682c35c475",
              "IPY_MODEL_6b855b3ca197469289c512e76bd612da",
              "IPY_MODEL_bbd0f5718e0f4fa4a1e8d63f8297c22c"
            ],
            "layout": "IPY_MODEL_9bcfd8c6c38c4797bf56af3b5f64c4db"
          }
        },
        "9bcfd8c6c38c4797bf56af3b5f64c4db": {
          "model_module": "@jupyter-widgets/base",
          "model_module_version": "1.2.0",
          "model_name": "LayoutModel",
          "state": {
            "_model_module": "@jupyter-widgets/base",
            "_model_module_version": "1.2.0",
            "_model_name": "LayoutModel",
            "_view_count": null,
            "_view_module": "@jupyter-widgets/base",
            "_view_module_version": "1.2.0",
            "_view_name": "LayoutView",
            "align_content": null,
            "align_items": null,
            "align_self": null,
            "border": null,
            "bottom": null,
            "display": null,
            "flex": null,
            "flex_flow": null,
            "grid_area": null,
            "grid_auto_columns": null,
            "grid_auto_flow": null,
            "grid_auto_rows": null,
            "grid_column": null,
            "grid_gap": null,
            "grid_row": null,
            "grid_template_areas": null,
            "grid_template_columns": null,
            "grid_template_rows": null,
            "height": null,
            "justify_content": null,
            "justify_items": null,
            "left": null,
            "margin": null,
            "max_height": null,
            "max_width": null,
            "min_height": null,
            "min_width": null,
            "object_fit": null,
            "object_position": null,
            "order": null,
            "overflow": null,
            "overflow_x": null,
            "overflow_y": null,
            "padding": null,
            "right": null,
            "top": null,
            "visibility": null,
            "width": null
          }
        },
        "a83e6ff6737b4deba41f3297185eb0c9": {
          "model_module": "@jupyter-widgets/base",
          "model_module_version": "1.2.0",
          "model_name": "LayoutModel",
          "state": {
            "_model_module": "@jupyter-widgets/base",
            "_model_module_version": "1.2.0",
            "_model_name": "LayoutModel",
            "_view_count": null,
            "_view_module": "@jupyter-widgets/base",
            "_view_module_version": "1.2.0",
            "_view_name": "LayoutView",
            "align_content": null,
            "align_items": null,
            "align_self": null,
            "border": null,
            "bottom": null,
            "display": null,
            "flex": null,
            "flex_flow": null,
            "grid_area": null,
            "grid_auto_columns": null,
            "grid_auto_flow": null,
            "grid_auto_rows": null,
            "grid_column": null,
            "grid_gap": null,
            "grid_row": null,
            "grid_template_areas": null,
            "grid_template_columns": null,
            "grid_template_rows": null,
            "height": null,
            "justify_content": null,
            "justify_items": null,
            "left": null,
            "margin": null,
            "max_height": null,
            "max_width": null,
            "min_height": null,
            "min_width": null,
            "object_fit": null,
            "object_position": null,
            "order": null,
            "overflow": null,
            "overflow_x": null,
            "overflow_y": null,
            "padding": null,
            "right": null,
            "top": null,
            "visibility": null,
            "width": null
          }
        },
        "b62409020f55441bb1f4b8682c35c475": {
          "model_module": "@jupyter-widgets/controls",
          "model_module_version": "1.5.0",
          "model_name": "HTMLModel",
          "state": {
            "_dom_classes": [],
            "_model_module": "@jupyter-widgets/controls",
            "_model_module_version": "1.5.0",
            "_model_name": "HTMLModel",
            "_view_count": null,
            "_view_module": "@jupyter-widgets/controls",
            "_view_module_version": "1.5.0",
            "_view_name": "HTMLView",
            "description": "",
            "description_tooltip": null,
            "layout": "IPY_MODEL_7b404c47a43f44f69818bea7217e8a47",
            "placeholder": "​",
            "style": "IPY_MODEL_25650f077ade463f8baf28145e0d0545",
            "value": "training routine: 100%"
          }
        },
        "bbd0f5718e0f4fa4a1e8d63f8297c22c": {
          "model_module": "@jupyter-widgets/controls",
          "model_module_version": "1.5.0",
          "model_name": "HTMLModel",
          "state": {
            "_dom_classes": [],
            "_model_module": "@jupyter-widgets/controls",
            "_model_module_version": "1.5.0",
            "_model_name": "HTMLModel",
            "_view_count": null,
            "_view_module": "@jupyter-widgets/controls",
            "_view_module_version": "1.5.0",
            "_view_name": "HTMLView",
            "description": "",
            "description_tooltip": null,
            "layout": "IPY_MODEL_00ce2f4aac0f42658f7682d2845e2132",
            "placeholder": "​",
            "style": "IPY_MODEL_be45f9b4aa184ae2936b6beff671482f",
            "value": " 10/10 [02:39&lt;00:00, 15.84s/it]"
          }
        },
        "be45f9b4aa184ae2936b6beff671482f": {
          "model_module": "@jupyter-widgets/controls",
          "model_module_version": "1.5.0",
          "model_name": "DescriptionStyleModel",
          "state": {
            "_model_module": "@jupyter-widgets/controls",
            "_model_module_version": "1.5.0",
            "_model_name": "DescriptionStyleModel",
            "_view_count": null,
            "_view_module": "@jupyter-widgets/base",
            "_view_module_version": "1.2.0",
            "_view_name": "StyleView",
            "description_width": ""
          }
        },
        "bfe50105b88644a29e27e5d3fba57ef0": {
          "model_module": "@jupyter-widgets/controls",
          "model_module_version": "1.5.0",
          "model_name": "HTMLModel",
          "state": {
            "_dom_classes": [],
            "_model_module": "@jupyter-widgets/controls",
            "_model_module_version": "1.5.0",
            "_model_name": "HTMLModel",
            "_view_count": null,
            "_view_module": "@jupyter-widgets/controls",
            "_view_module_version": "1.5.0",
            "_view_name": "HTMLView",
            "description": "",
            "description_tooltip": null,
            "layout": "IPY_MODEL_d5f52c2739a14774847d48addcafdb30",
            "placeholder": "​",
            "style": "IPY_MODEL_72215cb7d8e94557b56c678f6c1a418c",
            "value": "split=train:  97%"
          }
        },
        "c63632e4529343758047a3ebe0f61981": {
          "model_module": "@jupyter-widgets/controls",
          "model_module_version": "1.5.0",
          "model_name": "DescriptionStyleModel",
          "state": {
            "_model_module": "@jupyter-widgets/controls",
            "_model_module_version": "1.5.0",
            "_model_name": "DescriptionStyleModel",
            "_view_count": null,
            "_view_module": "@jupyter-widgets/base",
            "_view_module_version": "1.2.0",
            "_view_name": "StyleView",
            "description_width": ""
          }
        },
        "d0f9900f473042e6bc4994196f3be04c": {
          "model_module": "@jupyter-widgets/controls",
          "model_module_version": "1.5.0",
          "model_name": "HTMLModel",
          "state": {
            "_dom_classes": [],
            "_model_module": "@jupyter-widgets/controls",
            "_model_module_version": "1.5.0",
            "_model_name": "HTMLModel",
            "_view_count": null,
            "_view_module": "@jupyter-widgets/controls",
            "_view_module_version": "1.5.0",
            "_view_name": "HTMLView",
            "description": "",
            "description_tooltip": null,
            "layout": "IPY_MODEL_6597100e93784b098e470589ba717a1b",
            "placeholder": "​",
            "style": "IPY_MODEL_2c2c81b24f59419f9d7850d8bacece84",
            "value": "split=val:  88%"
          }
        },
        "d5f52c2739a14774847d48addcafdb30": {
          "model_module": "@jupyter-widgets/base",
          "model_module_version": "1.2.0",
          "model_name": "LayoutModel",
          "state": {
            "_model_module": "@jupyter-widgets/base",
            "_model_module_version": "1.2.0",
            "_model_name": "LayoutModel",
            "_view_count": null,
            "_view_module": "@jupyter-widgets/base",
            "_view_module_version": "1.2.0",
            "_view_name": "LayoutView",
            "align_content": null,
            "align_items": null,
            "align_self": null,
            "border": null,
            "bottom": null,
            "display": null,
            "flex": null,
            "flex_flow": null,
            "grid_area": null,
            "grid_auto_columns": null,
            "grid_auto_flow": null,
            "grid_auto_rows": null,
            "grid_column": null,
            "grid_gap": null,
            "grid_row": null,
            "grid_template_areas": null,
            "grid_template_columns": null,
            "grid_template_rows": null,
            "height": null,
            "justify_content": null,
            "justify_items": null,
            "left": null,
            "margin": null,
            "max_height": null,
            "max_width": null,
            "min_height": null,
            "min_width": null,
            "object_fit": null,
            "object_position": null,
            "order": null,
            "overflow": null,
            "overflow_x": null,
            "overflow_y": null,
            "padding": null,
            "right": null,
            "top": null,
            "visibility": null,
            "width": null
          }
        },
        "df7acea950b44cf99df4b163ac6c88f6": {
          "model_module": "@jupyter-widgets/controls",
          "model_module_version": "1.5.0",
          "model_name": "ProgressStyleModel",
          "state": {
            "_model_module": "@jupyter-widgets/controls",
            "_model_module_version": "1.5.0",
            "_model_name": "ProgressStyleModel",
            "_view_count": null,
            "_view_module": "@jupyter-widgets/base",
            "_view_module_version": "1.2.0",
            "_view_name": "StyleView",
            "bar_color": null,
            "description_width": ""
          }
        },
        "fe245a8fdf82492a86faa341df1c9124": {
          "model_module": "@jupyter-widgets/controls",
          "model_module_version": "1.5.0",
          "model_name": "ProgressStyleModel",
          "state": {
            "_model_module": "@jupyter-widgets/controls",
            "_model_module_version": "1.5.0",
            "_model_name": "ProgressStyleModel",
            "_view_count": null,
            "_view_module": "@jupyter-widgets/base",
            "_view_module_version": "1.2.0",
            "_view_name": "StyleView",
            "bar_color": null,
            "description_width": ""
          }
        }
      }
    }
  },
  "nbformat": 4,
  "nbformat_minor": 4
}
