{
 "cells": [
  {
   "cell_type": "markdown",
   "metadata": {
    "id": "syum2GeKuyBv"
   },
   "source": [
    "# Lab 2: Creating a Multi-layer Perceptron for Classifying Yelp Reviews\n",
    "\n",
    "[![Open In Colab](https://colab.research.google.com/assets/colab-badge.svg)](https://colab.research.google.com/github/sgeinitz/DSML4220/blob/main/lab2_mlp_for_yelp_reviews.ipynb)\n",
    "\n",
    "[![Kaggle](https://kaggle.com/static/images/open-in-kaggle.svg)](https://kaggle.com/kernels/welcome?src=https://github.com/sgeinitz/DSML4220/blob/main/lab2_mlp_for_yelp_reviews.ipynb)\n",
    "\n",
    "In this notebook we'll build off of a simple perceptron model we have seen and to create a PyTorch multilayer perceptron model. The dataset is similar to our airline tweets but larger in two ways. One, each observataion may have much more than 140 words. Two, there are now more than 50,000 observations. \n",
    "\n",
    "Note that the code and data in this notebook is derived from [this notebook](https://github.com/delip/PyTorchNLPBook/blob/master/chapters/chapter_3/3_5_Classifying_Yelp_Review_Sentiment.ipynb) in the [repository for the book, NLP with PyTorch](https://github.com/delip/PyTorchNLPBook).\n",
    "\n",
    "\n",
    "### Lab 2 Assignment/Task\n",
    "Your task for this lab is to add another layer to the model and to try to improve the performance. You will save your completed notebook (on Kaggle) and submit the link in Canvas. Note that although the only thing you need to do is add another layer, you can/should also try experimenting with some hyperparameters such as the learning rate and batch size. \n",
    "\n",
    "It is recommended that you run the entire notebook and get a sense of it all before making any modifications. "
   ]
  },
  {
   "cell_type": "markdown",
   "metadata": {
    "id": "FNf033jzuyBx"
   },
   "source": [
    "## Imports"
   ]
  },
  {
   "cell_type": "code",
   "execution_count": 18,
   "metadata": {
    "execution": {
     "iopub.execute_input": "2025-02-06T02:32:58.530736Z",
     "iopub.status.busy": "2025-02-06T02:32:58.530462Z",
     "iopub.status.idle": "2025-02-06T02:33:04.189406Z",
     "shell.execute_reply": "2025-02-06T02:33:04.188571Z",
     "shell.execute_reply.started": "2025-02-06T02:32:58.530678Z"
    },
    "executionInfo": {
     "elapsed": 4097,
     "status": "ok",
     "timestamp": 1632258440567,
     "user": {
      "displayName": "Steve Geinitz",
      "photoUrl": "https://lh3.googleusercontent.com/a-/AOh14GjM_I7kh6h0lJDODuL8c-Z408Wa9BqEjLHLA5ekmA=s64",
      "userId": "14938465990641036306"
     },
     "user_tz": 360
    },
    "id": "QLdP8PiOuyBx",
    "trusted": true
   },
   "outputs": [],
   "source": [
    "from argparse import Namespace\n",
    "from collections import Counter\n",
    "from nltk.corpus import stopwords\n",
    "import json\n",
    "import os\n",
    "import re\n",
    "import string\n",
    "\n",
    "import numpy as np\n",
    "import pandas as pd\n",
    "import torch\n",
    "import torch.nn as nn\n",
    "import torch.nn.functional as F\n",
    "import torch.optim as optim\n",
    "from torch.utils.data import Dataset, DataLoader\n",
    "import matplotlib\n",
    "import matplotlib.pyplot as plt"
   ]
  },
  {
   "cell_type": "markdown",
   "metadata": {
    "id": "kyF9uRIpuyBz"
   },
   "source": [
    "## Data Vectorization classes\n",
    "\n",
    "### The Vocabulary"
   ]
  },
  {
   "cell_type": "code",
   "execution_count": 7,
   "metadata": {
    "code_folding": [],
    "execution": {
     "iopub.execute_input": "2025-02-06T02:33:08.869450Z",
     "iopub.status.busy": "2025-02-06T02:33:08.869130Z",
     "iopub.status.idle": "2025-02-06T02:33:08.877815Z",
     "shell.execute_reply": "2025-02-06T02:33:08.876814Z",
     "shell.execute_reply.started": "2025-02-06T02:33:08.869421Z"
    },
    "executionInfo": {
     "elapsed": 228,
     "status": "ok",
     "timestamp": 1632258440792,
     "user": {
      "displayName": "Steve Geinitz",
      "photoUrl": "https://lh3.googleusercontent.com/a-/AOh14GjM_I7kh6h0lJDODuL8c-Z408Wa9BqEjLHLA5ekmA=s64",
      "userId": "14938465990641036306"
     },
     "user_tz": 360
    },
    "id": "bpyc_yw4uyBz",
    "trusted": true
   },
   "outputs": [],
   "source": [
    "class Vocabulary(object):\n",
    "    \"\"\"Class to process text and extract vocabulary for mapping\"\"\"\n",
    "\n",
    "    def __init__(self, token_to_idx=None, add_unk=True, unk_token=\"<UNK>\"):\n",
    "        \"\"\"\n",
    "        Args:\n",
    "            token_to_idx (dict): a pre-existing map of tokens to indices\n",
    "            add_unk (bool): a flag that indicates whether to add the UNK token\n",
    "            unk_token (str): the UNK token to add into the Vocabulary\n",
    "        \"\"\"\n",
    "\n",
    "        if token_to_idx is None:\n",
    "            token_to_idx = {}\n",
    "        self._token_to_idx = token_to_idx\n",
    "\n",
    "        self._idx_to_token = {idx: token \n",
    "                              for token, idx in self._token_to_idx.items()}\n",
    "        \n",
    "        self._add_unk = add_unk\n",
    "        self._unk_token = unk_token\n",
    "        \n",
    "        self.unk_index = -1\n",
    "        if add_unk:\n",
    "            self.unk_index = self.add_token(unk_token) \n",
    "        \n",
    "        \n",
    "    def to_serializable(self):\n",
    "        \"\"\" returns a dictionary that can be serialized \"\"\"\n",
    "        return {'token_to_idx': self._token_to_idx, \n",
    "                'add_unk': self._add_unk, \n",
    "                'unk_token': self._unk_token}\n",
    "\n",
    "    @classmethod\n",
    "    def from_serializable(cls, contents):\n",
    "        \"\"\" instantiates the Vocabulary from a serialized dictionary \"\"\"\n",
    "        return cls(**contents)\n",
    "\n",
    "    def add_token(self, token):\n",
    "        \"\"\"Update mapping dicts based on the token.\n",
    "\n",
    "        Args:\n",
    "            token (str): the item to add into the Vocabulary\n",
    "        Returns:\n",
    "            index (int): the integer corresponding to the token\n",
    "        \"\"\"\n",
    "        if token in self._token_to_idx:\n",
    "            index = self._token_to_idx[token]\n",
    "        else:\n",
    "            index = len(self._token_to_idx)\n",
    "            self._token_to_idx[token] = index\n",
    "            self._idx_to_token[index] = token\n",
    "        return index\n",
    "    \n",
    "    def add_many(self, tokens):\n",
    "        \"\"\"Add a list of tokens into the Vocabulary\n",
    "        \n",
    "        Args:\n",
    "            tokens (list): a list of string tokens\n",
    "        Returns:\n",
    "            indices (list): a list of indices corresponding to the tokens\n",
    "        \"\"\"\n",
    "        return [self.add_token(token) for token in tokens]\n",
    "\n",
    "    def lookup_token(self, token):\n",
    "        \"\"\"Retrieve the index associated with the token \n",
    "          or the UNK index if token isn't present.\n",
    "        \n",
    "        Args:\n",
    "            token (str): the token to look up \n",
    "        Returns:\n",
    "            index (int): the index corresponding to the token\n",
    "        Notes:\n",
    "            `unk_index` needs to be >=0 (having been added into the Vocabulary) \n",
    "              for the UNK functionality \n",
    "        \"\"\"\n",
    "        if self.unk_index >= 0:\n",
    "            return self._token_to_idx.get(token, self.unk_index)\n",
    "        else:\n",
    "            return self._token_to_idx[token]\n",
    "\n",
    "    def lookup_index(self, index):\n",
    "        \"\"\"Return the token associated with the index\n",
    "        \n",
    "        Args: \n",
    "            index (int): the index to look up\n",
    "        Returns:\n",
    "            token (str): the token corresponding to the index\n",
    "        Raises:\n",
    "            KeyError: if the index is not in the Vocabulary\n",
    "        \"\"\"\n",
    "        if index not in self._idx_to_token:\n",
    "            raise KeyError(\"the index (%d) is not in the Vocabulary\" % index)\n",
    "        return self._idx_to_token[index]\n",
    "\n",
    "    def __str__(self):\n",
    "        return \"<Vocabulary(size=%d)>\" % len(self)\n",
    "\n",
    "    def __len__(self):\n",
    "        return len(self._token_to_idx)"
   ]
  },
  {
   "cell_type": "markdown",
   "metadata": {
    "id": "EihRBWjbuyB0"
   },
   "source": [
    "### The Vectorizer"
   ]
  },
  {
   "cell_type": "code",
   "execution_count": 8,
   "metadata": {
    "code_folding": [],
    "execution": {
     "iopub.execute_input": "2025-02-06T02:33:15.605031Z",
     "iopub.status.busy": "2025-02-06T02:33:15.604693Z",
     "iopub.status.idle": "2025-02-06T02:33:15.612986Z",
     "shell.execute_reply": "2025-02-06T02:33:15.611967Z",
     "shell.execute_reply.started": "2025-02-06T02:33:15.605006Z"
    },
    "executionInfo": {
     "elapsed": 4,
     "status": "ok",
     "timestamp": 1632258440793,
     "user": {
      "displayName": "Steve Geinitz",
      "photoUrl": "https://lh3.googleusercontent.com/a-/AOh14GjM_I7kh6h0lJDODuL8c-Z408Wa9BqEjLHLA5ekmA=s64",
      "userId": "14938465990641036306"
     },
     "user_tz": 360
    },
    "id": "xw6VEdJQuyB1",
    "trusted": true
   },
   "outputs": [],
   "source": [
    "class ReviewVectorizer(object):\n",
    "    \"\"\" The Vectorizer which coordinates the Vocabularies and puts them to use\"\"\"\n",
    "    def __init__(self, review_vocab, rating_vocab):\n",
    "        \"\"\"\n",
    "        Args:\n",
    "            review_vocab (Vocabulary): maps words to integers\n",
    "            rating_vocab (Vocabulary): maps class labels to integers\n",
    "        \"\"\"\n",
    "        self.review_vocab = review_vocab\n",
    "        self.rating_vocab = rating_vocab\n",
    "\n",
    "    def vectorize(self, review):\n",
    "        \"\"\"Create a collapsed one-hit vector for the review\n",
    "        \n",
    "        Args:\n",
    "            review (str): the review \n",
    "        Returns:\n",
    "            one_hot (np.ndarray): the collapsed one-hot encoding \n",
    "        \"\"\"\n",
    "        one_hot = np.zeros(len(self.review_vocab), dtype=np.float32)\n",
    "        \n",
    "        for token in review.split(\" \"):\n",
    "            if token not in string.punctuation:\n",
    "                one_hot[self.review_vocab.lookup_token(token)] = 1\n",
    "\n",
    "        return one_hot\n",
    "\n",
    "    @classmethod\n",
    "    def from_dataframe(cls, review_df, cutoff=20):\n",
    "        \"\"\"Instantiate the vectorizer from the dataset dataframe\n",
    "        \n",
    "        Args:\n",
    "            review_df (pandas.DataFrame): the review dataset\n",
    "            cutoff (int): the parameter for frequency-based filtering\n",
    "        Returns:\n",
    "            an instance of the ReviewVectorizer\n",
    "        \"\"\"\n",
    "        review_vocab = Vocabulary(add_unk=True)\n",
    "        rating_vocab = Vocabulary(add_unk=False)\n",
    "        stop_words = set(stopwords.words('english'))\n",
    "        \n",
    "        # Add ratings\n",
    "        for rating in sorted(set(review_df.rating)):\n",
    "            rating_vocab.add_token(rating)\n",
    "\n",
    "        # Add top words if count > provided count\n",
    "        word_counts = Counter()\n",
    "        for review in review_df.review:\n",
    "            for word in review.split(\" \"):\n",
    "                if word not in string.punctuation:\n",
    "                    word_counts[word] += 1\n",
    "               \n",
    "        for word, count in word_counts.items():\n",
    "            if count > cutoff and word not in stop_words:\n",
    "                review_vocab.add_token(word)\n",
    "\n",
    "        return cls(review_vocab, rating_vocab)\n",
    "\n",
    "    @classmethod\n",
    "    def from_serializable(cls, contents):\n",
    "        \"\"\"Instantiate a ReviewVectorizer from a serializable dictionary\n",
    "        \n",
    "        Args:\n",
    "            contents (dict): the serializable dictionary\n",
    "        Returns:\n",
    "            an instance of the ReviewVectorizer class\n",
    "        \"\"\"\n",
    "        review_vocab = Vocabulary.from_serializable(contents['review_vocab'])\n",
    "        rating_vocab =  Vocabulary.from_serializable(contents['rating_vocab'])\n",
    "\n",
    "        return cls(review_vocab=review_vocab, rating_vocab=rating_vocab)\n",
    "\n",
    "    def to_serializable(self):\n",
    "        \"\"\"Create the serializable dictionary for caching\n",
    "        \n",
    "        Returns:\n",
    "            contents (dict): the serializable dictionary\n",
    "        \"\"\"\n",
    "        return {'review_vocab': self.review_vocab.to_serializable(),\n",
    "                'rating_vocab': self.rating_vocab.to_serializable()}"
   ]
  },
  {
   "cell_type": "markdown",
   "metadata": {
    "id": "F4Rb7EGzuyB1"
   },
   "source": [
    "### The Dataset"
   ]
  },
  {
   "cell_type": "code",
   "execution_count": 9,
   "metadata": {
    "code_folding": [
     65
    ],
    "execution": {
     "iopub.execute_input": "2025-02-06T02:33:19.835692Z",
     "iopub.status.busy": "2025-02-06T02:33:19.835362Z",
     "iopub.status.idle": "2025-02-06T02:33:19.847500Z",
     "shell.execute_reply": "2025-02-06T02:33:19.846419Z",
     "shell.execute_reply.started": "2025-02-06T02:33:19.835666Z"
    },
    "executionInfo": {
     "elapsed": 112,
     "status": "ok",
     "timestamp": 1632258440902,
     "user": {
      "displayName": "Steve Geinitz",
      "photoUrl": "https://lh3.googleusercontent.com/a-/AOh14GjM_I7kh6h0lJDODuL8c-Z408Wa9BqEjLHLA5ekmA=s64",
      "userId": "14938465990641036306"
     },
     "user_tz": 360
    },
    "id": "o6G3UTf2uyB2",
    "trusted": true
   },
   "outputs": [],
   "source": [
    "class ReviewDataset(Dataset):\n",
    "    def __init__(self, review_df, vectorizer):\n",
    "        \"\"\"\n",
    "        Args:\n",
    "            review_df (pandas.DataFrame): the dataset\n",
    "            vectorizer (ReviewVectorizer): vectorizer instantiated from dataset\n",
    "        \"\"\"\n",
    "        self.review_df = review_df\n",
    "        self._vectorizer = vectorizer\n",
    "\n",
    "        self.train_df = self.review_df[self.review_df.split=='train']\n",
    "        self.train_size = len(self.train_df)\n",
    "\n",
    "        self.val_df = self.review_df[self.review_df.split=='val']\n",
    "        self.validation_size = len(self.val_df)\n",
    "\n",
    "        self.test_df = self.review_df[self.review_df.split=='test']\n",
    "        self.test_size = len(self.test_df)\n",
    "\n",
    "        self._lookup_dict = {'train': (self.train_df, self.train_size),\n",
    "                             'val': (self.val_df, self.validation_size),\n",
    "                             'test': (self.test_df, self.test_size)}\n",
    "\n",
    "        self.set_split('train')\n",
    "\n",
    "    @classmethod\n",
    "    def load_dataset_and_make_vectorizer(cls, review_csv):\n",
    "        \"\"\"Load dataset and make a new vectorizer from scratch\n",
    "        \n",
    "        Args:\n",
    "            review_csv (str): location of the dataset\n",
    "        Returns:\n",
    "            an instance of ReviewDataset\n",
    "        \"\"\"\n",
    "        review_df = pd.read_csv(review_csv)\n",
    "        train_review_df = review_df[review_df.split=='train']\n",
    "        return cls(review_df, ReviewVectorizer.from_dataframe(train_review_df))\n",
    "    \n",
    "    @classmethod\n",
    "    def load_dataset_and_load_vectorizer(cls, review_csv, vectorizer_filepath):\n",
    "        \"\"\"Load dataset and the corresponding vectorizer. \n",
    "        Used in the case in the vectorizer has been cached for re-use\n",
    "        \n",
    "        Args:\n",
    "            review_csv (str): location of the dataset\n",
    "            vectorizer_filepath (str): location of the saved vectorizer\n",
    "        Returns:\n",
    "            an instance of ReviewDataset\n",
    "        \"\"\"\n",
    "        review_df = pd.read_csv(review_csv)\n",
    "        vectorizer = cls.load_vectorizer_only(vectorizer_filepath)\n",
    "        return cls(review_df, vectorizer)\n",
    "\n",
    "    @staticmethod\n",
    "    def load_vectorizer_only(vectorizer_filepath):\n",
    "        \"\"\"a static method for loading the vectorizer from file\n",
    "        \n",
    "        Args:\n",
    "            vectorizer_filepath (str): the location of the serialized vectorizer\n",
    "        Returns:\n",
    "            an instance of ReviewVectorizer\n",
    "        \"\"\"\n",
    "        with open(vectorizer_filepath) as fp:\n",
    "            return ReviewVectorizer.from_serializable(json.load(fp))\n",
    "\n",
    "    def save_vectorizer(self, vectorizer_filepath):\n",
    "        \"\"\"saves the vectorizer to disk using json\n",
    "        \n",
    "        Args:\n",
    "            vectorizer_filepath (str): the location to save the vectorizer\n",
    "        \"\"\"\n",
    "        with open(vectorizer_filepath, \"w\") as fp:\n",
    "            json.dump(self._vectorizer.to_serializable(), fp)\n",
    "\n",
    "    def get_vectorizer(self):\n",
    "        \"\"\" returns the vectorizer \"\"\"\n",
    "        return self._vectorizer\n",
    "\n",
    "    def set_split(self, split=\"train\"):\n",
    "        \"\"\" selects the splits in the dataset using a column in the dataframe \n",
    "        \n",
    "        Args:\n",
    "            split (str): one of \"train\", \"val\", or \"test\"\n",
    "        \"\"\"\n",
    "        self._target_split = split\n",
    "        self._target_df, self._target_size = self._lookup_dict[split]\n",
    "\n",
    "    def __len__(self):\n",
    "        return self._target_size\n",
    "\n",
    "    def __getitem__(self, index):\n",
    "        \"\"\"the primary entry point method for PyTorch datasets\n",
    "        \n",
    "        Args:\n",
    "            index (int): the index to the data point \n",
    "        Returns:\n",
    "            a dictionary holding the data point's features (x_data) and label (y_target)\n",
    "        \"\"\"\n",
    "        row = self._target_df.iloc[index]\n",
    "\n",
    "        review_vector = \\\n",
    "            self._vectorizer.vectorize(row.review)\n",
    "\n",
    "        rating_index = \\\n",
    "            self._vectorizer.rating_vocab.lookup_token(row.rating)\n",
    "\n",
    "        return {'x_data': review_vector,\n",
    "                'y_target': rating_index}\n",
    "\n",
    "    def get_num_batches(self, batch_size):\n",
    "        \"\"\"Given a batch size, return the number of batches in the dataset\n",
    "        \n",
    "        Args:\n",
    "            batch_size (int)\n",
    "        Returns:\n",
    "            number of batches in the dataset\n",
    "        \"\"\"\n",
    "        return len(self) // batch_size  \n",
    "    \n",
    "def generate_batches(dataset, batch_size, shuffle=True,\n",
    "                     drop_last=True, device=\"cpu\"):\n",
    "    \"\"\"\n",
    "    A generator function which wraps the PyTorch DataLoader. It will \n",
    "    ensure each tensor is at the correct device location.\n",
    "    \"\"\"\n",
    "    dataloader = DataLoader(dataset=dataset, batch_size=batch_size,\n",
    "                            shuffle=shuffle, drop_last=drop_last)\n",
    "\n",
    "    for data_dict in dataloader:\n",
    "        out_data_dict = {}\n",
    "        for name, tensor in data_dict.items():\n",
    "            out_data_dict[name] = data_dict[name].to(device)\n",
    "        yield out_data_dict"
   ]
  },
  {
   "cell_type": "markdown",
   "metadata": {
    "id": "tqEhBKAkuyB3"
   },
   "source": [
    "## Defining the Model Class\n",
    "\n",
    "As with other examples we saw, the typical approach with PyTorch is to inherit from the `nn.Module` baseclass. This is then extended and customized per your model's architecture (e.g. how many layers, units per layer, etc.) and task (e.g. output layer and activation function). "
   ]
  },
  {
   "cell_type": "code",
<<<<<<< HEAD
   "execution_count": null,
=======
   "execution_count": 80,
>>>>>>> 2556a6f (my branch)
   "metadata": {
    "code_folding": [],
    "execution": {
     "iopub.execute_input": "2025-02-06T02:33:25.904054Z",
     "iopub.status.busy": "2025-02-06T02:33:25.903670Z",
     "iopub.status.idle": "2025-02-06T02:33:25.909957Z",
     "shell.execute_reply": "2025-02-06T02:33:25.908961Z",
     "shell.execute_reply.started": "2025-02-06T02:33:25.904027Z"
    },
    "executionInfo": {
     "elapsed": 96,
     "status": "ok",
     "timestamp": 1632260003297,
     "user": {
      "displayName": "Steve Geinitz",
      "photoUrl": "https://lh3.googleusercontent.com/a-/AOh14GjM_I7kh6h0lJDODuL8c-Z408Wa9BqEjLHLA5ekmA=s64",
      "userId": "14938465990641036306"
     },
     "user_tz": 360
    },
    "id": "C7jQxJ-quyB4",
    "trusted": true
   },
   "outputs": [],
   "source": [
    "# Data modified: 2/16/2025\n",
    "# Modifications made by Ling Thang\n",
    "\n",
    "class ReviewClassifier(nn.Module):\n",
<<<<<<< HEAD
    "    \"\"\" a simple perceptron based classifier \"\"\"\n",
    "    def __init__(self, num_features, hidden_features):\n",
=======
    "    \"\"\"A simple perceptron-based classifier.\"\"\"\n",
    "    \n",
    "    def __init__(self, num_features, hidden_features, dropout_rate=0.90):\n",
>>>>>>> 2556a6f (my branch)
    "        \"\"\"\n",
    "        Args:\n",
    "            num_features (int): the size of the input feature vector.\n",
    "            hidden_features (int): number of units in the hidden layer.\n",
    "            dropout_rate (float): probability for dropout.\n",
    "        \"\"\"\n",
    "        super(ReviewClassifier, self).__init__()\n",
    "        self.dropout = nn.Dropout(p=dropout_rate)\n",
    "        self.fc1 = nn.Linear(in_features=num_features, out_features=hidden_features)\n",
    "        self.fc2 = nn.Linear(in_features=hidden_features, out_features=16)\n",
    "        self.fc3 = nn.Linear(in_features=16, out_features=1)\n",
    "        \n",
    "    def forward(self, x_in, apply_sigmoid=False, apply_dropout=False):\n",
    "        \"\"\"\n",
    "        The forward pass of the classifier\n",
    "        \n",
    "        Args:\n",
    "            x_in (torch.Tensor): Input data tensor of shape (batch, num_features).\n",
    "            apply_sigmoid (bool): Whether to apply a sigmoid at the end.\n",
    "                                  Set to True for binary classification when not using\n",
    "                                  BCEWithLogitsLoss directly.\n",
    "            apply_dropout (bool): Whether to apply dropout explicitly in the forward pass.\n",
    "            \n",
    "        Returns:\n",
    "            torch.Tensor: Output tensor with shape (batch,).\n",
    "        \"\"\"\n",
    "        # First layer + ReLU\n",
    "        out = self.fc1(x_in)\n",
    "        out = F.relu(out)\n",
    "        if apply_dropout:\n",
    "            out = self.dropout(out)\n",
    "        \n",
    "        # Second layer + ReLU\n",
    "        out = self.fc2(out)\n",
    "        out = F.relu(out)\n",
    "        if apply_dropout:\n",
    "            out = self.dropout(out)\n",
    "        \n",
    "        # Final layer\n",
    "        y_out = self.fc3(out).squeeze()\n",
    "        \n",
    "        # Optional Sigmoid\n",
    "        if apply_sigmoid:\n",
    "            y_out = torch.sigmoid(y_out)\n",
    "            \n",
    "        return y_out"
   ]
  },
  {
   "cell_type": "markdown",
   "metadata": {
    "id": "jP_VhtLBuyB4"
   },
   "source": [
    "## Training Routine\n",
    "\n",
    "\n",
    "### Helper functions"
   ]
  },
  {
   "cell_type": "code",
   "execution_count": 11,
   "metadata": {
    "code_folding": [],
    "execution": {
     "iopub.execute_input": "2025-02-06T02:33:29.245690Z",
     "iopub.status.busy": "2025-02-06T02:33:29.245356Z",
     "iopub.status.idle": "2025-02-06T02:33:29.252886Z",
     "shell.execute_reply": "2025-02-06T02:33:29.251720Z",
     "shell.execute_reply.started": "2025-02-06T02:33:29.245664Z"
    },
    "executionInfo": {
     "elapsed": 3,
     "status": "ok",
     "timestamp": 1632258440903,
     "user": {
      "displayName": "Steve Geinitz",
      "photoUrl": "https://lh3.googleusercontent.com/a-/AOh14GjM_I7kh6h0lJDODuL8c-Z408Wa9BqEjLHLA5ekmA=s64",
      "userId": "14938465990641036306"
     },
     "user_tz": 360
    },
    "id": "b4Mhlph_uyB5",
    "trusted": true
   },
   "outputs": [],
   "source": [
    "def make_train_state(args):\n",
    "    return {'stop_early': True,\n",
    "            'early_stopping_step': 0,\n",
    "            'early_stopping_best_val': 1e6,\n",
    "            'learning_rate': args.learning_rate,\n",
    "            'epoch_index': 0,\n",
    "            'train_loss': [],\n",
    "            'train_acc': [],\n",
    "            'val_loss': [],\n",
    "            'val_acc': [],\n",
    "            'test_loss': -1,\n",
    "            'test_acc': -1,\n",
    "            'model_filename': args.model_state_file}\n",
    "\n",
    "def update_train_state(args, model, train_state):\n",
    "    \"\"\"Handle the training state updates.\n",
    "\n",
    "    Components:\n",
    "     - Early Stopping: Prevent overfitting.\n",
    "     - Model Checkpoint: Model is saved if the model is better\n",
    "\n",
    "    :param args: main arguments\n",
    "    :param model: model to train\n",
    "    :param train_state: a dictionary representing the training state values\n",
    "    :returns:\n",
    "        a new train_state\n",
    "    \"\"\"\n",
    "\n",
    "    # Save one model at least\n",
    "    if train_state['epoch_index'] == 0:\n",
    "        torch.save(model.state_dict(), train_state['model_filename'])\n",
    "        train_state['stop_early'] = False\n",
    "\n",
    "    # Save model if performance improved\n",
    "    elif train_state['epoch_index'] >= 1:\n",
    "        loss_tm1, loss_t = train_state['val_loss'][-2:]\n",
    "\n",
    "        # If loss worsened\n",
    "        if loss_t >= train_state['early_stopping_best_val']:\n",
    "            # Update step\n",
    "            train_state['early_stopping_step'] += 1\n",
    "        # Loss decreased\n",
    "        else:\n",
    "            # Save the best model\n",
    "            if loss_t < train_state['early_stopping_best_val']:\n",
    "                torch.save(model.state_dict(), train_state['model_filename'])\n",
    "\n",
    "            # Reset early stopping step\n",
    "            train_state['early_stopping_step'] = 0\n",
    "\n",
    "        # Stop early ?\n",
    "        train_state['stop_early'] = \\\n",
    "            train_state['early_stopping_step'] >= args.early_stopping_criteria\n",
    "\n",
    "    return train_state\n",
    "\n",
    "def compute_accuracy(y_pred, y_target):\n",
    "    y_target = y_target.cpu()\n",
    "    y_pred_indices = (torch.sigmoid(y_pred)>0.5).cpu().long()#.max(dim=1)[1]\n",
    "    n_correct = torch.eq(y_pred_indices, y_target).sum().item()\n",
    "    return n_correct / len(y_pred_indices) * 100"
   ]
  },
  {
   "cell_type": "markdown",
   "metadata": {
    "id": "UEK1munnuyB5"
   },
   "source": [
    "#### General utilities\n",
    "\n",
    "A couple of general helper functions. The first, which sets the random seed is important since you will generally want to be able recreate a model training run exactly. Because there are so many places where random number generation is needed though (e.g. initial weight values, sampling of batches, etc.) it is important the the random seed is set so that the exact same random numbers are generated. Note that both `numpy` and `PyTorch` each have their own random number generation, so both need to be set. "
   ]
  },
  {
   "cell_type": "code",
   "execution_count": 12,
   "metadata": {
    "execution": {
     "iopub.execute_input": "2025-02-06T02:33:33.175657Z",
     "iopub.status.busy": "2025-02-06T02:33:33.175340Z",
     "iopub.status.idle": "2025-02-06T02:33:33.180331Z",
     "shell.execute_reply": "2025-02-06T02:33:33.179354Z",
     "shell.execute_reply.started": "2025-02-06T02:33:33.175631Z"
    },
    "executionInfo": {
     "elapsed": 106,
     "status": "ok",
     "timestamp": 1632258441007,
     "user": {
      "displayName": "Steve Geinitz",
      "photoUrl": "https://lh3.googleusercontent.com/a-/AOh14GjM_I7kh6h0lJDODuL8c-Z408Wa9BqEjLHLA5ekmA=s64",
      "userId": "14938465990641036306"
     },
     "user_tz": 360
    },
    "id": "kGBkYFU6uyB6",
    "trusted": true
   },
   "outputs": [],
   "source": [
    "def set_seed_everywhere(seed, cuda):\n",
    "    np.random.seed(seed)\n",
    "    torch.manual_seed(seed)\n",
    "    if cuda:\n",
    "        torch.cuda.manual_seed_all(seed)\n",
    "\n",
    "def handle_dirs(dirpath):\n",
    "    if not os.path.exists(dirpath):\n",
    "        os.makedirs(dirpath)"
   ]
  },
  {
   "cell_type": "markdown",
   "metadata": {
    "id": "vkKHBPdfuyB6"
   },
   "source": [
    "### Settings and prep work"
   ]
  },
  {
   "cell_type": "code",
   "execution_count": 13,
   "metadata": {
    "colab": {
     "base_uri": "https://localhost:8080/"
    },
    "execution": {
     "iopub.execute_input": "2025-02-06T02:42:14.941183Z",
     "iopub.status.busy": "2025-02-06T02:42:14.940866Z",
     "iopub.status.idle": "2025-02-06T02:42:14.950594Z",
     "shell.execute_reply": "2025-02-06T02:42:14.949760Z",
     "shell.execute_reply.started": "2025-02-06T02:42:14.941154Z"
    },
    "executionInfo": {
     "elapsed": 100,
     "status": "ok",
     "timestamp": 1632260080326,
     "user": {
      "displayName": "Steve Geinitz",
      "photoUrl": "https://lh3.googleusercontent.com/a-/AOh14GjM_I7kh6h0lJDODuL8c-Z408Wa9BqEjLHLA5ekmA=s64",
      "userId": "14938465990641036306"
     },
     "user_tz": 360
    },
    "id": "Ia3YLiyvuyB6",
    "outputId": "1aeac61a-b921-4833-ae21-0f54a2743ce5",
    "trusted": true
   },
   "outputs": [
    {
     "name": "stdout",
     "output_type": "stream",
     "text": [
      "Expanded filepaths: \n",
      "\thttps://raw.githubusercontent.com/sgeinitz/DSML4220/main/data/yelp_reviews.csv\n",
      "\t~/data/cs39aa/vectorizer.json\n",
      "\t~/data/cs39aa/model.pth\n",
      "Using CUDA: False\n"
     ]
    }
   ],
   "source": [
    "# Setup information about how to name and locate data, hyperparams, etc.\n",
    "args = Namespace(\n",
    "    # Input data file (from preprocessing step)\n",
    "    #input_data_path='gdrive/MyDrive/Colab Data/',\n",
    "    input_data_path='~/data/',\n",
    "    review_csv='https://raw.githubusercontent.com/sgeinitz/DSML4220/main/data/yelp_reviews.csv',\n",
    "    # Output data and path information\n",
    "    #frequency_cutoff=25,\n",
    "    model_state_file='model.pth',\n",
    "    #save_dir='gdrive/MyDrive/Colab Data/yelp_models/',\n",
    "    save_dir='~/data/dsml4220/',\n",
    "    vectorizer_file='vectorizer.json',\n",
    "    # Training hyper parameters\n",
    "    batch_size=1000,\n",
    "    early_stopping_criteria=3,\n",
    "    learning_rate=0.001,\n",
    "    num_epochs=6,\n",
    "    seed=42,\n",
    "    # Runtime options\n",
    "    catch_keyboard_interrupt=True,\n",
    "    cuda=True,\n",
    "    expand_filepaths_to_save_dir=True,\n",
    "    reload_from_files=False,\n",
    ")\n",
    "\n",
    "# Expand out the paths and confirm they are correct\n",
    "if args.expand_filepaths_to_save_dir:\n",
    "    if 'https' not in args.review_csv:\n",
    "        args.review_csv = os.path.join(args.input_data_path, args.review_csv)\n",
    "    args.vectorizer_file = os.path.join(args.save_dir, args.vectorizer_file)\n",
    "    args.model_state_file = os.path.join(args.save_dir, args.model_state_file)    \n",
    "    print(\"Expanded filepaths: \")\n",
    "    print(\"\\t{}\".format(args.review_csv))\n",
    "    print(\"\\t{}\".format(args.vectorizer_file))\n",
    "    print(\"\\t{}\".format(args.model_state_file))\n",
    "\n",
    "# Check CUDA\n",
    "if not torch.cuda.is_available():\n",
    "    args.cuda = False\n",
    "\n",
    "print(\"Using CUDA: {}\".format(args.cuda))\n",
    "\n",
    "args.device = torch.device(\"cuda\" if args.cuda else \"cpu\")\n",
    "\n",
    "# Set seed for reproducibility\n",
    "set_seed_everywhere(args.seed, args.cuda)\n",
    "\n",
    "# handle dirs\n",
    "handle_dirs(args.save_dir)"
   ]
  },
  {
   "cell_type": "markdown",
   "metadata": {
    "id": "UMIuUKIAuyB7"
   },
   "source": [
    "### Initializations"
   ]
  },
  {
   "cell_type": "code",
<<<<<<< HEAD
   "execution_count": null,
   "metadata": {},
   "outputs": [],
   "source": [
    "# if the cell below has an error due to nltk stopwords, then uncomment the followign lines and run them, then re-run the cell below\n",
    "\n",
    "#import nltk\n",
    "#nltk.download('stopwords')"
   ]
  },
  {
   "cell_type": "code",
   "execution_count": null,
=======
   "execution_count": 19,
>>>>>>> 2556a6f (my branch)
   "metadata": {
    "colab": {
     "base_uri": "https://localhost:8080/"
    },
    "execution": {
     "iopub.execute_input": "2025-02-06T02:42:16.389527Z",
     "iopub.status.busy": "2025-02-06T02:42:16.389191Z",
     "iopub.status.idle": "2025-02-06T02:42:20.523023Z",
     "shell.execute_reply": "2025-02-06T02:42:20.521990Z",
     "shell.execute_reply.started": "2025-02-06T02:42:16.389497Z"
    },
    "executionInfo": {
     "elapsed": 6003,
     "status": "ok",
     "timestamp": 1632258499409,
     "user": {
      "displayName": "Steve Geinitz",
      "photoUrl": "https://lh3.googleusercontent.com/a-/AOh14GjM_I7kh6h0lJDODuL8c-Z408Wa9BqEjLHLA5ekmA=s64",
      "userId": "14938465990641036306"
     },
     "user_tz": 360
    },
    "id": "vseHjsbhuyB7",
    "outputId": "7d3ef1b7-2bfa-490e-e810-1211d9bad944",
    "trusted": true
   },
   "outputs": [
    {
     "name": "stdout",
     "output_type": "stream",
     "text": [
      "Loading dataset and creating vectorizer\n"
     ]
    }
   ],
   "source": [
    "if args.reload_from_files:\n",
    "    # training from a checkpoint\n",
    "    print(\"Loading dataset and vectorizer\")\n",
    "    dataset = ReviewDataset.load_dataset_and_load_vectorizer(args.review_csv,\n",
    "                                                            args.vectorizer_file)\n",
    "else:\n",
    "    print(\"Loading dataset and creating vectorizer\")\n",
    "    # create dataset and vectorizer\n",
    "    dataset = ReviewDataset.load_dataset_and_make_vectorizer(args.review_csv)\n",
    "    dataset.save_vectorizer(args.vectorizer_file)    \n",
    "vectorizer = dataset.get_vectorizer()\n"
   ]
  },
  {
   "cell_type": "markdown",
   "metadata": {},
   "source": [
    "### Quick Data Exploration"
   ]
  },
  {
   "cell_type": "code",
   "execution_count": 20,
   "metadata": {
    "colab": {
     "base_uri": "https://localhost:8080/",
     "height": 110
    },
    "execution": {
     "iopub.execute_input": "2025-02-06T02:42:33.841724Z",
     "iopub.status.busy": "2025-02-06T02:42:33.841380Z",
     "iopub.status.idle": "2025-02-06T02:42:33.847229Z",
     "shell.execute_reply": "2025-02-06T02:42:33.846266Z",
     "shell.execute_reply.started": "2025-02-06T02:42:33.841670Z"
    },
    "executionInfo": {
     "elapsed": 111,
     "status": "ok",
     "timestamp": 1632259068517,
     "user": {
      "displayName": "Steve Geinitz",
      "photoUrl": "https://lh3.googleusercontent.com/a-/AOh14GjM_I7kh6h0lJDODuL8c-Z408Wa9BqEjLHLA5ekmA=s64",
      "userId": "14938465990641036306"
     },
     "user_tz": 360
    },
    "id": "SMeLU8-8Hsuh",
    "outputId": "27007408-60da-424b-f46a-cc781b902ca7",
    "trusted": true
   },
   "outputs": [
    {
     "data": {
      "text/plain": [
       "'if i could give a of a star i would . the service is terrible ! we were first sat where it was freezing and the waiter was very unprofessional made it uncomfortable with stupid little remarks . we then moved to the bar area because that the only place you can get the happy hour appetizers , which isn t unheard of but would have been nice if the waiter promoted what they have . after ordering our main course i got shrimp and as the food came out they told me they were out of cocktail sauce . i then waited minutes for extra lemon which i never got because no one checked on us after the first time again . this was by far the worst experience i ve ever had anywhere . never again . save your money . '"
      ]
     },
     "execution_count": 20,
     "metadata": {},
     "output_type": "execute_result"
    }
   ],
   "source": [
    "dataset.review_df['review'][4]"
   ]
  },
  {
   "cell_type": "code",
   "execution_count": 21,
   "metadata": {
    "execution": {
     "iopub.execute_input": "2025-02-06T02:42:43.743229Z",
     "iopub.status.busy": "2025-02-06T02:42:43.742880Z",
     "iopub.status.idle": "2025-02-06T02:42:43.748818Z",
     "shell.execute_reply": "2025-02-06T02:42:43.747818Z",
     "shell.execute_reply.started": "2025-02-06T02:42:43.743195Z"
    },
    "trusted": true
   },
   "outputs": [
    {
     "data": {
      "text/plain": [
       "'negative'"
      ]
     },
     "execution_count": 21,
     "metadata": {},
     "output_type": "execute_result"
    }
   ],
   "source": [
    "dataset.review_df['rating'][4]"
   ]
  },
  {
   "cell_type": "code",
   "execution_count": 22,
   "metadata": {
    "colab": {
     "base_uri": "https://localhost:8080/",
     "height": 56
    },
    "execution": {
     "iopub.execute_input": "2025-02-06T02:42:44.471625Z",
     "iopub.status.busy": "2025-02-06T02:42:44.471246Z",
     "iopub.status.idle": "2025-02-06T02:42:44.477422Z",
     "shell.execute_reply": "2025-02-06T02:42:44.476281Z",
     "shell.execute_reply.started": "2025-02-06T02:42:44.471583Z"
    },
    "executionInfo": {
     "elapsed": 103,
     "status": "ok",
     "timestamp": 1632259072958,
     "user": {
      "displayName": "Steve Geinitz",
      "photoUrl": "https://lh3.googleusercontent.com/a-/AOh14GjM_I7kh6h0lJDODuL8c-Z408Wa9BqEjLHLA5ekmA=s64",
      "userId": "14938465990641036306"
     },
     "user_tz": 360
    },
    "id": "m1eTt9LvH8W-",
    "outputId": "0165a8b2-15cd-4bd9-e0dc-9e0cfc0de593",
    "trusted": true
   },
   "outputs": [
    {
     "data": {
      "text/plain": [
       "'dr . tom is wonderful , at least the couple times i have been able to see her . nthey have so many patients that you can never get a appointment with your doctor , they are booked at least months out . it s about volume here . '"
      ]
     },
     "execution_count": 22,
     "metadata": {},
     "output_type": "execute_result"
    }
   ],
   "source": [
    "dataset.test_df['review'].iloc[4]"
   ]
  },
  {
   "cell_type": "code",
   "execution_count": 23,
   "metadata": {
    "colab": {
     "base_uri": "https://localhost:8080/",
     "height": 56
    },
    "execution": {
     "iopub.execute_input": "2025-02-06T02:42:48.336909Z",
     "iopub.status.busy": "2025-02-06T02:42:48.336548Z",
     "iopub.status.idle": "2025-02-06T02:42:48.342276Z",
     "shell.execute_reply": "2025-02-06T02:42:48.341564Z",
     "shell.execute_reply.started": "2025-02-06T02:42:48.336878Z"
    },
    "executionInfo": {
     "elapsed": 111,
     "status": "ok",
     "timestamp": 1632259074120,
     "user": {
      "displayName": "Steve Geinitz",
      "photoUrl": "https://lh3.googleusercontent.com/a-/AOh14GjM_I7kh6h0lJDODuL8c-Z408Wa9BqEjLHLA5ekmA=s64",
      "userId": "14938465990641036306"
     },
     "user_tz": 360
    },
    "id": "5kt7Z599Ig6T",
    "outputId": "bae22290-1db1-4d58-c93d-5ee3e1b6e3a1",
    "trusted": true
   },
   "outputs": [
    {
     "data": {
      "text/plain": [
       "'dr . tom is wonderful , at least the couple times i have been able to see her . nthey have so many patients that you can never get a appointment with your doctor , they are booked at least months out . it s about volume here . '"
      ]
     },
     "execution_count": 23,
     "metadata": {},
     "output_type": "execute_result"
    }
   ],
   "source": [
    "dataset.set_split('test')\n",
    "dataset._target_df['review'].iloc[4]"
   ]
  },
  {
   "cell_type": "code",
   "execution_count": 24,
   "metadata": {
    "colab": {
     "base_uri": "https://localhost:8080/"
    },
    "execution": {
     "iopub.execute_input": "2025-02-06T02:42:57.182820Z",
     "iopub.status.busy": "2025-02-06T02:42:57.182458Z",
     "iopub.status.idle": "2025-02-06T02:42:57.188157Z",
     "shell.execute_reply": "2025-02-06T02:42:57.187472Z",
     "shell.execute_reply.started": "2025-02-06T02:42:57.182791Z"
    },
    "executionInfo": {
     "elapsed": 115,
     "status": "ok",
     "timestamp": 1632259100720,
     "user": {
      "displayName": "Steve Geinitz",
      "photoUrl": "https://lh3.googleusercontent.com/a-/AOh14GjM_I7kh6h0lJDODuL8c-Z408Wa9BqEjLHLA5ekmA=s64",
      "userId": "14938465990641036306"
     },
     "user_tz": 360
    },
    "id": "0_UERIeTJAVd",
    "outputId": "ae140121-701a-4326-ecd4-9b78033ec493",
    "trusted": true
   },
   "outputs": [
    {
     "data": {
      "text/plain": [
       "(8137,)"
      ]
     },
     "execution_count": 24,
     "metadata": {},
     "output_type": "execute_result"
    }
   ],
   "source": [
    "dataset[4]['x_data'].shape"
   ]
  },
  {
   "cell_type": "code",
   "execution_count": 25,
   "metadata": {
    "execution": {
     "iopub.execute_input": "2025-02-06T02:43:00.728244Z",
     "iopub.status.busy": "2025-02-06T02:43:00.727936Z",
     "iopub.status.idle": "2025-02-06T02:43:00.755107Z",
     "shell.execute_reply": "2025-02-06T02:43:00.754291Z",
     "shell.execute_reply.started": "2025-02-06T02:43:00.728221Z"
    },
    "trusted": true
   },
   "outputs": [
    {
     "name": "stdout",
     "output_type": "stream",
     "text": [
      " pos i=   0 has token value of: 1.0 (token was: <UNK>)\n",
      " pos i=  56 has token value of: 1.0 (token was: get)\n",
      " pos i= 251 has token value of: 1.0 (token was: couple)\n",
      " pos i= 286 has token value of: 1.0 (token was: never)\n",
      " pos i= 442 has token value of: 1.0 (token was: wonderful)\n",
      " pos i= 502 has token value of: 1.0 (token was: appointment)\n",
      " pos i= 514 has token value of: 1.0 (token was: doctor)\n",
      " pos i= 551 has token value of: 1.0 (token was: months)\n",
      " pos i= 576 has token value of: 1.0 (token was: least)\n",
      " pos i= 600 has token value of: 1.0 (token was: many)\n",
      " pos i= 646 has token value of: 1.0 (token was: see)\n",
      " pos i= 659 has token value of: 1.0 (token was: nthey)\n",
      " pos i= 812 has token value of: 1.0 (token was: times)\n",
      " pos i=1032 has token value of: 1.0 (token was: able)\n",
      " pos i=1047 has token value of: 1.0 (token was: volume)\n",
      " pos i=1305 has token value of: 1.0 (token was: dr)\n",
      " pos i=1320 has token value of: 1.0 (token was: patients)\n",
      " pos i=1351 has token value of: 1.0 (token was: tom)\n",
      " pos i=1614 has token value of: 1.0 (token was: booked)\n"
     ]
    }
   ],
   "source": [
    "for i, tokflag in enumerate(dataset[4]['x_data']):\n",
    "    if tokflag > 0:\n",
    "#        print(f\" pos i={i:4.0f} has a non-zero token value of: {tokflag} (original tok was: {vectorizer.review_vocab._idx_to_token[i]})\")\n",
    "        print(f\" pos i={i:4.0f} has token value of: {tokflag} (token was: {vectorizer.review_vocab.lookup_index(i)})\")"
   ]
  },
  {
   "cell_type": "code",
   "execution_count": 26,
   "metadata": {
    "execution": {
     "iopub.execute_input": "2025-02-06T03:28:17.188608Z",
     "iopub.status.busy": "2025-02-06T03:28:17.188296Z",
     "iopub.status.idle": "2025-02-06T03:28:17.200523Z",
     "shell.execute_reply": "2025-02-06T03:28:17.199663Z",
     "shell.execute_reply.started": "2025-02-06T03:28:17.188584Z"
    },
    "executionInfo": {
     "elapsed": 9,
     "status": "aborted",
     "timestamp": 1632258318580,
     "user": {
      "displayName": "Steve Geinitz",
      "photoUrl": "https://lh3.googleusercontent.com/a-/AOh14GjM_I7kh6h0lJDODuL8c-Z408Wa9BqEjLHLA5ekmA=s64",
      "userId": "14938465990641036306"
     },
     "user_tz": 360
    },
    "id": "QBoq1XdOZ_GN",
    "trusted": true
   },
   "outputs": [
    {
     "name": "stdout",
     "output_type": "stream",
     "text": [
      " 0 -> <UNK>\n",
      " 1 -> think\n",
      " 2 -> filiberto\n",
      " 3 -> good\n",
      " 4 -> food\n",
      " 5 -> like\n",
      " 6 -> place\n",
      " 7 -> tacos\n",
      " 8 -> dry\n",
      " 9 -> tasteless\n",
      "10 -> lukewarm\n",
      "11 -> beans\n",
      "12 -> fluffy\n",
      "13 -> rice\n",
      "14 -> thing\n",
      "15 -> love\n",
      "16 -> gilbert\n",
      "17 -> want\n",
      "18 -> support\n",
      "19 -> mom\n",
      "20 -> pop\n",
      "21 -> nhow\n",
      "22 -> around\n",
      "23 -> long\n",
      "24 -> beyond\n",
      "25 -> driven\n",
      "26 -> years\n",
      "27 -> figured\n",
      "28 -> must\n",
      "29 -> great\n"
     ]
    }
   ],
   "source": [
    "#vectorizer.review_vocab._token_to_idx\n",
    "for key, val in vectorizer.review_vocab._idx_to_token.items():\n",
    "  if key < 30:\n",
    "    print(f\"{key:2.0f} -> {val}\")"
   ]
  },
  {
   "cell_type": "markdown",
   "metadata": {},
   "source": [
    "The `vectorizer` even stores the labels themselves (i.e. the Yelp review classification)  in Python dictionaries."
   ]
  },
  {
   "cell_type": "code",
   "execution_count": 27,
   "metadata": {
    "execution": {
     "iopub.execute_input": "2025-02-06T03:29:26.621526Z",
     "iopub.status.busy": "2025-02-06T03:29:26.621177Z",
     "iopub.status.idle": "2025-02-06T03:29:26.626378Z",
     "shell.execute_reply": "2025-02-06T03:29:26.625555Z",
     "shell.execute_reply.started": "2025-02-06T03:29:26.621497Z"
    },
    "executionInfo": {
     "elapsed": 60,
     "status": "aborted",
     "timestamp": 1632258318632,
     "user": {
      "displayName": "Steve Geinitz",
      "photoUrl": "https://lh3.googleusercontent.com/a-/AOh14GjM_I7kh6h0lJDODuL8c-Z408Wa9BqEjLHLA5ekmA=s64",
      "userId": "14938465990641036306"
     },
     "user_tz": 360
    },
    "id": "akMEBK7HfQY7",
    "trusted": true
   },
   "outputs": [
    {
     "name": "stdout",
     "output_type": "stream",
     "text": [
      "{0: 'negative', 1: 'positive'}\n",
      "{'negative': 0, 'positive': 1}\n"
     ]
    }
   ],
   "source": [
    "print(vectorizer.rating_vocab._idx_to_token)\n",
    "print(vectorizer.rating_vocab._token_to_idx)"
   ]
  },
  {
   "cell_type": "markdown",
   "metadata": {
    "id": "veZ8S_qvuyB8"
   },
   "source": [
    "### Training loop"
   ]
  },
  {
   "cell_type": "markdown",
   "metadata": {},
   "source": [
    "Let's declare/instantiate our model in a cell separate from the training run itself so that we can re-run it indepedently of other set up steps. This way if we change model architecture we can simply re-run this cell. "
   ]
  },
  {
   "cell_type": "code",
<<<<<<< HEAD
   "execution_count": null,
=======
   "execution_count": 86,
>>>>>>> 2556a6f (my branch)
   "metadata": {
    "execution": {
     "iopub.execute_input": "2025-02-06T02:52:00.721731Z",
     "iopub.status.busy": "2025-02-06T02:52:00.721355Z",
     "iopub.status.idle": "2025-02-06T02:52:00.757669Z",
     "shell.execute_reply": "2025-02-06T02:52:00.757007Z",
     "shell.execute_reply.started": "2025-02-06T02:52:00.721673Z"
    },
    "executionInfo": {
     "elapsed": 87,
     "status": "ok",
     "timestamp": 1632260092491,
     "user": {
      "displayName": "Steve Geinitz",
      "photoUrl": "https://lh3.googleusercontent.com/a-/AOh14GjM_I7kh6h0lJDODuL8c-Z408Wa9BqEjLHLA5ekmA=s64",
      "userId": "14938465990641036306"
     },
     "user_tz": 360
    },
    "id": "rKXPHjqa5JGK",
    "trusted": true
   },
   "outputs": [],
   "source": [
<<<<<<< HEAD
    "classifier = ReviewClassifier(num_features=len(vectorizer.review_vocab), hidden_features=128)"
=======
    "classifier = ReviewClassifier(num_features=len(vectorizer.review_vocab), hidden_features=256, dropout_rate=0.50)"
>>>>>>> 2556a6f (my branch)
   ]
  },
  {
   "cell_type": "code",
   "execution_count": 87,
   "metadata": {
    "code_folding": [
     30
    ],
    "colab": {
     "base_uri": "https://localhost:8080/",
     "height": 113,
     "referenced_widgets": [
      "8ff6cc5cad9b405690b63c7bd9bf4fa1",
      "9bcfd8c6c38c4797bf56af3b5f64c4db",
      "b62409020f55441bb1f4b8682c35c475",
      "6b855b3ca197469289c512e76bd612da",
      "bbd0f5718e0f4fa4a1e8d63f8297c22c",
      "25650f077ade463f8baf28145e0d0545",
      "7b404c47a43f44f69818bea7217e8a47",
      "df7acea950b44cf99df4b163ac6c88f6",
      "4b6a88050b61488cb4526d7f44cd7fe3",
      "be45f9b4aa184ae2936b6beff671482f",
      "00ce2f4aac0f42658f7682d2845e2132",
      "3a74d08d0659404dba329fef704bb763",
      "a83e6ff6737b4deba41f3297185eb0c9",
      "bfe50105b88644a29e27e5d3fba57ef0",
      "2df41e6055274443b48a0d797706e023",
      "2eb29c6032a54d39b7d5d09f617cd64d",
      "72215cb7d8e94557b56c678f6c1a418c",
      "d5f52c2739a14774847d48addcafdb30",
      "fe245a8fdf82492a86faa341df1c9124",
      "89f1042e9da74a96b78db498aaeaff58",
      "c63632e4529343758047a3ebe0f61981",
      "2b46d42d636642618552475d6c84bbe0",
      "66e419c4da54462fa40a0f70571fc8a6",
      "884fba459bf9430490744df08ddc5717",
      "d0f9900f473042e6bc4994196f3be04c",
      "3a1337692f7444069f06877a8532885d",
      "63fa4bb5620d442c8b453d377d1d9e24",
      "2c2c81b24f59419f9d7850d8bacece84",
      "6597100e93784b098e470589ba717a1b",
      "715070f2775a411496f657b677e86efe",
      "1451e490fa104afb9c4e7a6399402e78",
      "5a93d7f226d54e7db7d9ab7bdf8645b0",
      "7599a71fc6a1475da7cd246e301f0e91"
     ]
    },
    "execution": {
     "iopub.execute_input": "2025-02-06T02:52:01.825782Z",
     "iopub.status.busy": "2025-02-06T02:52:01.825445Z",
     "iopub.status.idle": "2025-02-06T02:52:55.415312Z",
     "shell.execute_reply": "2025-02-06T02:52:55.414163Z",
     "shell.execute_reply.started": "2025-02-06T02:52:01.825749Z"
    },
    "executionInfo": {
     "elapsed": 22955,
     "status": "ok",
     "timestamp": 1632260253405,
     "user": {
      "displayName": "Steve Geinitz",
      "photoUrl": "https://lh3.googleusercontent.com/a-/AOh14GjM_I7kh6h0lJDODuL8c-Z408Wa9BqEjLHLA5ekmA=s64",
      "userId": "14938465990641036306"
     },
     "user_tz": 360
    },
    "id": "PR545mDNuyB8",
    "outputId": "f6ef992b-ee82-4611-ae9a-ad0f00df6b16",
    "scrolled": true,
    "trusted": true
   },
   "outputs": [
    {
     "data": {
      "application/vnd.jupyter.widget-view+json": {
       "model_id": "8e9695a4e5a94f759adb8eddb485d03c",
       "version_major": 2,
       "version_minor": 0
      },
      "text/plain": [
       "training routine:   0%|          | 0/6 [00:00<?, ?it/s]"
      ]
     },
     "metadata": {},
     "output_type": "display_data"
    },
    {
     "data": {
      "application/vnd.jupyter.widget-view+json": {
       "model_id": "e10fe6b89f7e4b82936e7119b15f3437",
       "version_major": 2,
       "version_minor": 0
      },
      "text/plain": [
       "split=train:   0%|          | 0/39 [00:00<?, ?it/s]"
      ]
     },
     "metadata": {},
     "output_type": "display_data"
    },
    {
     "data": {
      "application/vnd.jupyter.widget-view+json": {
       "model_id": "7be7faf6672642de8c86b972a0c6e05c",
       "version_major": 2,
       "version_minor": 0
      },
      "text/plain": [
       "split=val:   0%|          | 0/8 [00:00<?, ?it/s]"
      ]
     },
     "metadata": {},
     "output_type": "display_data"
    }
   ],
   "source": [
    "import tqdm.auto\n",
    "\n",
    "classifier = classifier.to(args.device)\n",
    "\n",
    "loss_func = nn.BCEWithLogitsLoss()\n",
    "optimizer = optim.Adam(classifier.parameters(), lr=args.learning_rate)\n",
    "scheduler = optim.lr_scheduler.ReduceLROnPlateau(optimizer=optimizer,\n",
    "                                                 mode='min', factor=0.5,\n",
    "                                                 patience=1)\n",
    "\n",
    "train_state = make_train_state(args)\n",
    "\n",
    "epoch_bar = tqdm.notebook.tqdm(desc='training routine', \n",
    "                          total=args.num_epochs,\n",
    "                          position=0)\n",
    "\n",
    "dataset.set_split('train')\n",
    "train_bar = tqdm.notebook.tqdm(desc='split=train',\n",
    "                          total=dataset.get_num_batches(args.batch_size), \n",
    "                          position=1, \n",
    "                          leave=True)\n",
    "dataset.set_split('val')\n",
    "val_bar = tqdm.notebook.tqdm(desc='split=val',\n",
    "                        total=dataset.get_num_batches(args.batch_size), \n",
    "                        position=1, \n",
    "                        leave=True)\n",
    "\n",
    "losses = {'train':[], 'val':[]}\n",
    "\n",
    "try:\n",
    "    for epoch_index in range(args.num_epochs):\n",
    "        train_state['epoch_index'] = epoch_index\n",
    "\n",
    "        # Iterate over training dataset\n",
    "\n",
    "        # setup: batch generator, set loss and acc to 0, set train mode on\n",
    "        dataset.set_split('train')\n",
    "        batch_generator = generate_batches(dataset, \n",
    "                                           batch_size=args.batch_size, \n",
    "                                           device=args.device)\n",
    "        running_loss = 0.0\n",
    "        running_acc = 0.0\n",
    "        classifier.train()\n",
    "\n",
    "        for batch_index, batch_dict in enumerate(batch_generator):\n",
    "            # the training routine is these 5 steps:\n",
    "\n",
    "            # --------------------------------------\n",
    "            # step 1. zero the gradients\n",
    "            optimizer.zero_grad()\n",
    "\n",
    "            # step 2. compute the output\n",
<<<<<<< HEAD
    "            y_pred = classifier(x_in=batch_dict['x_data'].float())\n",
=======
    "            y_pred = classifier(x_in=batch_dict['x_data'].float(), apply_dropout = True) # apply drop out not implemented \n",
>>>>>>> 2556a6f (my branch)
    "\n",
    "            # step 3. compute the loss\n",
    "            loss = loss_func(y_pred, batch_dict['y_target'].float())\n",
    "            loss_t = loss.item()\n",
    "            losses['train'].append(loss_t)\n",
    "            running_loss += (loss_t - running_loss) / (batch_index + 1)\n",
    "\n",
    "            # step 4. use loss to produce gradients\n",
    "            loss.backward()\n",
    "\n",
    "            # step 5. use optimizer to take gradient step\n",
    "            optimizer.step()\n",
    "            # -----------------------------------------\n",
    "            # compute the accuracy\n",
    "            acc_t = compute_accuracy(y_pred, batch_dict['y_target'])\n",
    "            running_acc += (acc_t - running_acc) / (batch_index + 1)\n",
    "\n",
    "            # update bar\n",
    "            train_bar.set_postfix(loss=running_loss, \n",
    "                                  acc=running_acc, \n",
    "                                  epoch=epoch_index)\n",
    "            train_bar.update()\n",
    "\n",
    "        train_state['train_loss'].append(running_loss)\n",
    "        train_state['train_acc'].append(running_acc)\n",
    "\n",
    "        # Iterate over val dataset\n",
    "\n",
    "        # setup: batch generator, set loss and acc to 0; set eval mode on\n",
    "        dataset.set_split('val')\n",
    "        batch_generator = generate_batches(dataset, \n",
    "                                           batch_size=args.batch_size, \n",
    "                                           device=args.device)\n",
    "        running_loss = 0.\n",
    "        running_acc = 0.\n",
    "        classifier.eval()\n",
    "\n",
    "        for batch_index, batch_dict in enumerate(batch_generator):\n",
    "\n",
    "            # compute the output\n",
    "            y_pred = classifier(x_in=batch_dict['x_data'].float())\n",
    "\n",
    "            # step 3. compute the loss\n",
    "            loss = loss_func(y_pred, batch_dict['y_target'].float())\n",
    "            loss_t = loss.item()\n",
    "            losses['val'].append(loss_t)\n",
    "            running_loss += (loss_t - running_loss) / (batch_index + 1)\n",
    "\n",
    "            # compute the accuracy\n",
    "            acc_t = compute_accuracy(y_pred, batch_dict['y_target'])\n",
    "            running_acc += (acc_t - running_acc) / (batch_index + 1)\n",
    "            \n",
    "            val_bar.set_postfix(loss=running_loss, \n",
    "                                acc=running_acc, \n",
    "                                epoch=epoch_index)\n",
    "            val_bar.update()\n",
    "\n",
    "        train_state['val_loss'].append(running_loss)\n",
    "        train_state['val_acc'].append(running_acc)\n",
    "\n",
    "        train_state = update_train_state(args=args, model=classifier,\n",
    "                                         train_state=train_state)\n",
    "        \n",
    "        scheduler.step(train_state['val_loss'][-1])\n",
    "        #optimizer.step()\n",
    "\n",
    "        train_bar.n = 0\n",
    "        val_bar.n = 0\n",
    "\n",
    "        if train_state['stop_early']:\n",
    "            print(\"Stopping early - validation is no longer significantly improving\")\n",
    "            break\n",
    "\n",
    "        train_bar.n = 0\n",
    "        val_bar.n = 0\n",
    "        epoch_bar.update()\n",
    "except KeyboardInterrupt:\n",
    "    print(\"Exiting loop\")"
   ]
  },
  {
   "cell_type": "code",
   "execution_count": 88,
   "metadata": {
    "execution": {
     "iopub.execute_input": "2025-02-06T02:52:59.997537Z",
     "iopub.status.busy": "2025-02-06T02:52:59.997057Z",
     "iopub.status.idle": "2025-02-06T02:53:00.284186Z",
     "shell.execute_reply": "2025-02-06T02:53:00.283372Z",
     "shell.execute_reply.started": "2025-02-06T02:52:59.997511Z"
    },
    "trusted": true
   },
   "outputs": [
    {
     "data": {
      "text/plain": [
       "<matplotlib.legend.Legend at 0x176e7c910>"
      ]
     },
     "execution_count": 88,
     "metadata": {},
     "output_type": "execute_result"
    },
    {
     "data": {
      "image/png": "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",
      "text/plain": [
       "<Figure size 1500x400 with 1 Axes>"
      ]
     },
     "metadata": {},
     "output_type": "display_data"
    }
   ],
   "source": [
    "matplotlib.rc('figure', figsize=(15,4))\n",
    "val_ticks = [(i+1)*len(losses['train'])/len(losses['val']) for i in range(len(losses['val']))]\n",
    "plt.plot(range(len(losses['train'])), losses['train'], c='blue')\n",
    "plt.plot(val_ticks, losses['val'], c='orange')\n",
    "for i in range(args.num_epochs):\n",
    "    plt.axvline(x=i*len(losses['train'])/args.num_epochs, c='black', lw=0.25)\n",
    "plt.ylabel('Loss')\n",
    "plt.xlabel('Epoch and Batch')\n",
    "plt.legend(('Train','Validation'))"
   ]
  },
  {
   "cell_type": "code",
   "execution_count": 89,
   "metadata": {
    "execution": {
     "iopub.execute_input": "2025-02-06T03:08:32.363889Z",
     "iopub.status.busy": "2025-02-06T03:08:32.363531Z",
     "iopub.status.idle": "2025-02-06T03:08:33.569288Z",
     "shell.execute_reply": "2025-02-06T03:08:33.568521Z",
     "shell.execute_reply.started": "2025-02-06T03:08:32.363861Z"
    },
    "executionInfo": {
     "elapsed": 2475,
     "status": "ok",
     "timestamp": 1632260278355,
     "user": {
      "displayName": "Steve Geinitz",
      "photoUrl": "https://lh3.googleusercontent.com/a-/AOh14GjM_I7kh6h0lJDODuL8c-Z408Wa9BqEjLHLA5ekmA=s64",
      "userId": "14938465990641036306"
     },
     "user_tz": 360
    },
    "id": "ebyowdaEuyB9",
    "trusted": true
   },
   "outputs": [],
   "source": [
    "# compute the loss & accuracy on the test set using the best available model\n",
    "\n",
    "classifier.load_state_dict(torch.load(train_state['model_filename'], weights_only=True))\n",
    "classifier = classifier.to(args.device)\n",
    "\n",
    "dataset.set_split('test')\n",
    "batch_generator = generate_batches(dataset, \n",
    "                                   batch_size=args.batch_size, \n",
    "                                   device=args.device)\n",
    "running_loss = 0.\n",
    "running_acc = 0.\n",
    "classifier.eval()\n",
    "\n",
    "for batch_index, batch_dict in enumerate(batch_generator):\n",
    "    # compute the output\n",
    "    y_pred = classifier(x_in=batch_dict['x_data'].float())\n",
    "\n",
    "    # compute the loss\n",
    "    loss = loss_func(y_pred, batch_dict['y_target'].float())\n",
    "    loss_t = loss.item()\n",
    "    running_loss += (loss_t - running_loss) / (batch_index + 1)\n",
    "\n",
    "    # compute the accuracy\n",
    "    acc_t = compute_accuracy(y_pred, batch_dict['y_target'])\n",
    "    running_acc += (acc_t - running_acc) / (batch_index + 1)\n",
    "\n",
    "train_state['test_loss'] = running_loss\n",
    "train_state['test_acc'] = running_acc"
   ]
  },
  {
   "cell_type": "code",
   "execution_count": 90,
   "metadata": {
    "colab": {
     "base_uri": "https://localhost:8080/"
    },
    "execution": {
     "iopub.execute_input": "2025-02-06T03:08:35.773646Z",
     "iopub.status.busy": "2025-02-06T03:08:35.773326Z",
     "iopub.status.idle": "2025-02-06T03:08:35.778296Z",
     "shell.execute_reply": "2025-02-06T03:08:35.777041Z",
     "shell.execute_reply.started": "2025-02-06T03:08:35.773623Z"
    },
    "executionInfo": {
     "elapsed": 91,
     "status": "ok",
     "timestamp": 1632260284978,
     "user": {
      "displayName": "Steve Geinitz",
      "photoUrl": "https://lh3.googleusercontent.com/a-/AOh14GjM_I7kh6h0lJDODuL8c-Z408Wa9BqEjLHLA5ekmA=s64",
      "userId": "14938465990641036306"
     },
     "user_tz": 360
    },
    "id": "8Hx7WA3RuyB-",
    "outputId": "b4d7addc-8f66-4b73-8237-70b61e745699",
    "trusted": true
   },
   "outputs": [
    {
     "name": "stdout",
     "output_type": "stream",
     "text": [
      "Test loss: 0.274\n",
      "Test Accuracy: 90.65\n"
     ]
    }
   ],
   "source": [
    "print(\"Test loss: {:.3f}\".format(train_state['test_loss']))\n",
    "print(\"Test Accuracy: {:.2f}\".format(train_state['test_acc']))"
   ]
  },
  {
   "cell_type": "markdown",
   "metadata": {
    "id": "rXPsjUYbuyB-"
   },
   "source": [
    "### Inference"
   ]
  },
  {
   "cell_type": "code",
   "execution_count": 36,
   "metadata": {
    "execution": {
     "iopub.execute_input": "2025-02-06T02:53:44.174236Z",
     "iopub.status.busy": "2025-02-06T02:53:44.173932Z",
     "iopub.status.idle": "2025-02-06T02:53:44.178530Z",
     "shell.execute_reply": "2025-02-06T02:53:44.177485Z",
     "shell.execute_reply.started": "2025-02-06T02:53:44.174213Z"
    },
    "executionInfo": {
     "elapsed": 87,
     "status": "ok",
     "timestamp": 1632260294219,
     "user": {
      "displayName": "Steve Geinitz",
      "photoUrl": "https://lh3.googleusercontent.com/a-/AOh14GjM_I7kh6h0lJDODuL8c-Z408Wa9BqEjLHLA5ekmA=s64",
      "userId": "14938465990641036306"
     },
     "user_tz": 360
    },
    "id": "nrqWhrFSuyB-",
    "trusted": true
   },
   "outputs": [],
   "source": [
    "def preprocess_text(text):\n",
    "    text = text.lower()\n",
    "    text = re.sub(r\"([.,!?])\", r\" \\1 \", text)\n",
    "    text = re.sub(r\"[^a-zA-Z.,!?]+\", r\" \", text)\n",
    "    return text"
   ]
  },
  {
   "cell_type": "code",
   "execution_count": 37,
   "metadata": {
    "execution": {
     "iopub.execute_input": "2025-02-06T03:09:02.359034Z",
     "iopub.status.busy": "2025-02-06T03:09:02.358625Z",
     "iopub.status.idle": "2025-02-06T03:09:02.363963Z",
     "shell.execute_reply": "2025-02-06T03:09:02.362943Z",
     "shell.execute_reply.started": "2025-02-06T03:09:02.359006Z"
    },
    "executionInfo": {
     "elapsed": 91,
     "status": "ok",
     "timestamp": 1632260295287,
     "user": {
      "displayName": "Steve Geinitz",
      "photoUrl": "https://lh3.googleusercontent.com/a-/AOh14GjM_I7kh6h0lJDODuL8c-Z408Wa9BqEjLHLA5ekmA=s64",
      "userId": "14938465990641036306"
     },
     "user_tz": 360
    },
    "id": "uk1hkp7quyB_",
    "trusted": true
   },
   "outputs": [],
   "source": [
    "def predict_rating(review, classifier, vectorizer, decision_threshold=0.5):\n",
    "    \"\"\"Predict the rating of a review\n",
    "    \n",
    "    Args:\n",
    "        review (str): the text of the review\n",
    "        classifier (ReviewClassifier): the trained model\n",
    "        vectorizer (ReviewVectorizer): the corresponding vectorizer\n",
    "        decision_threshold (float): The numerical boundary which separates the rating classes\n",
    "    \"\"\"\n",
    "    review = preprocess_text(review)\n",
    "    \n",
    "    vectorized_review = torch.tensor(vectorizer.vectorize(review))\n",
    "    result = classifier(vectorized_review.view(1, -1))\n",
    "    \n",
    "    probability_value = torch.sigmoid(result).item()\n",
    "    index = 1\n",
    "    if probability_value < decision_threshold:\n",
    "        index = 0\n",
    "\n",
    "    return vectorizer.rating_vocab.lookup_index(index)"
   ]
  },
  {
   "cell_type": "code",
   "execution_count": 38,
   "metadata": {
    "colab": {
     "base_uri": "https://localhost:8080/"
    },
    "execution": {
     "iopub.execute_input": "2025-02-06T03:20:47.319327Z",
     "iopub.status.busy": "2025-02-06T03:20:47.319000Z",
     "iopub.status.idle": "2025-02-06T03:20:47.330495Z",
     "shell.execute_reply": "2025-02-06T03:20:47.329678Z",
     "shell.execute_reply.started": "2025-02-06T03:20:47.319298Z"
    },
    "executionInfo": {
     "elapsed": 105,
     "status": "ok",
     "timestamp": 1632260297004,
     "user": {
      "displayName": "Steve Geinitz",
      "photoUrl": "https://lh3.googleusercontent.com/a-/AOh14GjM_I7kh6h0lJDODuL8c-Z408Wa9BqEjLHLA5ekmA=s64",
      "userId": "14938465990641036306"
     },
     "user_tz": 360
    },
    "id": "SRKd2SjBuyB_",
    "outputId": "a5d491f9-c9e9-438d-fdbd-a2dc0f0e4c39",
    "trusted": true
   },
   "outputs": [
    {
     "name": "stdout",
     "output_type": "stream",
     "text": [
      "the floors were a little bit dirty, but the food was far above average -> negative\n"
     ]
    }
   ],
   "source": [
    "#test_review = \"this is not a pretty awesome restaurant\"\n",
    "test_review = \"the floors were a little bit dirty, but the food was far above average\"\n",
    "#test_review = \"pizza century yum\"\n",
    "\n",
    "classifier = classifier.cpu()\n",
    "prediction = predict_rating(test_review, classifier, vectorizer, decision_threshold=0.5)\n",
    "print(\"{} -> {}\".format(test_review, prediction))"
   ]
  },
  {
   "cell_type": "markdown",
   "metadata": {
    "id": "EUI4yXQBuyB_"
   },
   "source": [
    "### Interpretability\n",
    "\n",
    "Let's look at the weigh values themselves to see if we can gain some kind of interpretability about the network. It's far from a legitimate form of model explainability, but just looking at the magnitudes of the weight values can tell us something. Namely, values farther away from zero will have greater impact in the subsequent layer, and (presumably) eventually the output. \n",
    "\n",
    "We'll first look at large (positive) values, but since it's only the magnitude that has an effect we don't know for certain if these will correspond to positive sounding words or negative sounding words (i.e. words that will be associated with a positive/negative yelp review). "
   ]
  },
  {
   "cell_type": "code",
   "execution_count": null,
   "metadata": {
    "colab": {
     "base_uri": "https://localhost:8080/"
    },
    "execution": {
     "iopub.execute_input": "2025-02-06T03:24:33.246068Z",
     "iopub.status.busy": "2025-02-06T03:24:33.245745Z",
     "iopub.status.idle": "2025-02-06T03:24:33.263597Z",
     "shell.execute_reply": "2025-02-06T03:24:33.262734Z",
     "shell.execute_reply.started": "2025-02-06T03:24:33.246042Z"
    },
    "executionInfo": {
     "elapsed": 90,
     "status": "ok",
     "timestamp": 1632260351375,
     "user": {
      "displayName": "Steve Geinitz",
      "photoUrl": "https://lh3.googleusercontent.com/a-/AOh14GjM_I7kh6h0lJDODuL8c-Z408Wa9BqEjLHLA5ekmA=s64",
      "userId": "14938465990641036306"
     },
     "user_tz": 360
    },
    "id": "uyBKYVokuyCA",
    "outputId": "4c9fd43f-63d4-4d51-9632-d41e0c3333fe",
    "trusted": true
   },
   "outputs": [
    {
     "name": "stdout",
     "output_type": "stream",
     "text": [
      "Tokens with highest corresponding parameter values (in first hidden unit of first layer):\n",
      "-------------------------------------------------------------\n",
      "w_0: -0.1276, token: hooked\n",
      "w_1: -0.1123, token: pleasantly\n",
      "w_2: -0.1107, token: heavenly\n",
      "w_3: -0.1050, token: perfection\n",
      "w_4: -0.1017, token: performed\n",
      "w_5: -0.1001, token: delectable\n",
      "w_6: -0.1000, token: haha\n",
      "w_7: -0.0991, token: ease\n",
      "w_8: -0.0980, token: nmake\n",
      "w_9: -0.0977, token: rocked\n",
      "w_10: -0.0940, token: jasmine\n",
      "w_11: -0.0935, token: luv\n",
      "w_12: -0.0926, token: hesitate\n",
      "w_13: -0.0921, token: relocated\n",
      "w_14: -0.0920, token: scrumptious\n",
      "w_15: -0.0916, token: walnut\n",
      "w_16: -0.0916, token: reduction\n",
      "w_17: -0.0911, token: moist\n",
      "w_18: -0.0906, token: flancer\n",
      "w_19: -0.0900, token: sessions\n",
      "\n",
      "\n",
      "Tokens with lowest corresponding parameter values (in first hidden unit of first layer):\n",
      "-------------------------------------------------------------\n",
      "w_0: 0.1426, token: nsorry\n",
      "w_1: 0.1241, token: inedible\n",
      "w_2: 0.1223, token: cancelled\n",
      "w_3: 0.1188, token: nwon\n",
      "w_4: 0.1173, token: musty\n",
      "w_5: 0.1167, token: nmaybe\n",
      "w_6: 0.1161, token: blech\n",
      "w_7: 0.1148, token: underwhelmed\n",
      "w_8: 0.1146, token: claiming\n",
      "w_9: 0.1128, token: unimpressed\n",
      "w_10: 0.1121, token: eh\n",
      "w_11: 0.1120, token: worthless\n",
      "w_12: 0.1112, token: meh\n",
      "w_13: 0.1112, token: nstay\n",
      "w_14: 0.1108, token: horrendous\n",
      "w_15: 0.1086, token: rudely\n",
      "w_16: 0.1079, token: disorganized\n",
      "w_17: 0.1075, token: unorganized\n",
      "w_18: 0.1073, token: defensive\n",
      "w_19: 0.1070, token: proudly\n"
     ]
    }
   ],
   "source": [
    "# Look at weights for first hidden unit in first hidden layer\n",
    "fc1_weights = classifier.fc1.weight.detach()[0]\n",
    "_, indices = torch.sort(fc1_weights, dim=0, descending=False)\n",
    "indices = indices.numpy().tolist()\n",
    "\n",
    "# Top 20 words\n",
    "print(\"Tokens with lowest corresponding parameter values (in first hidden unit of first layer):\")\n",
    "print(\"-------------------------------------------------------------\")\n",
    "for i in range(20):\n",
    "    print(f\"w_{i}: {fc1_weights[indices[i]]:.4f}, token: {vectorizer.review_vocab.lookup_index(indices[i])}\")\n",
    "\n",
    "indices.reverse()\n",
    "\n",
    "# Top 20 negative words\n",
    "print(\"\\n\\nTokens with highest corresponding parameter values (in first hidden unit of first layer):\")\n",
    "print(\"-------------------------------------------------------------\")\n",
    "\n",
    "for i in range(20):\n",
    "    print(f\"w_{i}: {fc1_weights[indices[i]]:.4f}, token: {vectorizer.review_vocab.lookup_index(indices[i])}\")    \n",
    "    #print(vectorizer.review_vocab.lookup_index(indices[i]))"
   ]
  },
  {
   "cell_type": "code",
   "execution_count": 43,
   "metadata": {
    "colab": {
     "base_uri": "https://localhost:8080/"
    },
    "execution": {
     "iopub.execute_input": "2025-02-06T03:10:06.508231Z",
     "iopub.status.busy": "2025-02-06T03:10:06.507888Z",
     "iopub.status.idle": "2025-02-06T03:10:06.518481Z",
     "shell.execute_reply": "2025-02-06T03:10:06.517722Z",
     "shell.execute_reply.started": "2025-02-06T03:10:06.508201Z"
    },
    "executionInfo": {
     "elapsed": 96,
     "status": "ok",
     "timestamp": 1632260307882,
     "user": {
      "displayName": "Steve Geinitz",
      "photoUrl": "https://lh3.googleusercontent.com/a-/AOh14GjM_I7kh6h0lJDODuL8c-Z408Wa9BqEjLHLA5ekmA=s64",
      "userId": "14938465990641036306"
     },
     "user_tz": 360
    },
    "id": "p51xqW1PSuoa",
    "outputId": "e842e8ea-d480-4f2d-a325-77dfe4738998",
    "trusted": true
   },
   "outputs": [
    {
     "data": {
      "text/plain": [
       "==========================================================================================\n",
       "Layer (type:depth-idx)                   Output Shape              Param #\n",
       "==========================================================================================\n",
       "ReviewClassifier                         --                        --\n",
       "├─Linear: 1-1                            [1, 128]                  1,041,664\n",
       "├─Linear: 1-2                            [1, 16]                   2,064\n",
       "├─Linear: 1-3                            [1, 1]                    17\n",
       "==========================================================================================\n",
       "Total params: 1,043,745\n",
       "Trainable params: 1,043,745\n",
       "Non-trainable params: 0\n",
       "Total mult-adds (Units.MEGABYTES): 1.04\n",
       "==========================================================================================\n",
       "Input size (MB): 0.03\n",
       "Forward/backward pass size (MB): 0.00\n",
       "Params size (MB): 4.17\n",
       "Estimated Total Size (MB): 4.21\n",
       "=========================================================================================="
      ]
     },
     "execution_count": 43,
     "metadata": {},
     "output_type": "execute_result"
    }
   ],
   "source": [
    "# if this cell does not run the first time, then uncomment the following line and re-run it\n",
    "#!pip install torchinfo\n",
    "import torchinfo\n",
    "summ = torchinfo.summary(classifier, (1, dataset[0]['x_data'].shape[0]))\n",
    "summ"
   ]
  },
  {
   "cell_type": "code",
   "execution_count": 44,
   "metadata": {
    "execution": {
     "iopub.execute_input": "2025-02-06T03:10:08.071299Z",
     "iopub.status.busy": "2025-02-06T03:10:08.070997Z",
     "iopub.status.idle": "2025-02-06T03:10:08.076937Z",
     "shell.execute_reply": "2025-02-06T03:10:08.075950Z",
     "shell.execute_reply.started": "2025-02-06T03:10:08.071276Z"
    },
    "trusted": true
   },
   "outputs": [
    {
     "data": {
      "text/plain": [
       "1041664"
      ]
     },
     "execution_count": 44,
     "metadata": {},
     "output_type": "execute_result"
    }
   ],
   "source": [
    "n_params_in_layer1_weighmatrix = 8137 * 128\n",
    "n_params_in_layer1_bias_vector = 128\n",
    "n_params_in_layer1_weighmatrix + n_params_in_layer1_bias_vector"
   ]
  },
  {
   "cell_type": "code",
   "execution_count": 45,
   "metadata": {
    "execution": {
     "iopub.execute_input": "2025-02-06T02:55:20.264694Z",
     "iopub.status.busy": "2025-02-06T02:55:20.264389Z",
     "iopub.status.idle": "2025-02-06T02:55:20.269894Z",
     "shell.execute_reply": "2025-02-06T02:55:20.269068Z",
     "shell.execute_reply.started": "2025-02-06T02:55:20.264671Z"
    },
    "trusted": true
   },
   "outputs": [
    {
     "data": {
      "text/plain": [
       "2048"
      ]
     },
     "execution_count": 45,
     "metadata": {},
     "output_type": "execute_result"
    }
   ],
   "source": [
    "128 * 16 # without a bias terms i.e. without + 16"
   ]
  },
  {
   "cell_type": "code",
   "execution_count": 46,
   "metadata": {
    "execution": {
     "iopub.execute_input": "2025-02-06T02:55:40.587629Z",
     "iopub.status.busy": "2025-02-06T02:55:40.587287Z",
     "iopub.status.idle": "2025-02-06T02:55:40.593249Z",
     "shell.execute_reply": "2025-02-06T02:55:40.592501Z",
     "shell.execute_reply.started": "2025-02-06T02:55:40.587603Z"
    },
    "trusted": true
   },
   "outputs": [
    {
     "data": {
      "text/plain": [
       "8137"
      ]
     },
     "execution_count": 46,
     "metadata": {},
     "output_type": "execute_result"
    }
   ],
   "source": [
    "dataset[0]['x_data'].shape[0]"
   ]
  },
  {
   "cell_type": "markdown",
   "metadata": {
    "id": "Fc-6bP4QuyCB"
   },
   "source": [
    "### End\n",
    "\n",
    "Before finishing let's quickly look at the weight matrix in the first layer."
   ]
  },
  {
   "cell_type": "code",
   "execution_count": 47,
   "metadata": {
    "execution": {
     "iopub.execute_input": "2025-02-06T03:10:52.256631Z",
     "iopub.status.busy": "2025-02-06T03:10:52.256280Z",
     "iopub.status.idle": "2025-02-06T03:10:52.262489Z",
     "shell.execute_reply": "2025-02-06T03:10:52.261662Z",
     "shell.execute_reply.started": "2025-02-06T03:10:52.256601Z"
    },
    "trusted": true
   },
   "outputs": [
    {
     "data": {
      "text/plain": [
       "torch.Size([128, 8137])"
      ]
     },
     "execution_count": 47,
     "metadata": {},
     "output_type": "execute_result"
    }
   ],
   "source": [
    "fc1_weights = classifier.fc1.weight.detach()\n",
    "fc1_weights.shape\n",
    "#fc1_weights[indices].tolist()"
   ]
  }
 ],
 "metadata": {
  "colab": {
   "collapsed_sections": [],
   "name": "cs39aa_yelp_reviews_w_mlp.ipynb",
   "provenance": []
  },
  "kaggle": {
   "accelerator": "gpu",
   "dataSources": [],
   "dockerImageVersionId": 30840,
   "isGpuEnabled": true,
   "isInternetEnabled": true,
   "language": "python",
   "sourceType": "notebook"
  },
  "kernelspec": {
   "display_name": "Python 3",
   "language": "python",
   "name": "python3"
  },
  "language_info": {
   "codemirror_mode": {
    "name": "ipython",
    "version": 3
   },
   "file_extension": ".py",
   "mimetype": "text/x-python",
   "name": "python",
   "nbconvert_exporter": "python",
   "pygments_lexer": "ipython3",
   "version": "3.11.11"
  },
  "toc": {
   "colors": {
    "hover_highlight": "#DAA520",
    "running_highlight": "#FF0000",
    "selected_highlight": "#FFD700"
   },
   "moveMenuLeft": true,
   "nav_menu": {
    "height": "156px",
    "width": "252px"
   },
   "navigate_menu": true,
   "number_sections": true,
   "sideBar": true,
   "threshold": "5",
   "toc_cell": false,
   "toc_section_display": "block",
   "toc_window_display": false
  },
  "widgets": {
   "application/vnd.jupyter.widget-state+json": {
    "00ce2f4aac0f42658f7682d2845e2132": {
     "model_module": "@jupyter-widgets/base",
     "model_module_version": "1.2.0",
     "model_name": "LayoutModel",
     "state": {
      "_model_module": "@jupyter-widgets/base",
      "_model_module_version": "1.2.0",
      "_model_name": "LayoutModel",
      "_view_count": null,
      "_view_module": "@jupyter-widgets/base",
      "_view_module_version": "1.2.0",
      "_view_name": "LayoutView",
      "align_content": null,
      "align_items": null,
      "align_self": null,
      "border": null,
      "bottom": null,
      "display": null,
      "flex": null,
      "flex_flow": null,
      "grid_area": null,
      "grid_auto_columns": null,
      "grid_auto_flow": null,
      "grid_auto_rows": null,
      "grid_column": null,
      "grid_gap": null,
      "grid_row": null,
      "grid_template_areas": null,
      "grid_template_columns": null,
      "grid_template_rows": null,
      "height": null,
      "justify_content": null,
      "justify_items": null,
      "left": null,
      "margin": null,
      "max_height": null,
      "max_width": null,
      "min_height": null,
      "min_width": null,
      "object_fit": null,
      "object_position": null,
      "order": null,
      "overflow": null,
      "overflow_x": null,
      "overflow_y": null,
      "padding": null,
      "right": null,
      "top": null,
      "visibility": null,
      "width": null
     }
    },
    "1451e490fa104afb9c4e7a6399402e78": {
     "model_module": "@jupyter-widgets/base",
     "model_module_version": "1.2.0",
     "model_name": "LayoutModel",
     "state": {
      "_model_module": "@jupyter-widgets/base",
      "_model_module_version": "1.2.0",
      "_model_name": "LayoutModel",
      "_view_count": null,
      "_view_module": "@jupyter-widgets/base",
      "_view_module_version": "1.2.0",
      "_view_name": "LayoutView",
      "align_content": null,
      "align_items": null,
      "align_self": null,
      "border": null,
      "bottom": null,
      "display": null,
      "flex": null,
      "flex_flow": null,
      "grid_area": null,
      "grid_auto_columns": null,
      "grid_auto_flow": null,
      "grid_auto_rows": null,
      "grid_column": null,
      "grid_gap": null,
      "grid_row": null,
      "grid_template_areas": null,
      "grid_template_columns": null,
      "grid_template_rows": null,
      "height": null,
      "justify_content": null,
      "justify_items": null,
      "left": null,
      "margin": null,
      "max_height": null,
      "max_width": null,
      "min_height": null,
      "min_width": null,
      "object_fit": null,
      "object_position": null,
      "order": null,
      "overflow": null,
      "overflow_x": null,
      "overflow_y": null,
      "padding": null,
      "right": null,
      "top": null,
      "visibility": null,
      "width": null
     }
    },
    "25650f077ade463f8baf28145e0d0545": {
     "model_module": "@jupyter-widgets/controls",
     "model_module_version": "1.5.0",
     "model_name": "DescriptionStyleModel",
     "state": {
      "_model_module": "@jupyter-widgets/controls",
      "_model_module_version": "1.5.0",
      "_model_name": "DescriptionStyleModel",
      "_view_count": null,
      "_view_module": "@jupyter-widgets/base",
      "_view_module_version": "1.2.0",
      "_view_name": "StyleView",
      "description_width": ""
     }
    },
    "2b46d42d636642618552475d6c84bbe0": {
     "model_module": "@jupyter-widgets/base",
     "model_module_version": "1.2.0",
     "model_name": "LayoutModel",
     "state": {
      "_model_module": "@jupyter-widgets/base",
      "_model_module_version": "1.2.0",
      "_model_name": "LayoutModel",
      "_view_count": null,
      "_view_module": "@jupyter-widgets/base",
      "_view_module_version": "1.2.0",
      "_view_name": "LayoutView",
      "align_content": null,
      "align_items": null,
      "align_self": null,
      "border": null,
      "bottom": null,
      "display": null,
      "flex": null,
      "flex_flow": null,
      "grid_area": null,
      "grid_auto_columns": null,
      "grid_auto_flow": null,
      "grid_auto_rows": null,
      "grid_column": null,
      "grid_gap": null,
      "grid_row": null,
      "grid_template_areas": null,
      "grid_template_columns": null,
      "grid_template_rows": null,
      "height": null,
      "justify_content": null,
      "justify_items": null,
      "left": null,
      "margin": null,
      "max_height": null,
      "max_width": null,
      "min_height": null,
      "min_width": null,
      "object_fit": null,
      "object_position": null,
      "order": null,
      "overflow": null,
      "overflow_x": null,
      "overflow_y": null,
      "padding": null,
      "right": null,
      "top": null,
      "visibility": null,
      "width": null
     }
    },
    "2c2c81b24f59419f9d7850d8bacece84": {
     "model_module": "@jupyter-widgets/controls",
     "model_module_version": "1.5.0",
     "model_name": "DescriptionStyleModel",
     "state": {
      "_model_module": "@jupyter-widgets/controls",
      "_model_module_version": "1.5.0",
      "_model_name": "DescriptionStyleModel",
      "_view_count": null,
      "_view_module": "@jupyter-widgets/base",
      "_view_module_version": "1.2.0",
      "_view_name": "StyleView",
      "description_width": ""
     }
    },
    "2df41e6055274443b48a0d797706e023": {
     "model_module": "@jupyter-widgets/controls",
     "model_module_version": "1.5.0",
     "model_name": "FloatProgressModel",
     "state": {
      "_dom_classes": [],
      "_model_module": "@jupyter-widgets/controls",
      "_model_module_version": "1.5.0",
      "_model_name": "FloatProgressModel",
      "_view_count": null,
      "_view_module": "@jupyter-widgets/controls",
      "_view_module_version": "1.5.0",
      "_view_name": "ProgressView",
      "bar_style": "",
      "description": "",
      "description_tooltip": null,
      "layout": "IPY_MODEL_89f1042e9da74a96b78db498aaeaff58",
      "max": 38,
      "min": 0,
      "orientation": "horizontal",
      "style": "IPY_MODEL_fe245a8fdf82492a86faa341df1c9124",
      "value": 37
     }
    },
    "2eb29c6032a54d39b7d5d09f617cd64d": {
     "model_module": "@jupyter-widgets/controls",
     "model_module_version": "1.5.0",
     "model_name": "HTMLModel",
     "state": {
      "_dom_classes": [],
      "_model_module": "@jupyter-widgets/controls",
      "_model_module_version": "1.5.0",
      "_model_name": "HTMLModel",
      "_view_count": null,
      "_view_module": "@jupyter-widgets/controls",
      "_view_module_version": "1.5.0",
      "_view_name": "HTMLView",
      "description": "",
      "description_tooltip": null,
      "layout": "IPY_MODEL_2b46d42d636642618552475d6c84bbe0",
      "placeholder": "​",
      "style": "IPY_MODEL_c63632e4529343758047a3ebe0f61981",
      "value": " 37/38 [02:36&lt;00:00,  2.84it/s, acc=96.8, epoch=9, loss=0.0972]"
     }
    },
    "3a1337692f7444069f06877a8532885d": {
     "model_module": "@jupyter-widgets/controls",
     "model_module_version": "1.5.0",
     "model_name": "FloatProgressModel",
     "state": {
      "_dom_classes": [],
      "_model_module": "@jupyter-widgets/controls",
      "_model_module_version": "1.5.0",
      "_model_name": "FloatProgressModel",
      "_view_count": null,
      "_view_module": "@jupyter-widgets/controls",
      "_view_module_version": "1.5.0",
      "_view_name": "ProgressView",
      "bar_style": "",
      "description": "",
      "description_tooltip": null,
      "layout": "IPY_MODEL_1451e490fa104afb9c4e7a6399402e78",
      "max": 8,
      "min": 0,
      "orientation": "horizontal",
      "style": "IPY_MODEL_715070f2775a411496f657b677e86efe",
      "value": 7
     }
    },
    "3a74d08d0659404dba329fef704bb763": {
     "model_module": "@jupyter-widgets/controls",
     "model_module_version": "1.5.0",
     "model_name": "HBoxModel",
     "state": {
      "_dom_classes": [],
      "_model_module": "@jupyter-widgets/controls",
      "_model_module_version": "1.5.0",
      "_model_name": "HBoxModel",
      "_view_count": null,
      "_view_module": "@jupyter-widgets/controls",
      "_view_module_version": "1.5.0",
      "_view_name": "HBoxView",
      "box_style": "",
      "children": [
       "IPY_MODEL_bfe50105b88644a29e27e5d3fba57ef0",
       "IPY_MODEL_2df41e6055274443b48a0d797706e023",
       "IPY_MODEL_2eb29c6032a54d39b7d5d09f617cd64d"
      ],
      "layout": "IPY_MODEL_a83e6ff6737b4deba41f3297185eb0c9"
     }
    },
    "4b6a88050b61488cb4526d7f44cd7fe3": {
     "model_module": "@jupyter-widgets/base",
     "model_module_version": "1.2.0",
     "model_name": "LayoutModel",
     "state": {
      "_model_module": "@jupyter-widgets/base",
      "_model_module_version": "1.2.0",
      "_model_name": "LayoutModel",
      "_view_count": null,
      "_view_module": "@jupyter-widgets/base",
      "_view_module_version": "1.2.0",
      "_view_name": "LayoutView",
      "align_content": null,
      "align_items": null,
      "align_self": null,
      "border": null,
      "bottom": null,
      "display": null,
      "flex": null,
      "flex_flow": null,
      "grid_area": null,
      "grid_auto_columns": null,
      "grid_auto_flow": null,
      "grid_auto_rows": null,
      "grid_column": null,
      "grid_gap": null,
      "grid_row": null,
      "grid_template_areas": null,
      "grid_template_columns": null,
      "grid_template_rows": null,
      "height": null,
      "justify_content": null,
      "justify_items": null,
      "left": null,
      "margin": null,
      "max_height": null,
      "max_width": null,
      "min_height": null,
      "min_width": null,
      "object_fit": null,
      "object_position": null,
      "order": null,
      "overflow": null,
      "overflow_x": null,
      "overflow_y": null,
      "padding": null,
      "right": null,
      "top": null,
      "visibility": null,
      "width": null
     }
    },
    "5a93d7f226d54e7db7d9ab7bdf8645b0": {
     "model_module": "@jupyter-widgets/controls",
     "model_module_version": "1.5.0",
     "model_name": "DescriptionStyleModel",
     "state": {
      "_model_module": "@jupyter-widgets/controls",
      "_model_module_version": "1.5.0",
      "_model_name": "DescriptionStyleModel",
      "_view_count": null,
      "_view_module": "@jupyter-widgets/base",
      "_view_module_version": "1.2.0",
      "_view_name": "StyleView",
      "description_width": ""
     }
    },
    "63fa4bb5620d442c8b453d377d1d9e24": {
     "model_module": "@jupyter-widgets/controls",
     "model_module_version": "1.5.0",
     "model_name": "HTMLModel",
     "state": {
      "_dom_classes": [],
      "_model_module": "@jupyter-widgets/controls",
      "_model_module_version": "1.5.0",
      "_model_name": "HTMLModel",
      "_view_count": null,
      "_view_module": "@jupyter-widgets/controls",
      "_view_module_version": "1.5.0",
      "_view_name": "HTMLView",
      "description": "",
      "description_tooltip": null,
      "layout": "IPY_MODEL_7599a71fc6a1475da7cd246e301f0e91",
      "placeholder": "​",
      "style": "IPY_MODEL_5a93d7f226d54e7db7d9ab7bdf8645b0",
      "value": " 7/8 [02:39&lt;00:00,  1.49it/s, acc=91.1, epoch=9, loss=0.253]"
     }
    },
    "6597100e93784b098e470589ba717a1b": {
     "model_module": "@jupyter-widgets/base",
     "model_module_version": "1.2.0",
     "model_name": "LayoutModel",
     "state": {
      "_model_module": "@jupyter-widgets/base",
      "_model_module_version": "1.2.0",
      "_model_name": "LayoutModel",
      "_view_count": null,
      "_view_module": "@jupyter-widgets/base",
      "_view_module_version": "1.2.0",
      "_view_name": "LayoutView",
      "align_content": null,
      "align_items": null,
      "align_self": null,
      "border": null,
      "bottom": null,
      "display": null,
      "flex": null,
      "flex_flow": null,
      "grid_area": null,
      "grid_auto_columns": null,
      "grid_auto_flow": null,
      "grid_auto_rows": null,
      "grid_column": null,
      "grid_gap": null,
      "grid_row": null,
      "grid_template_areas": null,
      "grid_template_columns": null,
      "grid_template_rows": null,
      "height": null,
      "justify_content": null,
      "justify_items": null,
      "left": null,
      "margin": null,
      "max_height": null,
      "max_width": null,
      "min_height": null,
      "min_width": null,
      "object_fit": null,
      "object_position": null,
      "order": null,
      "overflow": null,
      "overflow_x": null,
      "overflow_y": null,
      "padding": null,
      "right": null,
      "top": null,
      "visibility": null,
      "width": null
     }
    },
    "66e419c4da54462fa40a0f70571fc8a6": {
     "model_module": "@jupyter-widgets/controls",
     "model_module_version": "1.5.0",
     "model_name": "HBoxModel",
     "state": {
      "_dom_classes": [],
      "_model_module": "@jupyter-widgets/controls",
      "_model_module_version": "1.5.0",
      "_model_name": "HBoxModel",
      "_view_count": null,
      "_view_module": "@jupyter-widgets/controls",
      "_view_module_version": "1.5.0",
      "_view_name": "HBoxView",
      "box_style": "",
      "children": [
       "IPY_MODEL_d0f9900f473042e6bc4994196f3be04c",
       "IPY_MODEL_3a1337692f7444069f06877a8532885d",
       "IPY_MODEL_63fa4bb5620d442c8b453d377d1d9e24"
      ],
      "layout": "IPY_MODEL_884fba459bf9430490744df08ddc5717"
     }
    },
    "6b855b3ca197469289c512e76bd612da": {
     "model_module": "@jupyter-widgets/controls",
     "model_module_version": "1.5.0",
     "model_name": "FloatProgressModel",
     "state": {
      "_dom_classes": [],
      "_model_module": "@jupyter-widgets/controls",
      "_model_module_version": "1.5.0",
      "_model_name": "FloatProgressModel",
      "_view_count": null,
      "_view_module": "@jupyter-widgets/controls",
      "_view_module_version": "1.5.0",
      "_view_name": "ProgressView",
      "bar_style": "",
      "description": "",
      "description_tooltip": null,
      "layout": "IPY_MODEL_4b6a88050b61488cb4526d7f44cd7fe3",
      "max": 10,
      "min": 0,
      "orientation": "horizontal",
      "style": "IPY_MODEL_df7acea950b44cf99df4b163ac6c88f6",
      "value": 10
     }
    },
    "715070f2775a411496f657b677e86efe": {
     "model_module": "@jupyter-widgets/controls",
     "model_module_version": "1.5.0",
     "model_name": "ProgressStyleModel",
     "state": {
      "_model_module": "@jupyter-widgets/controls",
      "_model_module_version": "1.5.0",
      "_model_name": "ProgressStyleModel",
      "_view_count": null,
      "_view_module": "@jupyter-widgets/base",
      "_view_module_version": "1.2.0",
      "_view_name": "StyleView",
      "bar_color": null,
      "description_width": ""
     }
    },
    "72215cb7d8e94557b56c678f6c1a418c": {
     "model_module": "@jupyter-widgets/controls",
     "model_module_version": "1.5.0",
     "model_name": "DescriptionStyleModel",
     "state": {
      "_model_module": "@jupyter-widgets/controls",
      "_model_module_version": "1.5.0",
      "_model_name": "DescriptionStyleModel",
      "_view_count": null,
      "_view_module": "@jupyter-widgets/base",
      "_view_module_version": "1.2.0",
      "_view_name": "StyleView",
      "description_width": ""
     }
    },
    "7599a71fc6a1475da7cd246e301f0e91": {
     "model_module": "@jupyter-widgets/base",
     "model_module_version": "1.2.0",
     "model_name": "LayoutModel",
     "state": {
      "_model_module": "@jupyter-widgets/base",
      "_model_module_version": "1.2.0",
      "_model_name": "LayoutModel",
      "_view_count": null,
      "_view_module": "@jupyter-widgets/base",
      "_view_module_version": "1.2.0",
      "_view_name": "LayoutView",
      "align_content": null,
      "align_items": null,
      "align_self": null,
      "border": null,
      "bottom": null,
      "display": null,
      "flex": null,
      "flex_flow": null,
      "grid_area": null,
      "grid_auto_columns": null,
      "grid_auto_flow": null,
      "grid_auto_rows": null,
      "grid_column": null,
      "grid_gap": null,
      "grid_row": null,
      "grid_template_areas": null,
      "grid_template_columns": null,
      "grid_template_rows": null,
      "height": null,
      "justify_content": null,
      "justify_items": null,
      "left": null,
      "margin": null,
      "max_height": null,
      "max_width": null,
      "min_height": null,
      "min_width": null,
      "object_fit": null,
      "object_position": null,
      "order": null,
      "overflow": null,
      "overflow_x": null,
      "overflow_y": null,
      "padding": null,
      "right": null,
      "top": null,
      "visibility": null,
      "width": null
     }
    },
    "7b404c47a43f44f69818bea7217e8a47": {
     "model_module": "@jupyter-widgets/base",
     "model_module_version": "1.2.0",
     "model_name": "LayoutModel",
     "state": {
      "_model_module": "@jupyter-widgets/base",
      "_model_module_version": "1.2.0",
      "_model_name": "LayoutModel",
      "_view_count": null,
      "_view_module": "@jupyter-widgets/base",
      "_view_module_version": "1.2.0",
      "_view_name": "LayoutView",
      "align_content": null,
      "align_items": null,
      "align_self": null,
      "border": null,
      "bottom": null,
      "display": null,
      "flex": null,
      "flex_flow": null,
      "grid_area": null,
      "grid_auto_columns": null,
      "grid_auto_flow": null,
      "grid_auto_rows": null,
      "grid_column": null,
      "grid_gap": null,
      "grid_row": null,
      "grid_template_areas": null,
      "grid_template_columns": null,
      "grid_template_rows": null,
      "height": null,
      "justify_content": null,
      "justify_items": null,
      "left": null,
      "margin": null,
      "max_height": null,
      "max_width": null,
      "min_height": null,
      "min_width": null,
      "object_fit": null,
      "object_position": null,
      "order": null,
      "overflow": null,
      "overflow_x": null,
      "overflow_y": null,
      "padding": null,
      "right": null,
      "top": null,
      "visibility": null,
      "width": null
     }
    },
    "884fba459bf9430490744df08ddc5717": {
     "model_module": "@jupyter-widgets/base",
     "model_module_version": "1.2.0",
     "model_name": "LayoutModel",
     "state": {
      "_model_module": "@jupyter-widgets/base",
      "_model_module_version": "1.2.0",
      "_model_name": "LayoutModel",
      "_view_count": null,
      "_view_module": "@jupyter-widgets/base",
      "_view_module_version": "1.2.0",
      "_view_name": "LayoutView",
      "align_content": null,
      "align_items": null,
      "align_self": null,
      "border": null,
      "bottom": null,
      "display": null,
      "flex": null,
      "flex_flow": null,
      "grid_area": null,
      "grid_auto_columns": null,
      "grid_auto_flow": null,
      "grid_auto_rows": null,
      "grid_column": null,
      "grid_gap": null,
      "grid_row": null,
      "grid_template_areas": null,
      "grid_template_columns": null,
      "grid_template_rows": null,
      "height": null,
      "justify_content": null,
      "justify_items": null,
      "left": null,
      "margin": null,
      "max_height": null,
      "max_width": null,
      "min_height": null,
      "min_width": null,
      "object_fit": null,
      "object_position": null,
      "order": null,
      "overflow": null,
      "overflow_x": null,
      "overflow_y": null,
      "padding": null,
      "right": null,
      "top": null,
      "visibility": null,
      "width": null
     }
    },
    "89f1042e9da74a96b78db498aaeaff58": {
     "model_module": "@jupyter-widgets/base",
     "model_module_version": "1.2.0",
     "model_name": "LayoutModel",
     "state": {
      "_model_module": "@jupyter-widgets/base",
      "_model_module_version": "1.2.0",
      "_model_name": "LayoutModel",
      "_view_count": null,
      "_view_module": "@jupyter-widgets/base",
      "_view_module_version": "1.2.0",
      "_view_name": "LayoutView",
      "align_content": null,
      "align_items": null,
      "align_self": null,
      "border": null,
      "bottom": null,
      "display": null,
      "flex": null,
      "flex_flow": null,
      "grid_area": null,
      "grid_auto_columns": null,
      "grid_auto_flow": null,
      "grid_auto_rows": null,
      "grid_column": null,
      "grid_gap": null,
      "grid_row": null,
      "grid_template_areas": null,
      "grid_template_columns": null,
      "grid_template_rows": null,
      "height": null,
      "justify_content": null,
      "justify_items": null,
      "left": null,
      "margin": null,
      "max_height": null,
      "max_width": null,
      "min_height": null,
      "min_width": null,
      "object_fit": null,
      "object_position": null,
      "order": null,
      "overflow": null,
      "overflow_x": null,
      "overflow_y": null,
      "padding": null,
      "right": null,
      "top": null,
      "visibility": null,
      "width": null
     }
    },
    "8ff6cc5cad9b405690b63c7bd9bf4fa1": {
     "model_module": "@jupyter-widgets/controls",
     "model_module_version": "1.5.0",
     "model_name": "HBoxModel",
     "state": {
      "_dom_classes": [],
      "_model_module": "@jupyter-widgets/controls",
      "_model_module_version": "1.5.0",
      "_model_name": "HBoxModel",
      "_view_count": null,
      "_view_module": "@jupyter-widgets/controls",
      "_view_module_version": "1.5.0",
      "_view_name": "HBoxView",
      "box_style": "",
      "children": [
       "IPY_MODEL_b62409020f55441bb1f4b8682c35c475",
       "IPY_MODEL_6b855b3ca197469289c512e76bd612da",
       "IPY_MODEL_bbd0f5718e0f4fa4a1e8d63f8297c22c"
      ],
      "layout": "IPY_MODEL_9bcfd8c6c38c4797bf56af3b5f64c4db"
     }
    },
    "9bcfd8c6c38c4797bf56af3b5f64c4db": {
     "model_module": "@jupyter-widgets/base",
     "model_module_version": "1.2.0",
     "model_name": "LayoutModel",
     "state": {
      "_model_module": "@jupyter-widgets/base",
      "_model_module_version": "1.2.0",
      "_model_name": "LayoutModel",
      "_view_count": null,
      "_view_module": "@jupyter-widgets/base",
      "_view_module_version": "1.2.0",
      "_view_name": "LayoutView",
      "align_content": null,
      "align_items": null,
      "align_self": null,
      "border": null,
      "bottom": null,
      "display": null,
      "flex": null,
      "flex_flow": null,
      "grid_area": null,
      "grid_auto_columns": null,
      "grid_auto_flow": null,
      "grid_auto_rows": null,
      "grid_column": null,
      "grid_gap": null,
      "grid_row": null,
      "grid_template_areas": null,
      "grid_template_columns": null,
      "grid_template_rows": null,
      "height": null,
      "justify_content": null,
      "justify_items": null,
      "left": null,
      "margin": null,
      "max_height": null,
      "max_width": null,
      "min_height": null,
      "min_width": null,
      "object_fit": null,
      "object_position": null,
      "order": null,
      "overflow": null,
      "overflow_x": null,
      "overflow_y": null,
      "padding": null,
      "right": null,
      "top": null,
      "visibility": null,
      "width": null
     }
    },
    "a83e6ff6737b4deba41f3297185eb0c9": {
     "model_module": "@jupyter-widgets/base",
     "model_module_version": "1.2.0",
     "model_name": "LayoutModel",
     "state": {
      "_model_module": "@jupyter-widgets/base",
      "_model_module_version": "1.2.0",
      "_model_name": "LayoutModel",
      "_view_count": null,
      "_view_module": "@jupyter-widgets/base",
      "_view_module_version": "1.2.0",
      "_view_name": "LayoutView",
      "align_content": null,
      "align_items": null,
      "align_self": null,
      "border": null,
      "bottom": null,
      "display": null,
      "flex": null,
      "flex_flow": null,
      "grid_area": null,
      "grid_auto_columns": null,
      "grid_auto_flow": null,
      "grid_auto_rows": null,
      "grid_column": null,
      "grid_gap": null,
      "grid_row": null,
      "grid_template_areas": null,
      "grid_template_columns": null,
      "grid_template_rows": null,
      "height": null,
      "justify_content": null,
      "justify_items": null,
      "left": null,
      "margin": null,
      "max_height": null,
      "max_width": null,
      "min_height": null,
      "min_width": null,
      "object_fit": null,
      "object_position": null,
      "order": null,
      "overflow": null,
      "overflow_x": null,
      "overflow_y": null,
      "padding": null,
      "right": null,
      "top": null,
      "visibility": null,
      "width": null
     }
    },
    "b62409020f55441bb1f4b8682c35c475": {
     "model_module": "@jupyter-widgets/controls",
     "model_module_version": "1.5.0",
     "model_name": "HTMLModel",
     "state": {
      "_dom_classes": [],
      "_model_module": "@jupyter-widgets/controls",
      "_model_module_version": "1.5.0",
      "_model_name": "HTMLModel",
      "_view_count": null,
      "_view_module": "@jupyter-widgets/controls",
      "_view_module_version": "1.5.0",
      "_view_name": "HTMLView",
      "description": "",
      "description_tooltip": null,
      "layout": "IPY_MODEL_7b404c47a43f44f69818bea7217e8a47",
      "placeholder": "​",
      "style": "IPY_MODEL_25650f077ade463f8baf28145e0d0545",
      "value": "training routine: 100%"
     }
    },
    "bbd0f5718e0f4fa4a1e8d63f8297c22c": {
     "model_module": "@jupyter-widgets/controls",
     "model_module_version": "1.5.0",
     "model_name": "HTMLModel",
     "state": {
      "_dom_classes": [],
      "_model_module": "@jupyter-widgets/controls",
      "_model_module_version": "1.5.0",
      "_model_name": "HTMLModel",
      "_view_count": null,
      "_view_module": "@jupyter-widgets/controls",
      "_view_module_version": "1.5.0",
      "_view_name": "HTMLView",
      "description": "",
      "description_tooltip": null,
      "layout": "IPY_MODEL_00ce2f4aac0f42658f7682d2845e2132",
      "placeholder": "​",
      "style": "IPY_MODEL_be45f9b4aa184ae2936b6beff671482f",
      "value": " 10/10 [02:39&lt;00:00, 15.84s/it]"
     }
    },
    "be45f9b4aa184ae2936b6beff671482f": {
     "model_module": "@jupyter-widgets/controls",
     "model_module_version": "1.5.0",
     "model_name": "DescriptionStyleModel",
     "state": {
      "_model_module": "@jupyter-widgets/controls",
      "_model_module_version": "1.5.0",
      "_model_name": "DescriptionStyleModel",
      "_view_count": null,
      "_view_module": "@jupyter-widgets/base",
      "_view_module_version": "1.2.0",
      "_view_name": "StyleView",
      "description_width": ""
     }
    },
    "bfe50105b88644a29e27e5d3fba57ef0": {
     "model_module": "@jupyter-widgets/controls",
     "model_module_version": "1.5.0",
     "model_name": "HTMLModel",
     "state": {
      "_dom_classes": [],
      "_model_module": "@jupyter-widgets/controls",
      "_model_module_version": "1.5.0",
      "_model_name": "HTMLModel",
      "_view_count": null,
      "_view_module": "@jupyter-widgets/controls",
      "_view_module_version": "1.5.0",
      "_view_name": "HTMLView",
      "description": "",
      "description_tooltip": null,
      "layout": "IPY_MODEL_d5f52c2739a14774847d48addcafdb30",
      "placeholder": "​",
      "style": "IPY_MODEL_72215cb7d8e94557b56c678f6c1a418c",
      "value": "split=train:  97%"
     }
    },
    "c63632e4529343758047a3ebe0f61981": {
     "model_module": "@jupyter-widgets/controls",
     "model_module_version": "1.5.0",
     "model_name": "DescriptionStyleModel",
     "state": {
      "_model_module": "@jupyter-widgets/controls",
      "_model_module_version": "1.5.0",
      "_model_name": "DescriptionStyleModel",
      "_view_count": null,
      "_view_module": "@jupyter-widgets/base",
      "_view_module_version": "1.2.0",
      "_view_name": "StyleView",
      "description_width": ""
     }
    },
    "d0f9900f473042e6bc4994196f3be04c": {
     "model_module": "@jupyter-widgets/controls",
     "model_module_version": "1.5.0",
     "model_name": "HTMLModel",
     "state": {
      "_dom_classes": [],
      "_model_module": "@jupyter-widgets/controls",
      "_model_module_version": "1.5.0",
      "_model_name": "HTMLModel",
      "_view_count": null,
      "_view_module": "@jupyter-widgets/controls",
      "_view_module_version": "1.5.0",
      "_view_name": "HTMLView",
      "description": "",
      "description_tooltip": null,
      "layout": "IPY_MODEL_6597100e93784b098e470589ba717a1b",
      "placeholder": "​",
      "style": "IPY_MODEL_2c2c81b24f59419f9d7850d8bacece84",
      "value": "split=val:  88%"
     }
    },
    "d5f52c2739a14774847d48addcafdb30": {
     "model_module": "@jupyter-widgets/base",
     "model_module_version": "1.2.0",
     "model_name": "LayoutModel",
     "state": {
      "_model_module": "@jupyter-widgets/base",
      "_model_module_version": "1.2.0",
      "_model_name": "LayoutModel",
      "_view_count": null,
      "_view_module": "@jupyter-widgets/base",
      "_view_module_version": "1.2.0",
      "_view_name": "LayoutView",
      "align_content": null,
      "align_items": null,
      "align_self": null,
      "border": null,
      "bottom": null,
      "display": null,
      "flex": null,
      "flex_flow": null,
      "grid_area": null,
      "grid_auto_columns": null,
      "grid_auto_flow": null,
      "grid_auto_rows": null,
      "grid_column": null,
      "grid_gap": null,
      "grid_row": null,
      "grid_template_areas": null,
      "grid_template_columns": null,
      "grid_template_rows": null,
      "height": null,
      "justify_content": null,
      "justify_items": null,
      "left": null,
      "margin": null,
      "max_height": null,
      "max_width": null,
      "min_height": null,
      "min_width": null,
      "object_fit": null,
      "object_position": null,
      "order": null,
      "overflow": null,
      "overflow_x": null,
      "overflow_y": null,
      "padding": null,
      "right": null,
      "top": null,
      "visibility": null,
      "width": null
     }
    },
    "df7acea950b44cf99df4b163ac6c88f6": {
     "model_module": "@jupyter-widgets/controls",
     "model_module_version": "1.5.0",
     "model_name": "ProgressStyleModel",
     "state": {
      "_model_module": "@jupyter-widgets/controls",
      "_model_module_version": "1.5.0",
      "_model_name": "ProgressStyleModel",
      "_view_count": null,
      "_view_module": "@jupyter-widgets/base",
      "_view_module_version": "1.2.0",
      "_view_name": "StyleView",
      "bar_color": null,
      "description_width": ""
     }
    },
    "fe245a8fdf82492a86faa341df1c9124": {
     "model_module": "@jupyter-widgets/controls",
     "model_module_version": "1.5.0",
     "model_name": "ProgressStyleModel",
     "state": {
      "_model_module": "@jupyter-widgets/controls",
      "_model_module_version": "1.5.0",
      "_model_name": "ProgressStyleModel",
      "_view_count": null,
      "_view_module": "@jupyter-widgets/base",
      "_view_module_version": "1.2.0",
      "_view_name": "StyleView",
      "bar_color": null,
      "description_width": ""
     }
    }
   }
  }
 },
 "nbformat": 4,
 "nbformat_minor": 4
}
