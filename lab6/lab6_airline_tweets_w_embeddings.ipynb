{
 "cells": [
  {
   "cell_type": "markdown",
   "metadata": {},
   "source": [
    "# Lab 6: Airline Tweets with (and without) Embeddings\n",
    "\n",
    "[![Open In Colab](https://colab.research.google.com/assets/colab-badge.svg)](https://colab.research.google.com/github/sgeinitz/DSML4220/blob/main/lab6_airline_tweets_w_embeddings.ipynb)\n",
    "\n",
    "[![Kaggle](https://kaggle.com/static/images/open-in-kaggle.svg)](https://kaggle.com/kernels/welcome?src=https://github.com/sgeinitz/DSML4220/blob/main/lab6_airline_tweets_w_embeddings.ipynb)\n",
    "\n",
    "In this notebook we'll build revisit the Airline Tweets dataset (from [Lab 1](https://github.com/sgeinitz/DSML4220/blob/main/lab1_text_data.ipynb)) and compare using an MLP with one-hot encodings as the input vs using word embeddings as the input. \n",
    "\n",
    "In this lab there are three (3) questions/tasks. These questions are listed here but are also inline below. \n",
    "\n",
    "1. Q1: Choose two words to compare (different from \"_wonderful_\" vs \"_incredible_\"). Re-run the parts of the notebook that plot the histogram of the differences between learned weight parameter values for each of your chosen words across the 128 hidden units in the first layer. \n",
    "2. Q2: Add your two words the list of words whose embeddings are displayed and compared. Do your two chosen words have similar embeddings? In other words, is the distance between your embeddings very small?\n",
    "3. Q3: Compare the size of the two models used in this notebook, one of which uses one-hot encoded inputs and the other which uses GloVe embeddings. "
   ]
  },
  {
   "cell_type": "code",
   "execution_count": null,
   "metadata": {},
   "outputs": [],
   "source": [
    "#!pip install torchtext==0.16.0"
   ]
  },
  {
   "cell_type": "code",
   "execution_count": null,
   "metadata": {},
   "outputs": [],
   "source": [
    "#!pip install torchmetrics"
   ]
  },
  {
   "cell_type": "code",
   "execution_count": 1,
   "metadata": {},
   "outputs": [],
   "source": [
    "import torch\n",
    "import random\n",
    "import tqdm #import notebook\n",
    "import pandas as pd\n",
    "import numpy as np\n",
    "import matplotlib \n",
    "import matplotlib.pyplot as plt\n",
    "import seaborn as sns\n",
    "\n",
    "import torch.nn as nn\n",
    "import torch.nn.functional as F\n",
    "import torch.optim as optim\n",
    "from torch.utils.data import Dataset, DataLoader\n",
    "from torchmetrics.functional import pairwise_cosine_similarity\n"
   ]
  },
  {
   "cell_type": "code",
   "execution_count": 2,
   "metadata": {},
   "outputs": [
    {
     "name": "stdout",
     "output_type": "stream",
     "text": [
      "torch                     2.6.0\n",
      "torchdata                 0.7.1\n",
      "torchinfo                 1.8.0\n",
      "torchmetrics              1.7.0\n",
      "torchtext                 0.17.0\n",
      "torchvision               0.21.0\n"
     ]
    }
   ],
   "source": [
    "!pip3 list | grep torch"
   ]
  },
  {
   "cell_type": "code",
   "execution_count": 3,
   "metadata": {},
   "outputs": [
    {
     "name": "stdout",
     "output_type": "stream",
     "text": [
      "df.shape: (10000, 2)\n"
     ]
    },
    {
     "data": {
      "application/vnd.microsoft.datawrangler.viewer.v0+json": {
       "columns": [
        {
         "name": "index",
         "rawType": "int64",
         "type": "integer"
        },
        {
         "name": "sentiment",
         "rawType": "object",
         "type": "string"
        },
        {
         "name": "text",
         "rawType": "object",
         "type": "string"
        }
       ],
       "conversionMethod": "pd.DataFrame",
       "ref": "372e2d5d-07b6-4e53-bcef-00a8222ac271",
       "rows": [
        [
         "0",
         "positive",
         "@JetBlue @JayVig I like the inflight snacks! I'm flying with you guys on 2/28! #JVMChat"
        ],
        [
         "1",
         "positive",
         "@VirginAmerica thanks guys! Sweet route over the Rockies #airplanemodewason"
        ],
        [
         "2",
         "negative",
         "@USAirways Your exchange/credit policies are worthless and shadier than the White House. Dissatisfied to the nines right now."
        ],
        [
         "3",
         "negative",
         "@USAirways but in the meantime I'll be sleeping on a park bench on dadeland st.  Thanks guys!"
        ],
        [
         "4",
         "negative",
         "@VirginAmerica hold times at call center are a bit much"
        ],
        [
         "5",
         "negative",
         "@USAirways not moving we are in the tarmac delayed for some unknown reason. I'll keep you posted"
        ],
        [
         "6",
         "neutral",
         "@JetBlue What about if I booked it through Orbitz? My email is correct, but there's a middle party."
        ],
        [
         "7",
         "negative",
         "@united 2nd flight also delayed no pilots! But they boarded is so we can just sit here! #scheduling"
        ],
        [
         "8",
         "negative",
         ".@AmericanAir after 50 minutes on hold, and another 30 minutes on the call yes. Going to be pushing it to get to the airport on time now"
        ],
        [
         "9",
         "positive",
         "@JetBlue flight 117. proud to fly Jet Blue!"
        ]
       ],
       "shape": {
        "columns": 2,
        "rows": 10
       }
      },
      "text/html": [
       "<div>\n",
       "<style scoped>\n",
       "    .dataframe tbody tr th:only-of-type {\n",
       "        vertical-align: middle;\n",
       "    }\n",
       "\n",
       "    .dataframe tbody tr th {\n",
       "        vertical-align: top;\n",
       "    }\n",
       "\n",
       "    .dataframe thead th {\n",
       "        text-align: right;\n",
       "    }\n",
       "</style>\n",
       "<table border=\"1\" class=\"dataframe\">\n",
       "  <thead>\n",
       "    <tr style=\"text-align: right;\">\n",
       "      <th></th>\n",
       "      <th>sentiment</th>\n",
       "      <th>text</th>\n",
       "    </tr>\n",
       "  </thead>\n",
       "  <tbody>\n",
       "    <tr>\n",
       "      <th>0</th>\n",
       "      <td>positive</td>\n",
       "      <td>@JetBlue @JayVig I like the inflight snacks! I'm flying with you guys on 2/28! #JVMChat</td>\n",
       "    </tr>\n",
       "    <tr>\n",
       "      <th>1</th>\n",
       "      <td>positive</td>\n",
       "      <td>@VirginAmerica thanks guys! Sweet route over the Rockies #airplanemodewason</td>\n",
       "    </tr>\n",
       "    <tr>\n",
       "      <th>2</th>\n",
       "      <td>negative</td>\n",
       "      <td>@USAirways Your exchange/credit policies are worthless and shadier than the White House. Dissatisfied to the nines right now.</td>\n",
       "    </tr>\n",
       "    <tr>\n",
       "      <th>3</th>\n",
       "      <td>negative</td>\n",
       "      <td>@USAirways but in the meantime I'll be sleeping on a park bench on dadeland st.  Thanks guys!</td>\n",
       "    </tr>\n",
       "    <tr>\n",
       "      <th>4</th>\n",
       "      <td>negative</td>\n",
       "      <td>@VirginAmerica hold times at call center are a bit much</td>\n",
       "    </tr>\n",
       "    <tr>\n",
       "      <th>5</th>\n",
       "      <td>negative</td>\n",
       "      <td>@USAirways not moving we are in the tarmac delayed for some unknown reason. I'll keep you posted</td>\n",
       "    </tr>\n",
       "    <tr>\n",
       "      <th>6</th>\n",
       "      <td>neutral</td>\n",
       "      <td>@JetBlue What about if I booked it through Orbitz? My email is correct, but there's a middle party.</td>\n",
       "    </tr>\n",
       "    <tr>\n",
       "      <th>7</th>\n",
       "      <td>negative</td>\n",
       "      <td>@united 2nd flight also delayed no pilots! But they boarded is so we can just sit here! #scheduling</td>\n",
       "    </tr>\n",
       "    <tr>\n",
       "      <th>8</th>\n",
       "      <td>negative</td>\n",
       "      <td>.@AmericanAir after 50 minutes on hold, and another 30 minutes on the call yes. Going to be pushing it to get to the airport on time now</td>\n",
       "    </tr>\n",
       "    <tr>\n",
       "      <th>9</th>\n",
       "      <td>positive</td>\n",
       "      <td>@JetBlue flight 117. proud to fly Jet Blue!</td>\n",
       "    </tr>\n",
       "  </tbody>\n",
       "</table>\n",
       "</div>"
      ],
      "text/plain": [
       "  sentiment  \\\n",
       "0  positive   \n",
       "1  positive   \n",
       "2  negative   \n",
       "3  negative   \n",
       "4  negative   \n",
       "5  negative   \n",
       "6   neutral   \n",
       "7  negative   \n",
       "8  negative   \n",
       "9  positive   \n",
       "\n",
       "                                                                                                                                       text  \n",
       "0                                                   @JetBlue @JayVig I like the inflight snacks! I'm flying with you guys on 2/28! #JVMChat  \n",
       "1                                                               @VirginAmerica thanks guys! Sweet route over the Rockies #airplanemodewason  \n",
       "2             @USAirways Your exchange/credit policies are worthless and shadier than the White House. Dissatisfied to the nines right now.  \n",
       "3                                             @USAirways but in the meantime I'll be sleeping on a park bench on dadeland st.  Thanks guys!  \n",
       "4                                                                                   @VirginAmerica hold times at call center are a bit much  \n",
       "5                                          @USAirways not moving we are in the tarmac delayed for some unknown reason. I'll keep you posted  \n",
       "6                                       @JetBlue What about if I booked it through Orbitz? My email is correct, but there's a middle party.  \n",
       "7                                       @united 2nd flight also delayed no pilots! But they boarded is so we can just sit here! #scheduling  \n",
       "8  .@AmericanAir after 50 minutes on hold, and another 30 minutes on the call yes. Going to be pushing it to get to the airport on time now  \n",
       "9                                                                                               @JetBlue flight 117. proud to fly Jet Blue!  "
      ]
     },
     "execution_count": 3,
     "metadata": {},
     "output_type": "execute_result"
    }
   ],
   "source": [
    "data_URL = 'https://raw.githubusercontent.com/sgeinitz/DSML4220/main/data/airlinetweets.csv'\n",
    "df = pd.read_csv(data_URL)\n",
    "print(f\"df.shape: {df.shape}\")\n",
    "pd.set_option(\"display.max_colwidth\", 240)\n",
    "df.head(10)"
   ]
  },
  {
   "cell_type": "code",
   "execution_count": 4,
   "metadata": {},
   "outputs": [],
   "source": [
    "random.seed(2) \n",
    "indices = list(range(len(df)))\n",
    "random.shuffle(indices)\n",
    "\n",
    "df_test = df.iloc[indices[9000:],]\n",
    "df = df.iloc[indices[:9000],]"
   ]
  },
  {
   "cell_type": "code",
   "execution_count": 5,
   "metadata": {},
   "outputs": [
    {
     "data": {
      "text/plain": [
       "(9000, 2)"
      ]
     },
     "execution_count": 5,
     "metadata": {},
     "output_type": "execute_result"
    }
   ],
   "source": [
    "df_test.shape\n",
    "df.shape"
   ]
  },
  {
   "cell_type": "markdown",
   "metadata": {},
   "source": [
    "Recall that about 2/3 of the data have negative labels, and that the remaining labels are roughly split between positive and neutral (slightly more neutral than positive). "
   ]
  },
  {
   "cell_type": "code",
   "execution_count": 6,
   "metadata": {},
   "outputs": [
    {
     "data": {
      "text/plain": [
       "sentiment\n",
       "negative    0.653556\n",
       "neutral     0.191111\n",
       "positive    0.155333\n",
       "Name: proportion, dtype: float64"
      ]
     },
     "execution_count": 6,
     "metadata": {},
     "output_type": "execute_result"
    }
   ],
   "source": [
    "df.sentiment.value_counts(normalize=True)"
   ]
  },
  {
   "cell_type": "markdown",
   "metadata": {},
   "source": [
    "Let's start with the nltk TweetTokenizer, which will split the text into separate words and characters based on common Twitter conventions. "
   ]
  },
  {
   "cell_type": "code",
   "execution_count": 7,
   "metadata": {},
   "outputs": [
    {
     "data": {
      "application/vnd.microsoft.datawrangler.viewer.v0+json": {
       "columns": [
        {
         "name": "index",
         "rawType": "int64",
         "type": "integer"
        },
        {
         "name": "sentiment",
         "rawType": "object",
         "type": "string"
        },
        {
         "name": "text",
         "rawType": "object",
         "type": "string"
        },
        {
         "name": "tokens_raw",
         "rawType": "object",
         "type": "unknown"
        }
       ],
       "conversionMethod": "pd.DataFrame",
       "ref": "11a59d0b-575e-4c0e-9b8d-047c12f2541e",
       "rows": [
        [
         "7010",
         "positive",
         "@AmericanAir I ended up on a flight to LA my fourth time on standby. Thanks! http://t.co/NA5G5EAKPA",
         "['@americanair', 'i', 'ended', 'up', 'on', 'a', 'flight', 'to', 'la', 'my', 'fourth', 'time', 'on', 'standby', '.', 'thanks', '!', 'http://t.co/na5g5eakpa']"
        ],
        [
         "9477",
         "neutral",
         "@JetBlue thanks! I only loose 'em at airports...1st time we found it. I think @fitbit needs to make flexes that stay on when carrying bags!",
         "['@jetblue', 'thanks', '!', 'i', 'only', 'loose', \"'\", 'em', 'at', 'airports', '...', '1st', 'time', 'we', 'found', 'it', '.', 'i', 'think', '@fitbit', 'needs', 'to', 'make', 'flexes', 'that', 'stay', 'on', 'when', 'carrying', 'bags', '!']"
        ],
        [
         "4584",
         "neutral",
         "@SouthwestAir can take u to Midway-Chicago March 8th-April 6th. Can't make it then? @AmericanAir can get u to @fly2ohare year round. #FlyPBI",
         "['@southwestair', 'can', 'take', 'u', 'to', 'midway-chicago', 'march', '8th', '-', 'april', '6th', '.', \"can't\", 'make', 'it', 'then', '?', '@americanair', 'can', 'get', 'u', 'to', '@fly2ohare', 'year', 'round', '.', '#flypbi']"
        ],
        [
         "3460",
         "negative",
         "@AmericanAir is this how you let your employees treat your loyal customers? #attackingbabymomma #crazinessintherockies",
         "['@americanair', 'is', 'this', 'how', 'you', 'let', 'your', 'employees', 'treat', 'your', 'loyal', 'customers', '?', '#attackingbabymomma', '#crazinessintherockies']"
        ],
        [
         "9065",
         "negative",
         "@USAirways so I still need to stay on hold? http://t.co/04SDytT7zd",
         "['@usairways', 'so', 'i', 'still', 'need', 'to', 'stay', 'on', 'hold', '?', 'http://t.co/04sdytt7zd']"
        ]
       ],
       "shape": {
        "columns": 3,
        "rows": 5
       }
      },
      "text/html": [
       "<div>\n",
       "<style scoped>\n",
       "    .dataframe tbody tr th:only-of-type {\n",
       "        vertical-align: middle;\n",
       "    }\n",
       "\n",
       "    .dataframe tbody tr th {\n",
       "        vertical-align: top;\n",
       "    }\n",
       "\n",
       "    .dataframe thead th {\n",
       "        text-align: right;\n",
       "    }\n",
       "</style>\n",
       "<table border=\"1\" class=\"dataframe\">\n",
       "  <thead>\n",
       "    <tr style=\"text-align: right;\">\n",
       "      <th></th>\n",
       "      <th>sentiment</th>\n",
       "      <th>text</th>\n",
       "      <th>tokens_raw</th>\n",
       "    </tr>\n",
       "  </thead>\n",
       "  <tbody>\n",
       "    <tr>\n",
       "      <th>7010</th>\n",
       "      <td>positive</td>\n",
       "      <td>@AmericanAir I ended up on a flight to LA my fourth time on standby. Thanks! http://t.co/NA5G5EAKPA</td>\n",
       "      <td>[@americanair, i, ended, up, on, a, flight, to, la, my, fourth, time, on, standby, ., thanks, !, http://t.co/na5g5eakpa]</td>\n",
       "    </tr>\n",
       "    <tr>\n",
       "      <th>9477</th>\n",
       "      <td>neutral</td>\n",
       "      <td>@JetBlue thanks! I only loose 'em at airports...1st time we found it. I think @fitbit needs to make flexes that stay on when carrying bags!</td>\n",
       "      <td>[@jetblue, thanks, !, i, only, loose, ', em, at, airports, ..., 1st, time, we, found, it, ., i, think, @fitbit, needs, to, make, flexes, that, stay, on, when, carrying, bags, !]</td>\n",
       "    </tr>\n",
       "    <tr>\n",
       "      <th>4584</th>\n",
       "      <td>neutral</td>\n",
       "      <td>@SouthwestAir can take u to Midway-Chicago March 8th-April 6th. Can't make it then? @AmericanAir can get u to @fly2ohare year round. #FlyPBI</td>\n",
       "      <td>[@southwestair, can, take, u, to, midway-chicago, march, 8th, -, april, 6th, ., can't, make, it, then, ?, @americanair, can, get, u, to, @fly2ohare, year, round, ., #flypbi]</td>\n",
       "    </tr>\n",
       "    <tr>\n",
       "      <th>3460</th>\n",
       "      <td>negative</td>\n",
       "      <td>@AmericanAir is this how you let your employees treat your loyal customers? #attackingbabymomma #crazinessintherockies</td>\n",
       "      <td>[@americanair, is, this, how, you, let, your, employees, treat, your, loyal, customers, ?, #attackingbabymomma, #crazinessintherockies]</td>\n",
       "    </tr>\n",
       "    <tr>\n",
       "      <th>9065</th>\n",
       "      <td>negative</td>\n",
       "      <td>@USAirways so I still need to stay on hold? http://t.co/04SDytT7zd</td>\n",
       "      <td>[@usairways, so, i, still, need, to, stay, on, hold, ?, http://t.co/04sdytt7zd]</td>\n",
       "    </tr>\n",
       "  </tbody>\n",
       "</table>\n",
       "</div>"
      ],
      "text/plain": [
       "     sentiment  \\\n",
       "7010  positive   \n",
       "9477   neutral   \n",
       "4584   neutral   \n",
       "3460  negative   \n",
       "9065  negative   \n",
       "\n",
       "                                                                                                                                              text  \\\n",
       "7010                                           @AmericanAir I ended up on a flight to LA my fourth time on standby. Thanks! http://t.co/NA5G5EAKPA   \n",
       "9477   @JetBlue thanks! I only loose 'em at airports...1st time we found it. I think @fitbit needs to make flexes that stay on when carrying bags!   \n",
       "4584  @SouthwestAir can take u to Midway-Chicago March 8th-April 6th. Can't make it then? @AmericanAir can get u to @fly2ohare year round. #FlyPBI   \n",
       "3460                        @AmericanAir is this how you let your employees treat your loyal customers? #attackingbabymomma #crazinessintherockies   \n",
       "9065                                                                            @USAirways so I still need to stay on hold? http://t.co/04SDytT7zd   \n",
       "\n",
       "                                                                                                                                                                             tokens_raw  \n",
       "7010                                                           [@americanair, i, ended, up, on, a, flight, to, la, my, fourth, time, on, standby, ., thanks, !, http://t.co/na5g5eakpa]  \n",
       "9477  [@jetblue, thanks, !, i, only, loose, ', em, at, airports, ..., 1st, time, we, found, it, ., i, think, @fitbit, needs, to, make, flexes, that, stay, on, when, carrying, bags, !]  \n",
       "4584      [@southwestair, can, take, u, to, midway-chicago, march, 8th, -, april, 6th, ., can't, make, it, then, ?, @americanair, can, get, u, to, @fly2ohare, year, round, ., #flypbi]  \n",
       "3460                                            [@americanair, is, this, how, you, let, your, employees, treat, your, loyal, customers, ?, #attackingbabymomma, #crazinessintherockies]  \n",
       "9065                                                                                                    [@usairways, so, i, still, need, to, stay, on, hold, ?, http://t.co/04sdytt7zd]  "
      ]
     },
     "execution_count": 7,
     "metadata": {},
     "output_type": "execute_result"
    }
   ],
   "source": [
    "from nltk.tokenize import TweetTokenizer\n",
    "tk = TweetTokenizer()\n",
    "df['tokens_raw'] = df['text'].apply(lambda x: tk.tokenize(x.lower()))\n",
    "df.head()"
   ]
  },
  {
   "cell_type": "markdown",
   "metadata": {},
   "source": [
    "Previously, we did not do a lot of exploratory data analysis (EDA) on this airline tweet dataset. We will not do too much here either, but at the very least let's look at a histogram of the lengths of the tweets. Note that here we are defining length to be the number of tokens, but it may also be useful to look at the number of characters. And, of course, there are other EDA steps we could do. "
   ]
  },
  {
   "cell_type": "code",
   "execution_count": 8,
   "metadata": {},
   "outputs": [
    {
     "data": {
      "image/png": "[encoded data removed]",
      "text/plain": [
       "<Figure size 1200x600 with 1 Axes>"
      ]
     },
     "metadata": {},
     "output_type": "display_data"
    }
   ],
   "source": [
    "df['tweet_length'] = df['tokens_raw'].apply(lambda x: len(x))\n",
    "plt.figure(figsize=(12,6))\n",
    "df['tweet_length'].hist() #bins=100, range=(0,45), width=0.9) #, df['tweet_length'].mean(), df['tweet_length'].median()\n",
    "plt.show()"
   ]
  },
  {
   "cell_type": "code",
   "execution_count": 9,
   "metadata": {},
   "outputs": [
    {
     "name": "stderr",
     "output_type": "stream",
     "text": [
      "[nltk_data] Downloading package stopwords to\n",
      "[nltk_data]     /Users/lingthang/nltk_data...\n",
      "[nltk_data]   Package stopwords is already up-to-date!\n"
     ]
    },
    {
     "data": {
      "text/plain": [
       "True"
      ]
     },
     "execution_count": 9,
     "metadata": {},
     "output_type": "execute_result"
    }
   ],
   "source": [
    "import nltk\n",
    "nltk.download('stopwords')"
   ]
  },
  {
   "cell_type": "markdown",
   "metadata": {},
   "source": [
    "Next, let's remove common stop words (e.g. \"_the_\", \"_in_\", etc.). In this next cell we will also remove some characters/punctuation, as well as hashtag tokens. \n",
    "\n",
    "Note: If the following cell causes an error, then uncomment the code cell above and run it to download and load the nltk stopwords."
   ]
  },
  {
   "cell_type": "code",
   "execution_count": 10,
   "metadata": {},
   "outputs": [
    {
     "data": {
      "application/vnd.microsoft.datawrangler.viewer.v0+json": {
       "columns": [
        {
         "name": "index",
         "rawType": "int64",
         "type": "integer"
        },
        {
         "name": "sentiment",
         "rawType": "object",
         "type": "string"
        },
        {
         "name": "text",
         "rawType": "object",
         "type": "string"
        },
        {
         "name": "tokens_raw",
         "rawType": "object",
         "type": "unknown"
        },
        {
         "name": "tweet_length",
         "rawType": "int64",
         "type": "integer"
        }
       ],
       "conversionMethod": "pd.DataFrame",
       "ref": "001309d0-e0cb-496f-a28d-73fc96ec57d6",
       "rows": [
        [
         "7010",
         "positive",
         "@AmericanAir I ended up on a flight to LA my fourth time on standby. Thanks! http://t.co/NA5G5EAKPA",
         "['@americanair', 'ended', 'flight', 'la', 'fourth', 'time', 'standby', 'thanks', 'http://t.co/na5g5eakpa']",
         "18"
        ],
        [
         "9477",
         "neutral",
         "@JetBlue thanks! I only loose 'em at airports...1st time we found it. I think @fitbit needs to make flexes that stay on when carrying bags!",
         "['@jetblue', 'thanks', 'loose', \"'\", 'em', 'airports', '...', '1st', 'time', 'found', 'think', '@fitbit', 'needs', 'make', 'flexes', 'stay', 'carrying', 'bags']",
         "31"
        ],
        [
         "4584",
         "neutral",
         "@SouthwestAir can take u to Midway-Chicago March 8th-April 6th. Can't make it then? @AmericanAir can get u to @fly2ohare year round. #FlyPBI",
         "['@southwestair', 'take', 'u', 'midway-chicago', 'march', '8th', '-', 'april', '6th', \"can't\", 'make', '@americanair', 'get', 'u', '@fly2ohare', 'year', 'round']",
         "27"
        ],
        [
         "3460",
         "negative",
         "@AmericanAir is this how you let your employees treat your loyal customers? #attackingbabymomma #crazinessintherockies",
         "['@americanair', 'let', 'employees', 'treat', 'loyal', 'customers']",
         "15"
        ],
        [
         "9065",
         "negative",
         "@USAirways so I still need to stay on hold? http://t.co/04SDytT7zd",
         "['@usairways', 'still', 'need', 'stay', 'hold', 'http://t.co/04sdytt7zd']",
         "11"
        ]
       ],
       "shape": {
        "columns": 4,
        "rows": 5
       }
      },
      "text/html": [
       "<div>\n",
       "<style scoped>\n",
       "    .dataframe tbody tr th:only-of-type {\n",
       "        vertical-align: middle;\n",
       "    }\n",
       "\n",
       "    .dataframe tbody tr th {\n",
       "        vertical-align: top;\n",
       "    }\n",
       "\n",
       "    .dataframe thead th {\n",
       "        text-align: right;\n",
       "    }\n",
       "</style>\n",
       "<table border=\"1\" class=\"dataframe\">\n",
       "  <thead>\n",
       "    <tr style=\"text-align: right;\">\n",
       "      <th></th>\n",
       "      <th>sentiment</th>\n",
       "      <th>text</th>\n",
       "      <th>tokens_raw</th>\n",
       "      <th>tweet_length</th>\n",
       "    </tr>\n",
       "  </thead>\n",
       "  <tbody>\n",
       "    <tr>\n",
       "      <th>7010</th>\n",
       "      <td>positive</td>\n",
       "      <td>@AmericanAir I ended up on a flight to LA my fourth time on standby. Thanks! http://t.co/NA5G5EAKPA</td>\n",
       "      <td>[@americanair, ended, flight, la, fourth, time, standby, thanks, http://t.co/na5g5eakpa]</td>\n",
       "      <td>18</td>\n",
       "    </tr>\n",
       "    <tr>\n",
       "      <th>9477</th>\n",
       "      <td>neutral</td>\n",
       "      <td>@JetBlue thanks! I only loose 'em at airports...1st time we found it. I think @fitbit needs to make flexes that stay on when carrying bags!</td>\n",
       "      <td>[@jetblue, thanks, loose, ', em, airports, ..., 1st, time, found, think, @fitbit, needs, make, flexes, stay, carrying, bags]</td>\n",
       "      <td>31</td>\n",
       "    </tr>\n",
       "    <tr>\n",
       "      <th>4584</th>\n",
       "      <td>neutral</td>\n",
       "      <td>@SouthwestAir can take u to Midway-Chicago March 8th-April 6th. Can't make it then? @AmericanAir can get u to @fly2ohare year round. #FlyPBI</td>\n",
       "      <td>[@southwestair, take, u, midway-chicago, march, 8th, -, april, 6th, can't, make, @americanair, get, u, @fly2ohare, year, round]</td>\n",
       "      <td>27</td>\n",
       "    </tr>\n",
       "    <tr>\n",
       "      <th>3460</th>\n",
       "      <td>negative</td>\n",
       "      <td>@AmericanAir is this how you let your employees treat your loyal customers? #attackingbabymomma #crazinessintherockies</td>\n",
       "      <td>[@americanair, let, employees, treat, loyal, customers]</td>\n",
       "      <td>15</td>\n",
       "    </tr>\n",
       "    <tr>\n",
       "      <th>9065</th>\n",
       "      <td>negative</td>\n",
       "      <td>@USAirways so I still need to stay on hold? http://t.co/04SDytT7zd</td>\n",
       "      <td>[@usairways, still, need, stay, hold, http://t.co/04sdytt7zd]</td>\n",
       "      <td>11</td>\n",
       "    </tr>\n",
       "  </tbody>\n",
       "</table>\n",
       "</div>"
      ],
      "text/plain": [
       "     sentiment  \\\n",
       "7010  positive   \n",
       "9477   neutral   \n",
       "4584   neutral   \n",
       "3460  negative   \n",
       "9065  negative   \n",
       "\n",
       "                                                                                                                                              text  \\\n",
       "7010                                           @AmericanAir I ended up on a flight to LA my fourth time on standby. Thanks! http://t.co/NA5G5EAKPA   \n",
       "9477   @JetBlue thanks! I only loose 'em at airports...1st time we found it. I think @fitbit needs to make flexes that stay on when carrying bags!   \n",
       "4584  @SouthwestAir can take u to Midway-Chicago March 8th-April 6th. Can't make it then? @AmericanAir can get u to @fly2ohare year round. #FlyPBI   \n",
       "3460                        @AmericanAir is this how you let your employees treat your loyal customers? #attackingbabymomma #crazinessintherockies   \n",
       "9065                                                                            @USAirways so I still need to stay on hold? http://t.co/04SDytT7zd   \n",
       "\n",
       "                                                                                                                           tokens_raw  \\\n",
       "7010                                         [@americanair, ended, flight, la, fourth, time, standby, thanks, http://t.co/na5g5eakpa]   \n",
       "9477     [@jetblue, thanks, loose, ', em, airports, ..., 1st, time, found, think, @fitbit, needs, make, flexes, stay, carrying, bags]   \n",
       "4584  [@southwestair, take, u, midway-chicago, march, 8th, -, april, 6th, can't, make, @americanair, get, u, @fly2ohare, year, round]   \n",
       "3460                                                                          [@americanair, let, employees, treat, loyal, customers]   \n",
       "9065                                                                    [@usairways, still, need, stay, hold, http://t.co/04sdytt7zd]   \n",
       "\n",
       "      tweet_length  \n",
       "7010            18  \n",
       "9477            31  \n",
       "4584            27  \n",
       "3460            15  \n",
       "9065            11  "
      ]
     },
     "execution_count": 10,
     "metadata": {},
     "output_type": "execute_result"
    }
   ],
   "source": [
    "import re\n",
    "from nltk.corpus import stopwords\n",
    "stops = set(stopwords.words('english'))\n",
    "chars2remove = set(['.','!','/', '?'])\n",
    "df['tokens_raw'] = df['tokens_raw'].apply(lambda x: [w for w in x if w not in stops])\n",
    "df['tokens_raw'] = df['tokens_raw'].apply(lambda x: [w for w in x if w not in chars2remove])\n",
    "df['tokens_raw'] = df['tokens_raw'].apply(lambda x: [w for w in x if not re.match('^#', w)]) # remove hashtags\n",
    "#df['tokens_raw'] = df['tokens_raw'].apply(lambda x: [w for w in x if not re.match('^http', w)]) # remove web links\n",
    "#df['tokens_raw'] = df['tokens_raw'].apply(lambda x: [w for w in x if not re.match('^@', w)]) # remove web links\n",
    "\n",
    "df.head()"
   ]
  },
  {
   "cell_type": "markdown",
   "metadata": {},
   "source": [
    "For the final step of text pre-processing we will lemmatize the tokens. Note that there are much better ways to do this but that we want to use a simple lemmatizer. For example, some lemmatizers also utilize a model internally to predict the part-of-speech for each word, since whether the word is a noun, adjective, verb, etc. will affect how lemmatization is done. Since we want to keep things simple here, and focus only on the lemmatization step, we'll assume every word is the same part of speech. Note that this is not by any means ideal (try to identify the incorrectly lemmatized token in the five tweets printed out below). In practice we would certainly utilize a 'smarter' lemmatizer.\n",
    "\n",
    "The last step below is to combined the tokens back into a single string, which is stored in the column `textclean`. "
   ]
  },
  {
   "cell_type": "code",
   "execution_count": 11,
   "metadata": {},
   "outputs": [
    {
     "name": "stderr",
     "output_type": "stream",
     "text": [
      "[nltk_data] Downloading package wordnet to\n",
      "[nltk_data]     /Users/lingthang/nltk_data...\n",
      "[nltk_data]   Package wordnet is already up-to-date!\n"
     ]
    },
    {
     "data": {
      "application/vnd.microsoft.datawrangler.viewer.v0+json": {
       "columns": [
        {
         "name": "index",
         "rawType": "int64",
         "type": "integer"
        },
        {
         "name": "sentiment",
         "rawType": "object",
         "type": "string"
        },
        {
         "name": "text",
         "rawType": "object",
         "type": "string"
        },
        {
         "name": "tokens_raw",
         "rawType": "object",
         "type": "unknown"
        },
        {
         "name": "tweet_length",
         "rawType": "int64",
         "type": "integer"
        },
        {
         "name": "tokens",
         "rawType": "object",
         "type": "unknown"
        },
        {
         "name": "textclean",
         "rawType": "object",
         "type": "string"
        }
       ],
       "conversionMethod": "pd.DataFrame",
       "ref": "de32e163-f555-458d-8e88-77187213c12c",
       "rows": [
        [
         "7010",
         "positive",
         "@AmericanAir I ended up on a flight to LA my fourth time on standby. Thanks! http://t.co/NA5G5EAKPA",
         "['@americanair', 'ended', 'flight', 'la', 'fourth', 'time', 'standby', 'thanks', 'http://t.co/na5g5eakpa']",
         "18",
         "['@americanair', 'end', 'flight', 'la', 'fourth', 'time', 'standby', 'thank', 'http://t.co/na5g5eakpa']",
         "@americanair end flight la fourth time standby thank http://t.co/na5g5eakpa"
        ],
        [
         "9477",
         "neutral",
         "@JetBlue thanks! I only loose 'em at airports...1st time we found it. I think @fitbit needs to make flexes that stay on when carrying bags!",
         "['@jetblue', 'thanks', 'loose', \"'\", 'em', 'airports', '...', '1st', 'time', 'found', 'think', '@fitbit', 'needs', 'make', 'flexes', 'stay', 'carrying', 'bags']",
         "31",
         "['@jetblue', 'thank', 'loose', \"'\", 'em', 'airports', '...', '1st', 'time', 'find', 'think', '@fitbit', 'need', 'make', 'flex', 'stay', 'carry', 'bag']",
         "@jetblue thank loose ' em airports ... 1st time find think @fitbit need make flex stay carry bag"
        ],
        [
         "4584",
         "neutral",
         "@SouthwestAir can take u to Midway-Chicago March 8th-April 6th. Can't make it then? @AmericanAir can get u to @fly2ohare year round. #FlyPBI",
         "['@southwestair', 'take', 'u', 'midway-chicago', 'march', '8th', '-', 'april', '6th', \"can't\", 'make', '@americanair', 'get', 'u', '@fly2ohare', 'year', 'round']",
         "27",
         "['@southwestair', 'take', 'u', 'midway-chicago', 'march', '8th', '-', 'april', '6th', \"can't\", 'make', '@americanair', 'get', 'u', '@fly2ohare', 'year', 'round']",
         "@southwestair take u midway-chicago march 8th - april 6th can't make @americanair get u @fly2ohare year round"
        ],
        [
         "3460",
         "negative",
         "@AmericanAir is this how you let your employees treat your loyal customers? #attackingbabymomma #crazinessintherockies",
         "['@americanair', 'let', 'employees', 'treat', 'loyal', 'customers']",
         "15",
         "['@americanair', 'let', 'employees', 'treat', 'loyal', 'customers']",
         "@americanair let employees treat loyal customers"
        ],
        [
         "9065",
         "negative",
         "@USAirways so I still need to stay on hold? http://t.co/04SDytT7zd",
         "['@usairways', 'still', 'need', 'stay', 'hold', 'http://t.co/04sdytt7zd']",
         "11",
         "['@usairways', 'still', 'need', 'stay', 'hold', 'http://t.co/04sdytt7zd']",
         "@usairways still need stay hold http://t.co/04sdytt7zd"
        ]
       ],
       "shape": {
        "columns": 6,
        "rows": 5
       }
      },
      "text/html": [
       "<div>\n",
       "<style scoped>\n",
       "    .dataframe tbody tr th:only-of-type {\n",
       "        vertical-align: middle;\n",
       "    }\n",
       "\n",
       "    .dataframe tbody tr th {\n",
       "        vertical-align: top;\n",
       "    }\n",
       "\n",
       "    .dataframe thead th {\n",
       "        text-align: right;\n",
       "    }\n",
       "</style>\n",
       "<table border=\"1\" class=\"dataframe\">\n",
       "  <thead>\n",
       "    <tr style=\"text-align: right;\">\n",
       "      <th></th>\n",
       "      <th>sentiment</th>\n",
       "      <th>text</th>\n",
       "      <th>tokens_raw</th>\n",
       "      <th>tweet_length</th>\n",
       "      <th>tokens</th>\n",
       "      <th>textclean</th>\n",
       "    </tr>\n",
       "  </thead>\n",
       "  <tbody>\n",
       "    <tr>\n",
       "      <th>7010</th>\n",
       "      <td>positive</td>\n",
       "      <td>@AmericanAir I ended up on a flight to LA my fourth time on standby. Thanks! http://t.co/NA5G5EAKPA</td>\n",
       "      <td>[@americanair, ended, flight, la, fourth, time, standby, thanks, http://t.co/na5g5eakpa]</td>\n",
       "      <td>18</td>\n",
       "      <td>[@americanair, end, flight, la, fourth, time, standby, thank, http://t.co/na5g5eakpa]</td>\n",
       "      <td>@americanair end flight la fourth time standby thank http://t.co/na5g5eakpa</td>\n",
       "    </tr>\n",
       "    <tr>\n",
       "      <th>9477</th>\n",
       "      <td>neutral</td>\n",
       "      <td>@JetBlue thanks! I only loose 'em at airports...1st time we found it. I think @fitbit needs to make flexes that stay on when carrying bags!</td>\n",
       "      <td>[@jetblue, thanks, loose, ', em, airports, ..., 1st, time, found, think, @fitbit, needs, make, flexes, stay, carrying, bags]</td>\n",
       "      <td>31</td>\n",
       "      <td>[@jetblue, thank, loose, ', em, airports, ..., 1st, time, find, think, @fitbit, need, make, flex, stay, carry, bag]</td>\n",
       "      <td>@jetblue thank loose ' em airports ... 1st time find think @fitbit need make flex stay carry bag</td>\n",
       "    </tr>\n",
       "    <tr>\n",
       "      <th>4584</th>\n",
       "      <td>neutral</td>\n",
       "      <td>@SouthwestAir can take u to Midway-Chicago March 8th-April 6th. Can't make it then? @AmericanAir can get u to @fly2ohare year round. #FlyPBI</td>\n",
       "      <td>[@southwestair, take, u, midway-chicago, march, 8th, -, april, 6th, can't, make, @americanair, get, u, @fly2ohare, year, round]</td>\n",
       "      <td>27</td>\n",
       "      <td>[@southwestair, take, u, midway-chicago, march, 8th, -, april, 6th, can't, make, @americanair, get, u, @fly2ohare, year, round]</td>\n",
       "      <td>@southwestair take u midway-chicago march 8th - april 6th can't make @americanair get u @fly2ohare year round</td>\n",
       "    </tr>\n",
       "    <tr>\n",
       "      <th>3460</th>\n",
       "      <td>negative</td>\n",
       "      <td>@AmericanAir is this how you let your employees treat your loyal customers? #attackingbabymomma #crazinessintherockies</td>\n",
       "      <td>[@americanair, let, employees, treat, loyal, customers]</td>\n",
       "      <td>15</td>\n",
       "      <td>[@americanair, let, employees, treat, loyal, customers]</td>\n",
       "      <td>@americanair let employees treat loyal customers</td>\n",
       "    </tr>\n",
       "    <tr>\n",
       "      <th>9065</th>\n",
       "      <td>negative</td>\n",
       "      <td>@USAirways so I still need to stay on hold? http://t.co/04SDytT7zd</td>\n",
       "      <td>[@usairways, still, need, stay, hold, http://t.co/04sdytt7zd]</td>\n",
       "      <td>11</td>\n",
       "      <td>[@usairways, still, need, stay, hold, http://t.co/04sdytt7zd]</td>\n",
       "      <td>@usairways still need stay hold http://t.co/04sdytt7zd</td>\n",
       "    </tr>\n",
       "  </tbody>\n",
       "</table>\n",
       "</div>"
      ],
      "text/plain": [
       "     sentiment  \\\n",
       "7010  positive   \n",
       "9477   neutral   \n",
       "4584   neutral   \n",
       "3460  negative   \n",
       "9065  negative   \n",
       "\n",
       "                                                                                                                                              text  \\\n",
       "7010                                           @AmericanAir I ended up on a flight to LA my fourth time on standby. Thanks! http://t.co/NA5G5EAKPA   \n",
       "9477   @JetBlue thanks! I only loose 'em at airports...1st time we found it. I think @fitbit needs to make flexes that stay on when carrying bags!   \n",
       "4584  @SouthwestAir can take u to Midway-Chicago March 8th-April 6th. Can't make it then? @AmericanAir can get u to @fly2ohare year round. #FlyPBI   \n",
       "3460                        @AmericanAir is this how you let your employees treat your loyal customers? #attackingbabymomma #crazinessintherockies   \n",
       "9065                                                                            @USAirways so I still need to stay on hold? http://t.co/04SDytT7zd   \n",
       "\n",
       "                                                                                                                           tokens_raw  \\\n",
       "7010                                         [@americanair, ended, flight, la, fourth, time, standby, thanks, http://t.co/na5g5eakpa]   \n",
       "9477     [@jetblue, thanks, loose, ', em, airports, ..., 1st, time, found, think, @fitbit, needs, make, flexes, stay, carrying, bags]   \n",
       "4584  [@southwestair, take, u, midway-chicago, march, 8th, -, april, 6th, can't, make, @americanair, get, u, @fly2ohare, year, round]   \n",
       "3460                                                                          [@americanair, let, employees, treat, loyal, customers]   \n",
       "9065                                                                    [@usairways, still, need, stay, hold, http://t.co/04sdytt7zd]   \n",
       "\n",
       "      tweet_length  \\\n",
       "7010            18   \n",
       "9477            31   \n",
       "4584            27   \n",
       "3460            15   \n",
       "9065            11   \n",
       "\n",
       "                                                                                                                               tokens  \\\n",
       "7010                                            [@americanair, end, flight, la, fourth, time, standby, thank, http://t.co/na5g5eakpa]   \n",
       "9477              [@jetblue, thank, loose, ', em, airports, ..., 1st, time, find, think, @fitbit, need, make, flex, stay, carry, bag]   \n",
       "4584  [@southwestair, take, u, midway-chicago, march, 8th, -, april, 6th, can't, make, @americanair, get, u, @fly2ohare, year, round]   \n",
       "3460                                                                          [@americanair, let, employees, treat, loyal, customers]   \n",
       "9065                                                                    [@usairways, still, need, stay, hold, http://t.co/04sdytt7zd]   \n",
       "\n",
       "                                                                                                          textclean  \n",
       "7010                                    @americanair end flight la fourth time standby thank http://t.co/na5g5eakpa  \n",
       "9477               @jetblue thank loose ' em airports ... 1st time find think @fitbit need make flex stay carry bag  \n",
       "4584  @southwestair take u midway-chicago march 8th - april 6th can't make @americanair get u @fly2ohare year round  \n",
       "3460                                                               @americanair let employees treat loyal customers  \n",
       "9065                                                         @usairways still need stay hold http://t.co/04sdytt7zd  "
      ]
     },
     "execution_count": 11,
     "metadata": {},
     "output_type": "execute_result"
    }
   ],
   "source": [
    "from nltk.stem import WordNetLemmatizer\n",
    "nltk.download('wordnet')\n",
    "# nltk.download('omw-1.4')\n",
    "lemmatizer = WordNetLemmatizer()\n",
    "df['tokens'] = df['tokens_raw'].apply(lambda x: [lemmatizer.lemmatize(w, pos=\"v\") for w in x])\n",
    "#df['tokens'] = df['tokens_raw'].apply(lambda x: [lemmatizer.lemmatize(w) for w in x])\n",
    "\n",
    "df['textclean'] = df['tokens'].apply(lambda x: ' '.join(x))\n",
    "df.head()"
   ]
  },
  {
   "cell_type": "markdown",
   "metadata": {},
   "source": [
    "Now we will perform one-hot encoding using sklearn's, `CountVectorizer`, with the option `binary=True`. We'll go ahead and call the resulting vectorized data, `X`, or `X_train` since it is only the training dataset. As with conventional statistical models, \"_X_\" represents the set of predictors, or independent variables."
   ]
  },
  {
   "cell_type": "code",
   "execution_count": 12,
   "metadata": {},
   "outputs": [
    {
     "name": "stdout",
     "output_type": "stream",
     "text": [
      "X_np.shape = (9000, 3842)\n"
     ]
    },
    {
     "data": {
      "text/plain": [
       "numpy.ndarray"
      ]
     },
     "execution_count": 12,
     "metadata": {},
     "output_type": "execute_result"
    }
   ],
   "source": [
    "from sklearn.feature_extraction.text import CountVectorizer\n",
    "\n",
    "#count_vectorizer = CountVectorizer(binary=True)\n",
    "count_vectorizer = CountVectorizer(binary=True, min_df=2)\n",
    "X_np = count_vectorizer.fit_transform(df['textclean']).toarray()\n",
    "\n",
    "print(f\"X_np.shape = {X_np.shape}\")\n",
    "type(X_np)"
   ]
  },
  {
   "cell_type": "markdown",
   "metadata": {},
   "source": [
    "Here is the full vocabulary created by the the `CountVectorizer`."
   ]
  },
  {
   "cell_type": "code",
   "execution_count": 13,
   "metadata": {},
   "outputs": [
    {
     "name": "stdout",
     "output_type": "stream",
     "text": [
      "{'00': 0, '000': 1, '01': 2, '02': 3, '03': 4, '05': 5, '05am': 6, '08': 7, '0hp': 8, '10': 9, '100': 10, '1000': 11, '101': 12, '1027': 13, '103': 14, '104': 15, '1081': 16, '10am': 17, '10hrs': 18, '10mins': 19, '10pm': 20, '10th': 21, '11': 22, '1109': 23, '1137': 24, '1142': 25, '117': 26, '1170': 27, '118': 28, '11am': 29, '11pm': 30, '11th': 31, '12': 32, '120': 33, '1200': 34, '1220': 35, '123': 36, '1230': 37, '1254': 38, '12pm': 39, '13': 40, '130': 41, '136': 42, '1389': 43, '13th': 44, '14': 45, '140': 46, '145': 47, '1472': 48, '15': 49, '150': 50, '152': 51, '1533': 52, '1534': 53, '1562': 54, '1571aus': 55, '15minutes': 56, '15th': 57, '16': 58, '1600': 59, '1613': 60, '1625': 61, '165': 62, '1657': 63, '17': 64, '1700': 65, '1701': 66, '174': 67, '18': 68, '180': 69, '1800': 70, '1826': 71, '1861': 72, '1898': 73, '19': 74, '1917': 75, '1970': 76, '1997': 77, '1am': 78, '1hr': 79, '1k': 80, '1m': 81, '1pm': 82, '1st': 83, '1ywxrfn0gr': 84, '20': 85, '200': 86, '2000': 87, '2012': 88, '2013': 89, '2014': 90, '2015': 91, '2016': 92, '202': 93, '20min': 94, '20th': 95, '21': 96, '210': 97, '22': 98, '2222': 99, '22ipgeicsm': 100, '23': 101, '2324': 102, '236': 103, '24': 104, '2417': 105, '249': 106, '24h': 107, '24hr': 108, '24hrs': 109, '24th': 110, '25': 111, '250': 112, '26': 113, '2692': 114, '26f': 115, '27': 116, '27l': 117, '28': 118, '28th': 119, '29': 120, '2a': 121, '2day': 122, '2days': 123, '2hours': 124, '2hr': 125, '2hrs': 126, '2nd': 127, '2nite': 128, '2pm': 129, '2x': 130, '30': 131, '300': 132, '304': 133, '3056': 134, '30am': 135, '30min': 136, '30mins': 137, '30th': 138, '31': 139, '3130': 140, '32': 141, '33': 142, '34': 143, '3494': 144, '35': 145, '350': 146, '35x': 147, '36': 148, '37': 149, '38': 150, '386': 151, '39': 152, '3am': 153, '3hrs': 154, '3pm': 155, '3rd': 156, '3x': 157, '3yr': 158, '40': 159, '400': 160, '403': 161, '404': 162, '40min': 163, '40mins': 164, '40th': 165, '413': 166, '42': 167, '424': 168, '4251': 169, '428': 170, '4322': 171, '433': 172, '44': 173, '440': 174, '4420': 175, '4443': 176, '445': 177, '4473': 178, '45': 179, '450': 180, '4524': 181, '4567': 182, '45min': 183, '45mins': 184, '46': 185, '47': 186, '475': 187, '48': 188, '49': 189, '4am': 190, '4c': 191, '4hr': 192, '4hrs': 193, '4me': 194, '4ojrsdwpkk': 195, '4pm': 196, '4th': 197, '4that': 198, '4x': 199, '50': 200, '500': 201, '501': 202, '50k': 203, '51': 204, '5238': 205, '53': 206, '5350': 207, '54': 208, '545': 209, '55': 210, '556': 211, '56': 212, '561': 213, '57': 214, '58': 215, '59': 216, '5957': 217, '597': 218, '599': 219, '5hr': 220, '5hrs': 221, '5pm': 222, '5th': 223, '60': 224, '600': 225, '600117': 226, '619': 227, '623': 228, '63': 229, '630': 230, '634': 231, '636': 232, '639': 233, '645': 234, '65': 235, '653': 236, '654': 237, '669': 238, '67': 239, '68': 240, '680': 241, '683': 242, '699': 243, '6am': 244, '6pm': 245, '6th': 246, '70': 247, '700': 248, '703': 249, '713': 250, '719': 251, '72': 252, '728': 253, '73': 254, '7300': 255, '737': 256, '7403607771': 257, '746': 258, '747': 259, '75': 260, '757': 261, '767': 262, '768': 263, '769': 264, '777': 265, '787': 266, '79': 267, '7am': 268, '7d': 269, '7f': 270, '7pm': 271, '7th': 272, '80': 273, '800': 274, '8000': 275, '80th': 276, '830': 277, '88': 278, '89': 279, '894': 280, '8am': 281, '8aug': 282, '8b': 283, '8hrs': 284, '8p': 285, '8th': 286, '8wbzorrn3c': 287, '90': 288, '900': 289, '915': 290, '919': 291, '99': 292, '9am': 293, '9pm': 294, 'a1': 295, 'a3': 296, 'a320': 297, 'a9': 298, 'aa': 299, 'aa1675': 300, 'aa2402': 301, 'aadvantage': 302, 'abc': 303, 'abilities': 304, 'ability': 305, 'able': 306, 'aboard': 307, 'abq': 308, 'abroad': 309, 'absolute': 310, 'absolutely': 311, 'absurd': 312, 'abt': 313, 'abuse': 314, 'abysmal': 315, 'accept': 316, 'acceptable': 317, 'access': 318, 'accident': 319, 'accidentally': 320, 'accommodate': 321, 'accommodations': 322, 'accomplish': 323, 'accord': 324, 'accordingly': 325, 'account': 326, 'accountability': 327, 'acct': 328, 'accurate': 329, 'accuse': 330, 'acebo6elpa': 331, 'achieve': 332, 'acknowledge': 333, 'acknowledgement': 334, 'across': 335, 'act': 336, 'action': 337, 'active': 338, 'activities': 339, 'actual': 340, 'actually': 341, 'ad': 342, 'add': 343, 'addition': 344, 'additional': 345, 'address': 346, 'addtl': 347, 'admiral': 348, 'admirals': 349, 'admit': 350, 'adopt': 351, 'ads': 352, 'advance': 353, 'advantage': 354, 'advertise': 355, 'advice': 356, 'advise': 357, 'advisory': 358, 'affect': 359, 'affiliate': 360, 'afford': 361, 'affordable': 362, 'afternoon': 363, 'again': 364, 'age': 365, 'agency': 366, 'agent': 367, 'agents': 368, 'aggravate': 369, 'aggressive': 370, 'ago': 371, 'agree': 372, 'agt': 373, 'ah': 374, 'ahead': 375, 'ahhhh': 376, 'ahold': 377, 'ail': 378, 'aim': 379, 'ain': 380, 'air': 381, 'airborne': 382, 'airbus': 383, 'aircanada': 384, 'aircraft': 385, 'airfare': 386, 'airline': 387, 'airlines': 388, 'airnzusa': 389, 'airplane': 390, 'airplanes': 391, 'airport': 392, 'airports': 393, 'airways': 394, 'aisle': 395, 'aka': 396, 'alas': 397, 'alaska': 398, 'alaskaair': 399, 'albany': 400, 'albuquerque': 401, 'alert': 402, 'alex': 403, 'alive': 404, 'all': 405, 'allergies': 406, 'allergy': 407, 'alliance': 408, 'allow': 409, 'allowance': 410, 'almost': 411, 'alone': 412, 'along': 413, 'alot': 414, 'already': 415, 'alright': 416, 'also': 417, 'alt': 418, 'alternate': 419, 'alternative': 420, 'alternatives': 421, 'although': 422, 'altitude': 423, 'always': 424, 'am': 425, 'amateurish': 426, 'amaze': 427, 'amazingly': 428, 'amazon': 429, 'america': 430, 'american': 431, 'americanair': 432, 'amex': 433, 'among': 434, 'amongst': 435, 'amount': 436, 'amybruni': 437, 'ana': 438, 'anchorage': 439, 'andrew': 440, 'andrew_wasila': 441, 'andrews': 442, 'angel': 443, 'angeles': 444, 'angry': 445, 'anniversary': 446, 'announce': 447, 'announcement': 448, 'announcements': 449, 'annoy': 450, 'annricord': 451, 'annual': 452, 'another': 453, 'answer': 454, 'anthony': 455, 'anticipate': 456, 'antonio': 457, 'anxious': 458, 'anybody': 459, 'anymore': 460, 'anyone': 461, 'anything': 462, 'anytime': 463, 'anyway': 464, 'anywhere': 465, 'ap': 466, 'apart': 467, 'apologies': 468, 'apologise': 469, 'apologize': 470, 'apology': 471, 'app': 472, 'appal': 473, 'apparently': 474, 'appear': 475, 'appease': 476, 'applaud': 477, 'apple': 478, 'application': 479, 'apply': 480, 'appreciate': 481, 'appreciation': 482, 'approach': 483, 'appropriate': 484, 'approve': 485, 'approx': 486, 'apps': 487, 'april': 488, 'aqjn4hwnac': 489, 'ardent': 490, 'are': 491, 'area': 492, 'argue': 493, 'argument': 494, 'arm': 495, 'armrest': 496, 'army': 497, 'around': 498, 'arrange': 499, 'arrangements': 500, 'arrival': 501, 'arrive': 502, 'arrogant': 503, 'article': 504, 'aruba': 505, 'asap': 506, 'ashamed': 507, 'ashley': 508, 'ask': 509, 'asleep': 510, 'aspen': 511, 'ass': 512, 'assault': 513, 'assets': 514, 'asshole': 515, 'assign': 516, 'assignment': 517, 'assignments': 518, 'assist': 519, 'assistance': 520, 'associate': 521, 'assult': 522, 'assume': 523, 'assure': 524, 'astound': 525, 'atc': 526, 'athlete': 527, 'athletes': 528, 'atl': 529, 'atlanta': 530, 'atlantic': 531, 'atleast': 532, 'atrocious': 533, 'attach': 534, 'attempt': 535, 'attend': 536, 'attendant': 537, 'attendants': 538, 'attention': 539, 'attentiveness': 540, 'attitude': 541, 'attitudes': 542, 'atx': 543, 'august': 544, 'aus': 545, 'austin': 546, 'austinairport': 547, 'australia': 548, 'austrian': 549, 'auto': 550, 'automate': 551, 'automatically': 552, 'av': 553, 'avail': 554, 'availability': 555, 'available': 556, 'average': 557, 'aviv': 558, 'avoid': 559, 'aw': 560, 'await': 561, 'awake': 562, 'award': 563, 'aware': 564, 'away': 565, 'awe': 566, 'awesome': 567, 'awful': 568, 'aww': 569, 'awww': 570, 'az': 571, 'b1': 572, 'b12': 573, 'b16': 574, 'b4': 575, 'b40': 576, 'b6': 577, 'b8': 578, 'ba': 579, 'baby': 580, 'back': 581, 'backlog': 582, 'backroads': 583, 'backup': 584, 'bad': 585, 'badge': 586, 'badly': 587, 'bae': 588, 'bag': 589, 'bagage': 590, 'baggage': 591, 'bahamas': 592, 'bake': 593, 'balance': 594, 'ball': 595, 'baltimore': 596, 'band': 597, 'bank': 598, 'bankrupt': 599, 'bar': 600, 'barbados': 601, 'barely': 602, 'base': 603, 'basic': 604, 'basically': 605, 'basket': 606, 'bat': 607, 'bathroom': 608, 'bathrooms': 609, 'battle': 610, 'bay': 611, 'bc': 612, 'bday': 613, 'bdl': 614, 'beach': 615, 'beamske': 616, 'beat': 617, 'beatsmusic': 618, 'beautiful': 619, 'beauty': 620, 'become': 621, 'bed': 622, 'beer': 623, 'beg': 624, 'begin': 625, 'behave': 626, 'behavior': 627, 'behind': 628, 'bein': 629, 'belfast': 630, 'believe': 631, 'belong': 632, 'belongings': 633, 'belt': 634, 'bench': 635, 'beneficial': 636, 'benefit': 637, 'bereavement': 638, 'besides': 639, 'best': 640, 'bet': 641, 'better': 642, 'beverage': 643, 'beware': 644, 'beyond': 645, 'bf': 646, 'bhm': 647, 'big': 648, 'bigger': 649, 'biggest': 650, 'biggie': 651, 'bike': 652, 'bill': 653, 'billions': 654, 'bin': 655, 'bind': 656, 'bio': 657, 'bird': 658, 'birmingham': 659, 'birth': 660, 'birthdate': 661, 'birthday': 662, 'bite': 663, 'biz': 664, 'bk': 665, 'black': 666, 'blacklist': 667, 'blame': 668, 'blank': 669, 'blanket': 670, 'blast': 671, 'blatant': 672, 'block': 673, 'blog': 674, 'bloody': 675, 'blow': 676, 'blue': 677, 'bluemanity': 678, 'bna': 679, 'board': 680, 'boat': 681, 'boeing': 682, 'boeingairplanes': 683, 'bogota': 684, 'bohol': 685, 'boise': 686, 'bonus': 687, 'bonuses': 688, 'boo': 689, 'book': 690, 'booked': 691, 'boot': 692, 'booze': 693, 'bos': 694, 'boston': 695, 'bostonlogan': 696, 'bother': 697, 'bottle': 698, 'bottom': 699, 'bounce': 700, 'bout': 701, 'boy': 702, 'boyfriend': 703, 'boys': 704, 'brain': 705, 'brand': 706, 'brave': 707, 'brazil': 708, 'breach': 709, 'break': 710, 'breakfast': 711, 'breast': 712, 'breath': 713, 'bridge': 714, 'bright': 715, 'brilliant': 716, 'bring': 717, 'british_airways': 718, 'bro': 719, 'brother': 720, 'brothers': 721, 'browser': 722, 'browsers': 723, 'bruh': 724, 'brush': 725, 'brutal': 726, 'bs': 727, 'btv': 728, 'btw': 729, 'buck': 730, 'buddy': 731, 'buf': 732, 'buffalo': 733, 'bug': 734, 'build': 735, 'bulkhead': 736, 'bull': 737, 'bullshit': 738, 'bum': 739, 'bummer': 740, 'bump': 741, 'bunch': 742, 'burn': 743, 'bus': 744, 'bush': 745, 'business': 746, 'busy': 747, 'but': 748, 'butt': 749, 'button': 750, 'buy': 751, 'buyer': 752, 'bwi': 753, 'bye': 754, 'c25': 755, 'c26': 756, 'c4': 757, 'ca': 758, 'cab': 759, 'cabin': 760, 'cabo': 761, 'cache': 762, 'cae': 763, 'caffeine': 764, 'cake': 765, 'calendar': 766, 'calgary': 767, 'cali': 768, 'california': 769, 'call': 770, 'callback': 771, 'called': 772, 'caller': 773, 'callers': 774, 'camera': 775, 'campilley': 776, 'can': 777, 'canada': 778, 'canadian': 779, 'cancel': 780, 'cancun': 781, 'cannot': 782, 'cant': 783, 'cap': 784, 'capa_aviation': 785, 'capable': 786, 'capacity': 787, 'capital': 788, 'capt': 789, 'captain': 790, 'captive': 791, 'capture': 792, 'car': 793, 'card': 794, 'care': 795, 'cargo': 796, 'caribbean': 797, 'carolina': 798, 'carousel': 799, 'carpet': 800, 'carrie': 801, 'carrier': 802, 'carriers': 803, 'carrieunderwood': 804, 'carry': 805, 'carryon': 806, 'carryons': 807, 'carseat': 808, 'cart': 809, 'case': 810, 'cash': 811, 'cat': 812, 'catch': 813, 'cater': 814, 'cause': 815, 'cc': 816, 'cdg': 817, 'cebu': 818, 'celebrate': 819, 'cell': 820, 'cellphone': 821, 'center': 822, 'central': 823, 'centre': 824, 'centricity': 825, 'century': 826, 'ceo': 827, 'certain': 828, 'certainly': 829, 'certificate': 830, 'cessna': 831, 'chair': 832, 'chairman': 833, 'challenge': 834, 'chance': 835, 'change': 836, 'channel': 837, 'chaos': 838, 'character': 839, 'charge': 840, 'charity': 841, 'charleston': 842, 'charlotte': 843, 'chart': 844, 'charter': 845, 'chase': 846, 'chasefoster': 847, 'chat': 848, 'cheap': 849, 'cheaper': 850, 'cheat': 851, 'check': 852, 'checkin': 853, 'checkout': 854, 'checkpoint': 855, 'cheer': 856, 'cheese': 857, 'cherry': 858, 'chg': 859, 'chi': 860, 'chicago': 861, 'chicagotribune': 862, 'chicken': 863, 'chief': 864, 'child': 865, 'children': 866, 'chill': 867, 'china': 868, 'chip': 869, 'chocolate': 870, 'choice': 871, 'choices': 872, 'choose': 873, 'choppiest': 874, 'christmas': 875, 'chrome': 876, 'chronicleherald': 877, 'cincy': 878, 'circle': 879, 'circumstances': 880, 'cities': 881, 'city': 882, 'cking': 883, 'claim': 884, 'clarify': 885, 'clarkey_19': 886, 'class': 887, 'classy': 888, 'cle': 889, 'clean': 890, 'clear': 891, 'clearly': 892, 'cleveland': 893, 'clever': 894, 'click': 895, 'client': 896, 'clients': 897, 'cll': 898, 'close': 899, 'closer': 900, 'closest': 901, 'clothe': 902, 'cloud': 903, 'clown': 904, 'clt': 905, 'club': 906, 'clue': 907, 'cluster': 908, 'cmh': 909, 'cmon': 910, 'cng': 911, 'cnn': 912, 'cnnbrk': 913, 'cnnmoney': 914, 'cnx': 915, 'co': 916, 'coach': 917, 'coast': 918, 'coat': 919, 'cocktail': 920, 'cod': 921, 'code': 922, 'codeshare': 923, 'coffee': 924, 'coincidence': 925, 'coke': 926, 'cold': 927, 'colleague': 928, 'colleagues': 929, 'collect': 930, 'college': 931, 'colo': 932, 'colombia': 933, 'color': 934, 'columbus': 935, 'com': 936, 'combination': 937, 'combine': 938, 'come': 939, 'comedy': 940, 'comfort': 941, 'comfortable': 942, 'comfortably': 943, 'comm': 944, 'command': 945, 'comment': 946, 'commercial': 947, 'commercials': 948, 'commitment': 949, 'common': 950, 'communicate': 951, 'communication': 952, 'communications': 953, 'community': 954, 'comp': 955, 'companion': 956, 'company': 957, 'compare': 958, 'compassion': 959, 'compatible': 960, 'comped': 961, 'compensate': 962, 'compensation': 963, 'compete': 964, 'competition': 965, 'competitor': 966, 'competitors': 967, 'complain': 968, 'complaint': 969, 'complaints': 970, 'complete': 971, 'completely': 972, 'complicate': 973, 'compliment': 974, 'complimentary': 975, 'computer': 976, 'computers': 977, 'con': 978, 'concentrate': 979, 'concern': 980, 'concert': 981, 'concourse': 982, 'condition': 983, 'conection': 984, 'conf': 985, 'conference': 986, 'confidence': 987, 'confident': 988, 'confirm': 989, 'confirmation': 990, 'confirmations': 991, 'conflict': 992, 'confuse': 993, 'confusion': 994, 'congrats': 995, 'connect': 996, 'connection': 997, 'connections': 998, 'connector': 999, 'consecutive': 1000, 'consider': 1001, 'consideration': 1002, 'consistent': 1003, 'consistently': 1004, 'consolation': 1005, 'constant': 1006, 'constantly': 1007, 'consumers': 1008, 'cont': 1009, 'contact': 1010, 'contain': 1011, 'contd': 1012, 'content': 1013, 'contest': 1014, 'continental': 1015, 'contingency': 1016, 'continually': 1017, 'continue': 1018, 'continuous': 1019, 'contract': 1020, 'control': 1021, 'convenient': 1022, 'conveniently': 1023, 'conversation': 1024, 'convince': 1025, 'convo': 1026, 'cookies': 1027, 'cool': 1028, 'coordinate': 1029, 'copilot': 1030, 'copy': 1031, 'corp': 1032, 'corporate': 1033, 'corporation': 1034, 'correct': 1035, 'correctly': 1036, 'cost': 1037, 'costa': 1038, 'costumer': 1039, 'cot': 1040, 'cots': 1041, 'could': 1042, 'couldnt': 1043, 'count': 1044, 'counter': 1045, 'country': 1046, 'couple': 1047, 'coupon': 1048, 'coupons': 1049, 'course': 1050, 'court': 1051, 'courteous': 1052, 'courtesy': 1053, 'cousin': 1054, 'cover': 1055, 'cowboycerrone': 1056, 'coworker': 1057, 'coworkers': 1058, 'cp': 1059, 'crackers': 1060, 'cramp': 1061, 'cranky': 1062, 'crap': 1063, 'crappy': 1064, 'crash': 1065, 'craziness': 1066, 'crazy': 1067, 'create': 1068, 'creative': 1069, 'credit': 1070, 'crew': 1071, 'crewmember': 1072, 'crewmembers': 1073, 'criminal': 1074, 'crisis': 1075, 'cross': 1076, 'crowd': 1077, 'cruel': 1078, 'cry': 1079, 'cs': 1080, 'csr': 1081, 'ct': 1082, 'ctl': 1083, 'ctr': 1084, 'cuba': 1085, 'cue': 1086, 'culture': 1087, 'cun': 1088, 'cup': 1089, 'curbside': 1090, 'curious': 1091, 'current': 1092, 'currently': 1093, 'cust': 1094, 'customer': 1095, 'customers': 1096, 'customs': 1097, 'cut': 1098, 'cute': 1099, 'cuz': 1100, 'cvg': 1101, 'cx': 1102, 'cxl': 1103, 'cycle': 1104, 'dad': 1105, 'dads': 1106, 'daily': 1107, 'dal': 1108, 'dale': 1109, 'dallas': 1110, 'dallas_news': 1111, 'dallaslovefield': 1112, 'damage': 1113, 'damn': 1114, 'dance': 1115, 'dang': 1116, 'danger': 1117, 'dare': 1118, 'dark': 1119, 'darn': 1120, 'date': 1121, 'daughter': 1122, 'daughters': 1123, 'david': 1124, 'dawn': 1125, 'day': 1126, 'days': 1127, 'dc': 1128, 'dca': 1129, 'de': 1130, 'dead': 1131, 'deadhead': 1132, 'deal': 1133, 'dear': 1134, 'death': 1135, 'debacle': 1136, 'debit': 1137, 'december': 1138, 'decent': 1139, 'decide': 1140, 'decision': 1141, 'decisions': 1142, 'dedicate': 1143, 'deedee': 1144, 'deep': 1145, 'def': 1146, 'defend': 1147, 'define': 1148, 'definitely': 1149, 'degree': 1150, 'degrees': 1151, 'deice': 1152, 'delay': 1153, 'delayed': 1154, 'delete': 1155, 'delhi': 1156, 'delight': 1157, 'deliver': 1158, 'delivery': 1159, 'delta': 1160, 'deltaassist': 1161, 'demand': 1162, 'den': 1163, 'denver': 1164, 'deny': 1165, 'dep': 1166, 'depart': 1167, 'department': 1168, 'departure': 1169, 'departures': 1170, 'depend': 1171, 'deplane': 1172, 'deplorable': 1173, 'dept': 1174, 'describe': 1175, 'deserve': 1176, 'design': 1177, 'desk': 1178, 'desks': 1179, 'desktop': 1180, 'desperately': 1181, 'despicable': 1182, 'despite': 1183, 'dest': 1184, 'destination': 1185, 'destinations': 1186, 'destroy': 1187, 'detail': 1188, 'details': 1189, 'detroit': 1190, 'devalue': 1191, 'develop': 1192, 'developers': 1193, 'device': 1194, 'devices': 1195, 'dfw': 1196, 'dfwairport': 1197, 'dia': 1198, 'diabetic': 1199, 'dial': 1200, 'dick': 1201, 'didnt': 1202, 'die': 1203, 'diego': 1204, 'diff': 1205, 'difference': 1206, 'different': 1207, 'difficult': 1208, 'difficulties': 1209, 'difficulty': 1210, 'dig': 1211, 'digital': 1212, 'dime': 1213, 'dinner': 1214, 'direct': 1215, 'directly': 1216, 'directtv': 1217, 'dirty': 1218, 'disable': 1219, 'disappear': 1220, 'disappoint': 1221, 'disappointment': 1222, 'disaster': 1223, 'disconnect': 1224, 'discontinue': 1225, 'discount': 1226, 'discover': 1227, 'discrimination': 1228, 'discuss': 1229, 'disgrace': 1230, 'disgraceful': 1231, 'disgust': 1232, 'dismissive': 1233, 'disney': 1234, 'disorganization': 1235, 'disorganize': 1236, 'dispatch': 1237, 'dispatcher': 1238, 'display': 1239, 'disregard': 1240, 'disrespect': 1241, 'disrespectful': 1242, 'disrupt': 1243, 'dissapointed': 1244, 'dissatisfaction': 1245, 'dissatisfy': 1246, 'distribution': 1247, 'div': 1248, 'diversions': 1249, 'divert': 1250, 'dividend': 1251, 'dividends': 1252, 'dl': 1253, 'dm': 1254, 'dmed': 1255, 'dming': 1256, 'dms': 1257, 'dnt': 1258, 'do': 1259, 'doctor': 1260, 'document': 1261, 'doesnt': 1262, 'dog': 1263, 'dollar': 1264, 'dollars': 1265, 'domestic': 1266, 'don': 1267, 'donate': 1268, 'donation': 1269, 'dont': 1270, 'doo': 1271, 'door': 1272, 'doors': 1273, 'dot': 1274, 'double': 1275, 'doubt': 1276, 'down': 1277, 'downgrade': 1278, 'downhill': 1279, 'download': 1280, 'downtown': 1281, 'dozen': 1282, 'dozens': 1283, 'dpt': 1284, 'dr': 1285, 'draft': 1286, 'dragons': 1287, 'draw': 1288, 'dream': 1289, 'drink': 1290, 'drive': 1291, 'driver': 1292, 'drop': 1293, 'drunks': 1294, 'dry': 1295, 'dsm': 1296, 'dtw': 1297, 'dude': 1298, 'due': 1299, 'duffle': 1300, 'duh': 1301, 'dull': 1302, 'dulles_airport': 1303, 'dumb': 1304, 'dump': 1305, 'dunno': 1306, 'durango': 1307, 'duty': 1308, 'eagle': 1309, 'earlier': 1310, 'earliest': 1311, 'early': 1312, 'earlybird': 1313, 'earn': 1314, 'earth': 1315, 'easier': 1316, 'easiest': 1317, 'easily': 1318, 'east': 1319, 'eastern': 1320, 'easy': 1321, 'eat': 1322, 'eb': 1323, 'econ': 1324, 'economy': 1325, 'ed': 1326, 'educate': 1327, 'education': 1328, 'educational': 1329, 'efficiency': 1330, 'effort': 1331, 'efforts': 1332, 'either': 1333, 'el': 1334, 'elevate': 1335, 'eligible': 1336, 'elite': 1337, 'ella': 1338, 'else': 1339, 'elsewhere': 1340, 'em': 1341, 'email': 1342, 'embarrass': 1343, 'embarrassment': 1344, 'emergency': 1345, 'empathize': 1346, 'empathy': 1347, 'employ': 1348, 'employee': 1349, 'employees': 1350, 'empty': 1351, 'en': 1352, 'encounter': 1353, 'end': 1354, 'endless': 1355, 'energy': 1356, 'enforce': 1357, 'engage': 1358, 'engine': 1359, 'english': 1360, 'enjoy': 1361, 'enough': 1362, 'enquire': 1363, 'enroute': 1364, 'ensure': 1365, 'enter': 1366, 'entertain': 1367, 'entertainment': 1368, 'entire': 1369, 'entirely': 1370, 'entitle': 1371, 'entry': 1372, 'environment': 1373, 'envoy': 1374, 'ep': 1375, 'epic': 1376, 'equal': 1377, 'equally': 1378, 'equipment': 1379, 'erj': 1380, 'err': 1381, 'error': 1382, 'errors': 1383, 'es': 1384, 'esp': 1385, 'especially': 1386, 'est': 1387, 'establish': 1388, 'estimate': 1389, 'eta': 1390, 'etc': 1391, 'ethiopia': 1392, 'eu': 1393, 'europe': 1394, 'evaluate': 1395, 'even': 1396, 'event': 1397, 'eventually': 1398, 'ever': 1399, 'every': 1400, 'everybody': 1401, 'everyone': 1402, 'everything': 1403, 'everytime': 1404, 'everywhere': 1405, 'ewr': 1406, 'ex': 1407, 'exact': 1408, 'exactly': 1409, 'example': 1410, 'excellent': 1411, 'except': 1412, 'exception': 1413, 'exceptional': 1414, 'exceptions': 1415, 'exchange': 1416, 'excite': 1417, 'exclusively': 1418, 'excuse': 1419, 'exec': 1420, 'execution': 1421, 'executive': 1422, 'exhaust': 1423, 'exist': 1424, 'existent': 1425, 'exit': 1426, 'exp': 1427, 'expand': 1428, 'expect': 1429, 'expectations': 1430, 'expedia': 1431, 'expedite': 1432, 'expense': 1433, 'expensive': 1434, 'experience': 1435, 'expire': 1436, 'explain': 1437, 'explanation': 1438, 'explanations': 1439, 'explore': 1440, 'explorer': 1441, 'express': 1442, 'extend': 1443, 'extension': 1444, 'extent': 1445, 'extra': 1446, 'extreme': 1447, 'extremely': 1448, 'ey': 1449, 'eye': 1450, 'eyw': 1451, 'f2lfulcbq7': 1452, 'f623': 1453, 'fa': 1454, 'faa': 1455, 'faanews': 1456, 'fabulous': 1457, 'face': 1458, 'facebook': 1459, 'fact': 1460, 'fail': 1461, 'failure': 1462, 'failures': 1463, 'fair': 1464, 'faith': 1465, 'faithful': 1466, 'fake': 1467, 'fall': 1468, 'fallow': 1469, 'false': 1470, 'fam': 1471, 'families': 1472, 'family': 1473, 'fan': 1474, 'fantastic': 1475, 'far': 1476, 'fare': 1477, 'fashion': 1478, 'fast': 1479, 'faster': 1480, 'fastest': 1481, 'fat': 1482, 'father': 1483, 'fault': 1484, 'faulty': 1485, 'fav': 1486, 'fave': 1487, 'faves': 1488, 'favor': 1489, 'favorite': 1490, 'fb': 1491, 'fc': 1492, 'fear': 1493, 'feature': 1494, 'feb': 1495, 'february': 1496, 'federal': 1497, 'fee': 1498, 'feed': 1499, 'feedback': 1500, 'feel': 1501, 'feet': 1502, 'fell': 1503, 'fella': 1504, 'felt': 1505, 'ferry': 1506, 'fewer': 1507, 'ff': 1508, 'ffl': 1509, 'fi': 1510, 'fiasco': 1511, 'field': 1512, 'fight': 1513, 'figure': 1514, 'file': 1515, 'fill': 1516, 'film': 1517, 'filthy': 1518, 'final': 1519, 'finally': 1520, 'finals': 1521, 'financial': 1522, 'find': 1523, 'fine': 1524, 'finest': 1525, 'finger': 1526, 'finish': 1527, 'finnair': 1528, 'fire': 1529, 'firefox': 1530, 'first': 1531, 'fit': 1532, 'five': 1533, 'fix': 1534, 'fl': 1535, 'flashlight': 1536, 'flat': 1537, 'fleek': 1538, 'fleet': 1539, 'flex': 1540, 'flexibility': 1541, 'flexible': 1542, 'flgt': 1543, 'flier': 1544, 'fliers': 1545, 'flight': 1546, 'flightation': 1547, 'flightations': 1548, 'flightaware': 1549, 'flightd': 1550, 'flighted': 1551, 'flightedflight': 1552, 'flightlation': 1553, 'flightlations': 1554, 'flightled': 1555, 'flightledflight': 1556, 'flightling': 1557, 'flightly': 1558, 'flightr': 1559, 'flights': 1560, 'flightst': 1561, 'flip': 1562, 'fll': 1563, 'floor': 1564, 'florida': 1565, 'flt': 1566, 'flts': 1567, 'fly': 1568, 'fly2midway': 1569, 'fly2ohare': 1570, 'flyer': 1571, 'flyers': 1572, 'flying': 1573, 'flylaxairport': 1574, 'flytpa': 1575, 'fm': 1576, 'fo': 1577, 'focus': 1578, 'fold': 1579, 'folder': 1580, 'folks': 1581, 'follow': 1582, 'followers': 1583, 'food': 1584, 'foolish': 1585, 'foot': 1586, 'force': 1587, 'forecast': 1588, 'forever': 1589, 'forfeit': 1590, 'forget': 1591, 'forgive': 1592, 'form': 1593, 'formal': 1594, 'formally': 1595, 'fort': 1596, 'forth': 1597, 'fortunately': 1598, 'fortunemagazine': 1599, 'forward': 1600, 'four': 1601, 'fourth': 1602, 'fra': 1603, 'fran': 1604, 'france': 1605, 'franchise02': 1606, 'francisco': 1607, 'frank': 1608, 'frankfurt': 1609, 'fraud': 1610, 'freak': 1611, 'free': 1612, 'freeze': 1613, 'french': 1614, 'freq': 1615, 'frequent': 1616, 'fresh': 1617, 'fresno': 1618, 'friday': 1619, 'friend': 1620, 'friendliest': 1621, 'friendly': 1622, 'friends': 1623, 'frigid': 1624, 'frm': 1625, 'from': 1626, 'fron': 1627, 'front': 1628, 'frontrunner': 1629, 'frustrate': 1630, 'frustrating': 1631, 'frustration': 1632, 'frustrations': 1633, 'ft': 1634, 'fu': 1635, 'fuck': 1636, 'fucken': 1637, 'fuel': 1638, 'full': 1639, 'fully': 1640, 'fun': 1641, 'function': 1642, 'functionality': 1643, 'fund': 1644, 'funeral': 1645, 'funny': 1646, 'furious': 1647, 'furrow': 1648, 'future': 1649, 'fyi': 1650, 'gain': 1651, 'gainesville': 1652, 'game': 1653, 'gangway': 1654, 'garbage': 1655, 'gary': 1656, 'gas': 1657, 'gate': 1658, 'gear': 1659, 'geeks': 1660, 'geez': 1661, 'general': 1662, 'generic': 1663, 'genius': 1664, 'gentleman': 1665, 'gesture': 1666, 'get': 1667, 'getaway': 1668, 'gettin': 1669, 'gf': 1670, 'gg8929': 1671, 'ggreenwald': 1672, 'giant': 1673, 'gift': 1674, 'girl': 1675, 'girlfriend': 1676, 'girls': 1677, 'give': 1678, 'gj': 1679, 'glad': 1680, 'gladly': 1681, 'glasgow': 1682, 'glass': 1683, 'glitch': 1684, 'global': 1685, 'gma': 1686, 'gmail': 1687, 'gng': 1688, 'go': 1689, 'goal': 1690, 'god': 1691, 'goin': 1692, 'gold': 1693, 'golf': 1694, 'gonna': 1695, 'good': 1696, 'goodbye': 1697, 'goodness': 1698, 'goodwill': 1699, 'google': 1700, 'gosh': 1701, 'gotta': 1702, 'gr8': 1703, 'grab': 1704, 'grace': 1705, 'gracious': 1706, 'graduate': 1707, 'grand': 1708, 'grandfather': 1709, 'grandma': 1710, 'grateful': 1711, 'gray': 1712, 'great': 1713, 'green': 1714, 'greenville': 1715, 'greet': 1716, 'greetings': 1717, 'grind': 1718, 'grk': 1719, 'gross': 1720, 'ground': 1721, 'group': 1722, 'grow': 1723, 'grr': 1724, 'gso': 1725, 'guarantee': 1726, 'guess': 1727, 'guest': 1728, 'guests': 1729, 'guidance': 1730, 'guidelines': 1731, 'guitar': 1732, 'guitars': 1733, 'gun': 1734, 'gunna': 1735, 'guy': 1736, 'gxdqortss0': 1737, 'ha': 1738, 'haha': 1739, 'hahaha': 1740, 'hair': 1741, 'haiti': 1742, 'half': 1743, 'hand': 1744, 'handle': 1745, 'handler': 1746, 'handlers': 1747, 'handy': 1748, 'hang': 1749, 'hangar': 1750, 'hanger': 1751, 'hannah': 1752, 'happen': 1753, 'happier': 1754, 'happily': 1755, 'happy': 1756, 'harbor': 1757, 'hard': 1758, 'harder': 1759, 'hardly': 1760, 'hare': 1761, 'hartford': 1762, 'hassle': 1763, 'hat': 1764, 'hate': 1765, 'haul': 1766, 'have': 1767, 'havoc': 1768, 'hawaii': 1769, 'hayden': 1770, 'hayleymad': 1771, 'hd': 1772, 'hdn': 1773, 'head': 1774, 'headache': 1775, 'headaches': 1776, 'headphones': 1777, 'health': 1778, 'hear': 1779, 'heart': 1780, 'heat': 1781, 'heathrow': 1782, 'heathrowairport': 1783, 'heaven': 1784, 'heavily': 1785, 'heavy': 1786, 'heck': 1787, 'heel': 1788, 'hell': 1789, 'hello': 1790, 'help': 1791, 'helpful': 1792, 'hemisphere': 1793, 'hence': 1794, 'hep': 1795, 'here': 1796, 'herman': 1797, 'hero': 1798, 'hey': 1799, 'hi': 1800, 'hide': 1801, 'high': 1802, 'higher': 1803, 'highlight': 1804, 'highly': 1805, 'hilarious': 1806, 'hint': 1807, 'hire': 1808, 'history': 1809, 'hit': 1810, 'hmmm': 1811, 'hnl': 1812, 'hold': 1813, 'holder': 1814, 'holders': 1815, 'holdup': 1816, 'hole': 1817, 'holiday': 1818, 'holy': 1819, 'home': 1820, 'homeless': 1821, 'hometown': 1822, 'honest': 1823, 'honestly': 1824, 'honeymoon': 1825, 'honolulu': 1826, 'honor': 1827, 'hoo': 1828, 'hook': 1829, 'hoop': 1830, 'hop': 1831, 'hope': 1832, 'hopefully': 1833, 'horrendous': 1834, 'horrible': 1835, 'horrid': 1836, 'horrific': 1837, 'horror': 1838, 'horse': 1839, 'hospitality': 1840, 'host': 1841, 'hostage': 1842, 'hot': 1843, 'hotel': 1844, 'hotels': 1845, 'hotline': 1846, 'hotter': 1847, 'hou': 1848, 'hour': 1849, 'hours': 1850, 'house': 1851, 'houston': 1852, 'how': 1853, 'however': 1854, 'hpn': 1855, 'hr': 1856, 'hrs': 1857, 'http': 1858, 'https': 1859, 'hub': 1860, 'hubby': 1861, 'hug': 1862, 'huge': 1863, 'huh': 1864, 'human': 1865, 'humans': 1866, 'humiliate': 1867, 'humor': 1868, 'hundred': 1869, 'hundreds': 1870, 'hungry': 1871, 'hungupnohelp': 1872, 'hunt': 1873, 'hurt': 1874, 'husband': 1875, 'hv': 1876, 'hx': 1877, 'hypocrisy': 1878, 'iad': 1879, 'iah': 1880, 'ice': 1881, 'icy': 1882, 'id': 1883, 'idea': 1884, 'ideal': 1885, 'ideas': 1886, 'identical': 1887, 'idiot': 1888, 'idiots': 1889, 'ignore': 1890, 'ilc': 1891, 'ill': 1892, 'illegal': 1893, 'im': 1894, 'imagine': 1895, 'imaginedragons': 1896, 'imma': 1897, 'immediately': 1898, 'imo': 1899, 'impact': 1900, 'impend': 1901, 'important': 1902, 'impossible': 1903, 'impress': 1904, 'impressions': 1905, 'impressive': 1906, 'improve': 1907, 'improvement': 1908, 'improvements': 1909, 'in': 1910, 'inability': 1911, 'inadequate': 1912, 'inappropriate': 1913, 'inbound': 1914, 'inbox': 1915, 'incentive': 1916, 'inch': 1917, 'incident': 1918, 'inclement': 1919, 'include': 1920, 'incoming': 1921, 'incompetence': 1922, 'incompetent': 1923, 'inconsistent': 1924, 'inconvenience': 1925, 'inconvenient': 1926, 'inconvience': 1927, 'incorrect': 1928, 'increase': 1929, 'incredible': 1930, 'incredibly': 1931, 'incur': 1932, 'ind': 1933, 'indeed': 1934, 'indianapolis': 1935, 'indicate': 1936, 'indication': 1937, 'individual': 1938, 'industry': 1939, 'indy': 1940, 'inept': 1941, 'inevitable': 1942, 'inexcusable': 1943, 'infant': 1944, 'inferior': 1945, 'inflight': 1946, 'info': 1947, 'inform': 1948, 'information': 1949, 'infuriate': 1950, 'ing': 1951, 'initial': 1952, 'injury': 1953, 'innovation': 1954, 'inop': 1955, 'input': 1956, 'inquire': 1957, 'insane': 1958, 'insanity': 1959, 'inside': 1960, 'insist': 1961, 'inspect': 1962, 'inspire': 1963, 'instead': 1964, 'instruct': 1965, 'insufficient': 1966, 'insult': 1967, 'int': 1968, 'intact': 1969, 'integration': 1970, 'intend': 1971, 'intention': 1972, 'intentionally': 1973, 'interaction': 1974, 'interest': 1975, 'internal': 1976, 'international': 1977, 'internet': 1978, 'interview': 1979, 'intl': 1980, 'invalid': 1981, 'invalid_loyalty_member_account_status': 1982, 'invest': 1983, 'investigate': 1984, 'investor': 1985, 'invite': 1986, 'involve': 1987, 'ios': 1988, 'iowa': 1989, 'ipad': 1990, 'iphone': 1991, 'irritate': 1992, 'irrops': 1993, 'island': 1994, 'isnt': 1995, 'isp': 1996, 'issue': 1997, 'it': 1998, 'italy': 1999, 'item': 2000, 'items': 2001, 'itineraries': 2002, 'itinerary': 2003, 'ive': 2004, 'ivr': 2005, 'jack': 2006, 'jack_kairys': 2007, 'jackass': 2008, 'jacket': 2009, 'jackson': 2010, 'jacksonville': 2011, 'jacquie': 2012, 'jam': 2013, 'jamaica': 2014, 'jan': 2015, 'jane': 2016, 'janet': 2017, 'january': 2018, 'jax': 2019, 'jayvig': 2020, 'jb': 2021, 'jblu': 2022, 'jeanine': 2023, 'jedediahbila': 2024, 'jeff': 2025, 'jeokoo': 2026, 'jerk': 2027, 'jet': 2028, 'jetblue': 2029, 'jetbluecheeps': 2030, 'jetway': 2031, 'jfk': 2032, 'jh': 2033, 'jj': 2034, 'jkf': 2035, 'jms2802': 2036, 'joanna': 2037, 'job': 2038, 'john': 2039, 'join': 2040, 'joke': 2041, 'jose': 2042, 'josephtreis': 2043, 'journal': 2044, 'journey': 2045, 'jp': 2046, 'jt': 2047, 'jtrexsocial': 2048, 'juan': 2049, 'julie': 2050, 'july': 2051, 'jump': 2052, 'june': 2053, 'karajusto': 2054, 'karen': 2055, 'kate': 2056, 'kc': 2057, 'kci': 2058, 'kciairport': 2059, 'keep': 2060, 'kelly': 2061, 'key': 2062, 'kick': 2063, 'kid': 2064, 'kill': 2065, 'kind': 2066, 'kinda': 2067, 'kindle': 2068, 'kindness': 2069, 'king': 2070, 'kiosk': 2071, 'kiosks': 2072, 'kit': 2073, 'kn': 2074, 'knees': 2075, 'know': 2076, 'knowledge': 2077, 'kp': 2078, 'ktn': 2079, 'kudos': 2080, 'kul': 2081, 'kylejudah': 2082, 'la': 2083, 'labor': 2084, 'lack': 2085, 'ladies': 2086, 'lady': 2087, 'ladygaga': 2088, 'lag': 2089, 'laguardia': 2090, 'lake': 2091, 'lame': 2092, 'lan': 2093, 'land': 2094, 'lap': 2095, 'laptop': 2096, 'large': 2097, 'larger': 2098, 'las': 2099, 'last': 2100, 'late': 2101, 'latimes': 2102, 'lauderdale': 2103, 'laugh': 2104, 'lauren': 2105, 'lavatory': 2106, 'law': 2107, 'laws': 2108, 'lawsuit': 2109, 'lax': 2110, 'layover': 2111, 'layovers': 2112, 'lazy': 2113, 'lb': 2114, 'lbs': 2115, 'lead': 2116, 'leadership': 2117, 'learn': 2118, 'least': 2119, 'leave': 2120, 'leg': 2121, 'legacy': 2122, 'legal': 2123, 'legitimate': 2124, 'legroom': 2125, 'legs': 2126, 'leinenkugels': 2127, 'less': 2128, 'lesson': 2129, 'let': 2130, 'letter': 2131, 'level': 2132, 'lga': 2133, 'lhr': 2134, 'lie': 2135, 'life': 2136, 'lifetime': 2137, 'light': 2138, 'like': 2139, 'likelihood': 2140, 'likely': 2141, 'lima': 2142, 'limit': 2143, 'lindsey': 2144, 'line': 2145, 'link': 2146, 'lisa': 2147, 'list': 2148, 'listen': 2149, 'literally': 2150, 'little': 2151, 'live': 2152, 'livery': 2153, 'livid': 2154, 'll': 2155, 'lmao': 2156, 'load': 2157, 'loaner': 2158, 'local': 2159, 'locate': 2160, 'location': 2161, 'locations': 2162, 'locator': 2163, 'lock': 2164, 'lodge': 2165, 'log': 2166, 'logan': 2167, 'login': 2168, 'logistics': 2169, 'logo': 2170, 'lol': 2171, 'london': 2172, 'lone': 2173, 'long': 2174, 'longer': 2175, 'look': 2176, 'looong': 2177, 'loooooong': 2178, 'loose': 2179, 'lord': 2180, 'los': 2181, 'lose': 2182, 'loss': 2183, 'lot': 2184, 'louis': 2185, 'louisville': 2186, 'lounge': 2187, 'lousy': 2188, 'love': 2189, 'love_dragonss': 2190, 'lovely': 2191, 'low': 2192, 'lower': 2193, 'lowest': 2194, 'loyal': 2195, 'loyalty': 2196, 'luck': 2197, 'luckily': 2198, 'lucky': 2199, 'lufthansa': 2200, 'luggage': 2201, 'lunch': 2202, 'lusaka': 2203, 'luv': 2204, 'luxuries': 2205, 'lynn': 2206, 'ma': 2207, 'maatkare67': 2208, 'machine': 2209, 'mad': 2210, 'madness': 2211, 'madrid': 2212, 'magazine': 2213, 'magic': 2214, 'mail': 2215, 'main': 2216, 'maint': 2217, 'maintain': 2218, 'maintenance': 2219, 'major': 2220, 'make': 2221, 'male': 2222, 'malfunction': 2223, 'man': 2224, 'manage': 2225, 'management': 2226, 'manager': 2227, 'managers': 2228, 'manch': 2229, 'manchester': 2230, 'mandarinjourney': 2231, 'manner': 2232, 'manually': 2233, 'many': 2234, 'map': 2235, 'march': 2236, 'marie': 2237, 'mark': 2238, 'market': 2239, 'marry': 2240, 'marshal': 2241, 'mary': 2242, 'mass': 2243, 'massive': 2244, 'mastercard': 2245, 'mat': 2246, 'match': 2247, 'math': 2248, 'matter': 2249, 'maui': 2250, 'may': 2251, 'maybe': 2252, 'mce': 2253, 'mci': 2254, 'mco': 2255, 'mdw': 2256, 'me': 2257, 'meal': 2258, 'meals': 2259, 'mean': 2260, 'meanwhile': 2261, 'mech': 2262, 'mechanical': 2263, 'mechanics': 2264, 'media': 2265, 'medical': 2266, 'meet': 2267, 'meetings': 2268, 'meh': 2269, 'mem': 2270, 'member': 2271, 'members': 2272, 'membership': 2273, 'memo': 2274, 'memorial': 2275, 'memories': 2276, 'memory': 2277, 'memphis': 2278, 'mention': 2279, 'menu': 2280, 'menus': 2281, 'mere': 2282, 'merge': 2283, 'merger': 2284, 'mess': 2285, 'message': 2286, 'metal': 2287, 'method': 2288, 'metro': 2289, 'mex': 2290, 'mexico': 2291, 'mgr': 2292, 'mi': 2293, 'mia': 2294, 'miami': 2295, 'mid': 2296, 'middle': 2297, 'midght': 2298, 'midnight': 2299, 'midway': 2300, 'might': 2301, 'mike': 2302, 'milan': 2303, 'mile': 2304, 'mileage': 2305, 'mileageplus': 2306, 'miler': 2307, 'miles': 2308, 'military': 2309, 'million': 2310, 'millions': 2311, 'min': 2312, 'mind': 2313, 'mine': 2314, 'minimum': 2315, 'minneapolis': 2316, 'minor': 2317, 'mins': 2318, 'mint': 2319, 'minute': 2320, 'minutes': 2321, 'miracle': 2322, 'miserable': 2323, 'miserably': 2324, 'mislead': 2325, 'misplace': 2326, 'miss': 2327, 'mission': 2328, 'mistake': 2329, 'misunderstand': 2330, 'mitchell': 2331, 'mix': 2332, 'mke': 2333, 'mn': 2334, 'mobile': 2335, 'model': 2336, 'modifications': 2337, 'modify': 2338, 'mold': 2339, 'mom': 2340, 'moment': 2341, 'moments': 2342, 'momma': 2343, 'moms': 2344, 'mon': 2345, 'monday': 2346, 'money': 2347, 'monitor': 2348, 'month': 2349, 'months': 2350, 'mood': 2351, 'moon': 2352, 'morn': 2353, 'morning': 2354, 'mosaic': 2355, 'mostly': 2356, 'mother': 2357, 'mouse': 2358, 'mouth': 2359, 'move': 2360, 'movie': 2361, 'mr': 2362, 'msg': 2363, 'msp': 2364, 'msy': 2365, 'mt': 2366, 'mths': 2367, 'much': 2368, 'multi': 2369, 'multiple': 2370, 'music': 2371, 'must': 2372, 'myers': 2373, 'n598jb': 2374, 'na': 2375, 'nah': 2376, 'name': 2377, 'nantucket': 2378, 'nascar': 2379, 'nasdaq': 2380, 'nashville': 2381, 'nassau': 2382, 'nasty': 2383, 'national': 2384, 'nbr': 2385, 'nc': 2386, 'near': 2387, 'nearby': 2388, 'nearly': 2389, 'necessary': 2390, 'need': 2391, 'needed': 2392, 'neglect': 2393, 'negotiate': 2394, 'neighbor': 2395, 'neither': 2396, 'nervous': 2397, 'never': 2398, 'new': 2399, 'newark': 2400, 'news': 2401, 'next': 2402, 'nexus': 2403, 'nh': 2404, 'nhlonnbcsports': 2405, 'nice': 2406, 'nicely': 2407, 'nicer': 2408, 'nicest': 2409, 'night': 2410, 'nightmare': 2411, 'nights': 2412, 'ninadavuluri': 2413, 'nite': 2414, 'nitrogen': 2415, 'nj': 2416, 'nm': 2417, 'no': 2418, 'nobody': 2419, 'non': 2420, 'none': 2421, 'nonexistent': 2422, 'nonrefundable': 2423, 'nonsense': 2424, 'nonstop': 2425, 'noon': 2426, 'noooo': 2427, 'nope': 2428, 'norfolk': 2429, 'norm': 2430, 'normal': 2431, 'normally': 2432, 'north': 2433, 'northeast': 2434, 'not': 2435, 'notch': 2436, 'note': 2437, 'nothin': 2438, 'nothing': 2439, 'notice': 2440, 'notification': 2441, 'notifications': 2442, 'notify': 2443, 'november': 2444, 'now': 2445, 'nowhere': 2446, 'nrt': 2447, 'nt': 2448, 'ntrustopen': 2449, 'num': 2450, 'number': 2451, 'numerous': 2452, 'nut': 2453, 'nvr': 2454, 'nxt': 2455, 'ny': 2456, 'ny_njairports': 2457, 'nyc': 2458, 'nytimes': 2459, 'oak': 2460, 'oakland': 2461, 'obnoxious': 2462, 'obvious': 2463, 'obviously': 2464, 'occupy': 2465, 'occur': 2466, 'october': 2467, 'odd': 2468, 'odds': 2469, 'off': 2470, 'offer': 2471, 'office': 2472, 'officer': 2473, 'official': 2474, 'officially': 2475, 'often': 2476, 'ogg': 2477, 'oh': 2478, 'ohare': 2479, 'ok': 2480, 'okay': 2481, 'okc': 2482, 'old': 2483, 'oma': 2484, 'omaha': 2485, 'omg': 2486, 'on': 2487, 'onboard': 2488, 'one': 2489, 'ones': 2490, 'oneworld': 2491, 'online': 2492, 'ons': 2493, 'ont': 2494, 'ontime': 2495, 'onto': 2496, 'oops': 2497, 'open': 2498, 'operate': 2499, 'operation': 2500, 'operational': 2501, 'operations': 2502, 'operator': 2503, 'operators': 2504, 'opinion': 2505, 'opportunities': 2506, 'opportunity': 2507, 'opposite': 2508, 'ops': 2509, 'opt': 2510, 'option': 2511, 'options': 2512, 'orbitz': 2513, 'ord': 2514, 'order': 2515, 'orf': 2516, 'organization': 2517, 'orig': 2518, 'origin': 2519, 'original': 2520, 'originally': 2521, 'orlando': 2522, 'orleans': 2523, 'oscar': 2524, 'oscars': 2525, 'others': 2526, 'otherwise': 2527, 'otis': 2528, 'ottawa': 2529, 'ouch': 2530, 'out': 2531, 'outage': 2532, 'outbound': 2533, 'outdated': 2534, 'outlets': 2535, 'outrageous': 2536, 'outside': 2537, 'outsource': 2538, 'outstanding': 2539, 'overall': 2540, 'overbook': 2541, 'overbooked': 2542, 'overcharge': 2543, 'overflight': 2544, 'overflow': 2545, 'overhead': 2546, 'overload': 2547, 'overnight': 2548, 'overseas': 2549, 'overselling': 2550, 'oversold': 2551, 'overweight': 2552, 'overwhelm': 2553, 'ow': 2554, 'owe': 2555, 'owner': 2556, 'pa': 2557, 'pacific': 2558, 'pack': 2559, 'package': 2560, 'pafe': 2561, 'page': 2562, 'pain': 2563, 'painful': 2564, 'paint': 2565, 'pair': 2566, 'palm': 2567, 'panic': 2568, 'pant': 2569, 'paper': 2570, 'paperwork': 2571, 'parent': 2572, 'paris': 2573, 'park': 2574, 'part': 2575, 'partial': 2576, 'participate': 2577, 'particularly': 2578, 'partner': 2579, 'party': 2580, 'paso': 2581, 'pass': 2582, 'passbook': 2583, 'passenger': 2584, 'passengers': 2585, 'passive': 2586, 'passport': 2587, 'past': 2588, 'paste': 2589, 'pat': 2590, 'pathetic': 2591, 'patience': 2592, 'patient': 2593, 'patrick': 2594, 'patronize': 2595, 'paulo': 2596, 'pax': 2597, 'pay': 2598, 'payment': 2599, 'pbi': 2600, 'pdx': 2601, 'peace': 2602, 'peanut': 2603, 'peanuts': 2604, 'peep': 2605, 'penalty': 2606, 'pending': 2607, 'people': 2608, 'per': 2609, 'perfect': 2610, 'perfectly': 2611, 'perfectomobile': 2612, 'perform': 2613, 'performance': 2614, 'perhaps': 2615, 'period': 2616, 'perk': 2617, 'permanently': 2618, 'person': 2619, 'personal': 2620, 'personally': 2621, 'personnel': 2622, 'perth': 2623, 'pet': 2624, 'pgh': 2625, 'ph': 2626, 'philadelphia': 2627, 'philippines': 2628, 'philly': 2629, 'phl': 2630, 'phlairport': 2631, 'phoenix': 2632, 'phone': 2633, 'photo': 2634, 'photos': 2635, 'phx': 2636, 'phxskyharbor': 2637, 'physical': 2638, 'physically': 2639, 'pic': 2640, 'pick': 2641, 'pics': 2642, 'picture': 2643, 'piece': 2644, 'pile': 2645, 'pillow': 2646, 'pilot': 2647, 'pin': 2648, 'pink': 2649, 'piss': 2650, 'pit': 2651, 'pittsburgh': 2652, 'pjs': 2653, 'place': 2654, 'plague': 2655, 'plain': 2656, 'plan': 2657, 'plane': 2658, 'planet': 2659, 'plastic': 2660, 'plat': 2661, 'plate': 2662, 'platinum': 2663, 'play': 2664, 'plead': 2665, 'pleasant': 2666, 'please': 2667, 'pleaseeee': 2668, 'pleasure': 2669, 'plenty': 2670, 'plitt': 2671, 'plough': 2672, 'pls': 2673, 'plug': 2674, 'plus': 2675, 'plz': 2676, 'pm': 2677, 'pnr': 2678, 'pocket': 2679, 'point': 2680, 'pointless': 2681, 'police': 2682, 'policies': 2683, 'policy': 2684, 'politely': 2685, 'pool': 2686, 'poor': 2687, 'poorly': 2688, 'pop': 2689, 'popular': 2690, 'portion': 2691, 'portland': 2692, 'pos': 2693, 'position': 2694, 'positive': 2695, 'possibility': 2696, 'possible': 2697, 'possibly': 2698, 'post': 2699, 'postpone': 2700, 'poughkeepsie': 2701, 'pound': 2702, 'power': 2703, 'ppl': 2704, 'pqd': 2705, 'pr': 2706, 'practical': 2707, 'practice': 2708, 'praise': 2709, 'pray': 2710, 'pre': 2711, 'preboard': 2712, 'preboarding': 2713, 'precheck': 2714, 'precious': 2715, 'predict': 2716, 'pref': 2717, 'prefer': 2718, 'preflight': 2719, 'prem': 2720, 'premier': 2721, 'premiere': 2722, 'premium': 2723, 'prepare': 2724, 'pres': 2725, 'present': 2726, 'president': 2727, 'press': 2728, 'pressure': 2729, 'pressurization': 2730, 'pretty': 2731, 'prev': 2732, 'prevent': 2733, 'previous': 2734, 'previously': 2735, 'price': 2736, 'priceless': 2737, 'pricey': 2738, 'prime': 2739, 'prince': 2740, 'principle': 2741, 'print': 2742, 'prior': 2743, 'prioritize': 2744, 'priority': 2745, 'private': 2746, 'privilege': 2747, 'pro': 2748, 'proactive': 2749, 'proactively': 2750, 'prob': 2751, 'probably': 2752, 'problem': 2753, 'problems': 2754, 'problemss': 2755, 'probs': 2756, 'procedure': 2757, 'procedures': 2758, 'proceed': 2759, 'process': 2760, 'professional': 2761, 'profile': 2762, 'profit': 2763, 'profitability': 2764, 'program': 2765, 'progress': 2766, 'project': 2767, 'promise': 2768, 'promo': 2769, 'promotion': 2770, 'promotions': 2771, 'prompt': 2772, 'promptly': 2773, 'proof': 2774, 'proper': 2775, 'properly': 2776, 'property': 2777, 'protect': 2778, 'protection': 2779, 'protocol': 2780, 'proud': 2781, 'prove': 2782, 'provide': 2783, 'providence': 2784, 'provider': 2785, 'ps': 2786, 'psp': 2787, 'pst': 2788, 'pts': 2789, 'public': 2790, 'publicity': 2791, 'puerto': 2792, 'pull': 2793, 'pump': 2794, 'puppy': 2795, 'purchase': 2796, 'purchased': 2797, 'purpose': 2798, 'push': 2799, 'put': 2800, 'pvd': 2801, 'qantas': 2802, 'qualify': 2803, 'quality': 2804, 'quarter': 2805, 'question': 2806, 'queue': 2807, 'quick': 2808, 'quicker': 2809, 'quickly': 2810, 'quiet': 2811, 'quite': 2812, 'quote': 2813, 'race': 2814, 'rachel': 2815, 'radio': 2816, 'rage': 2817, 'rain': 2818, 'raise': 2819, 'raleigh': 2820, 'ramp': 2821, 'rampers': 2822, 'random': 2823, 'randomly': 2824, 'range': 2825, 'rank': 2826, 'rant': 2827, 'rapid': 2828, 'rapids': 2829, 'rat': 2830, 'rate': 2831, 'rather': 2832, 'rcvd': 2833, 'rdu': 2834, 're': 2835, 'reach': 2836, 'react': 2837, 'read': 2838, 'ready': 2839, 'reagan': 2840, 'reagan_airport': 2841, 'real': 2842, 'reality': 2843, 'realize': 2844, 'really': 2845, 'rear': 2846, 'rearrange': 2847, 'reason': 2848, 'reasonable': 2849, 'rebook': 2850, 'rebooked': 2851, 'reboot': 2852, 'rec': 2853, 'receipt': 2854, 'receive': 2855, 'recent': 2856, 'recently': 2857, 'recieved': 2858, 'recline': 2859, 'recognize': 2860, 'recommend': 2861, 'reconsider': 2862, 'record': 2863, 'recourse': 2864, 'recover': 2865, 'recovery': 2866, 'recruit': 2867, 'rectify': 2868, 'red': 2869, 'redeem': 2870, 'redemption': 2871, 'redirect': 2872, 'reduce': 2873, 'reek': 2874, 'ref': 2875, 'refer': 2876, 'reference': 2877, 'reflect': 2878, 'reflight': 2879, 'refresh': 2880, 'refuel': 2881, 'refund': 2882, 'refundable': 2883, 'refuse': 2884, 'regard': 2885, 'register': 2886, 'registration': 2887, 'regret': 2888, 'regular': 2889, 'regulation': 2890, 'regulations': 2891, 'reimburse': 2892, 'reimbursement': 2893, 'reinstate': 2894, 'reissue': 2895, 'relate': 2896, 'relations': 2897, 'relationship': 2898, 'relationships': 2899, 'relative': 2900, 'relax': 2901, 'relay': 2902, 'release': 2903, 'reliable': 2904, 'relief': 2905, 'rely': 2906, 'remain': 2907, 'remedy': 2908, 'remember': 2909, 'remind': 2910, 'reminder': 2911, 'remote': 2912, 'remotely': 2913, 'removal': 2914, 'remove': 2915, 'reno': 2916, 'rent': 2917, 'rental': 2918, 'reopen': 2919, 'rep': 2920, 'repair': 2921, 'repeat': 2922, 'repeatedly': 2923, 'replace': 2924, 'replacement': 2925, 'reply': 2926, 'report': 2927, 'represent': 2928, 'representative': 2929, 'representatives': 2930, 'reps': 2931, 'republican': 2932, 'reputation': 2933, 'request': 2934, 'require': 2935, 'requirement': 2936, 'requires': 2937, 'reroute': 2938, 'rerouted': 2939, 'res': 2940, 'resched': 2941, 'reschedule': 2942, 'rescue': 2943, 'reserv': 2944, 'reservation': 2945, 'reservations': 2946, 'reserve': 2947, 'reset': 2948, 'resolution': 2949, 'resolutions': 2950, 'resolve': 2951, 'resort': 2952, 'respect': 2953, 'respond': 2954, 'response': 2955, 'responses': 2956, 'responsibility': 2957, 'responsible': 2958, 'responsive': 2959, 'rest': 2960, 'restore': 2961, 'restroom': 2962, 'result': 2963, 'resume': 2964, 'retain': 2965, 'rethink': 2966, 'retire': 2967, 'retrain': 2968, 'retrieve': 2969, 'return': 2970, 'reunite': 2971, 'rev': 2972, 'revenue': 2973, 'reverse': 2974, 'review': 2975, 'reward': 2976, 'rez': 2977, 'rfxlv1kgdh': 2978, 'ric': 2979, 'rica': 2980, 'richard': 2981, 'rico': 2982, 'ricoh': 2983, 'rid': 2984, 'ride': 2985, 'ridiculous': 2986, 'right': 2987, 'rikrik__': 2988, 'ring': 2989, 'rip': 2990, 'ripoff': 2991, 'risk': 2992, 'rizzilient': 2993, 'rn': 2994, 'rno': 2995, 'road': 2996, 'roads': 2997, 'rob': 2998, 'robin': 2999, 'robinreda': 3000, 'robocalls': 3001, 'robot': 3002, 'robotic': 3003, 'roc': 3004, 'rock': 3005, 'roll': 3006, 'rookie': 3007, 'room': 3008, 'rotten': 3009, 'rough': 3010, 'round': 3011, 'roundtrip': 3012, 'rout': 3013, 'route': 3014, 'routed': 3015, 'row': 3016, 'roxydigital': 3017, 'royally': 3018, 'rr': 3019, 'rsw': 3020, 'rt': 3021, 'rtb': 3022, 'rub': 3023, 'rubber': 3024, 'rubbish': 3025, 'rude': 3026, 'rudely': 3027, 'rudeness': 3028, 'rudest': 3029, 'ruin': 3030, 'rule': 3031, 'rum': 3032, 'run': 3033, 'runway': 3034, 'rush': 3035, 'russia': 3036, 'sacramento': 3037, 'sad': 3038, 'sadden': 3039, 'sadly': 3040, 'safari': 3041, 'safe': 3042, 'safely': 3043, 'safety': 3044, 'saga': 3045, 'sale': 3046, 'sales': 3047, 'sally': 3048, 'salt': 3049, 'sample': 3050, 'san': 3051, 'sand': 3052, 'sanitize': 3053, 'sanitizer': 3054, 'santa': 3055, 'satisfactory': 3056, 'saturday': 3057, 'sauce': 3058, 'savannah': 3059, 'save': 3060, 'saver': 3061, 'saw': 3062, 'say': 3063, 'sayin': 3064, 'sb5551': 3065, 'scale': 3066, 'scam': 3067, 'scan': 3068, 'scavenger': 3069, 'scene': 3070, 'schedule': 3071, 'school': 3072, 'scollegelondon': 3073, 'scotch': 3074, 'scott': 3075, 'scratch': 3076, 'scream': 3077, 'screen': 3078, 'screenshot': 3079, 'screw': 3080, 'sdf': 3081, 'sea': 3082, 'search': 3083, 'seat': 3084, 'seatac': 3085, 'seattle': 3086, 'sec': 3087, 'second': 3088, 'section': 3089, 'secure': 3090, 'security': 3091, 'see': 3092, 'seek': 3093, 'seem': 3094, 'seg': 3095, 'segment': 3096, 'select': 3097, 'selection': 3098, 'selections': 3099, 'self': 3100, 'selfie': 3101, 'selfies': 3102, 'sell': 3103, 'send': 3104, 'sense': 3105, 'sensitive': 3106, 'sentiment': 3107, 'separate': 3108, 'separately': 3109, 'sept': 3110, 'september': 3111, 'series': 3112, 'serious': 3113, 'seriously': 3114, 'serv': 3115, 'serve': 3116, 'service': 3117, 'set': 3118, 'settle': 3119, 'seven': 3120, 'several': 3121, 'severe': 3122, 'severely': 3123, 'sf': 3124, 'sfo': 3125, 'shade': 3126, 'shake': 3127, 'shame': 3128, 'shameful': 3129, 'shannon': 3130, 'share': 3131, 'she': 3132, 'sheesh': 3133, 'shift': 3134, 'shin': 3135, 'ship': 3136, 'shirt': 3137, 'shit': 3138, 'shitty': 3139, 'shock': 3140, 'shoddy': 3141, 'shoe': 3142, 'shoot': 3143, 'shop': 3144, 'short': 3145, 'shortage': 3146, 'shortcomings': 3147, 'shortly': 3148, 'shots': 3149, 'should': 3150, 'shoulder': 3151, 'shouldnt': 3152, 'shout': 3153, 'show': 3154, 'shrug': 3155, 'shuffle': 3156, 'shut': 3157, 'shuttle': 3158, 'sick': 3159, 'side': 3160, 'sigh': 3161, 'sight': 3162, 'sign': 3163, 'signal': 3164, 'significant': 3165, 'significantly': 3166, 'silence': 3167, 'silly': 3168, 'silver': 3169, 'silverairways': 3170, 'similar': 3171, 'simple': 3172, 'simply': 3173, 'since': 3174, 'sincere': 3175, 'sincerely': 3176, 'sing': 3177, 'singapore': 3178, 'single': 3179, 'sister': 3180, 'sisters': 3181, 'sit': 3182, 'site': 3183, 'sittin': 3184, 'situation': 3185, 'situations': 3186, 'six': 3187, 'size': 3188, 'sjc': 3189, 'sjo': 3190, 'sju': 3191, 'ski': 3192, 'skills': 3193, 'skip': 3194, 'sky': 3195, 'slc': 3196, 'slcairport': 3197, 'sleep': 3198, 'sleet': 3199, 'slide': 3200, 'slight': 3201, 'slightly': 3202, 'slip': 3203, 'slot': 3204, 'slow': 3205, 'sma': 3206, 'small': 3207, 'smaller': 3208, 'smallest': 3209, 'smash': 3210, 'smell': 3211, 'smh': 3212, 'smile': 3213, 'smisek': 3214, 'smooth': 3215, 'smoothest': 3216, 'smoothly': 3217, 'sna': 3218, 'snack': 3219, 'snow': 3220, 'snowboard': 3221, 'snowstorm': 3222, 'snowy': 3223, 'soak': 3224, 'sob': 3225, 'social': 3226, 'software': 3227, 'solo': 3228, 'solution': 3229, 'solve': 3230, 'somebody': 3231, 'somehow': 3232, 'someone': 3233, 'something': 3234, 'sometime': 3235, 'sometimes': 3236, 'somewhat': 3237, 'somewhere': 3238, 'son': 3239, 'song': 3240, 'sons': 3241, 'soon': 3242, 'sooner': 3243, 'sooo': 3244, 'soooo': 3245, 'sop': 3246, 'sorry': 3247, 'sort': 3248, 'sorta': 3249, 'sos': 3250, 'soul': 3251, 'sound': 3252, 'south': 3253, 'southwest': 3254, 'southwestair': 3255, 'space': 3256, 'spam': 3257, 'spanish': 3258, 'spare': 3259, 'speak': 3260, 'special': 3261, 'specific': 3262, 'specifically': 3263, 'specifics': 3264, 'spectacular': 3265, 'speed': 3266, 'speedy': 3267, 'spell': 3268, 'spend': 3269, 'spill': 3270, 'spirit': 3271, 'spiritairlines': 3272, 'spite': 3273, 'split': 3274, 'spoil': 3275, 'sport': 3276, 'spot': 3277, 'spotty': 3278, 'spread': 3279, 'spring': 3280, 'srvc': 3281, 'st': 3282, 'staff': 3283, 'stall': 3284, 'stand': 3285, 'standard': 3286, 'standards': 3287, 'standby': 3288, 'star': 3289, 'staralliance': 3290, 'starbucks': 3291, 'start': 3292, 'starve': 3293, 'stat': 3294, 'state': 3295, 'statement': 3296, 'station': 3297, 'status': 3298, 'stay': 3299, 'steal': 3300, 'steam': 3301, 'steamboat': 3302, 'steel': 3303, 'stellar': 3304, 'step': 3305, 'stewardess': 3306, 'stewardesses': 3307, 'stick': 3308, 'still': 3309, 'stink': 3310, 'stl': 3311, 'stock': 3312, 'stop': 3313, 'stories': 3314, 'storm': 3315, 'story': 3316, 'straight': 3317, 'strand': 3318, 'strange': 3319, 'strategy': 3320, 'stream': 3321, 'street': 3322, 'stress': 3323, 'stressful': 3324, 'stretch': 3325, 'strike': 3326, 'strip': 3327, 'stroller': 3328, 'strollers': 3329, 'strong': 3330, 'stt': 3331, 'student': 3332, 'students': 3333, 'stuff': 3334, 'stun': 3335, 'stupid': 3336, 'style': 3337, 'submit': 3338, 'subpar': 3339, 'subscribe': 3340, 'success': 3341, 'suck': 3342, 'sudden': 3343, 'suffer': 3344, 'suggest': 3345, 'suggestion': 3346, 'suggestions': 3347, 'suicide': 3348, 'suit': 3349, 'suitcase': 3350, 'suitcases': 3351, 'summer': 3352, 'sun': 3353, 'sunday': 3354, 'sunny': 3355, 'sunset': 3356, 'super': 3357, 'supervisor': 3358, 'support': 3359, 'suppose': 3360, 'sure': 3361, 'surely': 3362, 'surgeries': 3363, 'surgery': 3364, 'surly': 3365, 'surprise': 3366, 'survey': 3367, 'suspect': 3368, 'svc': 3369, 'sw': 3370, 'swa': 3371, 'swap': 3372, 'swear': 3373, 'sweet': 3374, 'sweetingr': 3375, 'swell': 3376, 'switch': 3377, 'sxm': 3378, 'sympathetic': 3379, 'sympathy': 3380, 'sync': 3381, 'syracuse': 3382, 'system': 3383, 'systems': 3384, 'são': 3385, 't5': 3386, 'ta': 3387, 'tab': 3388, 'table': 3389, 'tablet': 3390, 'tag': 3391, 'tail': 3392, 'tailwind': 3393, 'take': 3394, 'takeoff': 3395, 'talk': 3396, 'tamara': 3397, 'tampa': 3398, 'target': 3399, 'tarmac': 3400, 'taste': 3401, 'tatianaking': 3402, 'tax': 3403, 'taxi': 3404, 'taylor': 3405, 'tea': 3406, 'teach': 3407, 'team': 3408, 'tear': 3409, 'tech': 3410, 'technical': 3411, 'technically': 3412, 'teens': 3413, 'tel': 3414, 'telephone': 3415, 'tell': 3416, 'temp': 3417, 'temperature': 3418, 'ten': 3419, 'term': 3420, 'terminal': 3421, 'terminals': 3422, 'terrible': 3423, 'terribly': 3424, 'terrific': 3425, 'terry': 3426, 'test': 3427, 'texas': 3428, 'text': 3429, 'texted': 3430, 'texting': 3431, 'texts': 3432, 'th': 3433, 'thank': 3434, 'thankful': 3435, 'thankfully': 3436, 'thanks': 3437, 'thankyou': 3438, 'thanx': 3439, 'that': 3440, 'thats': 3441, 'the': 3442, 'thenationaluae': 3443, 'there': 3444, 'therefore': 3445, 'theres': 3446, 'thewayoftheid': 3447, 'thin': 3448, 'thing': 3449, 'things': 3450, 'think': 3451, 'third': 3452, 'thirty': 3453, 'this': 3454, 'thks': 3455, 'thnx': 3456, 'tho': 3457, 'though': 3458, 'thoughts': 3459, 'thousands': 3460, 'threaten': 3461, 'three': 3462, 'throw': 3463, 'thru': 3464, 'thurs': 3465, 'thursday': 3466, 'thx': 3467, 'tick': 3468, 'ticket': 3469, 'tide': 3470, 'tight': 3471, 'til': 3472, 'till': 3473, 'timco': 3474, 'time': 3475, 'timely': 3476, 'tiny': 3477, 'tire': 3478, 'tix': 3479, 'tks': 3480, 'tkt': 3481, 'tld': 3482, 'tmrw': 3483, 'to': 3484, 'today': 3485, 'todays': 3486, 'toddler': 3487, 'together': 3488, 'toilet': 3489, 'toilets': 3490, 'toledo': 3491, 'tomorrow': 3492, 'ton': 3493, 'tone': 3494, 'tonight': 3495, 'tonite': 3496, 'tool': 3497, 'top': 3498, 'toronto': 3499, 'torture': 3500, 'total': 3501, 'totally': 3502, 'touch': 3503, 'touchdown': 3504, 'tough': 3505, 'tourist': 3506, 'toward': 3507, 'towards': 3508, 'tpa': 3509, 'trace': 3510, 'track': 3511, 'trade': 3512, 'traffic': 3513, 'train': 3514, 'transaction': 3515, 'transfer': 3516, 'transport': 3517, 'transportation': 3518, 'trap': 3519, 'trash': 3520, 'travel': 3521, 'traveler': 3522, 'travelers': 3523, 'travellers': 3524, 'travisamex': 3525, 'tray': 3526, 'treat': 3527, 'treatment': 3528, 'tree': 3529, 'tremendous': 3530, 'trick': 3531, 'triflight': 3532, 'trip': 3533, 'triple': 3534, 'trouble': 3535, 'truck': 3536, 'true': 3537, 'trueblue': 3538, 'truly': 3539, 'trust': 3540, 'truth': 3541, 'trv': 3542, 'trvl': 3543, 'try': 3544, 'tryin': 3545, 'tsa': 3546, 'tucson': 3547, 'tue': 3548, 'tues': 3549, 'tuesday': 3550, 'tulsa': 3551, 'tune': 3552, 'turbulence': 3553, 'turkish': 3554, 'turn': 3555, 'turnaround': 3556, 'tv': 3557, 'tvs': 3558, 'tweet': 3559, 'twelve': 3560, 'twice': 3561, 'twitter': 3562, 'two': 3563, 'tx': 3564, 'txt': 3565, 'ty': 3566, 'type': 3567, 'typical': 3568, 'ua': 3569, 'ua1740': 3570, 'ua1750': 3571, 'ua5396': 3572, 'ua922': 3573, 'ua938': 3574, 'ual': 3575, 'ugh': 3576, 'uh': 3577, 'uk': 3578, 'um': 3579, 'umm': 3580, 'un': 3581, 'unable': 3582, 'unacceptable': 3583, 'unaccompanied': 3584, 'unanticipated': 3585, 'unavailable': 3586, 'unbelievable': 3587, 'unbelievably': 3588, 'uncalled': 3589, 'uncaring': 3590, 'uncomfortable': 3591, 'uncool': 3592, 'understaffed': 3593, 'understaffing': 3594, 'understand': 3595, 'understandable': 3596, 'understatement': 3597, 'unexpected': 3598, 'unfortunate': 3599, 'unfortunately': 3600, 'unfriendly': 3601, 'unhappy': 3602, 'unhelpful': 3603, 'unite': 3604, 'united': 3605, 'unknown': 3606, 'unless': 3607, 'unlike': 3608, 'unload': 3609, 'unnecessarily': 3610, 'unnecessary': 3611, 'unorganized': 3612, 'unprofessional': 3613, 'unreal': 3614, 'unrelate': 3615, 'unreliable': 3616, 'unspecified': 3617, 'unsure': 3618, 'unusable': 3619, 'unused': 3620, 'unveil': 3621, 'unwilling': 3622, 'up': 3623, 'upcoming': 3624, 'update': 3625, 'upgrade': 3626, 'uphold': 3627, 'upon': 3628, 'upset': 3629, 'ur': 3630, 'urgency': 3631, 'us': 3632, 'us3825': 3633, 'us5235': 3634, 'usa': 3635, 'usair': 3636, 'usairways': 3637, 'usatoday': 3638, 'use': 3639, 'useful': 3640, 'useless': 3641, 'user': 3642, 'username': 3643, 'usual': 3644, 'usually': 3645, 'utah': 3646, 'utterly': 3647, 'uvf': 3648, 'va': 3649, 'vaca': 3650, 'vacation': 3651, 'vacay': 3652, 'valentine': 3653, 'valid': 3654, 'vallarta': 3655, 'valuable': 3656, 'value': 3657, 'van': 3658, 'various': 3659, 've': 3660, 'vegan': 3661, 'vegas': 3662, 'velourlive': 3663, 'verbal': 3664, 'verify': 3665, 'version': 3666, 'very': 3667, 'vhgkitzsaw': 3668, 'via': 3669, 'video': 3670, 'vieques': 3671, 'view': 3672, 'vile': 3673, 'vincenzolandino': 3674, 'violation': 3675, 'virgin': 3676, 'virginamerica': 3677, 'virginatlantic': 3678, 'visa': 3679, 'visible': 3680, 'visit': 3681, 'vital': 3682, 'vmquurzupw': 3683, 'voice': 3684, 'voicemail': 3685, 'void': 3686, 'volume': 3687, 'volunteer': 3688, 'vomit': 3689, 'vote': 3690, 'voucher': 3691, 'vouchers': 3692, 'vs': 3693, 'vx': 3694, 'vx399': 3695, 'wait': 3696, 'waitin': 3697, 'waitlisted': 3698, 'waive': 3699, 'waiver': 3700, 'waivers': 3701, 'wake': 3702, 'walk': 3703, 'wall': 3704, 'wallet': 3705, 'wander': 3706, 'wanna': 3707, 'want': 3708, 'warm': 3709, 'warmth': 3710, 'warn': 3711, 'warnings': 3712, 'washington': 3713, 'waste': 3714, 'watch': 3715, 'water': 3716, 'waterbury': 3717, 'wave': 3718, 'way': 3719, 'ways': 3720, 'wd40': 3721, 'we': 3722, 'weak': 3723, 'wear': 3724, 'weather': 3725, 'web': 3726, 'website': 3727, 'wed': 3728, 'wednesday': 3729, 'week': 3730, 'weekend': 3731, 'weeks': 3732, 'weigh': 3733, 'weight': 3734, 'welcome': 3735, 'well': 3736, 'went': 3737, 'west': 3738, 'westchester': 3739, 'western': 3740, 'wet': 3741, 'what': 3742, 'whatever': 3743, 'whats': 3744, 'wheel': 3745, 'wheelchair': 3746, 'when': 3747, 'whenever': 3748, 'where': 3749, 'whether': 3750, 'whiplash': 3751, 'white': 3752, 'who': 3753, 'whoever': 3754, 'whole': 3755, 'whose': 3756, 'wi': 3757, 'wichita': 3758, 'wide': 3759, 'wife': 3760, 'wifi': 3761, 'will': 3762, 'win': 3763, 'wind': 3764, 'window': 3765, 'windows': 3766, 'wine': 3767, 'wing': 3768, 'winner': 3769, 'winners': 3770, 'winter': 3771, 'wipe': 3772, 'wish': 3773, 'within': 3774, 'without': 3775, 'witness': 3776, 'wk': 3777, 'wknd': 3778, 'woman': 3779, 'women': 3780, 'wonder': 3781, 'wonderful': 3782, 'wont': 3783, 'woo': 3784, 'word': 3785, 'work': 3786, 'worker': 3787, 'workers': 3788, 'world': 3789, 'worry': 3790, 'worse': 3791, 'worst': 3792, 'worth': 3793, 'worthless': 3794, 'would': 3795, 'wow': 3796, 'wrap': 3797, 'wreck': 3798, 'write': 3799, 'wrong': 3800, 'wrongfully': 3801, 'wsj': 3802, 'wtf': 3803, 'wth': 3804, 'x2': 3805, 'xna': 3806, 'xoxo': 3807, 'xt': 3808, 'xx': 3809, 'ya': 3810, 'yall': 3811, 'yay': 3812, 'yea': 3813, 'yeah': 3814, 'year': 3815, 'years': 3816, 'yell': 3817, 'yep': 3818, 'yes': 3819, 'yest': 3820, 'yesterday': 3821, 'yet': 3822, 'yikes': 3823, 'yo': 3824, 'york': 3825, 'you': 3826, 'young': 3827, 'your': 3828, 'youre': 3829, 'youth': 3830, 'yr': 3831, 'yrs': 3832, 'yuma': 3833, 'yup': 3834, 'yvonne': 3835, 'yvr': 3836, 'yyj': 3837, 'yyz': 3838, 'zero': 3839, 'zik2uoxgnw': 3840, 'zone': 3841}\n"
     ]
    }
   ],
   "source": [
    "vocab = count_vectorizer.vocabulary_\n",
    "vocab = {k: v for k, v in sorted(vocab.items(), key=lambda item: item[1], reverse=False)}\n",
    "print(vocab)"
   ]
  },
  {
   "cell_type": "markdown",
   "metadata": {},
   "source": [
    "---\n",
    "\n",
    "### Q1: Choose two words to compare (different from \"_wonderful_\" vs \"_incredible_\"). \n",
    "\n",
    "Below you will choose your two words, which have similar meaning and which you suspect the model will treat similarly. Then, re-train the model and plot the histogram of the differences between learned weight values for each of your chosen words across the 128 hidden units in the first layer. Did the histograms show that the learned weight values were similar for your words? More similar than for the neighboring words compared to each other?\n",
    "\n",
    "`<input your answer here>`\n",
    "\n",
    "---"
   ]
  },
  {
   "cell_type": "code",
   "execution_count": 14,
   "metadata": {},
   "outputs": [
    {
     "name": "stdout",
     "output_type": "stream",
     "text": [
      "The index for 'miserable': 2323\n",
      "The index for 'unhappy': 3602\n"
     ]
    }
   ],
   "source": [
    "word1 = 'miserable'\n",
    "word2 = 'unhappy'\n",
    "\n",
    "word1_idx = vocab[word1]\n",
    "print(f\"The index for '{word1}': {word1_idx}\")\n",
    "\n",
    "word2_idx = vocab[word2]\n",
    "print(f\"The index for '{word2}': {word2_idx}\")\n"
   ]
  },
  {
   "cell_type": "markdown",
   "metadata": {},
   "source": [
    "Next, let's look at the tweets themselves that contained the word _\"great\"_."
   ]
  },
  {
   "cell_type": "code",
   "execution_count": 15,
   "metadata": {},
   "outputs": [
    {
     "name": "stdout",
     "output_type": "stream",
     "text": [
      "[1825 4409 5272 8536]\n"
     ]
    },
    {
     "data": {
      "application/vnd.microsoft.datawrangler.viewer.v0+json": {
       "columns": [
        {
         "name": "index",
         "rawType": "int64",
         "type": "integer"
        },
        {
         "name": "sentiment",
         "rawType": "object",
         "type": "string"
        },
        {
         "name": "text",
         "rawType": "object",
         "type": "string"
        },
        {
         "name": "tokens_raw",
         "rawType": "object",
         "type": "unknown"
        },
        {
         "name": "tweet_length",
         "rawType": "int64",
         "type": "integer"
        },
        {
         "name": "tokens",
         "rawType": "object",
         "type": "unknown"
        },
        {
         "name": "textclean",
         "rawType": "object",
         "type": "string"
        }
       ],
       "conversionMethod": "pd.DataFrame",
       "ref": "9ed21e94-209c-450b-a7f8-ddeb3c796535",
       "rows": [
        [
         "4348",
         "negative",
         "@united That's real dedication &amp; concern. Your apologies don't fix the issue nor any of the miserable issues I've had over the past 6 mos.",
         "['@united', \"that's\", 'real', 'dedication', '&', 'concern', 'apologies', 'fix', 'issue', 'miserable', 'issues', 'past', '6', 'mos']",
         "27",
         "['@united', \"that's\", 'real', 'dedication', '&', 'concern', 'apologies', 'fix', 'issue', 'miserable', 'issue', 'past', '6', 'mos']",
         "@united that's real dedication & concern apologies fix issue miserable issue past 6 mos"
        ],
        [
         "2232",
         "negative",
         "@USAirways Past tense re help. No more. It’s been even more miserable than usual at CLT.",
         "['@usairways', 'past', 'tense', 'help', '’', 'even', 'miserable', 'usual', 'clt']",
         "21",
         "['@usairways', 'past', 'tense', 'help', '’', 'even', 'miserable', 'usual', 'clt']",
         "@usairways past tense help ’ even miserable usual clt"
        ],
        [
         "1490",
         "negative",
         "@united Miserable trip ... lost bag Sat... found Mon... lost again... shipping 2nd day ground Tues... might have it for return flight home",
         "['@united', 'miserable', 'trip', '...', 'lost', 'bag', 'sat', '...', 'found', 'mon', '...', 'lost', '...', 'shipping', '2nd', 'day', 'ground', 'tues', '...', 'might', 'return', 'flight', 'home']",
         "27",
         "['@united', 'miserable', 'trip', '...', 'lose', 'bag', 'sit', '...', 'find', 'mon', '...', 'lose', '...', 'ship', '2nd', 'day', 'grind', 'tues', '...', 'might', 'return', 'flight', 'home']",
         "@united miserable trip ... lose bag sit ... find mon ... lose ... ship 2nd day grind tues ... might return flight home"
        ],
        [
         "26",
         "negative",
         "@USAirways your a miserable airline and your loss of revenue is a reflection of that.  Go extinct.  A merger only delays the inevitable",
         "['@usairways', 'miserable', 'airline', 'loss', 'revenue', 'reflection', 'go', 'extinct', 'merger', 'delays', 'inevitable']",
         "25",
         "['@usairways', 'miserable', 'airline', 'loss', 'revenue', 'reflection', 'go', 'extinct', 'merger', 'delay', 'inevitable']",
         "@usairways miserable airline loss revenue reflection go extinct merger delay inevitable"
        ]
       ],
       "shape": {
        "columns": 6,
        "rows": 4
       }
      },
      "text/html": [
       "<div>\n",
       "<style scoped>\n",
       "    .dataframe tbody tr th:only-of-type {\n",
       "        vertical-align: middle;\n",
       "    }\n",
       "\n",
       "    .dataframe tbody tr th {\n",
       "        vertical-align: top;\n",
       "    }\n",
       "\n",
       "    .dataframe thead th {\n",
       "        text-align: right;\n",
       "    }\n",
       "</style>\n",
       "<table border=\"1\" class=\"dataframe\">\n",
       "  <thead>\n",
       "    <tr style=\"text-align: right;\">\n",
       "      <th></th>\n",
       "      <th>sentiment</th>\n",
       "      <th>text</th>\n",
       "      <th>tokens_raw</th>\n",
       "      <th>tweet_length</th>\n",
       "      <th>tokens</th>\n",
       "      <th>textclean</th>\n",
       "    </tr>\n",
       "  </thead>\n",
       "  <tbody>\n",
       "    <tr>\n",
       "      <th>4348</th>\n",
       "      <td>negative</td>\n",
       "      <td>@united That's real dedication &amp;amp; concern. Your apologies don't fix the issue nor any of the miserable issues I've had over the past 6 mos.</td>\n",
       "      <td>[@united, that's, real, dedication, &amp;, concern, apologies, fix, issue, miserable, issues, past, 6, mos]</td>\n",
       "      <td>27</td>\n",
       "      <td>[@united, that's, real, dedication, &amp;, concern, apologies, fix, issue, miserable, issue, past, 6, mos]</td>\n",
       "      <td>@united that's real dedication &amp; concern apologies fix issue miserable issue past 6 mos</td>\n",
       "    </tr>\n",
       "    <tr>\n",
       "      <th>2232</th>\n",
       "      <td>negative</td>\n",
       "      <td>@USAirways Past tense re help. No more. It’s been even more miserable than usual at CLT.</td>\n",
       "      <td>[@usairways, past, tense, help, ’, even, miserable, usual, clt]</td>\n",
       "      <td>21</td>\n",
       "      <td>[@usairways, past, tense, help, ’, even, miserable, usual, clt]</td>\n",
       "      <td>@usairways past tense help ’ even miserable usual clt</td>\n",
       "    </tr>\n",
       "    <tr>\n",
       "      <th>1490</th>\n",
       "      <td>negative</td>\n",
       "      <td>@united Miserable trip ... lost bag Sat... found Mon... lost again... shipping 2nd day ground Tues... might have it for return flight home</td>\n",
       "      <td>[@united, miserable, trip, ..., lost, bag, sat, ..., found, mon, ..., lost, ..., shipping, 2nd, day, ground, tues, ..., might, return, flight, home]</td>\n",
       "      <td>27</td>\n",
       "      <td>[@united, miserable, trip, ..., lose, bag, sit, ..., find, mon, ..., lose, ..., ship, 2nd, day, grind, tues, ..., might, return, flight, home]</td>\n",
       "      <td>@united miserable trip ... lose bag sit ... find mon ... lose ... ship 2nd day grind tues ... might return flight home</td>\n",
       "    </tr>\n",
       "    <tr>\n",
       "      <th>26</th>\n",
       "      <td>negative</td>\n",
       "      <td>@USAirways your a miserable airline and your loss of revenue is a reflection of that.  Go extinct.  A merger only delays the inevitable</td>\n",
       "      <td>[@usairways, miserable, airline, loss, revenue, reflection, go, extinct, merger, delays, inevitable]</td>\n",
       "      <td>25</td>\n",
       "      <td>[@usairways, miserable, airline, loss, revenue, reflection, go, extinct, merger, delay, inevitable]</td>\n",
       "      <td>@usairways miserable airline loss revenue reflection go extinct merger delay inevitable</td>\n",
       "    </tr>\n",
       "  </tbody>\n",
       "</table>\n",
       "</div>"
      ],
      "text/plain": [
       "     sentiment  \\\n",
       "4348  negative   \n",
       "2232  negative   \n",
       "1490  negative   \n",
       "26    negative   \n",
       "\n",
       "                                                                                                                                                text  \\\n",
       "4348  @united That's real dedication &amp; concern. Your apologies don't fix the issue nor any of the miserable issues I've had over the past 6 mos.   \n",
       "2232                                                        @USAirways Past tense re help. No more. It’s been even more miserable than usual at CLT.   \n",
       "1490      @united Miserable trip ... lost bag Sat... found Mon... lost again... shipping 2nd day ground Tues... might have it for return flight home   \n",
       "26           @USAirways your a miserable airline and your loss of revenue is a reflection of that.  Go extinct.  A merger only delays the inevitable   \n",
       "\n",
       "                                                                                                                                                tokens_raw  \\\n",
       "4348                                               [@united, that's, real, dedication, &, concern, apologies, fix, issue, miserable, issues, past, 6, mos]   \n",
       "2232                                                                                       [@usairways, past, tense, help, ’, even, miserable, usual, clt]   \n",
       "1490  [@united, miserable, trip, ..., lost, bag, sat, ..., found, mon, ..., lost, ..., shipping, 2nd, day, ground, tues, ..., might, return, flight, home]   \n",
       "26                                                    [@usairways, miserable, airline, loss, revenue, reflection, go, extinct, merger, delays, inevitable]   \n",
       "\n",
       "      tweet_length  \\\n",
       "4348            27   \n",
       "2232            21   \n",
       "1490            27   \n",
       "26              25   \n",
       "\n",
       "                                                                                                                                              tokens  \\\n",
       "4348                                          [@united, that's, real, dedication, &, concern, apologies, fix, issue, miserable, issue, past, 6, mos]   \n",
       "2232                                                                                 [@usairways, past, tense, help, ’, even, miserable, usual, clt]   \n",
       "1490  [@united, miserable, trip, ..., lose, bag, sit, ..., find, mon, ..., lose, ..., ship, 2nd, day, grind, tues, ..., might, return, flight, home]   \n",
       "26                                               [@usairways, miserable, airline, loss, revenue, reflection, go, extinct, merger, delay, inevitable]   \n",
       "\n",
       "                                                                                                                   textclean  \n",
       "4348                                 @united that's real dedication & concern apologies fix issue miserable issue past 6 mos  \n",
       "2232                                                                   @usairways past tense help ’ even miserable usual clt  \n",
       "1490  @united miserable trip ... lose bag sit ... find mon ... lose ... ship 2nd day grind tues ... might return flight home  \n",
       "26                                   @usairways miserable airline loss revenue reflection go extinct merger delay inevitable  "
      ]
     },
     "execution_count": 15,
     "metadata": {},
     "output_type": "execute_result"
    }
   ],
   "source": [
    "rows_w_word1 = np.where(X_np[:, word1_idx] == 1)[0]\n",
    "print(rows_w_word1)\n",
    "df.iloc[rows_w_word1,]"
   ]
  },
  {
   "cell_type": "code",
   "execution_count": 16,
   "metadata": {},
   "outputs": [
    {
     "name": "stdout",
     "output_type": "stream",
     "text": [
      "[ 111  144  641  749 1081 1177 3051 4045 5589 5833 6769 7288 7609]\n"
     ]
    },
    {
     "data": {
      "application/vnd.microsoft.datawrangler.viewer.v0+json": {
       "columns": [
        {
         "name": "index",
         "rawType": "int64",
         "type": "integer"
        },
        {
         "name": "sentiment",
         "rawType": "object",
         "type": "string"
        },
        {
         "name": "text",
         "rawType": "object",
         "type": "string"
        },
        {
         "name": "tokens_raw",
         "rawType": "object",
         "type": "unknown"
        },
        {
         "name": "tweet_length",
         "rawType": "int64",
         "type": "integer"
        },
        {
         "name": "tokens",
         "rawType": "object",
         "type": "unknown"
        },
        {
         "name": "textclean",
         "rawType": "object",
         "type": "string"
        }
       ],
       "conversionMethod": "pd.DataFrame",
       "ref": "3e1aafaa-067c-46cd-9d0f-9504f2031868",
       "rows": [
        [
         "3687",
         "negative",
         "@AmericanAir but, what I can always rely on when I fly USAir or American is that employees will be rude and unhappy.",
         "['@americanair', ',', 'always', 'rely', 'fly', 'usair', 'american', 'employees', 'rude', 'unhappy']",
         "24",
         "['@americanair', ',', 'always', 'rely', 'fly', 'usair', 'american', 'employees', 'rude', 'unhappy']",
         "@americanair , always rely fly usair american employees rude unhappy"
        ],
        [
         "9501",
         "negative",
         "@united unhappy with your new mileage rules :( - was my main reason to keep flying united. Will have to take my business elsewhere",
         "['@united', 'unhappy', 'new', 'mileage', 'rules', ':(', '-', 'main', 'reason', 'keep', 'flying', 'united', 'take', 'business', 'elsewhere']",
         "25",
         "['@united', 'unhappy', 'new', 'mileage', 'rule', ':(', '-', 'main', 'reason', 'keep', 'fly', 'unite', 'take', 'business', 'elsewhere']",
         "@united unhappy new mileage rule :( - main reason keep fly unite take business elsewhere"
        ],
        [
         "6158",
         "negative",
         "@JetBlue You have very unhappy customer. After waiting 20 min on hold, rude &amp; uncaring rep has now frozen my acct. can't print bdng pass!",
         "['@jetblue', 'unhappy', 'customer', 'waiting', '20', 'min', 'hold', ',', 'rude', '&', 'uncaring', 'rep', 'frozen', 'acct', \"can't\", 'print', 'bdng', 'pass']",
         "29",
         "['@jetblue', 'unhappy', 'customer', 'wait', '20', 'min', 'hold', ',', 'rude', '&', 'uncaring', 'rep', 'freeze', 'acct', \"can't\", 'print', 'bdng', 'pass']",
         "@jetblue unhappy customer wait 20 min hold , rude & uncaring rep freeze acct can't print bdng pass"
        ],
        [
         "7871",
         "negative",
         "@united I'm afraid not... I fly or service every week and I'm just unhappy..spend too much money to be unhappy",
         "['@united', 'afraid', '...', 'fly', 'service', 'every', 'week', 'unhappy', '..', 'spend', 'much', 'money', 'unhappy']",
         "23",
         "['@united', 'afraid', '...', 'fly', 'service', 'every', 'week', 'unhappy', '..', 'spend', 'much', 'money', 'unhappy']",
         "@united afraid ... fly service every week unhappy .. spend much money unhappy"
        ],
        [
         "7959",
         "negative",
         "@USAirways Cancelled Flightled due to maintenance. The plane was there for 10 hours. Get your shit together because there are a lot of people unhappy.",
         "['@usairways', 'cancelled', 'flightled', 'due', 'maintenance', 'plane', '10', 'hours', 'get', 'shit', 'together', 'lot', 'people', 'unhappy']",
         "28",
         "['@usairways', 'cancel', 'flightled', 'due', 'maintenance', 'plane', '10', 'hours', 'get', 'shit', 'together', 'lot', 'people', 'unhappy']",
         "@usairways cancel flightled due maintenance plane 10 hours get shit together lot people unhappy"
        ],
        [
         "6813",
         "negative",
         "@AmericanAir but, what I can always rely on when I fly USAir or American is that employees will be rude and unhappy.",
         "['@americanair', ',', 'always', 'rely', 'fly', 'usair', 'american', 'employees', 'rude', 'unhappy']",
         "24",
         "['@americanair', ',', 'always', 'rely', 'fly', 'usair', 'american', 'employees', 'rude', 'unhappy']",
         "@americanair , always rely fly usair american employees rude unhappy"
        ],
        [
         "6043",
         "negative",
         "@united No but u cld explain how such a disorganized and inefficient company w surly and obviously unhappy employees stays in business.",
         "['@united', 'u', 'cld', 'explain', 'disorganized', 'inefficient', 'company', 'w', 'surly', 'obviously', 'unhappy', 'employees', 'stays', 'business']",
         "23",
         "['@united', 'u', 'cld', 'explain', 'disorganize', 'inefficient', 'company', 'w', 'surly', 'obviously', 'unhappy', 'employees', 'stay', 'business']",
         "@united u cld explain disorganize inefficient company w surly obviously unhappy employees stay business"
        ],
        [
         "1281",
         "negative",
         "@united on 4124 arriving two hours Late Flight into CLT. Now sitting on the tarmac while they move a plane from the gate. Unhappy customer.",
         "['@united', '4124', 'arriving', 'two', 'hours', 'late', 'flight', 'clt', 'sitting', 'tarmac', 'move', 'plane', 'gate', 'unhappy', 'customer']",
         "28",
         "['@united', '4124', 'arrive', 'two', 'hours', 'late', 'flight', 'clt', 'sit', 'tarmac', 'move', 'plane', 'gate', 'unhappy', 'customer']",
         "@united 4124 arrive two hours late flight clt sit tarmac move plane gate unhappy customer"
        ],
        [
         "530",
         "negative",
         "@united : Unhappy with United's service?\n\nRead Ralph Nader's open letter to UAL's CEO.\n\nLeave a comment or RT.\n\nhttp://t.co/O0745APIau",
         "['@united', ':', 'unhappy', \"united's\", 'service', 'read', 'ralph', \"nader's\", 'open', 'letter', \"ual's\", 'ceo', 'leave', 'comment', 'rt', 'http://t.co/o0745apiau']",
         "23",
         "['@united', ':', 'unhappy', \"united's\", 'service', 'read', 'ralph', \"nader's\", 'open', 'letter', \"ual's\", 'ceo', 'leave', 'comment', 'rt', 'http://t.co/o0745apiau']",
         "@united : unhappy united's service read ralph nader's open letter ual's ceo leave comment rt http://t.co/o0745apiau"
        ],
        [
         "7719",
         "negative",
         "@united booked flight in sept to get best price for April to usa, checked now and they are €67 cheaper, what a con unhappy customer #ripoff",
         "['@united', 'booked', 'flight', 'sept', 'get', 'best', 'price', 'april', 'usa', ',', 'checked', '€', '67', 'cheaper', ',', 'con', 'unhappy', 'customer']",
         "29",
         "['@united', 'book', 'flight', 'sept', 'get', 'best', 'price', 'april', 'usa', ',', 'check', '€', '67', 'cheaper', ',', 'con', 'unhappy', 'customer']",
         "@united book flight sept get best price april usa , check € 67 cheaper , con unhappy customer"
        ],
        [
         "8603",
         "negative",
         "@united there are a lot of unhappy cold people on the bridge in freezing temps for an hour. Not given any info.",
         "['@united', 'lot', 'unhappy', 'cold', 'people', 'bridge', 'freezing', 'temps', 'hour', 'given', 'info']",
         "24",
         "['@united', 'lot', 'unhappy', 'cold', 'people', 'bridge', 'freeze', 'temps', 'hour', 'give', 'info']",
         "@united lot unhappy cold people bridge freeze temps hour give info"
        ],
        [
         "8839",
         "negative",
         "@JetBlue Unhappy with 4 hour delayed flight.. Missed dinner",
         "['@jetblue', 'unhappy', '4', 'hour', 'delayed', 'flight', '..', 'missed', 'dinner']",
         "10",
         "['@jetblue', 'unhappy', '4', 'hour', 'delay', 'flight', '..', 'miss', 'dinner']",
         "@jetblue unhappy 4 hour delay flight .. miss dinner"
        ],
        [
         "5847",
         "negative",
         "@united very unhappy at no response to complaint emailed on 2nd Feb ref.8441639. Awful customer service!",
         "['@united', 'unhappy', 'response', 'complaint', 'emailed', '2nd', 'feb', 'ref', '8441639', 'awful', 'customer', 'service']",
         "20",
         "['@united', 'unhappy', 'response', 'complaint', 'email', '2nd', 'feb', 'ref', '8441639', 'awful', 'customer', 'service']",
         "@united unhappy response complaint email 2nd feb ref 8441639 awful customer service"
        ]
       ],
       "shape": {
        "columns": 6,
        "rows": 13
       }
      },
      "text/html": [
       "<div>\n",
       "<style scoped>\n",
       "    .dataframe tbody tr th:only-of-type {\n",
       "        vertical-align: middle;\n",
       "    }\n",
       "\n",
       "    .dataframe tbody tr th {\n",
       "        vertical-align: top;\n",
       "    }\n",
       "\n",
       "    .dataframe thead th {\n",
       "        text-align: right;\n",
       "    }\n",
       "</style>\n",
       "<table border=\"1\" class=\"dataframe\">\n",
       "  <thead>\n",
       "    <tr style=\"text-align: right;\">\n",
       "      <th></th>\n",
       "      <th>sentiment</th>\n",
       "      <th>text</th>\n",
       "      <th>tokens_raw</th>\n",
       "      <th>tweet_length</th>\n",
       "      <th>tokens</th>\n",
       "      <th>textclean</th>\n",
       "    </tr>\n",
       "  </thead>\n",
       "  <tbody>\n",
       "    <tr>\n",
       "      <th>3687</th>\n",
       "      <td>negative</td>\n",
       "      <td>@AmericanAir but, what I can always rely on when I fly USAir or American is that employees will be rude and unhappy.</td>\n",
       "      <td>[@americanair, ,, always, rely, fly, usair, american, employees, rude, unhappy]</td>\n",
       "      <td>24</td>\n",
       "      <td>[@americanair, ,, always, rely, fly, usair, american, employees, rude, unhappy]</td>\n",
       "      <td>@americanair , always rely fly usair american employees rude unhappy</td>\n",
       "    </tr>\n",
       "    <tr>\n",
       "      <th>9501</th>\n",
       "      <td>negative</td>\n",
       "      <td>@united unhappy with your new mileage rules :( - was my main reason to keep flying united. Will have to take my business elsewhere</td>\n",
       "      <td>[@united, unhappy, new, mileage, rules, :(, -, main, reason, keep, flying, united, take, business, elsewhere]</td>\n",
       "      <td>25</td>\n",
       "      <td>[@united, unhappy, new, mileage, rule, :(, -, main, reason, keep, fly, unite, take, business, elsewhere]</td>\n",
       "      <td>@united unhappy new mileage rule :( - main reason keep fly unite take business elsewhere</td>\n",
       "    </tr>\n",
       "    <tr>\n",
       "      <th>6158</th>\n",
       "      <td>negative</td>\n",
       "      <td>@JetBlue You have very unhappy customer. After waiting 20 min on hold, rude &amp;amp; uncaring rep has now frozen my acct. can't print bdng pass!</td>\n",
       "      <td>[@jetblue, unhappy, customer, waiting, 20, min, hold, ,, rude, &amp;, uncaring, rep, frozen, acct, can't, print, bdng, pass]</td>\n",
       "      <td>29</td>\n",
       "      <td>[@jetblue, unhappy, customer, wait, 20, min, hold, ,, rude, &amp;, uncaring, rep, freeze, acct, can't, print, bdng, pass]</td>\n",
       "      <td>@jetblue unhappy customer wait 20 min hold , rude &amp; uncaring rep freeze acct can't print bdng pass</td>\n",
       "    </tr>\n",
       "    <tr>\n",
       "      <th>7871</th>\n",
       "      <td>negative</td>\n",
       "      <td>@united I'm afraid not... I fly or service every week and I'm just unhappy..spend too much money to be unhappy</td>\n",
       "      <td>[@united, afraid, ..., fly, service, every, week, unhappy, .., spend, much, money, unhappy]</td>\n",
       "      <td>23</td>\n",
       "      <td>[@united, afraid, ..., fly, service, every, week, unhappy, .., spend, much, money, unhappy]</td>\n",
       "      <td>@united afraid ... fly service every week unhappy .. spend much money unhappy</td>\n",
       "    </tr>\n",
       "    <tr>\n",
       "      <th>7959</th>\n",
       "      <td>negative</td>\n",
       "      <td>@USAirways Cancelled Flightled due to maintenance. The plane was there for 10 hours. Get your shit together because there are a lot of people unhappy.</td>\n",
       "      <td>[@usairways, cancelled, flightled, due, maintenance, plane, 10, hours, get, shit, together, lot, people, unhappy]</td>\n",
       "      <td>28</td>\n",
       "      <td>[@usairways, cancel, flightled, due, maintenance, plane, 10, hours, get, shit, together, lot, people, unhappy]</td>\n",
       "      <td>@usairways cancel flightled due maintenance plane 10 hours get shit together lot people unhappy</td>\n",
       "    </tr>\n",
       "    <tr>\n",
       "      <th>6813</th>\n",
       "      <td>negative</td>\n",
       "      <td>@AmericanAir but, what I can always rely on when I fly USAir or American is that employees will be rude and unhappy.</td>\n",
       "      <td>[@americanair, ,, always, rely, fly, usair, american, employees, rude, unhappy]</td>\n",
       "      <td>24</td>\n",
       "      <td>[@americanair, ,, always, rely, fly, usair, american, employees, rude, unhappy]</td>\n",
       "      <td>@americanair , always rely fly usair american employees rude unhappy</td>\n",
       "    </tr>\n",
       "    <tr>\n",
       "      <th>6043</th>\n",
       "      <td>negative</td>\n",
       "      <td>@united No but u cld explain how such a disorganized and inefficient company w surly and obviously unhappy employees stays in business.</td>\n",
       "      <td>[@united, u, cld, explain, disorganized, inefficient, company, w, surly, obviously, unhappy, employees, stays, business]</td>\n",
       "      <td>23</td>\n",
       "      <td>[@united, u, cld, explain, disorganize, inefficient, company, w, surly, obviously, unhappy, employees, stay, business]</td>\n",
       "      <td>@united u cld explain disorganize inefficient company w surly obviously unhappy employees stay business</td>\n",
       "    </tr>\n",
       "    <tr>\n",
       "      <th>1281</th>\n",
       "      <td>negative</td>\n",
       "      <td>@united on 4124 arriving two hours Late Flight into CLT. Now sitting on the tarmac while they move a plane from the gate. Unhappy customer.</td>\n",
       "      <td>[@united, 4124, arriving, two, hours, late, flight, clt, sitting, tarmac, move, plane, gate, unhappy, customer]</td>\n",
       "      <td>28</td>\n",
       "      <td>[@united, 4124, arrive, two, hours, late, flight, clt, sit, tarmac, move, plane, gate, unhappy, customer]</td>\n",
       "      <td>@united 4124 arrive two hours late flight clt sit tarmac move plane gate unhappy customer</td>\n",
       "    </tr>\n",
       "    <tr>\n",
       "      <th>530</th>\n",
       "      <td>negative</td>\n",
       "      <td>@united : Unhappy with United's service?\\n\\nRead Ralph Nader's open letter to UAL's CEO.\\n\\nLeave a comment or RT.\\n\\nhttp://t.co/O0745APIau</td>\n",
       "      <td>[@united, :, unhappy, united's, service, read, ralph, nader's, open, letter, ual's, ceo, leave, comment, rt, http://t.co/o0745apiau]</td>\n",
       "      <td>23</td>\n",
       "      <td>[@united, :, unhappy, united's, service, read, ralph, nader's, open, letter, ual's, ceo, leave, comment, rt, http://t.co/o0745apiau]</td>\n",
       "      <td>@united : unhappy united's service read ralph nader's open letter ual's ceo leave comment rt http://t.co/o0745apiau</td>\n",
       "    </tr>\n",
       "    <tr>\n",
       "      <th>7719</th>\n",
       "      <td>negative</td>\n",
       "      <td>@united booked flight in sept to get best price for April to usa, checked now and they are €67 cheaper, what a con unhappy customer #ripoff</td>\n",
       "      <td>[@united, booked, flight, sept, get, best, price, april, usa, ,, checked, €, 67, cheaper, ,, con, unhappy, customer]</td>\n",
       "      <td>29</td>\n",
       "      <td>[@united, book, flight, sept, get, best, price, april, usa, ,, check, €, 67, cheaper, ,, con, unhappy, customer]</td>\n",
       "      <td>@united book flight sept get best price april usa , check € 67 cheaper , con unhappy customer</td>\n",
       "    </tr>\n",
       "    <tr>\n",
       "      <th>8603</th>\n",
       "      <td>negative</td>\n",
       "      <td>@united there are a lot of unhappy cold people on the bridge in freezing temps for an hour. Not given any info.</td>\n",
       "      <td>[@united, lot, unhappy, cold, people, bridge, freezing, temps, hour, given, info]</td>\n",
       "      <td>24</td>\n",
       "      <td>[@united, lot, unhappy, cold, people, bridge, freeze, temps, hour, give, info]</td>\n",
       "      <td>@united lot unhappy cold people bridge freeze temps hour give info</td>\n",
       "    </tr>\n",
       "    <tr>\n",
       "      <th>8839</th>\n",
       "      <td>negative</td>\n",
       "      <td>@JetBlue Unhappy with 4 hour delayed flight.. Missed dinner</td>\n",
       "      <td>[@jetblue, unhappy, 4, hour, delayed, flight, .., missed, dinner]</td>\n",
       "      <td>10</td>\n",
       "      <td>[@jetblue, unhappy, 4, hour, delay, flight, .., miss, dinner]</td>\n",
       "      <td>@jetblue unhappy 4 hour delay flight .. miss dinner</td>\n",
       "    </tr>\n",
       "    <tr>\n",
       "      <th>5847</th>\n",
       "      <td>negative</td>\n",
       "      <td>@united very unhappy at no response to complaint emailed on 2nd Feb ref.8441639. Awful customer service!</td>\n",
       "      <td>[@united, unhappy, response, complaint, emailed, 2nd, feb, ref, 8441639, awful, customer, service]</td>\n",
       "      <td>20</td>\n",
       "      <td>[@united, unhappy, response, complaint, email, 2nd, feb, ref, 8441639, awful, customer, service]</td>\n",
       "      <td>@united unhappy response complaint email 2nd feb ref 8441639 awful customer service</td>\n",
       "    </tr>\n",
       "  </tbody>\n",
       "</table>\n",
       "</div>"
      ],
      "text/plain": [
       "     sentiment  \\\n",
       "3687  negative   \n",
       "9501  negative   \n",
       "6158  negative   \n",
       "7871  negative   \n",
       "7959  negative   \n",
       "6813  negative   \n",
       "6043  negative   \n",
       "1281  negative   \n",
       "530   negative   \n",
       "7719  negative   \n",
       "8603  negative   \n",
       "8839  negative   \n",
       "5847  negative   \n",
       "\n",
       "                                                                                                                                                        text  \\\n",
       "3687                                    @AmericanAir but, what I can always rely on when I fly USAir or American is that employees will be rude and unhappy.   \n",
       "9501                      @united unhappy with your new mileage rules :( - was my main reason to keep flying united. Will have to take my business elsewhere   \n",
       "6158           @JetBlue You have very unhappy customer. After waiting 20 min on hold, rude &amp; uncaring rep has now frozen my acct. can't print bdng pass!   \n",
       "7871                                          @united I'm afraid not... I fly or service every week and I'm just unhappy..spend too much money to be unhappy   \n",
       "7959  @USAirways Cancelled Flightled due to maintenance. The plane was there for 10 hours. Get your shit together because there are a lot of people unhappy.   \n",
       "6813                                    @AmericanAir but, what I can always rely on when I fly USAir or American is that employees will be rude and unhappy.   \n",
       "6043                 @united No but u cld explain how such a disorganized and inefficient company w surly and obviously unhappy employees stays in business.   \n",
       "1281             @united on 4124 arriving two hours Late Flight into CLT. Now sitting on the tarmac while they move a plane from the gate. Unhappy customer.   \n",
       "530             @united : Unhappy with United's service?\\n\\nRead Ralph Nader's open letter to UAL's CEO.\\n\\nLeave a comment or RT.\\n\\nhttp://t.co/O0745APIau   \n",
       "7719             @united booked flight in sept to get best price for April to usa, checked now and they are €67 cheaper, what a con unhappy customer #ripoff   \n",
       "8603                                         @united there are a lot of unhappy cold people on the bridge in freezing temps for an hour. Not given any info.   \n",
       "8839                                                                                             @JetBlue Unhappy with 4 hour delayed flight.. Missed dinner   \n",
       "5847                                                @united very unhappy at no response to complaint emailed on 2nd Feb ref.8441639. Awful customer service!   \n",
       "\n",
       "                                                                                                                                tokens_raw  \\\n",
       "3687                                                       [@americanair, ,, always, rely, fly, usair, american, employees, rude, unhappy]   \n",
       "9501                         [@united, unhappy, new, mileage, rules, :(, -, main, reason, keep, flying, united, take, business, elsewhere]   \n",
       "6158              [@jetblue, unhappy, customer, waiting, 20, min, hold, ,, rude, &, uncaring, rep, frozen, acct, can't, print, bdng, pass]   \n",
       "7871                                           [@united, afraid, ..., fly, service, every, week, unhappy, .., spend, much, money, unhappy]   \n",
       "7959                     [@usairways, cancelled, flightled, due, maintenance, plane, 10, hours, get, shit, together, lot, people, unhappy]   \n",
       "6813                                                       [@americanair, ,, always, rely, fly, usair, american, employees, rude, unhappy]   \n",
       "6043              [@united, u, cld, explain, disorganized, inefficient, company, w, surly, obviously, unhappy, employees, stays, business]   \n",
       "1281                       [@united, 4124, arriving, two, hours, late, flight, clt, sitting, tarmac, move, plane, gate, unhappy, customer]   \n",
       "530   [@united, :, unhappy, united's, service, read, ralph, nader's, open, letter, ual's, ceo, leave, comment, rt, http://t.co/o0745apiau]   \n",
       "7719                  [@united, booked, flight, sept, get, best, price, april, usa, ,, checked, €, 67, cheaper, ,, con, unhappy, customer]   \n",
       "8603                                                     [@united, lot, unhappy, cold, people, bridge, freezing, temps, hour, given, info]   \n",
       "8839                                                                     [@jetblue, unhappy, 4, hour, delayed, flight, .., missed, dinner]   \n",
       "5847                                    [@united, unhappy, response, complaint, emailed, 2nd, feb, ref, 8441639, awful, customer, service]   \n",
       "\n",
       "      tweet_length  \\\n",
       "3687            24   \n",
       "9501            25   \n",
       "6158            29   \n",
       "7871            23   \n",
       "7959            28   \n",
       "6813            24   \n",
       "6043            23   \n",
       "1281            28   \n",
       "530             23   \n",
       "7719            29   \n",
       "8603            24   \n",
       "8839            10   \n",
       "5847            20   \n",
       "\n",
       "                                                                                                                                    tokens  \\\n",
       "3687                                                       [@americanair, ,, always, rely, fly, usair, american, employees, rude, unhappy]   \n",
       "9501                              [@united, unhappy, new, mileage, rule, :(, -, main, reason, keep, fly, unite, take, business, elsewhere]   \n",
       "6158                 [@jetblue, unhappy, customer, wait, 20, min, hold, ,, rude, &, uncaring, rep, freeze, acct, can't, print, bdng, pass]   \n",
       "7871                                           [@united, afraid, ..., fly, service, every, week, unhappy, .., spend, much, money, unhappy]   \n",
       "7959                        [@usairways, cancel, flightled, due, maintenance, plane, 10, hours, get, shit, together, lot, people, unhappy]   \n",
       "6813                                                       [@americanair, ,, always, rely, fly, usair, american, employees, rude, unhappy]   \n",
       "6043                [@united, u, cld, explain, disorganize, inefficient, company, w, surly, obviously, unhappy, employees, stay, business]   \n",
       "1281                             [@united, 4124, arrive, two, hours, late, flight, clt, sit, tarmac, move, plane, gate, unhappy, customer]   \n",
       "530   [@united, :, unhappy, united's, service, read, ralph, nader's, open, letter, ual's, ceo, leave, comment, rt, http://t.co/o0745apiau]   \n",
       "7719                      [@united, book, flight, sept, get, best, price, april, usa, ,, check, €, 67, cheaper, ,, con, unhappy, customer]   \n",
       "8603                                                        [@united, lot, unhappy, cold, people, bridge, freeze, temps, hour, give, info]   \n",
       "8839                                                                         [@jetblue, unhappy, 4, hour, delay, flight, .., miss, dinner]   \n",
       "5847                                      [@united, unhappy, response, complaint, email, 2nd, feb, ref, 8441639, awful, customer, service]   \n",
       "\n",
       "                                                                                                                textclean  \n",
       "3687                                                 @americanair , always rely fly usair american employees rude unhappy  \n",
       "9501                             @united unhappy new mileage rule :( - main reason keep fly unite take business elsewhere  \n",
       "6158                   @jetblue unhappy customer wait 20 min hold , rude & uncaring rep freeze acct can't print bdng pass  \n",
       "7871                                        @united afraid ... fly service every week unhappy .. spend much money unhappy  \n",
       "7959                      @usairways cancel flightled due maintenance plane 10 hours get shit together lot people unhappy  \n",
       "6813                                                 @americanair , always rely fly usair american employees rude unhappy  \n",
       "6043              @united u cld explain disorganize inefficient company w surly obviously unhappy employees stay business  \n",
       "1281                            @united 4124 arrive two hours late flight clt sit tarmac move plane gate unhappy customer  \n",
       "530   @united : unhappy united's service read ralph nader's open letter ual's ceo leave comment rt http://t.co/o0745apiau  \n",
       "7719                        @united book flight sept get best price april usa , check € 67 cheaper , con unhappy customer  \n",
       "8603                                                   @united lot unhappy cold people bridge freeze temps hour give info  \n",
       "8839                                                                  @jetblue unhappy 4 hour delay flight .. miss dinner  \n",
       "5847                                  @united unhappy response complaint email 2nd feb ref 8441639 awful customer service  "
      ]
     },
     "execution_count": 16,
     "metadata": {},
     "output_type": "execute_result"
    }
   ],
   "source": [
    "rows_w_word2 = np.where(X_np[:, word2_idx] == 1)[0]\n",
    "print(rows_w_word2)\n",
    "df.iloc[rows_w_word2,]"
   ]
  },
  {
   "cell_type": "markdown",
   "metadata": {},
   "source": [
    "Confirm that the input, `X`, has n rows and a column for each word (token) in the vocabulary. "
   ]
  },
  {
   "cell_type": "code",
   "execution_count": 17,
   "metadata": {},
   "outputs": [
    {
     "data": {
      "text/plain": [
       "torch.Size([9000, 3842])"
      ]
     },
     "execution_count": 17,
     "metadata": {},
     "output_type": "execute_result"
    }
   ],
   "source": [
    "X = torch.tensor(X_np).float()\n",
    "X.size()"
   ]
  },
  {
   "cell_type": "code",
   "execution_count": 18,
   "metadata": {},
   "outputs": [
    {
     "data": {
      "text/plain": [
       "0\n",
       "0    3827\n",
       "1      15\n",
       "Name: count, dtype: int64"
      ]
     },
     "execution_count": 18,
     "metadata": {},
     "output_type": "execute_result"
    }
   ],
   "source": [
    "# look at one observation and see how may tokens there are (i.e. how many 1's are in the row, and how many 0's)\n",
    "pd.DataFrame(X_np[1,:]).value_counts()"
   ]
  },
  {
   "cell_type": "code",
   "execution_count": 19,
   "metadata": {},
   "outputs": [
    {
     "name": "stdout",
     "output_type": "stream",
     "text": [
      "label dictionary: {'positive': 0, 'neutral': 1, 'negative': 2}\n"
     ]
    }
   ],
   "source": [
    "labels = df['sentiment'].unique()\n",
    "enum_labels = enumerate(labels)\n",
    "label_to_idx = dict((lab, i) for i,lab in enum_labels)\n",
    "print(f\"label dictionary: {label_to_idx}\")\n",
    "y = torch.tensor([label_to_idx[lab] for lab in df['sentiment']])"
   ]
  },
  {
   "cell_type": "code",
   "execution_count": 20,
   "metadata": {},
   "outputs": [],
   "source": [
    "class AirlineTweetDataset(Dataset):\n",
    "    def __init__(self, observations, labels):\n",
    "        self.obs = observations\n",
    "        self.labs = labels\n",
    "        self.create_split(len(observations))\n",
    "\n",
    "    def create_split(self, n, seed=2, train_perc=0.7):\n",
    "        random.seed(seed)\n",
    "        indices = list(range(n))\n",
    "        random.shuffle(indices)\n",
    "        self._train_ids = list(indices[:int(n * train_perc)])\n",
    "        self._test_ids = list(indices[int(n * train_perc):])\n",
    "        self._split_X = self.obs[self._train_ids]\n",
    "        self._split_y = self.labs[self._train_ids]\n",
    "\n",
    "    def set_split(self, split='train'):\n",
    "        if split == 'train':\n",
    "            self._split_X = self.obs[self._train_ids]\n",
    "            self._split_y = self.labs[self._train_ids]\n",
    "        else:\n",
    "            self._split_X = self.obs[self._test_ids]\n",
    "            self._split_y = self.labs[self._test_ids]\n",
    "\n",
    "    def __len__(self):\n",
    "        return len(self._split_y)\n",
    "\n",
    "    def __getitem__(self, idx):\n",
    "        return {'x':self._split_X[idx], 'y':self._split_y[idx]}\n",
    "    \n",
    "    def get_num_batches(self, batch_size):\n",
    "        return len(self) // batch_size\n",
    "\n",
    "dataset = AirlineTweetDataset(X, y)\n",
    "dataset.create_split(len(X), seed=42, train_perc=0.85)"
   ]
  },
  {
   "cell_type": "code",
   "execution_count": 21,
   "metadata": {},
   "outputs": [
    {
     "name": "stdout",
     "output_type": "stream",
     "text": [
      "len(dataset) = 7650\n"
     ]
    },
    {
     "data": {
      "text/plain": [
       "tensor([0., 0., 0.,  ..., 0., 0., 0.])"
      ]
     },
     "execution_count": 21,
     "metadata": {},
     "output_type": "execute_result"
    }
   ],
   "source": [
    "dataset.set_split('train')\n",
    "print(f\"len(dataset) = {len(dataset)}\")\n",
    "#len(dataset[:]['x'])\n",
    "dataset[0]['x']"
   ]
  },
  {
   "cell_type": "markdown",
   "metadata": {},
   "source": [
    "Confirm that there are no NaN, and that all numerical values are finite. "
   ]
  },
  {
   "cell_type": "code",
   "execution_count": 22,
   "metadata": {},
   "outputs": [
    {
     "data": {
      "text/plain": [
       "array([0., 0., 0., 0., 0.], dtype=float32)"
      ]
     },
     "execution_count": 22,
     "metadata": {},
     "output_type": "execute_result"
    }
   ],
   "source": [
    "dataset[:]['x'].numpy()[0,:5]"
   ]
  },
  {
   "cell_type": "code",
   "execution_count": 23,
   "metadata": {},
   "outputs": [],
   "source": [
    "assert not np.any(np.isnan(dataset[:]['x'].numpy()))\n",
    "assert np.all(np.isfinite(dataset[:]['x'].numpy()))"
   ]
  },
  {
   "cell_type": "code",
   "execution_count": 24,
   "metadata": {},
   "outputs": [],
   "source": [
    "class AirlineTweetClassifier(nn.Module):\n",
    "    \"\"\" A 2-layer Multilayer Perceptron for classifying surnames \"\"\"\n",
    "    def __init__(self, input_dim, hidden_dim, output_dim):\n",
    "        \"\"\"\n",
    "        Args:\n",
    "            input_dim (int): the size of the input embeddings\n",
    "            hidden_dim (int): the output size of the first Linear layer\n",
    "            output_dim (int): the output size of the second Linear layer\n",
    "        \"\"\"\n",
    "        super(AirlineTweetClassifier, self).__init__()\n",
    "\n",
    "        self.fc1 = nn.Linear(input_dim, hidden_dim)\n",
    "        self.fc2 = nn.Linear(hidden_dim, 32)\n",
    "        self.fc3 = nn.Linear(32, output_dim)\n",
    "        self.dropout = nn.Dropout(0.5)\n",
    "\n",
    "    def forward(self, x_in, apply_softmax=False):\n",
    "        \"\"\"The forward pass of the classifier\n",
    "        \n",
    "        Args:\n",
    "            x_in (torch.Tensor): an input data tensor. \n",
    "                x_in.shape should be (batch, input_dim)\n",
    "            apply_softmax (bool): a flag for the softmax activation\n",
    "                should be false if used with the Cross Entropy losses\n",
    "        Returns:\n",
    "            the resulting tensor. tensor.shape should be (batch, output_dim)\n",
    "        \"\"\"\n",
    "        intermediate_vector = F.relu(self.fc1(x_in))\n",
    "\n",
    "        intermediate_vector = F.relu(self.fc2(intermediate_vector))\n",
    "        intermediate_vector = self.dropout(intermediate_vector)\n",
    "\n",
    "        prediction_vector = self.fc3(intermediate_vector)\n",
    "\n",
    "        if apply_softmax:\n",
    "            prediction_vector = F.softmax(prediction_vector, dim=1)\n",
    "\n",
    "        return prediction_vector"
   ]
  },
  {
   "cell_type": "markdown",
   "metadata": {},
   "source": [
    "#### Hyperparameters for model with one-hot encoded inputs"
   ]
  },
  {
   "cell_type": "code",
   "execution_count": 25,
   "metadata": {},
   "outputs": [],
   "source": [
    "batch_size = 32\n",
    "learning_rate = 0.001\n",
    "num_epochs = 20\n",
    "device = 'cpu'"
   ]
  },
  {
   "cell_type": "markdown",
   "metadata": {},
   "source": [
    "Take one quick look at the size of the training and validation splits."
   ]
  },
  {
   "cell_type": "code",
   "execution_count": 26,
   "metadata": {},
   "outputs": [],
   "source": [
    "seed = 2\n",
    "np.random.seed(seed)\n",
    "torch.manual_seed(seed)\n",
    "random.seed(seed)\n",
    "\n",
    "# create the dataset, model and define loss function and optimizer\n",
    "dataloader = DataLoader(dataset=dataset, batch_size=batch_size, shuffle=True)\n",
    "model = AirlineTweetClassifier(len(dataset[0]['x']), 128, 3)\n",
    "loss_fun = nn.CrossEntropyLoss()#weights)\n",
    "optimizer = torch.optim.Adam(model.parameters(), lr=learning_rate)"
   ]
  },
  {
   "cell_type": "code",
   "execution_count": 27,
   "metadata": {},
   "outputs": [
    {
     "name": "stdout",
     "output_type": "stream",
     "text": [
      "7680\n",
      "1376\n"
     ]
    }
   ],
   "source": [
    "dataset.set_split('train')\n",
    "print(len(dataloader) * batch_size)\n",
    "dataset.set_split('val')\n",
    "print(len(dataloader) * batch_size)"
   ]
  },
  {
   "cell_type": "code",
   "execution_count": 28,
   "metadata": {},
   "outputs": [
    {
     "data": {
      "application/vnd.jupyter.widget-view+json": {
       "model_id": "59ea067657a84c4b84ecff63280797ce",
       "version_major": 2,
       "version_minor": 0
      },
      "text/plain": [
       "training routine:   0%|          | 0/20 [00:00<?, ?it/s]"
      ]
     },
     "metadata": {},
     "output_type": "display_data"
    },
    {
     "data": {
      "application/vnd.jupyter.widget-view+json": {
       "model_id": "473af709478c4e39b315bfe51fe84e77",
       "version_major": 2,
       "version_minor": 0
      },
      "text/plain": [
       "split=train:   0%|          | 0/239 [00:00<?, ?it/s]"
      ]
     },
     "metadata": {},
     "output_type": "display_data"
    },
    {
     "data": {
      "application/vnd.jupyter.widget-view+json": {
       "model_id": "9b6aecfe45dd4e55999c86ea55a9420b",
       "version_major": 2,
       "version_minor": 0
      },
      "text/plain": [
       "split=val:   0%|          | 0/42 [00:00<?, ?it/s]"
      ]
     },
     "metadata": {},
     "output_type": "display_data"
    }
   ],
   "source": [
    "from tqdm.notebook import tqdm\n",
    "\n",
    "epoch_bar = tqdm(desc='training routine', total=num_epochs, position=0)\n",
    "\n",
    "dataset.set_split('train')\n",
    "train_bar = tqdm(desc='split=train', total=dataset.get_num_batches(batch_size), position=1, leave=True)\n",
    "\n",
    "dataset.set_split('val')\n",
    "val_bar = tqdm(desc='split=val', total=dataset.get_num_batches(batch_size), position=1, leave=True)\n",
    "\n",
    "losses = {'train':[], 'val':[]}\n",
    "\n",
    "for epoch in range(num_epochs):\n",
    "\n",
    "    dataset.set_split('train')\n",
    "    model.train()\n",
    "    running_loss_train = 0.0\n",
    "\n",
    "    for batch_i, batch_data in enumerate(dataloader):  \n",
    "        tweets = batch_data['x'].to(device)\n",
    "        labels = batch_data['y'].to(device)\n",
    "        \n",
    "        # forward\n",
    "        outputs = model(tweets)\n",
    "        loss = loss_fun(outputs, labels)\n",
    "        losses['train'].append(loss.item())\n",
    "        running_loss_train += loss.item()\n",
    "        \t\n",
    "        # backward and optimize\n",
    "        optimizer.zero_grad()\n",
    "        loss.backward()\n",
    "        optimizer.step()\n",
    "        \t\t\n",
    "        #if (batch_i+1) % 10 == 0:\n",
    "        #    print(f\"    train batch {batch_i+1:3.0f} (of {len(dataloader):3.0f}) loss: {loss.item():.4f}\")\n",
    "            # update bar\n",
    "        train_bar.set_postfix(loss=running_loss_train, epoch=epoch)\n",
    "        train_bar.update()\n",
    "\n",
    "    train_bar.set_postfix(loss=running_loss_train/dataset.get_num_batches(batch_size), epoch=epoch)\n",
    "    train_bar.update()\n",
    "\n",
    "\n",
    "    running_loss_train = running_loss_train / len(dataset)\n",
    "\n",
    "    dataset.set_split('val')\n",
    "    model.eval() # turn off the automatic differentiation \n",
    "    running_loss_val = 0.0\n",
    "\n",
    "    for batch_i, batch_data in enumerate(dataloader):  \n",
    "        tweets = batch_data['x'].to(device)\n",
    "        labels = batch_data['y'].to(device)\n",
    "\n",
    "        \n",
    "        # forward (no backward step for validation data)\n",
    "        outputs = model(tweets)\n",
    "        loss = loss_fun(outputs, labels)\n",
    "        losses['val'].append(loss.item())\n",
    "        running_loss_val += loss.item()\n",
    "        #if (batch_i+1) % 20 == 0:\n",
    "        #    print(f\"    valid batch {i+1:3.0f} (of {len(dataloader):3.0f}) loss: {loss.item():.4f}\")\n",
    "        val_bar.set_postfix(loss=running_loss_val, epoch=epoch)\n",
    "        val_bar.update()\n",
    "\n",
    "    val_bar.set_postfix(loss=running_loss_val/dataset.get_num_batches(batch_size), epoch=epoch)\n",
    "    val_bar.update()\n",
    "\n",
    "    train_bar.n = 0\n",
    "    val_bar.n = 0\n",
    "    epoch_bar.update()\n",
    "\n",
    "    running_loss_val = running_loss_val / len(dataset)\n"
   ]
  },
  {
   "cell_type": "code",
   "execution_count": 29,
   "metadata": {
    "scrolled": true
   },
   "outputs": [
    {
     "data": {
      "text/plain": [
       "<matplotlib.legend.Legend at 0x174fc6210>"
      ]
     },
     "execution_count": 29,
     "metadata": {},
     "output_type": "execute_result"
    },
    {
     "data": {
      "image/png": "[encoded data removed]",
      "text/plain": [
       "<Figure size 1500x400 with 1 Axes>"
      ]
     },
     "metadata": {},
     "output_type": "display_data"
    }
   ],
   "source": [
    "matplotlib.rc('figure', figsize=(15,4))\n",
    "val_ticks = [(i+1)*len(losses['train'])/len(losses['val']) for i in range(len(losses['val']))]\n",
    "plt.plot(range(len(losses['train'])), losses['train'], c='blue', lw=0.75)\n",
    "plt.plot(val_ticks, losses['val'], c='orange', lw=0.75)\n",
    "for i in range(num_epochs):\n",
    "    plt.axvline(x=i*len(losses['train'])/num_epochs, c='black', lw=0.25, alpha=0.5)\n",
    "plt.ylabel('Loss')\n",
    "plt.xlabel('Epoch and Batch')\n",
    "plt.legend(('Train','Validation'))"
   ]
  },
  {
   "cell_type": "markdown",
   "metadata": {},
   "source": [
    "note that the training loss is decreasing while the validation loss is erratic. This is a sign of overfitting, meaning that the model is learning every detail in the training data, including the noise"
   ]
  },
  {
   "cell_type": "code",
   "execution_count": 30,
   "metadata": {},
   "outputs": [
    {
     "name": "stdout",
     "output_type": "stream",
     "text": [
      "Accuracy (on 1376 validation tweets): 80.22%\n"
     ]
    }
   ],
   "source": [
    "# Test the model on full validation set\n",
    "dataset.set_split('val')\n",
    "\n",
    "y_true = []\n",
    "y_pred = []\n",
    "with torch.no_grad():\n",
    "    correct = 0\n",
    "    total = 0\n",
    "    for batch_data in dataloader:\n",
    "        tweets = batch_data['x'].to(device)\n",
    "        labels = batch_data['y'].to(device)\n",
    "        outputs = model(tweets)\n",
    "        _, predicted = torch.max(outputs.data, 1)\n",
    "        y_true += labels.tolist()\n",
    "        y_pred += predicted.tolist()\n",
    "        total += labels.size(0)\n",
    "        correct += (predicted == labels).sum().item()\n",
    "\n",
    "    print(f\"Accuracy (on {len(dataloader)*batch_size} validation tweets): {100 * correct / total:.2f}%\")\n",
    "\t "
   ]
  },
  {
   "cell_type": "code",
   "execution_count": 31,
   "metadata": {},
   "outputs": [
    {
     "data": {
      "text/plain": [
       "<sklearn.metrics._plot.confusion_matrix.ConfusionMatrixDisplay at 0x175ed7010>"
      ]
     },
     "execution_count": 31,
     "metadata": {},
     "output_type": "execute_result"
    },
    {
     "data": {
      "image/png": "[encoded data removed]",
      "text/plain": [
       "<Figure size 1500x400 with 2 Axes>"
      ]
     },
     "metadata": {},
     "output_type": "display_data"
    }
   ],
   "source": [
    "from sklearn.metrics import confusion_matrix, ConfusionMatrixDisplay\n",
    "cm = confusion_matrix(y_true, y_pred)\n",
    "disp = ConfusionMatrixDisplay(cm, display_labels=['positive','negative','neutral'])\n",
    "disp.plot()"
   ]
  },
  {
   "cell_type": "code",
   "execution_count": 32,
   "metadata": {},
   "outputs": [
    {
     "data": {
      "text/plain": [
       "==========================================================================================\n",
       "Layer (type:depth-idx)                   Output Shape              Param #\n",
       "==========================================================================================\n",
       "AirlineTweetClassifier                   [3]                       --\n",
       "├─Linear: 1-1                            [128]                     491,904\n",
       "├─Linear: 1-2                            [32]                      4,128\n",
       "├─Dropout: 1-3                           [32]                      --\n",
       "├─Linear: 1-4                            [3]                       99\n",
       "==========================================================================================\n",
       "Total params: 496,131\n",
       "Trainable params: 496,131\n",
       "Non-trainable params: 0\n",
       "Total mult-adds (Units.MEGABYTES): 63.10\n",
       "==========================================================================================\n",
       "Input size (MB): 0.02\n",
       "Forward/backward pass size (MB): 0.00\n",
       "Params size (MB): 1.98\n",
       "Estimated Total Size (MB): 2.00\n",
       "=========================================================================================="
      ]
     },
     "execution_count": 32,
     "metadata": {},
     "output_type": "execute_result"
    }
   ],
   "source": [
    "import torchinfo\n",
    "torchinfo.summary(model, tuple(dataset[0]['x'].size()))"
   ]
  },
  {
   "cell_type": "markdown",
   "metadata": {},
   "source": [
    "Let's now retrieve the weight parameters that are associated with the words (i.e. tokens) that have similar meaning, \"great\", \"amazing\", \"incredible\". These words were in the vocabulary at following locations.\n",
    "* index for 'great': 4140\n",
    "* index for 'incredible': 4608\n",
    "* index for 'terrific': 7896"
   ]
  },
  {
   "cell_type": "code",
   "execution_count": 33,
   "metadata": {},
   "outputs": [
    {
     "name": "stdout",
     "output_type": "stream",
     "text": [
      "first model layer has weight matrix with shape = torch.Size([128, 3842])\n"
     ]
    }
   ],
   "source": [
    "fc1_weights = model.fc1.weight.data\n",
    "print(f\"first model layer has weight matrix with shape = {fc1_weights.shape}\")"
   ]
  },
  {
   "cell_type": "code",
   "execution_count": 34,
   "metadata": {},
   "outputs": [
    {
     "name": "stdout",
     "output_type": "stream",
     "text": [
      "word1 index: 2323\n",
      "  fc1_weights[0,[2322, 2323, 2324]]: tensor([0.0772, 0.0584, 0.0852])\n",
      "word2 index: 3602\n",
      "  fc1_weights[0,[3601, 3602, 3603]]: tensor([0.0501, 0.1521, 0.1053])\n"
     ]
    }
   ],
   "source": [
    "#wonderful_idx = vocab['wonderful']\n",
    "#incredible_idx = vocab['incredible']\n",
    "unit_i = 0\n",
    "print(f\"word1 index: {word1_idx}\")\n",
    "print(f\"  fc1_weights[{unit_i},{[word1_idx-1,word1_idx, word1_idx+1]}]: {fc1_weights[unit_i,word1_idx-1:word1_idx+2]}\")\n",
    "print(f\"word2 index: {word2_idx}\")\n",
    "print(f\"  fc1_weights[{unit_i},{[word2_idx-1,word2_idx, word2_idx+1]}]: {fc1_weights[unit_i,word2_idx-1:word2_idx+2]}\")"
   ]
  },
  {
   "cell_type": "code",
   "execution_count": 35,
   "metadata": {},
   "outputs": [],
   "source": [
    "diffs = {\"cont1\":[], \"word1_vs_word2\":[], \"cont2\":[]}\n",
    "for i in range(128):\n",
    "    diffs[\"cont1\"].append(abs(fc1_weights[i,word1_idx-1] - fc1_weights[i,word2_idx-1]))\n",
    "    diffs[\"word1_vs_word2\"].append(abs(fc1_weights[i,word1_idx] - fc1_weights[i,word2_idx]))\n",
    "    diffs[\"cont2\"].append(abs(fc1_weights[i,word1_idx+1] - fc1_weights[i,word2_idx+1]))\n",
    "\n",
    "# convert each list to a numpy array\n",
    "for key in diffs:\n",
    "    diffs[key] = np.array(diffs[key])"
   ]
  },
  {
   "cell_type": "code",
   "execution_count": 36,
   "metadata": {},
   "outputs": [
    {
     "data": {
      "application/vnd.microsoft.datawrangler.viewer.v0+json": {
       "columns": [
        {
         "name": "index",
         "rawType": "object",
         "type": "string"
        },
        {
         "name": "cont1",
         "rawType": "float64",
         "type": "float"
        },
        {
         "name": "word1_vs_word2",
         "rawType": "float64",
         "type": "float"
        },
        {
         "name": "cont2",
         "rawType": "float64",
         "type": "float"
        }
       ],
       "conversionMethod": "pd.DataFrame",
       "ref": "8f1b5cf1-6749-47eb-b1aa-f02f371b66c9",
       "rows": [
        [
         "count",
         "128.0",
         "128.0",
         "128.0"
        ],
        [
         "mean",
         "0.024630973115563393",
         "0.06269477307796478",
         "0.049478668719530106"
        ],
        [
         "std",
         "0.01540527492761612",
         "0.025179145857691765",
         "0.026340236887335777"
        ],
        [
         "min",
         "0.0002494826912879944",
         "0.0018502883613109589",
         "0.0008662566542625427"
        ],
        [
         "25%",
         "0.01175422128289938",
         "0.04637056402862072",
         "0.02953770523890853"
        ],
        [
         "50%",
         "0.024361636489629745",
         "0.06578221544623375",
         "0.04556998051702976"
        ],
        [
         "75%",
         "0.03462274093180895",
         "0.08034771680831909",
         "0.06451771035790443"
        ],
        [
         "max",
         "0.08811749517917633",
         "0.11491775512695312",
         "0.12238642573356628"
        ]
       ],
       "shape": {
        "columns": 3,
        "rows": 8
       }
      },
      "text/html": [
       "<div>\n",
       "<style scoped>\n",
       "    .dataframe tbody tr th:only-of-type {\n",
       "        vertical-align: middle;\n",
       "    }\n",
       "\n",
       "    .dataframe tbody tr th {\n",
       "        vertical-align: top;\n",
       "    }\n",
       "\n",
       "    .dataframe thead th {\n",
       "        text-align: right;\n",
       "    }\n",
       "</style>\n",
       "<table border=\"1\" class=\"dataframe\">\n",
       "  <thead>\n",
       "    <tr style=\"text-align: right;\">\n",
       "      <th></th>\n",
       "      <th>cont1</th>\n",
       "      <th>word1_vs_word2</th>\n",
       "      <th>cont2</th>\n",
       "    </tr>\n",
       "  </thead>\n",
       "  <tbody>\n",
       "    <tr>\n",
       "      <th>count</th>\n",
       "      <td>128.000000</td>\n",
       "      <td>128.000000</td>\n",
       "      <td>128.000000</td>\n",
       "    </tr>\n",
       "    <tr>\n",
       "      <th>mean</th>\n",
       "      <td>0.024631</td>\n",
       "      <td>0.062695</td>\n",
       "      <td>0.049479</td>\n",
       "    </tr>\n",
       "    <tr>\n",
       "      <th>std</th>\n",
       "      <td>0.015405</td>\n",
       "      <td>0.025179</td>\n",
       "      <td>0.026340</td>\n",
       "    </tr>\n",
       "    <tr>\n",
       "      <th>min</th>\n",
       "      <td>0.000249</td>\n",
       "      <td>0.001850</td>\n",
       "      <td>0.000866</td>\n",
       "    </tr>\n",
       "    <tr>\n",
       "      <th>25%</th>\n",
       "      <td>0.011754</td>\n",
       "      <td>0.046371</td>\n",
       "      <td>0.029538</td>\n",
       "    </tr>\n",
       "    <tr>\n",
       "      <th>50%</th>\n",
       "      <td>0.024362</td>\n",
       "      <td>0.065782</td>\n",
       "      <td>0.045570</td>\n",
       "    </tr>\n",
       "    <tr>\n",
       "      <th>75%</th>\n",
       "      <td>0.034623</td>\n",
       "      <td>0.080348</td>\n",
       "      <td>0.064518</td>\n",
       "    </tr>\n",
       "    <tr>\n",
       "      <th>max</th>\n",
       "      <td>0.088117</td>\n",
       "      <td>0.114918</td>\n",
       "      <td>0.122386</td>\n",
       "    </tr>\n",
       "  </tbody>\n",
       "</table>\n",
       "</div>"
      ],
      "text/plain": [
       "            cont1  word1_vs_word2       cont2\n",
       "count  128.000000      128.000000  128.000000\n",
       "mean     0.024631        0.062695    0.049479\n",
       "std      0.015405        0.025179    0.026340\n",
       "min      0.000249        0.001850    0.000866\n",
       "25%      0.011754        0.046371    0.029538\n",
       "50%      0.024362        0.065782    0.045570\n",
       "75%      0.034623        0.080348    0.064518\n",
       "max      0.088117        0.114918    0.122386"
      ]
     },
     "execution_count": 36,
     "metadata": {},
     "output_type": "execute_result"
    }
   ],
   "source": [
    "# generate summary statistics for the differences for weight values \n",
    "diffs_df = pd.DataFrame(diffs)\n",
    "diffs_df.describe()"
   ]
  },
  {
   "cell_type": "code",
   "execution_count": 37,
   "metadata": {},
   "outputs": [
    {
     "name": "stdout",
     "output_type": "stream",
     "text": [
      "word at index 3603: unhelpful\n",
      "word at index 3601: unfriendly\n",
      "word at index 2324: miserably\n",
      "word at index 2322: miracle\n"
     ]
    }
   ],
   "source": [
    "vocab = count_vectorizer.vocabulary_\n",
    "\n",
    "# find which key vocab is associated with the index 4139\n",
    "for key, value in vocab.items():\n",
    "    if value == word1_idx-1:\n",
    "        w_at_incredible_idx_minus_1 = key\n",
    "        print(f\"word at index {word1_idx-1}: {key}\")\n",
    "    if value == word2_idx-1:\n",
    "        w_at_wonderful_idx_minus_1 = key\n",
    "        print(f\"word at index {word2_idx-1}: {key}\")\n",
    "    if value == word1_idx+1:\n",
    "        w_at_incredible_idx_plus_1 = key\n",
    "        print(f\"word at index {word1_idx+1}: {key}\")\n",
    "    if value == word2_idx+1:\n",
    "        w_at_wonderful_idx_plus_1 = key\n",
    "        print(f\"word at index {word2_idx+1}: {key}\")\n",
    "\n"
   ]
  },
  {
   "cell_type": "code",
   "execution_count": 38,
   "metadata": {},
   "outputs": [
    {
     "data": {
      "image/png": "[encoded data removed]",
      "text/plain": [
       "<Figure size 1200x400 with 3 Axes>"
      ]
     },
     "metadata": {},
     "output_type": "display_data"
    }
   ],
   "source": [
    "# plots of the differences as three different histograms\n",
    "plt.figure(figsize=(12,4))\n",
    "plt.subplot(1,3,1)\n",
    "plt.hist(diffs[\"cont1\"], bins=20)\n",
    "# set x-axis limits to be the same for all three plots\n",
    "plt.xlim(0,0.4)\n",
    "plt.title(f\"cont1: {w_at_incredible_idx_minus_1} vs {w_at_wonderful_idx_minus_1}\")\n",
    "plt.subplot(1,3,2)\n",
    "plt.hist(diffs[\"word1_vs_word2\"], bins=20)\n",
    "plt.xlim(0,0.4)\n",
    "plt.title(f\"{word1} vs {word2}\")\n",
    "plt.subplot(1,3,3)\n",
    "plt.hist(diffs[\"cont2\"], bins=20)\n",
    "plt.xlim(0,0.4)\n",
    "plt.title(f\"cont2: {w_at_incredible_idx_plus_1} vs {w_at_wonderful_idx_plus_1}\")\n",
    "plt.show()\n"
   ]
  },
  {
   "cell_type": "code",
   "execution_count": 39,
   "metadata": {},
   "outputs": [
    {
     "data": {
      "text/plain": [
       "3842"
      ]
     },
     "execution_count": 39,
     "metadata": {},
     "output_type": "execute_result"
    }
   ],
   "source": [
    "# length of an input is\n",
    "len(dataset[0]['x'])"
   ]
  },
  {
   "cell_type": "code",
   "execution_count": 49,
   "metadata": {},
   "outputs": [
    {
     "name": "stdout",
     "output_type": "stream",
     "text": [
      "[-0.38497   0.80092   0.064106 -0.28355  -0.026759 -0.34532  -0.64253\n",
      " -0.11729  -0.33257   0.55243  -0.087813  0.9035    0.47102   0.56657\n",
      "  0.6985   -0.35229  -0.86542   0.90573   0.03576  -0.071705 -0.12327\n",
      "  0.54923   0.47005   0.35572   1.2611   -0.67581  -0.94983   0.68666\n",
      "  0.3871   -1.3492    0.63512   0.46416  -0.48814   0.83827  -0.9246\n",
      " -0.33722   0.53741  -1.0616   -0.081403 -0.67111   0.30923  -0.3923\n",
      " -0.55002  -0.68827   0.58049  -0.11626   0.013139 -0.57654   0.048833\n",
      "  0.67204 ]\n"
     ]
    }
   ],
   "source": [
    "# import torchtext as text\n",
    "# vec = text.vocab.GloVe(name='6B', dim=50)\n",
    "import numpy as np\n",
    "\n",
    "def load_glove_embeddings(file_path, dim=50):\n",
    "    embeddings = {}\n",
    "    with open(file_path, 'r', encoding='utf8') as f:\n",
    "        for line in f:\n",
    "            values = line.strip().split()\n",
    "            word = values[0]\n",
    "            vector = np.asarray(values[1:], dtype='float32')\n",
    "            if len(vector) == dim:\n",
    "                embeddings[word] = vector\n",
    "    return embeddings\n",
    "\n",
    "embedding = load_glove_embeddings('glove.6B/glove.6B.50d.txt', dim=50)\n",
    "print(embedding['hello'])  # Example"
   ]
  },
  {
   "cell_type": "markdown",
   "metadata": {},
   "source": [
    "---\n",
    "\n",
    "### Q1: Choose two words to compare (different from \"_wonderful_\" vs \"_incredible_\"). \n",
    "\n",
    "Below you will choose your two words, which have similar meaning and which you suspect the model will treat similarly. Then, re-train the model and plot the histogram of the differences between learned weight values for each of your chosen words across the 128 hidden units in the first layer. Did the histograms show that the learned weight values were similar for your words? More similar than for the neighboring words compared to each other?\n",
    "\n",
    "`<input your answer here>`\n",
    "\n",
    "---"
   ]
  },
  {
   "cell_type": "code",
   "execution_count": 51,
   "metadata": {},
   "outputs": [
    {
     "name": "stderr",
     "output_type": "stream",
     "text": [
      "/var/folders/22/hdrqs83s5z94vp_xg1v9l_180000gn/T/ipykernel_17456/2045283914.py:7: UserWarning: Creating a tensor from a list of numpy.ndarrays is extremely slow. Please consider converting the list to a single numpy.ndarray with numpy.array() before converting to a tensor. (Triggered internally at /Users/runner/work/pytorch/pytorch/pytorch/torch/csrc/utils/tensor_new.cpp:257.)\n",
      "  embeddings = torch.tensor(vectors)\n"
     ]
    },
    {
     "data": {
      "text/plain": [
       "tensor([ 0.2346, -0.4768,  0.6346, -0.3647, -0.2198, -0.4554,  0.7078,  1.0140,\n",
       "        -0.9116,  0.4700, -0.2297,  0.6649,  0.7675, -0.1076,  0.0037,  0.8933,\n",
       "        -0.0952, -0.0524,  0.8839, -0.4915, -0.3554, -0.1999,  0.0198,  0.8199,\n",
       "         1.0315, -0.6998, -0.2933, -0.4718,  0.8706, -1.0971, -0.6342,  1.1884,\n",
       "        -0.0337, -0.3884, -0.4684,  0.0881, -0.1675, -0.4079, -0.3784, -0.1425,\n",
       "         0.2098,  0.1734,  0.1954,  0.6891,  1.0228,  0.2353,  0.1960, -0.2608,\n",
       "        -0.0890,  0.5791])"
      ]
     },
     "execution_count": 51,
     "metadata": {},
     "output_type": "execute_result"
    }
   ],
   "source": [
    "embeddings_dict = load_glove_embeddings('glove.6B/glove.6B.50d.txt', dim=50)\n",
    "\n",
    "examples = ['annoy', 'annoyed', 'disappointed', 'sad', 'happy', 'pilot', 'attendant', 'crew', \n",
    "            'suitcase', 'luggage', 'carryon', 'great', 'amazing', 'terrific', 'incredible', 'wonderful']\n",
    "\n",
    "vectors = [embeddings_dict[word] if word in embeddings_dict else np.zeros(50) for word in examples]\n",
    "embeddings = torch.tensor(vectors)\n",
    "\n",
    "# First embedding\n",
    "embeddings[0, :]  # Tensor of shape [50]"
   ]
  },
  {
   "cell_type": "code",
   "execution_count": 52,
   "metadata": {},
   "outputs": [
    {
     "data": {
      "image/png": "[encoded data removed]",
      "text/plain": [
       "<Figure size 1280x320 with 1 Axes>"
      ]
     },
     "metadata": {},
     "output_type": "display_data"
    }
   ],
   "source": [
    "def compare_words_with_colors(vecs, wds):\n",
    "    wdsr = wds[:]\n",
    "    wdsr.reverse()\n",
    "        \n",
    "    dim = len(vecs[0])\n",
    "    \n",
    "    fig = plt.figure(num=None, figsize=(16, 4), dpi=80, facecolor='w', edgecolor='k')\n",
    "    ax = fig.add_subplot(111)\n",
    "    ax.set_facecolor('gray')\n",
    "    \n",
    "    for i,v in enumerate(vecs):\n",
    "        ax.scatter(range(dim), [i]*dim, c=vecs[i], cmap='Spectral', s=150, marker='s')\n",
    "    \n",
    "    plt.xticks(range(50), [i+1 for i in range(50)])\n",
    "    plt.xlabel('Dimension')\n",
    "    plt.yticks(range(len(wds)), wds)\n",
    "    \n",
    "    plt.show()\n",
    "\n",
    "compare_words_with_colors(embeddings, examples)\n",
    "#examples.reverse()"
   ]
  },
  {
   "cell_type": "code",
   "execution_count": 53,
   "metadata": {},
   "outputs": [
    {
     "name": "stdout",
     "output_type": "stream",
     "text": [
      "the first row of the distance matrix for our set of words looks like: tensor([1.7881e-07, 4.3455e-01, 7.1622e-01, 7.6653e-01, 7.2499e-01, 1.1374e+00,\n",
      "        8.8526e-01, 1.1141e+00, 1.0229e+00, 9.5620e-01, 9.6831e-01, 9.7373e-01,\n",
      "        9.7172e-01, 9.3245e-01, 9.6144e-01, 8.6686e-01])\n"
     ]
    }
   ],
   "source": [
    "similarities = pairwise_cosine_similarity(embeddings, zero_diagonal=False)\n",
    "distances = 1 - similarities \n",
    "print(f\"the first row of the distance matrix for our set of words looks like: {distances[0,:]}\")\n",
    "pairwise_top = pd.DataFrame(\n",
    "    distances,\n",
    "    columns = examples,\n",
    "    index = examples\n",
    ")"
   ]
  },
  {
   "cell_type": "markdown",
   "metadata": {},
   "source": [
    "In the cell above we created a distance matrix, let's now see what it looks like. Note that since we are plotting pairwise distances, larger values will be red and will suggest that the word the corresponding row is far away from the word in the corresponding columns (and vice versa).\n",
    "\n",
    "Similarly, words that are similar to each other will have a smaller distance (close to zero), and will be plotted in green. "
   ]
  },
  {
   "cell_type": "code",
   "execution_count": 54,
   "metadata": {},
   "outputs": [
    {
     "data": {
      "text/plain": [
       "<Axes: >"
      ]
     },
     "execution_count": 54,
     "metadata": {},
     "output_type": "execute_result"
    },
    {
     "data": {
      "image/png": "[encoded data removed]",
      "text/plain": [
       "<Figure size 800x600 with 2 Axes>"
      ]
     },
     "metadata": {},
     "output_type": "display_data"
    }
   ],
   "source": [
    "plt.figure(figsize=(8,6))\n",
    "#sns.color_palette(\"viridis\", as_cmap=True)\n",
    "sns.color_palette(\"mako\", as_cmap=True)\n",
    "sns.heatmap(\n",
    "    pairwise_top,\n",
    "    cmap='RdYlGn_r',  # Reverse the 'RdYlGn' colormap to have green for larger values and red for smaller values\n",
    "    linewidth=1\n",
    ")\n"
   ]
  },
  {
   "cell_type": "code",
   "execution_count": 55,
   "metadata": {},
   "outputs": [
    {
     "name": "stdout",
     "output_type": "stream",
     "text": [
      "df.shape: (10000, 2)\n"
     ]
    },
    {
     "data": {
      "application/vnd.microsoft.datawrangler.viewer.v0+json": {
       "columns": [
        {
         "name": "index",
         "rawType": "int64",
         "type": "integer"
        },
        {
         "name": "sentiment",
         "rawType": "object",
         "type": "string"
        },
        {
         "name": "text",
         "rawType": "object",
         "type": "string"
        }
       ],
       "conversionMethod": "pd.DataFrame",
       "ref": "0ff87414-20b0-4e83-89a8-b50dbe205c7e",
       "rows": [
        [
         "0",
         "positive",
         "@JetBlue @JayVig I like the inflight snacks! I'm flying with you guys on 2/28! #JVMChat"
        ],
        [
         "1",
         "positive",
         "@VirginAmerica thanks guys! Sweet route over the Rockies #airplanemodewason"
        ],
        [
         "2",
         "negative",
         "@USAirways Your exchange/credit policies are worthless and shadier than the White House. Dissatisfied to the nines right now."
        ],
        [
         "3",
         "negative",
         "@USAirways but in the meantime I'll be sleeping on a park bench on dadeland st.  Thanks guys!"
        ],
        [
         "4",
         "negative",
         "@VirginAmerica hold times at call center are a bit much"
        ],
        [
         "5",
         "negative",
         "@USAirways not moving we are in the tarmac delayed for some unknown reason. I'll keep you posted"
        ],
        [
         "6",
         "neutral",
         "@JetBlue What about if I booked it through Orbitz? My email is correct, but there's a middle party."
        ],
        [
         "7",
         "negative",
         "@united 2nd flight also delayed no pilots! But they boarded is so we can just sit here! #scheduling"
        ],
        [
         "8",
         "negative",
         ".@AmericanAir after 50 minutes on hold, and another 30 minutes on the call yes. Going to be pushing it to get to the airport on time now"
        ],
        [
         "9",
         "positive",
         "@JetBlue flight 117. proud to fly Jet Blue!"
        ]
       ],
       "shape": {
        "columns": 2,
        "rows": 10
       }
      },
      "text/html": [
       "<div>\n",
       "<style scoped>\n",
       "    .dataframe tbody tr th:only-of-type {\n",
       "        vertical-align: middle;\n",
       "    }\n",
       "\n",
       "    .dataframe tbody tr th {\n",
       "        vertical-align: top;\n",
       "    }\n",
       "\n",
       "    .dataframe thead th {\n",
       "        text-align: right;\n",
       "    }\n",
       "</style>\n",
       "<table border=\"1\" class=\"dataframe\">\n",
       "  <thead>\n",
       "    <tr style=\"text-align: right;\">\n",
       "      <th></th>\n",
       "      <th>sentiment</th>\n",
       "      <th>text</th>\n",
       "    </tr>\n",
       "  </thead>\n",
       "  <tbody>\n",
       "    <tr>\n",
       "      <th>0</th>\n",
       "      <td>positive</td>\n",
       "      <td>@JetBlue @JayVig I like the inflight snacks! I'm flying with you guys on 2/28! #JVMChat</td>\n",
       "    </tr>\n",
       "    <tr>\n",
       "      <th>1</th>\n",
       "      <td>positive</td>\n",
       "      <td>@VirginAmerica thanks guys! Sweet route over the Rockies #airplanemodewason</td>\n",
       "    </tr>\n",
       "    <tr>\n",
       "      <th>2</th>\n",
       "      <td>negative</td>\n",
       "      <td>@USAirways Your exchange/credit policies are worthless and shadier than the White House. Dissatisfied to the nines right now.</td>\n",
       "    </tr>\n",
       "    <tr>\n",
       "      <th>3</th>\n",
       "      <td>negative</td>\n",
       "      <td>@USAirways but in the meantime I'll be sleeping on a park bench on dadeland st.  Thanks guys!</td>\n",
       "    </tr>\n",
       "    <tr>\n",
       "      <th>4</th>\n",
       "      <td>negative</td>\n",
       "      <td>@VirginAmerica hold times at call center are a bit much</td>\n",
       "    </tr>\n",
       "    <tr>\n",
       "      <th>5</th>\n",
       "      <td>negative</td>\n",
       "      <td>@USAirways not moving we are in the tarmac delayed for some unknown reason. I'll keep you posted</td>\n",
       "    </tr>\n",
       "    <tr>\n",
       "      <th>6</th>\n",
       "      <td>neutral</td>\n",
       "      <td>@JetBlue What about if I booked it through Orbitz? My email is correct, but there's a middle party.</td>\n",
       "    </tr>\n",
       "    <tr>\n",
       "      <th>7</th>\n",
       "      <td>negative</td>\n",
       "      <td>@united 2nd flight also delayed no pilots! But they boarded is so we can just sit here! #scheduling</td>\n",
       "    </tr>\n",
       "    <tr>\n",
       "      <th>8</th>\n",
       "      <td>negative</td>\n",
       "      <td>.@AmericanAir after 50 minutes on hold, and another 30 minutes on the call yes. Going to be pushing it to get to the airport on time now</td>\n",
       "    </tr>\n",
       "    <tr>\n",
       "      <th>9</th>\n",
       "      <td>positive</td>\n",
       "      <td>@JetBlue flight 117. proud to fly Jet Blue!</td>\n",
       "    </tr>\n",
       "  </tbody>\n",
       "</table>\n",
       "</div>"
      ],
      "text/plain": [
       "  sentiment  \\\n",
       "0  positive   \n",
       "1  positive   \n",
       "2  negative   \n",
       "3  negative   \n",
       "4  negative   \n",
       "5  negative   \n",
       "6   neutral   \n",
       "7  negative   \n",
       "8  negative   \n",
       "9  positive   \n",
       "\n",
       "                                                                                                                                       text  \n",
       "0                                                   @JetBlue @JayVig I like the inflight snacks! I'm flying with you guys on 2/28! #JVMChat  \n",
       "1                                                               @VirginAmerica thanks guys! Sweet route over the Rockies #airplanemodewason  \n",
       "2             @USAirways Your exchange/credit policies are worthless and shadier than the White House. Dissatisfied to the nines right now.  \n",
       "3                                             @USAirways but in the meantime I'll be sleeping on a park bench on dadeland st.  Thanks guys!  \n",
       "4                                                                                   @VirginAmerica hold times at call center are a bit much  \n",
       "5                                          @USAirways not moving we are in the tarmac delayed for some unknown reason. I'll keep you posted  \n",
       "6                                       @JetBlue What about if I booked it through Orbitz? My email is correct, but there's a middle party.  \n",
       "7                                       @united 2nd flight also delayed no pilots! But they boarded is so we can just sit here! #scheduling  \n",
       "8  .@AmericanAir after 50 minutes on hold, and another 30 minutes on the call yes. Going to be pushing it to get to the airport on time now  \n",
       "9                                                                                               @JetBlue flight 117. proud to fly Jet Blue!  "
      ]
     },
     "execution_count": 55,
     "metadata": {},
     "output_type": "execute_result"
    }
   ],
   "source": [
    "data_URL = 'https://raw.githubusercontent.com/sgeinitz/DSML4220/main/data/airlinetweets.csv'\n",
    "df = pd.read_csv(data_URL)\n",
    "print(f\"df.shape: {df.shape}\")\n",
    "pd.set_option(\"display.max_colwidth\", 240)\n",
    "df.head(10)"
   ]
  },
  {
   "cell_type": "code",
   "execution_count": 56,
   "metadata": {},
   "outputs": [],
   "source": [
    "random.seed(2) \n",
    "indices = list(range(len(df)))\n",
    "random.shuffle(indices)\n",
    "\n",
    "df_test = df.iloc[indices[9000:],]\n",
    "df = df.iloc[indices[:9000],]"
   ]
  },
  {
   "cell_type": "code",
   "execution_count": 57,
   "metadata": {},
   "outputs": [
    {
     "data": {
      "text/plain": [
       "sentiment\n",
       "negative    5882\n",
       "neutral     1720\n",
       "positive    1398\n",
       "Name: count, dtype: int64"
      ]
     },
     "execution_count": 57,
     "metadata": {},
     "output_type": "execute_result"
    }
   ],
   "source": [
    "df.sentiment.value_counts(normalize=False)"
   ]
  },
  {
   "cell_type": "code",
   "execution_count": 60,
   "metadata": {},
   "outputs": [],
   "source": [
    "import re\n",
    "\n",
    "def basic_english_tokenizer(text):\n",
    "    return re.findall(r'\\b\\w+\\b', text.lower())\n",
    "\n",
    "df['tokens_raw'] = df['text'].apply(basic_english_tokenizer)"
   ]
  },
  {
   "cell_type": "code",
   "execution_count": 61,
   "metadata": {},
   "outputs": [],
   "source": [
    "df['tweet_length'] = df['tokens_raw'].apply(lambda x: len(x))\n",
    "#plt.figure(figsize=(12,6))\n",
    "#df['tweet_length'].hist() #bins=100, range=(0,45), width=0.9) #, df['tweet_length'].mean(), df['tweet_length'].median()\n",
    "#plt.show()"
   ]
  },
  {
   "cell_type": "code",
   "execution_count": 62,
   "metadata": {},
   "outputs": [
    {
     "data": {
      "text/plain": [
       "Index([26, 1490, 2232, 4348], dtype='int64')"
      ]
     },
     "execution_count": 62,
     "metadata": {},
     "output_type": "execute_result"
    }
   ],
   "source": [
    "df.iloc[rows_w_word1,].index.sort_values()"
   ]
  },
  {
   "cell_type": "code",
   "execution_count": 64,
   "metadata": {},
   "outputs": [
    {
     "name": "stdout",
     "output_type": "stream",
     "text": [
      "sentiment of this tweet: positive\n",
      "tweet_embeddings.shape = torch.Size([20, 50])\n",
      "    token, 'usairways' (at pos  0) has tweet_embeddings[:5] = tensor([ 0.5428, -0.0426,  0.0333, -0.1076, -1.1631], dtype=torch.float64)\n",
      "    token, 'great' (at pos  1) has tweet_embeddings[:5] = tensor([-0.0266,  1.3357, -1.0280, -0.3729,  0.5201], dtype=torch.float64)\n",
      "    token, 'job' (at pos  2) has tweet_embeddings[:5] = tensor([-0.2034, -0.0452,  0.2335, -0.5929,  0.4968], dtype=torch.float64)\n",
      "    token, 'today' (at pos  3) has tweet_embeddings[:5] = tensor([ 2.7751e-04,  4.2673e-01, -8.2938e-02,  2.7601e-01,  6.4721e-01],\n",
      "       dtype=torch.float64)\n",
      "    token, 'from' (at pos  4) has tweet_embeddings[:5] = tensor([ 0.4104,  0.1134,  0.0515, -0.5383, -0.1291], dtype=torch.float64)\n",
      "    token, 'your' (at pos  5) has tweet_embeddings[:5] = tensor([-0.0292,  0.8177,  0.3847, -0.7786,  1.1049], dtype=torch.float64)\n",
      "    token, 'team' (at pos  6) has tweet_embeddings[:5] = tensor([-0.6280,  0.1225, -0.3914,  0.8794,  0.2857], dtype=torch.float64)\n",
      "    token, 'with' (at pos  7) has tweet_embeddings[:5] = tensor([ 0.2562,  0.4369, -0.1189,  0.2034,  0.4196], dtype=torch.float64)\n",
      "    token, 'a' (at pos  8) has tweet_embeddings[:5] = tensor([ 0.2171,  0.4651, -0.4676,  0.1008,  1.0135], dtype=torch.float64)\n",
      "    token, 'challenging' (at pos  9) has tweet_embeddings[:5] = tensor([-0.0260, -0.4990, -0.2669,  0.3394, -0.3152], dtype=torch.float64)\n",
      "    token, 'weather' (at pos 10) has tweet_embeddings[:5] = tensor([-0.0462,  0.1910, -0.0089,  0.3351, -1.5276], dtype=torch.float64)\n",
      "    token, 'delay' (at pos 11) has tweet_embeddings[:5] = tensor([ 0.9046, -0.3700,  0.2070,  0.2589, -0.7209], dtype=torch.float64)\n",
      "    token, 'on' (at pos 12) has tweet_embeddings[:5] = tensor([ 0.3004,  0.2501, -0.1669,  0.1923,  0.0269], dtype=torch.float64)\n",
      "    token, 'flight' (at pos 13) has tweet_embeddings[:5] = tensor([ 1.7306,  0.2840, -0.0406, -0.0874, -0.4819], dtype=torch.float64)\n",
      "    token, '1925' (at pos 14) has tweet_embeddings[:5] = tensor([-0.8348,  0.3572, -0.7713, -0.7089, -0.4916], dtype=torch.float64)\n",
      "    token, 'out' (at pos 15) has tweet_embeddings[:5] = tensor([ 0.3211, -0.6931,  0.4792, -0.5460,  0.2835], dtype=torch.float64)\n",
      "    token, 'of' (at pos 16) has tweet_embeddings[:5] = tensor([ 0.7085,  0.5709, -0.4716,  0.1805,  0.5445], dtype=torch.float64)\n",
      "    token, 'charlotte' (at pos 17) has tweet_embeddings[:5] = tensor([-0.3524,  1.3454, -0.2923,  0.6383, -0.0353], dtype=torch.float64)\n",
      "    token, 'travel' (at pos 18) has tweet_embeddings[:5] = tensor([ 0.7894,  1.1267,  0.0950, -0.0852, -0.8821], dtype=torch.float64)\n",
      "    token, 'friendlyteam' (at pos 19) has tweet_embeddings[:5] = tensor([0., 0., 0., 0., 0.], dtype=torch.float64)\n"
     ]
    }
   ],
   "source": [
    "tweet_i = 53\n",
    "tokens = df['tokens_raw'][tweet_i]\n",
    "vectors = [embeddings_dict.get(token, np.zeros(50)) for token in tokens]\n",
    "tweet_embeddings = torch.tensor(vectors)\n",
    "\n",
    "print(f\"sentiment of this tweet: {df['sentiment'][tweet_i]}\")\n",
    "print(f\"tweet_embeddings.shape = {tweet_embeddings.shape}\")\n",
    "\n",
    "for i, token in enumerate(tokens):\n",
    "    print(f\"    token, '{token}' (at pos {i:2.0f}) has tweet_embeddings[:5] = {tweet_embeddings[i][:5]}\")"
   ]
  },
  {
   "cell_type": "code",
   "execution_count": 65,
   "metadata": {},
   "outputs": [
    {
     "data": {
      "text/plain": [
       "Index([530, 1281, 3687, 5847, 6043, 6158, 6813, 7719, 7871, 7959, 8603, 8839,\n",
       "       9501],\n",
       "      dtype='int64')"
      ]
     },
     "execution_count": 65,
     "metadata": {},
     "output_type": "execute_result"
    }
   ],
   "source": [
    "df.iloc[rows_w_word2,].index.sort_values()"
   ]
  },
  {
   "cell_type": "code",
   "execution_count": 67,
   "metadata": {},
   "outputs": [
    {
     "name": "stdout",
     "output_type": "stream",
     "text": [
      "sentiment of this tweet: positive\n",
      "tweet_embeddings.shape = torch.Size([23, 50])\n",
      "    token, 'united' (at pos  0) has tweet_embeddings[:5] = tensor([-0.3987,  0.0720, -0.0698,  0.1471,  0.1185])\n",
      "    token, 'this' (at pos  1) has tweet_embeddings[:5] = tensor([ 0.5307,  0.4012, -0.4078,  0.1544,  0.4778])\n",
      "    token, 'flight' (at pos  2) has tweet_embeddings[:5] = tensor([ 1.7306,  0.2840, -0.0406, -0.0874, -0.4819])\n",
      "    token, 'has' (at pos  3) has tweet_embeddings[:5] = tensor([0.5482, 0.0388, 0.1013, 0.3132, 0.0955])\n",
      "    token, 'been' (at pos  4) has tweet_embeddings[:5] = tensor([ 0.9288, -0.7246,  0.0681, -0.3816, -0.0387])\n",
      "    token, 'amazing' (at pos  5) has tweet_embeddings[:5] = tensor([-0.0131,  0.4220, -0.2632,  0.3422,  0.9992])\n",
      "    token, 'this' (at pos  6) has tweet_embeddings[:5] = tensor([ 0.5307,  0.4012, -0.4078,  0.1544,  0.4778])\n",
      "    token, 'is' (at pos  7) has tweet_embeddings[:5] = tensor([ 0.6185,  0.6425, -0.4655,  0.3757,  0.7484])\n",
      "    token, 'the' (at pos  8) has tweet_embeddings[:5] = tensor([ 0.4180,  0.2497, -0.4124,  0.1217,  0.3453])\n",
      "    token, 'best' (at pos  9) has tweet_embeddings[:5] = tensor([-0.9157,  0.6035, -0.3108,  0.2843,  0.5461])\n",
      "    token, 'flight' (at pos 10) has tweet_embeddings[:5] = tensor([ 1.7306,  0.2840, -0.0406, -0.0874, -0.4819])\n",
      "    token, 'i' (at pos 11) has tweet_embeddings[:5] = tensor([ 0.1189,  0.1525, -0.0821, -0.7414,  0.7592])\n",
      "    token, 'have' (at pos 12) has tweet_embeddings[:5] = tensor([ 0.9491, -0.3497,  0.4812, -0.1931, -0.0088])\n",
      "    token, 'ever' (at pos 13) has tweet_embeddings[:5] = tensor([-0.0918,  0.0458, -0.0146, -0.1591,  0.3697])\n",
      "    token, 'been' (at pos 14) has tweet_embeddings[:5] = tensor([ 0.9288, -0.7246,  0.0681, -0.3816, -0.0387])\n",
      "    token, 'on' (at pos 15) has tweet_embeddings[:5] = tensor([ 0.3004,  0.2501, -0.1669,  0.1923,  0.0269])\n",
      "    token, 'i' (at pos 16) has tweet_embeddings[:5] = tensor([ 0.1189,  0.1525, -0.0821, -0.7414,  0.7592])\n",
      "    token, 'am' (at pos 17) has tweet_embeddings[:5] = tensor([ 0.3466,  0.3981,  0.4897, -0.5142,  0.5457])\n",
      "    token, 'not' (at pos 18) has tweet_embeddings[:5] = tensor([ 0.5502, -0.2494, -0.0009, -0.2640,  0.5932])\n",
      "    token, 'kidding' (at pos 19) has tweet_embeddings[:5] = tensor([-0.2054, -0.3732,  0.2833, -1.0525,  0.2853])\n",
      "    token, 'service' (at pos 20) has tweet_embeddings[:5] = tensor([ 0.1341,  0.6893,  0.4509,  0.0522, -0.3060])\n",
      "    token, 'is' (at pos 21) has tweet_embeddings[:5] = tensor([ 0.6185,  0.6425, -0.4655,  0.3757,  0.7484])\n",
      "    token, 'incredible' (at pos 22) has tweet_embeddings[:5] = tensor([-0.1469,  0.5423, -0.0114,  0.2916,  0.7991])\n"
     ]
    }
   ],
   "source": [
    "tweet_i = 18\n",
    "tokens = df['tokens_raw'][tweet_i]\n",
    "vectors = [embeddings_dict.get(token, np.zeros(50)) for token in tokens]\n",
    "tweet_embeddings = torch.tensor(vectors)\n",
    "\n",
    "print(f\"sentiment of this tweet: {df['sentiment'][tweet_i]}\")\n",
    "print(f\"tweet_embeddings.shape = {tweet_embeddings.shape}\")\n",
    "\n",
    "for i, token in enumerate(tokens):\n",
    "    print(f\"    token, '{token}' (at pos {i:2.0f}) has tweet_embeddings[:5] = {tweet_embeddings[i][:5]}\")"
   ]
  },
  {
   "cell_type": "markdown",
   "metadata": {},
   "source": [
    "The tweet above had 9 tokens in it, which we can quickly confirm here by looking at the shape of it:"
   ]
  },
  {
   "cell_type": "code",
   "execution_count": 68,
   "metadata": {},
   "outputs": [
    {
     "data": {
      "text/plain": [
       "torch.Size([23, 50])"
      ]
     },
     "execution_count": 68,
     "metadata": {},
     "output_type": "execute_result"
    }
   ],
   "source": [
    "tweet_embeddings.shape"
   ]
  },
  {
   "cell_type": "markdown",
   "metadata": {},
   "source": [
    "Before we continue we must decide what a good length will be for a max-length of the number of tokens to keep. Let's look at a histogram of the lenghts of each tweet (where length equals the number of raw tokens)."
   ]
  },
  {
   "cell_type": "code",
   "execution_count": 69,
   "metadata": {},
   "outputs": [
    {
     "name": "stdout",
     "output_type": "stream",
     "text": [
      "X_int.shape = (9000,)\n"
     ]
    },
    {
     "data": {
      "text/plain": [
       "array([tensor([ 0.3357,  0.2344,  0.0176,  0.0756,  0.2035, -0.1931, -0.4688, -0.0201,\n",
       "               -0.0965, -0.0494, -0.0654,  0.0734, -0.4853, -0.0286,  0.4065, -0.0861,\n",
       "               -0.3395, -0.1244, -0.4872, -0.2765,  0.0606,  0.2543,  0.0650, -0.0619,\n",
       "               -0.0126, -1.3508,  0.0051,  0.1162,  0.2666, -0.2389,  3.0220,  0.2921,\n",
       "               -0.4625,  0.2245,  0.0140, -0.1475,  0.2392,  0.0880,  0.1628, -0.3611,\n",
       "                0.1619, -0.0134, -0.0255, -0.0635, -0.1916,  0.0108,  0.1258, -0.2281,\n",
       "                0.0842,  0.1383])                                                     ,\n",
       "       tensor([ 0.3500, -0.0063,  0.1625, -0.1813,  0.3026, -0.1857, -0.3449,  0.0212,\n",
       "                0.0133, -0.1375,  0.0641,  0.1586, -0.3575,  0.0028,  0.3862,  0.3361,\n",
       "               -0.0662,  0.0218, -0.3283, -0.4695, -0.0534,  0.1662,  0.2028,  0.0746,\n",
       "                0.2152, -1.4086, -0.2648,  0.1783,  0.4110, -0.3038,  2.6626,  0.5246,\n",
       "               -0.2708, -0.0042,  0.0550, -0.0613,  0.1815,  0.2025,  0.0917, -0.0649,\n",
       "               -0.0660,  0.1370,  0.1077,  0.1743, -0.0909,  0.1914, -0.0441, -0.1200,\n",
       "               -0.0210,  0.1675])                                                     ],\n",
       "      dtype=object)"
      ]
     },
     "execution_count": 69,
     "metadata": {},
     "output_type": "execute_result"
    }
   ],
   "source": [
    "def meanTweetEmbeddings(raw_tokens, max_len=35, dim=50):\n",
    "    emb_sum = torch.zeros(dim)\n",
    "    n_embs = 0\n",
    "    for i, token in enumerate(raw_tokens[:max_len]):\n",
    "        vec = embeddings_dict.get(token, np.zeros(dim))\n",
    "        if np.abs(vec).sum() > 0:\n",
    "            emb_sum += torch.tensor(vec)\n",
    "            n_embs += 1\n",
    "    if n_embs > 0:\n",
    "        emb_avg = emb_sum / n_embs\n",
    "    else:\n",
    "        emb_avg = torch.zeros(dim)\n",
    "    if torch.isnan(emb_avg).any():\n",
    "        print(f\"NaN found in embedding: {emb_sum}\")\n",
    "    return emb_avg\n",
    "\n",
    "X_int = df['tokens_raw'].apply(lambda x: meanTweetEmbeddings(x)).values\n",
    "print(f\"X_int.shape = {X_int.shape}\")\n",
    "X_int[:2]"
   ]
  },
  {
   "cell_type": "code",
   "execution_count": 70,
   "metadata": {},
   "outputs": [
    {
     "data": {
      "text/plain": [
       "torch.Size([50])"
      ]
     },
     "execution_count": 70,
     "metadata": {},
     "output_type": "execute_result"
    }
   ],
   "source": [
    "X_int[0].shape"
   ]
  },
  {
   "cell_type": "code",
   "execution_count": 71,
   "metadata": {},
   "outputs": [
    {
     "data": {
      "text/plain": [
       "torch.Size([9000, 50])"
      ]
     },
     "execution_count": 71,
     "metadata": {},
     "output_type": "execute_result"
    }
   ],
   "source": [
    "if len(X_int[0] > 50):\n",
    "    avg_embedding = False    \n",
    "else:\n",
    "    avg_embedding = True\n",
    "\n",
    "X = torch.stack(tuple(X_int))\n",
    "X.shape\n",
    "#X[:2]"
   ]
  },
  {
   "cell_type": "markdown",
   "metadata": {},
   "source": [
    "There should be 9000 rows in X, since this is the number of tweets (i.e. observations) in the training data. \n",
    "\n",
    "The number of columns is the _embedding size_ itself. "
   ]
  },
  {
   "cell_type": "code",
   "execution_count": 72,
   "metadata": {},
   "outputs": [
    {
     "name": "stdout",
     "output_type": "stream",
     "text": [
      "label dictionary: {'positive': 0, 'neutral': 1, 'negative': 2}\n"
     ]
    }
   ],
   "source": [
    "labels = df['sentiment'].unique()\n",
    "enum_labels = enumerate(labels)\n",
    "label_to_idx = dict((lab, i) for i,lab in enum_labels)\n",
    "print(f\"label dictionary: {label_to_idx}\")\n",
    "y = torch.tensor([label_to_idx[lab] for lab in df['sentiment']])"
   ]
  },
  {
   "cell_type": "code",
   "execution_count": 73,
   "metadata": {},
   "outputs": [],
   "source": [
    "# Can be a good idea to occassionally check that the dims (or shapes) agree for the inputs (X) and labels (y)\n",
    "assert len(X) == len(y)"
   ]
  },
  {
   "cell_type": "code",
   "execution_count": 74,
   "metadata": {},
   "outputs": [],
   "source": [
    "class AirlineTweetDataset(Dataset):\n",
    "    def __init__(self, observations, labels):\n",
    "        self.obs = observations\n",
    "        self.labs = labels\n",
    "        self.create_split(len(observations))\n",
    "\n",
    "    def create_split(self, n, seed=2, train_perc=0.7):\n",
    "        random.seed(seed)\n",
    "        indices = list(range(n))\n",
    "        random.shuffle(indices)\n",
    "        self._train_ids = list(indices[:int(n * train_perc)])\n",
    "        self._test_ids = list(indices[int(n * train_perc):])\n",
    "        self._split_X = self.obs[self._train_ids]\n",
    "        self._split_y = self.labs[self._train_ids]\n",
    "\n",
    "    def set_split(self, split='train'):\n",
    "        if split == 'train':\n",
    "            self._split_X = self.obs[self._train_ids]\n",
    "            self._split_y = self.labs[self._train_ids]\n",
    "        else:\n",
    "            self._split_X = self.obs[self._test_ids]\n",
    "            self._split_y = self.labs[self._test_ids]\n",
    "\n",
    "    def __len__(self):\n",
    "        return len(self._split_y)\n",
    "\n",
    "    def __getitem__(self, idx):\n",
    "        return {'x':self._split_X[idx], 'y':self._split_y[idx]}\n",
    "\n",
    "    def get_num_batches(self, batch_size):\n",
    "        return len(self) // batch_size\n",
    "\n",
    "dataset = AirlineTweetDataset(X, y)\n",
    "dataset.create_split(len(X), seed=42, train_perc=0.85)"
   ]
  },
  {
   "cell_type": "code",
   "execution_count": 75,
   "metadata": {},
   "outputs": [
    {
     "name": "stdout",
     "output_type": "stream",
     "text": [
      "len(dataset) = 7650\n"
     ]
    },
    {
     "data": {
      "text/plain": [
       "tensor([ 0.2086,  0.2885,  0.3364,  0.0278,  0.0999, -0.3175, -0.2462,  0.0039,\n",
       "        -0.1826, -0.2158, -0.0236,  0.0777, -0.1526,  0.0617,  0.3225,  0.2730,\n",
       "        -0.1819, -0.0906, -0.5314, -0.2231,  0.2018,  0.1074,  0.3946,  0.1646,\n",
       "         0.0064, -0.9865,  0.2171, -0.0728,  0.2255, -0.1474,  2.3210,  0.4268,\n",
       "        -0.5172,  0.1603,  0.0399, -0.3661,  0.3067, -0.0640,  0.1799,  0.0231,\n",
       "         0.1994,  0.0365,  0.2251,  0.0461, -0.2206,  0.2752,  0.0082, -0.0740,\n",
       "        -0.0340,  0.3354])"
      ]
     },
     "execution_count": 75,
     "metadata": {},
     "output_type": "execute_result"
    }
   ],
   "source": [
    "dataset.set_split('train')\n",
    "print(f\"len(dataset) = {len(dataset)}\")\n",
    "len(dataset[:]['x'])\n",
    "dataset[0]['x']"
   ]
  },
  {
   "cell_type": "code",
   "execution_count": 76,
   "metadata": {},
   "outputs": [],
   "source": [
    "assert not np.any(np.isnan(dataset[:]['x'].numpy()))\n",
    "assert np.all(np.isfinite(dataset[:]['x'].numpy()))"
   ]
  },
  {
   "cell_type": "markdown",
   "metadata": {},
   "source": [
    "#### Hyperparameters for model with GloVe embeddings\n",
    "\n",
    "We'll use the same training configuration as before, although it is worth noting that this model would likely benefit from more training. "
   ]
  },
  {
   "cell_type": "code",
   "execution_count": 77,
   "metadata": {},
   "outputs": [],
   "source": [
    "# use same batch_size, learning_rate, and epochs as before\n",
    "batch_size = 32\n",
    "learning_rate = 0.001\n",
    "num_epochs = 20\n",
    "device = 'cpu'"
   ]
  },
  {
   "cell_type": "code",
   "execution_count": 78,
   "metadata": {},
   "outputs": [],
   "source": [
    "seed = 2\n",
    "np.random.seed(seed)\n",
    "torch.manual_seed(seed)\n",
    "random.seed(seed)\n",
    "\n",
    "# create dataset, model and define loss function and optimizer\n",
    "dataloader = DataLoader(dataset=dataset, batch_size=batch_size, shuffle=True)\n",
    "model_w_embeddings = AirlineTweetClassifier(len(dataset[0]['x']), 128, 3)\n",
    "loss_fun = nn.CrossEntropyLoss()#weights)\n",
    "optimizer = torch.optim.Adam(model_w_embeddings.parameters(), lr=learning_rate)"
   ]
  },
  {
   "cell_type": "code",
   "execution_count": 80,
   "metadata": {},
   "outputs": [
    {
     "data": {
      "application/vnd.jupyter.widget-view+json": {
       "model_id": "332b76e15b35439693ca0a5d68976163",
       "version_major": 2,
       "version_minor": 0
      },
      "text/plain": [
       "training routine:   0%|          | 0/20 [00:00<?, ?it/s]"
      ]
     },
     "metadata": {},
     "output_type": "display_data"
    },
    {
     "data": {
      "application/vnd.jupyter.widget-view+json": {
       "model_id": "c40ddf9d0f624224a06f67568dd2f78d",
       "version_major": 2,
       "version_minor": 0
      },
      "text/plain": [
       "split=train:   0%|          | 0/239 [00:00<?, ?it/s]"
      ]
     },
     "metadata": {},
     "output_type": "display_data"
    },
    {
     "data": {
      "application/vnd.jupyter.widget-view+json": {
       "model_id": "1afffe0ef1d941fcaad6ba841060c526",
       "version_major": 2,
       "version_minor": 0
      },
      "text/plain": [
       "split=val:   0%|          | 0/42 [00:00<?, ?it/s]"
      ]
     },
     "metadata": {},
     "output_type": "display_data"
    }
   ],
   "source": [
    "epoch_bar = tqdm(desc='training routine', total=num_epochs, position=0)\n",
    "\n",
    "dataset.set_split('train')\n",
    "train_bar = tqdm(desc='split=train', total=dataset.get_num_batches(batch_size), position=1, leave=True)\n",
    "\n",
    "dataset.set_split('val')\n",
    "val_bar = tqdm(desc='split=val', total=dataset.get_num_batches(batch_size), position=1, leave=True)\n",
    "\n",
    "losses = {'train':[], 'val':[]}\n",
    "\n",
    "for epoch in range(num_epochs):\n",
    "\n",
    "    dataset.set_split('train')\n",
    "    model_w_embeddings.train()\n",
    "    running_loss_train = 0.0\n",
    "\n",
    "    for batch_i, batch_data in enumerate(dataloader):  \n",
    "        tweets = batch_data['x'].to(device)\n",
    "        labels = batch_data['y'].to(device)\n",
    "        \n",
    "        # forward\n",
    "        outputs = model_w_embeddings(tweets)\n",
    "        loss = loss_fun(outputs, labels)\n",
    "        losses['train'].append(loss.item())\n",
    "        running_loss_train += loss.item()\n",
    "        \t\n",
    "        # backward and optimize\n",
    "        optimizer.zero_grad()\n",
    "        loss.backward()\n",
    "        optimizer.step()\n",
    "        \t\t\n",
    "        #if (batch_i+1) % 10 == 0:\n",
    "        #    print(f\"    train batch {batch_i+1:3.0f} (of {len(dataloader):3.0f}) loss: {loss.item():.4f}\")\n",
    "            # update bar\n",
    "        train_bar.set_postfix(loss=running_loss_train, epoch=epoch)\n",
    "        train_bar.update()\n",
    "\n",
    "    train_bar.set_postfix(loss=running_loss_train/dataset.get_num_batches(batch_size), epoch=epoch)\n",
    "    train_bar.update()\n",
    "\n",
    "\n",
    "    running_loss_train = running_loss_train / len(dataset)\n",
    "\n",
    "    dataset.set_split('val')\n",
    "    model_w_embeddings.eval() # turn off the automatic differentiation \n",
    "    running_loss_val = 0.0\n",
    "\n",
    "    for batch_i, batch_data in enumerate(dataloader):  \n",
    "        tweets = batch_data['x'].to(device)\n",
    "        labels = batch_data['y'].to(device)\n",
    "\n",
    "        \n",
    "        # forward (no backward step for validation data)\n",
    "        outputs = model_w_embeddings(tweets)\n",
    "        loss = loss_fun(outputs, labels)\n",
    "        losses['val'].append(loss.item())\n",
    "        running_loss_val += loss.item()\n",
    "        #if (batch_i+1) % 20 == 0:\n",
    "        #    print(f\"    valid batch {i+1:3.0f} (of {len(dataloader):3.0f}) loss: {loss.item():.4f}\")\n",
    "        val_bar.set_postfix(loss=running_loss_val, epoch=epoch)\n",
    "        val_bar.update()\n",
    "\n",
    "    val_bar.set_postfix(loss=running_loss_val/dataset.get_num_batches(batch_size), epoch=epoch)\n",
    "    val_bar.update()\n",
    "    \n",
    "    train_bar.n = 0\n",
    "    val_bar.n = 0\n",
    "    epoch_bar.update()\n",
    "\n",
    "    running_loss_val = running_loss_val / len(dataset)\n"
   ]
  },
  {
   "cell_type": "code",
   "execution_count": 81,
   "metadata": {},
   "outputs": [
    {
     "data": {
      "text/plain": [
       "<matplotlib.legend.Legend at 0x16b767dd0>"
      ]
     },
     "execution_count": 81,
     "metadata": {},
     "output_type": "execute_result"
    },
    {
     "data": {
      "image/png": "[encoded data removed]",
      "text/plain": [
       "<Figure size 1500x400 with 1 Axes>"
      ]
     },
     "metadata": {},
     "output_type": "display_data"
    }
   ],
   "source": [
    "matplotlib.rc('figure', figsize=(15,4))\n",
    "val_ticks = [(i+1)*len(losses['train'])/len(losses['val']) for i in range(len(losses['val']))]\n",
    "plt.plot(range(len(losses['train'])), losses['train'], c='blue', lw=0.75)\n",
    "plt.plot(val_ticks, losses['val'], c='orange', lw=0.75)\n",
    "for i in range(num_epochs):\n",
    "    plt.axvline(x=i*len(losses['train'])/num_epochs, c='black', lw=0.25, alpha=0.5)\n",
    "plt.ylabel('Loss')\n",
    "plt.xlabel('Epoch and Batch')\n",
    "plt.legend(('Train','Validation'))"
   ]
  },
  {
   "cell_type": "code",
   "execution_count": 82,
   "metadata": {},
   "outputs": [
    {
     "name": "stdout",
     "output_type": "stream",
     "text": [
      "Accuracy (on 1376 validation tweets): 77.48%\n"
     ]
    }
   ],
   "source": [
    "# Test the model\n",
    "model_w_embeddings.eval()\n",
    "dataset.set_split('val')\n",
    "y_true = []\n",
    "y_pred = []\n",
    "\n",
    "with torch.no_grad():\n",
    "    correct = 0\n",
    "    total = 0\n",
    "    for batch_data in dataloader:\n",
    "        tweets = batch_data['x'].to(device)\n",
    "        labels = batch_data['y'].to(device)\n",
    "        outputs = model_w_embeddings(tweets)\n",
    "        _, predicted = torch.max(outputs.data, 1)\n",
    "        y_true += labels.tolist()\n",
    "        y_pred += predicted.tolist()\n",
    "        total += labels.size(0)\n",
    "        correct += (predicted == labels).sum().item()\n",
    "\n",
    "    print(f\"Accuracy (on {len(dataloader)*batch_size} validation tweets): {100 * correct / total:.2f}%\")\n",
    "\t "
   ]
  },
  {
   "cell_type": "code",
   "execution_count": 83,
   "metadata": {},
   "outputs": [
    {
     "data": {
      "text/plain": [
       "<sklearn.metrics._plot.confusion_matrix.ConfusionMatrixDisplay at 0x1755e84d0>"
      ]
     },
     "execution_count": 83,
     "metadata": {},
     "output_type": "execute_result"
    },
    {
     "data": {
      "image/png": "[encoded data removed]",
      "text/plain": [
       "<Figure size 1500x400 with 2 Axes>"
      ]
     },
     "metadata": {},
     "output_type": "display_data"
    }
   ],
   "source": [
    "from sklearn.metrics import confusion_matrix, ConfusionMatrixDisplay\n",
    "cm = confusion_matrix(y_true, y_pred)\n",
    "disp = ConfusionMatrixDisplay(cm, display_labels=['positive','negative','neutral'])\n",
    "disp.plot()"
   ]
  },
  {
   "cell_type": "code",
   "execution_count": 84,
   "metadata": {},
   "outputs": [
    {
     "data": {
      "text/plain": [
       "50"
      ]
     },
     "execution_count": 84,
     "metadata": {},
     "output_type": "execute_result"
    }
   ],
   "source": [
    "# length of an input is\n",
    "len(dataset[0]['x'])"
   ]
  },
  {
   "cell_type": "code",
   "execution_count": 85,
   "metadata": {},
   "outputs": [
    {
     "data": {
      "text/plain": [
       "==========================================================================================\n",
       "Layer (type:depth-idx)                   Output Shape              Param #\n",
       "==========================================================================================\n",
       "AirlineTweetClassifier                   [3]                       --\n",
       "├─Linear: 1-1                            [128]                     6,528\n",
       "├─Linear: 1-2                            [32]                      4,128\n",
       "├─Dropout: 1-3                           [32]                      --\n",
       "├─Linear: 1-4                            [3]                       99\n",
       "==========================================================================================\n",
       "Total params: 10,755\n",
       "Trainable params: 10,755\n",
       "Non-trainable params: 0\n",
       "Total mult-adds (Units.MEGABYTES): 0.97\n",
       "==========================================================================================\n",
       "Input size (MB): 0.00\n",
       "Forward/backward pass size (MB): 0.00\n",
       "Params size (MB): 0.04\n",
       "Estimated Total Size (MB): 0.04\n",
       "=========================================================================================="
      ]
     },
     "execution_count": 85,
     "metadata": {},
     "output_type": "execute_result"
    }
   ],
   "source": [
    "import torchinfo\n",
    "torchinfo.summary(model_w_embeddings, tuple(dataset[0]['x'].size()))"
   ]
  },
  {
   "cell_type": "code",
   "execution_count": 86,
   "metadata": {},
   "outputs": [
    {
     "data": {
      "text/plain": [
       "6528"
      ]
     },
     "execution_count": 86,
     "metadata": {},
     "output_type": "execute_result"
    }
   ],
   "source": [
    "50*128 + 128"
   ]
  },
  {
   "cell_type": "markdown",
   "metadata": {},
   "source": [
    "---\n",
    "\n",
    "### Q3: How much smaller is the model with embeddings than the model with one-hot encoded inputs? \n",
    "\n",
    "\n",
    "`<input your answer here>`\n",
    "\n",
    "---"
   ]
  }
 ],
 "metadata": {
  "kernelspec": {
   "display_name": "Python 3",
   "language": "python",
   "name": "python3"
  },
  "language_info": {
   "codemirror_mode": {
    "name": "ipython",
    "version": 3
   },
   "file_extension": ".py",
   "mimetype": "text/x-python",
   "name": "python",
   "nbconvert_exporter": "python",
   "pygments_lexer": "ipython3",
   "version": "3.11.11"
  }
 },
 "nbformat": 4,
 "nbformat_minor": 2
}
